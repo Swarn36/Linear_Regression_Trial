{
  "nbformat": 4,
  "nbformat_minor": 0,
  "metadata": {
    "colab": {
      "provenance": [],
      "authorship_tag": "ABX9TyNp0lB7bNTPnd5ukQs1xIgP",
      "include_colab_link": true
    },
    "kernelspec": {
      "name": "python3",
      "display_name": "Python 3"
    },
    "language_info": {
      "name": "python"
    }
  },
  "cells": [
    {
      "cell_type": "markdown",
      "metadata": {
        "id": "view-in-github",
        "colab_type": "text"
      },
      "source": [
        "<a href=\"https://colab.research.google.com/github/Swarn36/Linear_Regression_Trial/blob/main/Large_scale_Wave_Energy_Farm.ipynb\" target=\"_parent\"><img src=\"https://colab.research.google.com/assets/colab-badge.svg\" alt=\"Open In Colab\"/></a>"
      ]
    },
    {
      "cell_type": "markdown",
      "source": [
        "#Overview"
      ],
      "metadata": {
        "id": "uS2oouG2bRCy"
      }
    },
    {
      "cell_type": "markdown",
      "source": [
        "Wave energy is a rapidly advancing and promising renewable energy source that holds great potential for addressing the challenges of global warming and climate change. However, optimizing energy output in large wave farms presents a complex problem due to the expensive calculations required to account for hydrodynamic interactions between wave energy converters (WECs).\n",
        "\n",
        "For more details, please refer to the following [link](https://dl.acm.org/doi/abs/10.1145/3377930.3390235)."
      ],
      "metadata": {
        "id": "Y5A6VCtUbVQZ"
      }
    },
    {
      "cell_type": "markdown",
      "source": [
        "The Dataset can be found [here](https://archive.ics.uci.edu/dataset/882/large-scale+wave+energy+farm)"
      ],
      "metadata": {
        "id": "TC0D59F5EmsU"
      }
    },
    {
      "cell_type": "markdown",
      "source": [
        "##Dataset Information"
      ],
      "metadata": {
        "id": "MkFq92lC8n1q"
      }
    },
    {
      "cell_type": "markdown",
      "source": [
        "For what purpose was the dataset created?\n",
        "\n",
        "----This dataset was created to develop a fast and effective surrogate model for estimating the total power out of the large wave farm accurately.\n",
        "\n",
        "Who funded the creation of the dataset?\n",
        "\n",
        "----This work was supported by Phoenix HPC service at the University of Adelaide.\n",
        "\n",
        "What do the instances in this dataset represent?\n",
        "\n",
        "----Each instance represents the coordination of wave energy converters in a wave farm plus the total power output and individual power of each converter and q-factor.\n",
        "\n",
        "Does the dataset contain data that might be considered sensitive in any way?\n",
        "\n",
        "----No.\n",
        "\n",
        "Was there any data preprocessing performed?\n",
        "\n",
        "----No.\n",
        "\n",
        "Has Missing Values?\n",
        "\n",
        "----No"
      ],
      "metadata": {
        "id": "qd17DIot8qLS"
      }
    },
    {
      "cell_type": "markdown",
      "source": [
        "##Variable Information"
      ],
      "metadata": {
        "id": "xAJm79ZM866r"
      }
    },
    {
      "cell_type": "markdown",
      "source": [
        "The dataset includes 4 CSV files for 49 and 100 wave energy converters based on Perth and Sydney wave scenarios. The main goal is predicting the total power output of the wave farm based on the coordination of WECs (X1, Y1, X2, Y2,..., Xn, Yn). As the second plan, predicting the power output of each converter in the wave farm can be interesting."
      ],
      "metadata": {
        "id": "JOWqHGOa8-aa"
      }
    },
    {
      "cell_type": "code",
      "source": [
        "import pandas as pd\n",
        "import matplotlib.pyplot as plt\n",
        "import plotly.express as px\n",
        "import seaborn as sns"
      ],
      "metadata": {
        "id": "NzLdepypMqIG"
      },
      "execution_count": null,
      "outputs": []
    },
    {
      "cell_type": "code",
      "execution_count": null,
      "metadata": {
        "colab": {
          "base_uri": "https://localhost:8080/",
          "height": 236
        },
        "id": "cCy_kCz_bKeH",
        "outputId": "02c9af6b-7a9a-43cb-b03f-ccfc60b601b1"
      },
      "outputs": [
        {
          "output_type": "execute_result",
          "data": {
            "text/plain": [
              "      X1   Y1      X2     Y2      X3      Y3      X4     Y4     X5   Y5  ...  \\\n",
              "0    1.0  1.0    1.00  51.00    1.00  101.00    1.00  151.0  398.0  0.0  ...   \n",
              "1  198.0  0.0  197.18  80.53  193.59  150.00   77.58  198.0  598.0  0.0  ...   \n",
              "2  198.0  0.0  197.07  76.64  192.74  155.74   84.67  198.0  798.0  0.0  ...   \n",
              "3    1.0  1.0    1.00  51.00    1.00  101.00    1.00  151.0  398.0  0.0  ...   \n",
              "4  198.0  0.0  197.46  75.07  197.18  149.14  149.00  198.0  598.0  0.0  ...   \n",
              "\n",
              "    Power93   Power94   Power95   Power96   Power97   Power98   Power99  \\\n",
              "0  74018.52  71727.79  67966.45  63101.26  88826.02  86531.44  83786.68   \n",
              "1  63702.46  67776.99  65133.52  63138.74  82852.91  83519.30  81973.65   \n",
              "2  55788.34  59593.98  60073.60  59198.12  63377.08  72078.85  77435.62   \n",
              "3  66961.48  65716.93  66637.89  62562.54  80858.08  82656.53  82171.28   \n",
              "4  51814.27  59556.86  68341.92  70731.90  64192.86  69757.10  75581.40   \n",
              "\n",
              "   Power100    qW  Total_Power  \n",
              "0  73514.19  0.69   7247491.41  \n",
              "1  71781.34  0.67   7119352.90  \n",
              "2  67457.26  0.68   7148342.69  \n",
              "3  71713.30  0.69   7317998.83  \n",
              "4  69741.63  0.65   6925096.49  \n",
              "\n",
              "[5 rows x 302 columns]"
            ],
            "text/html": [
              "\n",
              "  <div id=\"df-f5799c83-7bed-43b3-bd07-08a2392954c4\" class=\"colab-df-container\">\n",
              "    <div>\n",
              "<style scoped>\n",
              "    .dataframe tbody tr th:only-of-type {\n",
              "        vertical-align: middle;\n",
              "    }\n",
              "\n",
              "    .dataframe tbody tr th {\n",
              "        vertical-align: top;\n",
              "    }\n",
              "\n",
              "    .dataframe thead th {\n",
              "        text-align: right;\n",
              "    }\n",
              "</style>\n",
              "<table border=\"1\" class=\"dataframe\">\n",
              "  <thead>\n",
              "    <tr style=\"text-align: right;\">\n",
              "      <th></th>\n",
              "      <th>X1</th>\n",
              "      <th>Y1</th>\n",
              "      <th>X2</th>\n",
              "      <th>Y2</th>\n",
              "      <th>X3</th>\n",
              "      <th>Y3</th>\n",
              "      <th>X4</th>\n",
              "      <th>Y4</th>\n",
              "      <th>X5</th>\n",
              "      <th>Y5</th>\n",
              "      <th>...</th>\n",
              "      <th>Power93</th>\n",
              "      <th>Power94</th>\n",
              "      <th>Power95</th>\n",
              "      <th>Power96</th>\n",
              "      <th>Power97</th>\n",
              "      <th>Power98</th>\n",
              "      <th>Power99</th>\n",
              "      <th>Power100</th>\n",
              "      <th>qW</th>\n",
              "      <th>Total_Power</th>\n",
              "    </tr>\n",
              "  </thead>\n",
              "  <tbody>\n",
              "    <tr>\n",
              "      <th>0</th>\n",
              "      <td>1.0</td>\n",
              "      <td>1.0</td>\n",
              "      <td>1.00</td>\n",
              "      <td>51.00</td>\n",
              "      <td>1.00</td>\n",
              "      <td>101.00</td>\n",
              "      <td>1.00</td>\n",
              "      <td>151.0</td>\n",
              "      <td>398.0</td>\n",
              "      <td>0.0</td>\n",
              "      <td>...</td>\n",
              "      <td>74018.52</td>\n",
              "      <td>71727.79</td>\n",
              "      <td>67966.45</td>\n",
              "      <td>63101.26</td>\n",
              "      <td>88826.02</td>\n",
              "      <td>86531.44</td>\n",
              "      <td>83786.68</td>\n",
              "      <td>73514.19</td>\n",
              "      <td>0.69</td>\n",
              "      <td>7247491.41</td>\n",
              "    </tr>\n",
              "    <tr>\n",
              "      <th>1</th>\n",
              "      <td>198.0</td>\n",
              "      <td>0.0</td>\n",
              "      <td>197.18</td>\n",
              "      <td>80.53</td>\n",
              "      <td>193.59</td>\n",
              "      <td>150.00</td>\n",
              "      <td>77.58</td>\n",
              "      <td>198.0</td>\n",
              "      <td>598.0</td>\n",
              "      <td>0.0</td>\n",
              "      <td>...</td>\n",
              "      <td>63702.46</td>\n",
              "      <td>67776.99</td>\n",
              "      <td>65133.52</td>\n",
              "      <td>63138.74</td>\n",
              "      <td>82852.91</td>\n",
              "      <td>83519.30</td>\n",
              "      <td>81973.65</td>\n",
              "      <td>71781.34</td>\n",
              "      <td>0.67</td>\n",
              "      <td>7119352.90</td>\n",
              "    </tr>\n",
              "    <tr>\n",
              "      <th>2</th>\n",
              "      <td>198.0</td>\n",
              "      <td>0.0</td>\n",
              "      <td>197.07</td>\n",
              "      <td>76.64</td>\n",
              "      <td>192.74</td>\n",
              "      <td>155.74</td>\n",
              "      <td>84.67</td>\n",
              "      <td>198.0</td>\n",
              "      <td>798.0</td>\n",
              "      <td>0.0</td>\n",
              "      <td>...</td>\n",
              "      <td>55788.34</td>\n",
              "      <td>59593.98</td>\n",
              "      <td>60073.60</td>\n",
              "      <td>59198.12</td>\n",
              "      <td>63377.08</td>\n",
              "      <td>72078.85</td>\n",
              "      <td>77435.62</td>\n",
              "      <td>67457.26</td>\n",
              "      <td>0.68</td>\n",
              "      <td>7148342.69</td>\n",
              "    </tr>\n",
              "    <tr>\n",
              "      <th>3</th>\n",
              "      <td>1.0</td>\n",
              "      <td>1.0</td>\n",
              "      <td>1.00</td>\n",
              "      <td>51.00</td>\n",
              "      <td>1.00</td>\n",
              "      <td>101.00</td>\n",
              "      <td>1.00</td>\n",
              "      <td>151.0</td>\n",
              "      <td>398.0</td>\n",
              "      <td>0.0</td>\n",
              "      <td>...</td>\n",
              "      <td>66961.48</td>\n",
              "      <td>65716.93</td>\n",
              "      <td>66637.89</td>\n",
              "      <td>62562.54</td>\n",
              "      <td>80858.08</td>\n",
              "      <td>82656.53</td>\n",
              "      <td>82171.28</td>\n",
              "      <td>71713.30</td>\n",
              "      <td>0.69</td>\n",
              "      <td>7317998.83</td>\n",
              "    </tr>\n",
              "    <tr>\n",
              "      <th>4</th>\n",
              "      <td>198.0</td>\n",
              "      <td>0.0</td>\n",
              "      <td>197.46</td>\n",
              "      <td>75.07</td>\n",
              "      <td>197.18</td>\n",
              "      <td>149.14</td>\n",
              "      <td>149.00</td>\n",
              "      <td>198.0</td>\n",
              "      <td>598.0</td>\n",
              "      <td>0.0</td>\n",
              "      <td>...</td>\n",
              "      <td>51814.27</td>\n",
              "      <td>59556.86</td>\n",
              "      <td>68341.92</td>\n",
              "      <td>70731.90</td>\n",
              "      <td>64192.86</td>\n",
              "      <td>69757.10</td>\n",
              "      <td>75581.40</td>\n",
              "      <td>69741.63</td>\n",
              "      <td>0.65</td>\n",
              "      <td>6925096.49</td>\n",
              "    </tr>\n",
              "  </tbody>\n",
              "</table>\n",
              "<p>5 rows × 302 columns</p>\n",
              "</div>\n",
              "    <div class=\"colab-df-buttons\">\n",
              "\n",
              "  <div class=\"colab-df-container\">\n",
              "    <button class=\"colab-df-convert\" onclick=\"convertToInteractive('df-f5799c83-7bed-43b3-bd07-08a2392954c4')\"\n",
              "            title=\"Convert this dataframe to an interactive table.\"\n",
              "            style=\"display:none;\">\n",
              "\n",
              "  <svg xmlns=\"http://www.w3.org/2000/svg\" height=\"24px\" viewBox=\"0 -960 960 960\">\n",
              "    <path d=\"M120-120v-720h720v720H120Zm60-500h600v-160H180v160Zm220 220h160v-160H400v160Zm0 220h160v-160H400v160ZM180-400h160v-160H180v160Zm440 0h160v-160H620v160ZM180-180h160v-160H180v160Zm440 0h160v-160H620v160Z\"/>\n",
              "  </svg>\n",
              "    </button>\n",
              "\n",
              "  <style>\n",
              "    .colab-df-container {\n",
              "      display:flex;\n",
              "      gap: 12px;\n",
              "    }\n",
              "\n",
              "    .colab-df-convert {\n",
              "      background-color: #E8F0FE;\n",
              "      border: none;\n",
              "      border-radius: 50%;\n",
              "      cursor: pointer;\n",
              "      display: none;\n",
              "      fill: #1967D2;\n",
              "      height: 32px;\n",
              "      padding: 0 0 0 0;\n",
              "      width: 32px;\n",
              "    }\n",
              "\n",
              "    .colab-df-convert:hover {\n",
              "      background-color: #E2EBFA;\n",
              "      box-shadow: 0px 1px 2px rgba(60, 64, 67, 0.3), 0px 1px 3px 1px rgba(60, 64, 67, 0.15);\n",
              "      fill: #174EA6;\n",
              "    }\n",
              "\n",
              "    .colab-df-buttons div {\n",
              "      margin-bottom: 4px;\n",
              "    }\n",
              "\n",
              "    [theme=dark] .colab-df-convert {\n",
              "      background-color: #3B4455;\n",
              "      fill: #D2E3FC;\n",
              "    }\n",
              "\n",
              "    [theme=dark] .colab-df-convert:hover {\n",
              "      background-color: #434B5C;\n",
              "      box-shadow: 0px 1px 3px 1px rgba(0, 0, 0, 0.15);\n",
              "      filter: drop-shadow(0px 1px 2px rgba(0, 0, 0, 0.3));\n",
              "      fill: #FFFFFF;\n",
              "    }\n",
              "  </style>\n",
              "\n",
              "    <script>\n",
              "      const buttonEl =\n",
              "        document.querySelector('#df-f5799c83-7bed-43b3-bd07-08a2392954c4 button.colab-df-convert');\n",
              "      buttonEl.style.display =\n",
              "        google.colab.kernel.accessAllowed ? 'block' : 'none';\n",
              "\n",
              "      async function convertToInteractive(key) {\n",
              "        const element = document.querySelector('#df-f5799c83-7bed-43b3-bd07-08a2392954c4');\n",
              "        const dataTable =\n",
              "          await google.colab.kernel.invokeFunction('convertToInteractive',\n",
              "                                                    [key], {});\n",
              "        if (!dataTable) return;\n",
              "\n",
              "        const docLinkHtml = 'Like what you see? Visit the ' +\n",
              "          '<a target=\"_blank\" href=https://colab.research.google.com/notebooks/data_table.ipynb>data table notebook</a>'\n",
              "          + ' to learn more about interactive tables.';\n",
              "        element.innerHTML = '';\n",
              "        dataTable['output_type'] = 'display_data';\n",
              "        await google.colab.output.renderOutput(dataTable, element);\n",
              "        const docLink = document.createElement('div');\n",
              "        docLink.innerHTML = docLinkHtml;\n",
              "        element.appendChild(docLink);\n",
              "      }\n",
              "    </script>\n",
              "  </div>\n",
              "\n",
              "\n",
              "<div id=\"df-e4a363db-eb91-4d2e-b918-5843346bea0e\">\n",
              "  <button class=\"colab-df-quickchart\" onclick=\"quickchart('df-e4a363db-eb91-4d2e-b918-5843346bea0e')\"\n",
              "            title=\"Suggest charts\"\n",
              "            style=\"display:none;\">\n",
              "\n",
              "<svg xmlns=\"http://www.w3.org/2000/svg\" height=\"24px\"viewBox=\"0 0 24 24\"\n",
              "     width=\"24px\">\n",
              "    <g>\n",
              "        <path d=\"M19 3H5c-1.1 0-2 .9-2 2v14c0 1.1.9 2 2 2h14c1.1 0 2-.9 2-2V5c0-1.1-.9-2-2-2zM9 17H7v-7h2v7zm4 0h-2V7h2v10zm4 0h-2v-4h2v4z\"/>\n",
              "    </g>\n",
              "</svg>\n",
              "  </button>\n",
              "\n",
              "<style>\n",
              "  .colab-df-quickchart {\n",
              "      --bg-color: #E8F0FE;\n",
              "      --fill-color: #1967D2;\n",
              "      --hover-bg-color: #E2EBFA;\n",
              "      --hover-fill-color: #174EA6;\n",
              "      --disabled-fill-color: #AAA;\n",
              "      --disabled-bg-color: #DDD;\n",
              "  }\n",
              "\n",
              "  [theme=dark] .colab-df-quickchart {\n",
              "      --bg-color: #3B4455;\n",
              "      --fill-color: #D2E3FC;\n",
              "      --hover-bg-color: #434B5C;\n",
              "      --hover-fill-color: #FFFFFF;\n",
              "      --disabled-bg-color: #3B4455;\n",
              "      --disabled-fill-color: #666;\n",
              "  }\n",
              "\n",
              "  .colab-df-quickchart {\n",
              "    background-color: var(--bg-color);\n",
              "    border: none;\n",
              "    border-radius: 50%;\n",
              "    cursor: pointer;\n",
              "    display: none;\n",
              "    fill: var(--fill-color);\n",
              "    height: 32px;\n",
              "    padding: 0;\n",
              "    width: 32px;\n",
              "  }\n",
              "\n",
              "  .colab-df-quickchart:hover {\n",
              "    background-color: var(--hover-bg-color);\n",
              "    box-shadow: 0 1px 2px rgba(60, 64, 67, 0.3), 0 1px 3px 1px rgba(60, 64, 67, 0.15);\n",
              "    fill: var(--button-hover-fill-color);\n",
              "  }\n",
              "\n",
              "  .colab-df-quickchart-complete:disabled,\n",
              "  .colab-df-quickchart-complete:disabled:hover {\n",
              "    background-color: var(--disabled-bg-color);\n",
              "    fill: var(--disabled-fill-color);\n",
              "    box-shadow: none;\n",
              "  }\n",
              "\n",
              "  .colab-df-spinner {\n",
              "    border: 2px solid var(--fill-color);\n",
              "    border-color: transparent;\n",
              "    border-bottom-color: var(--fill-color);\n",
              "    animation:\n",
              "      spin 1s steps(1) infinite;\n",
              "  }\n",
              "\n",
              "  @keyframes spin {\n",
              "    0% {\n",
              "      border-color: transparent;\n",
              "      border-bottom-color: var(--fill-color);\n",
              "      border-left-color: var(--fill-color);\n",
              "    }\n",
              "    20% {\n",
              "      border-color: transparent;\n",
              "      border-left-color: var(--fill-color);\n",
              "      border-top-color: var(--fill-color);\n",
              "    }\n",
              "    30% {\n",
              "      border-color: transparent;\n",
              "      border-left-color: var(--fill-color);\n",
              "      border-top-color: var(--fill-color);\n",
              "      border-right-color: var(--fill-color);\n",
              "    }\n",
              "    40% {\n",
              "      border-color: transparent;\n",
              "      border-right-color: var(--fill-color);\n",
              "      border-top-color: var(--fill-color);\n",
              "    }\n",
              "    60% {\n",
              "      border-color: transparent;\n",
              "      border-right-color: var(--fill-color);\n",
              "    }\n",
              "    80% {\n",
              "      border-color: transparent;\n",
              "      border-right-color: var(--fill-color);\n",
              "      border-bottom-color: var(--fill-color);\n",
              "    }\n",
              "    90% {\n",
              "      border-color: transparent;\n",
              "      border-bottom-color: var(--fill-color);\n",
              "    }\n",
              "  }\n",
              "</style>\n",
              "\n",
              "  <script>\n",
              "    async function quickchart(key) {\n",
              "      const quickchartButtonEl =\n",
              "        document.querySelector('#' + key + ' button');\n",
              "      quickchartButtonEl.disabled = true;  // To prevent multiple clicks.\n",
              "      quickchartButtonEl.classList.add('colab-df-spinner');\n",
              "      try {\n",
              "        const charts = await google.colab.kernel.invokeFunction(\n",
              "            'suggestCharts', [key], {});\n",
              "      } catch (error) {\n",
              "        console.error('Error during call to suggestCharts:', error);\n",
              "      }\n",
              "      quickchartButtonEl.classList.remove('colab-df-spinner');\n",
              "      quickchartButtonEl.classList.add('colab-df-quickchart-complete');\n",
              "    }\n",
              "    (() => {\n",
              "      let quickchartButtonEl =\n",
              "        document.querySelector('#df-e4a363db-eb91-4d2e-b918-5843346bea0e button');\n",
              "      quickchartButtonEl.style.display =\n",
              "        google.colab.kernel.accessAllowed ? 'block' : 'none';\n",
              "    })();\n",
              "  </script>\n",
              "</div>\n",
              "    </div>\n",
              "  </div>\n"
            ]
          },
          "metadata": {},
          "execution_count": 2
        }
      ],
      "source": [
        "df_s1 = pd.read_csv('/content/WEC_Sydney_100.csv')\n",
        "df_s1.head()"
      ]
    },
    {
      "cell_type": "code",
      "source": [
        "df_s1.info()"
      ],
      "metadata": {
        "colab": {
          "base_uri": "https://localhost:8080/"
        },
        "id": "Eo1Q1PO_NpDB",
        "outputId": "75a0219b-34e0-4c2c-de81-f215510a166e"
      },
      "execution_count": null,
      "outputs": [
        {
          "output_type": "stream",
          "name": "stdout",
          "text": [
            "<class 'pandas.core.frame.DataFrame'>\n",
            "RangeIndex: 2318 entries, 0 to 2317\n",
            "Columns: 302 entries, X1 to Total_Power\n",
            "dtypes: float64(302)\n",
            "memory usage: 5.3 MB\n"
          ]
        }
      ]
    },
    {
      "cell_type": "code",
      "source": [
        "df_s1.shape[0]"
      ],
      "metadata": {
        "colab": {
          "base_uri": "https://localhost:8080/"
        },
        "id": "W-fiIcJ7Nu3Q",
        "outputId": "326e9161-550f-49cb-b3e1-ddecc52fa44a"
      },
      "execution_count": null,
      "outputs": [
        {
          "output_type": "execute_result",
          "data": {
            "text/plain": [
              "2318"
            ]
          },
          "metadata": {},
          "execution_count": 16
        }
      ]
    },
    {
      "cell_type": "code",
      "source": [
        "df_coord = df_s1.loc[:, 'X1':'Y100']"
      ],
      "metadata": {
        "id": "dOtqUTi3OGhy"
      },
      "execution_count": null,
      "outputs": []
    },
    {
      "cell_type": "code",
      "source": [
        "df = df_s1.drop(columns = df_coord.columns)\n",
        "df.head()"
      ],
      "metadata": {
        "colab": {
          "base_uri": "https://localhost:8080/",
          "height": 236
        },
        "id": "fv56J24wOdoy",
        "outputId": "68f496be-bf50-4511-9265-264863207531"
      },
      "execution_count": null,
      "outputs": [
        {
          "output_type": "execute_result",
          "data": {
            "text/plain": [
              "     Power1    Power2    Power3    Power4    Power5    Power6    Power7  \\\n",
              "0  90499.84  79473.40  74169.82  71235.36  93005.06  82354.01  73843.68   \n",
              "1  94385.32  84026.11  76973.29  74361.62  96530.89  87142.41  79391.11   \n",
              "2  93502.81  84088.49  80247.12  72699.18  92397.41  80273.01  75470.32   \n",
              "3  91820.41  80149.33  74985.67  70514.32  94945.46  85495.24  79134.77   \n",
              "4  94110.45  84478.74  78114.63  72246.86  97172.70  89580.96  84125.38   \n",
              "\n",
              "     Power8     Power9   Power10  ...   Power93   Power94   Power95   Power96  \\\n",
              "0  67444.89   98145.38  87879.29  ...  74018.52  71727.79  67966.45  63101.26   \n",
              "1  71846.52  102502.26  95060.22  ...  63702.46  67776.99  65133.52  63138.74   \n",
              "2  75641.07   96136.12  83810.08  ...  55788.34  59593.98  60073.60  59198.12   \n",
              "3  71231.83   96884.41  85998.03  ...  66961.48  65716.93  66637.89  62562.54   \n",
              "4  70979.80  101297.21  95353.35  ...  51814.27  59556.86  68341.92  70731.90   \n",
              "\n",
              "    Power97   Power98   Power99  Power100    qW  Total_Power  \n",
              "0  88826.02  86531.44  83786.68  73514.19  0.69   7247491.41  \n",
              "1  82852.91  83519.30  81973.65  71781.34  0.67   7119352.90  \n",
              "2  63377.08  72078.85  77435.62  67457.26  0.68   7148342.69  \n",
              "3  80858.08  82656.53  82171.28  71713.30  0.69   7317998.83  \n",
              "4  64192.86  69757.10  75581.40  69741.63  0.65   6925096.49  \n",
              "\n",
              "[5 rows x 102 columns]"
            ],
            "text/html": [
              "\n",
              "  <div id=\"df-61b4d8c6-e7eb-4326-9924-f06acbf39208\" class=\"colab-df-container\">\n",
              "    <div>\n",
              "<style scoped>\n",
              "    .dataframe tbody tr th:only-of-type {\n",
              "        vertical-align: middle;\n",
              "    }\n",
              "\n",
              "    .dataframe tbody tr th {\n",
              "        vertical-align: top;\n",
              "    }\n",
              "\n",
              "    .dataframe thead th {\n",
              "        text-align: right;\n",
              "    }\n",
              "</style>\n",
              "<table border=\"1\" class=\"dataframe\">\n",
              "  <thead>\n",
              "    <tr style=\"text-align: right;\">\n",
              "      <th></th>\n",
              "      <th>Power1</th>\n",
              "      <th>Power2</th>\n",
              "      <th>Power3</th>\n",
              "      <th>Power4</th>\n",
              "      <th>Power5</th>\n",
              "      <th>Power6</th>\n",
              "      <th>Power7</th>\n",
              "      <th>Power8</th>\n",
              "      <th>Power9</th>\n",
              "      <th>Power10</th>\n",
              "      <th>...</th>\n",
              "      <th>Power93</th>\n",
              "      <th>Power94</th>\n",
              "      <th>Power95</th>\n",
              "      <th>Power96</th>\n",
              "      <th>Power97</th>\n",
              "      <th>Power98</th>\n",
              "      <th>Power99</th>\n",
              "      <th>Power100</th>\n",
              "      <th>qW</th>\n",
              "      <th>Total_Power</th>\n",
              "    </tr>\n",
              "  </thead>\n",
              "  <tbody>\n",
              "    <tr>\n",
              "      <th>0</th>\n",
              "      <td>90499.84</td>\n",
              "      <td>79473.40</td>\n",
              "      <td>74169.82</td>\n",
              "      <td>71235.36</td>\n",
              "      <td>93005.06</td>\n",
              "      <td>82354.01</td>\n",
              "      <td>73843.68</td>\n",
              "      <td>67444.89</td>\n",
              "      <td>98145.38</td>\n",
              "      <td>87879.29</td>\n",
              "      <td>...</td>\n",
              "      <td>74018.52</td>\n",
              "      <td>71727.79</td>\n",
              "      <td>67966.45</td>\n",
              "      <td>63101.26</td>\n",
              "      <td>88826.02</td>\n",
              "      <td>86531.44</td>\n",
              "      <td>83786.68</td>\n",
              "      <td>73514.19</td>\n",
              "      <td>0.69</td>\n",
              "      <td>7247491.41</td>\n",
              "    </tr>\n",
              "    <tr>\n",
              "      <th>1</th>\n",
              "      <td>94385.32</td>\n",
              "      <td>84026.11</td>\n",
              "      <td>76973.29</td>\n",
              "      <td>74361.62</td>\n",
              "      <td>96530.89</td>\n",
              "      <td>87142.41</td>\n",
              "      <td>79391.11</td>\n",
              "      <td>71846.52</td>\n",
              "      <td>102502.26</td>\n",
              "      <td>95060.22</td>\n",
              "      <td>...</td>\n",
              "      <td>63702.46</td>\n",
              "      <td>67776.99</td>\n",
              "      <td>65133.52</td>\n",
              "      <td>63138.74</td>\n",
              "      <td>82852.91</td>\n",
              "      <td>83519.30</td>\n",
              "      <td>81973.65</td>\n",
              "      <td>71781.34</td>\n",
              "      <td>0.67</td>\n",
              "      <td>7119352.90</td>\n",
              "    </tr>\n",
              "    <tr>\n",
              "      <th>2</th>\n",
              "      <td>93502.81</td>\n",
              "      <td>84088.49</td>\n",
              "      <td>80247.12</td>\n",
              "      <td>72699.18</td>\n",
              "      <td>92397.41</td>\n",
              "      <td>80273.01</td>\n",
              "      <td>75470.32</td>\n",
              "      <td>75641.07</td>\n",
              "      <td>96136.12</td>\n",
              "      <td>83810.08</td>\n",
              "      <td>...</td>\n",
              "      <td>55788.34</td>\n",
              "      <td>59593.98</td>\n",
              "      <td>60073.60</td>\n",
              "      <td>59198.12</td>\n",
              "      <td>63377.08</td>\n",
              "      <td>72078.85</td>\n",
              "      <td>77435.62</td>\n",
              "      <td>67457.26</td>\n",
              "      <td>0.68</td>\n",
              "      <td>7148342.69</td>\n",
              "    </tr>\n",
              "    <tr>\n",
              "      <th>3</th>\n",
              "      <td>91820.41</td>\n",
              "      <td>80149.33</td>\n",
              "      <td>74985.67</td>\n",
              "      <td>70514.32</td>\n",
              "      <td>94945.46</td>\n",
              "      <td>85495.24</td>\n",
              "      <td>79134.77</td>\n",
              "      <td>71231.83</td>\n",
              "      <td>96884.41</td>\n",
              "      <td>85998.03</td>\n",
              "      <td>...</td>\n",
              "      <td>66961.48</td>\n",
              "      <td>65716.93</td>\n",
              "      <td>66637.89</td>\n",
              "      <td>62562.54</td>\n",
              "      <td>80858.08</td>\n",
              "      <td>82656.53</td>\n",
              "      <td>82171.28</td>\n",
              "      <td>71713.30</td>\n",
              "      <td>0.69</td>\n",
              "      <td>7317998.83</td>\n",
              "    </tr>\n",
              "    <tr>\n",
              "      <th>4</th>\n",
              "      <td>94110.45</td>\n",
              "      <td>84478.74</td>\n",
              "      <td>78114.63</td>\n",
              "      <td>72246.86</td>\n",
              "      <td>97172.70</td>\n",
              "      <td>89580.96</td>\n",
              "      <td>84125.38</td>\n",
              "      <td>70979.80</td>\n",
              "      <td>101297.21</td>\n",
              "      <td>95353.35</td>\n",
              "      <td>...</td>\n",
              "      <td>51814.27</td>\n",
              "      <td>59556.86</td>\n",
              "      <td>68341.92</td>\n",
              "      <td>70731.90</td>\n",
              "      <td>64192.86</td>\n",
              "      <td>69757.10</td>\n",
              "      <td>75581.40</td>\n",
              "      <td>69741.63</td>\n",
              "      <td>0.65</td>\n",
              "      <td>6925096.49</td>\n",
              "    </tr>\n",
              "  </tbody>\n",
              "</table>\n",
              "<p>5 rows × 102 columns</p>\n",
              "</div>\n",
              "    <div class=\"colab-df-buttons\">\n",
              "\n",
              "  <div class=\"colab-df-container\">\n",
              "    <button class=\"colab-df-convert\" onclick=\"convertToInteractive('df-61b4d8c6-e7eb-4326-9924-f06acbf39208')\"\n",
              "            title=\"Convert this dataframe to an interactive table.\"\n",
              "            style=\"display:none;\">\n",
              "\n",
              "  <svg xmlns=\"http://www.w3.org/2000/svg\" height=\"24px\" viewBox=\"0 -960 960 960\">\n",
              "    <path d=\"M120-120v-720h720v720H120Zm60-500h600v-160H180v160Zm220 220h160v-160H400v160Zm0 220h160v-160H400v160ZM180-400h160v-160H180v160Zm440 0h160v-160H620v160ZM180-180h160v-160H180v160Zm440 0h160v-160H620v160Z\"/>\n",
              "  </svg>\n",
              "    </button>\n",
              "\n",
              "  <style>\n",
              "    .colab-df-container {\n",
              "      display:flex;\n",
              "      gap: 12px;\n",
              "    }\n",
              "\n",
              "    .colab-df-convert {\n",
              "      background-color: #E8F0FE;\n",
              "      border: none;\n",
              "      border-radius: 50%;\n",
              "      cursor: pointer;\n",
              "      display: none;\n",
              "      fill: #1967D2;\n",
              "      height: 32px;\n",
              "      padding: 0 0 0 0;\n",
              "      width: 32px;\n",
              "    }\n",
              "\n",
              "    .colab-df-convert:hover {\n",
              "      background-color: #E2EBFA;\n",
              "      box-shadow: 0px 1px 2px rgba(60, 64, 67, 0.3), 0px 1px 3px 1px rgba(60, 64, 67, 0.15);\n",
              "      fill: #174EA6;\n",
              "    }\n",
              "\n",
              "    .colab-df-buttons div {\n",
              "      margin-bottom: 4px;\n",
              "    }\n",
              "\n",
              "    [theme=dark] .colab-df-convert {\n",
              "      background-color: #3B4455;\n",
              "      fill: #D2E3FC;\n",
              "    }\n",
              "\n",
              "    [theme=dark] .colab-df-convert:hover {\n",
              "      background-color: #434B5C;\n",
              "      box-shadow: 0px 1px 3px 1px rgba(0, 0, 0, 0.15);\n",
              "      filter: drop-shadow(0px 1px 2px rgba(0, 0, 0, 0.3));\n",
              "      fill: #FFFFFF;\n",
              "    }\n",
              "  </style>\n",
              "\n",
              "    <script>\n",
              "      const buttonEl =\n",
              "        document.querySelector('#df-61b4d8c6-e7eb-4326-9924-f06acbf39208 button.colab-df-convert');\n",
              "      buttonEl.style.display =\n",
              "        google.colab.kernel.accessAllowed ? 'block' : 'none';\n",
              "\n",
              "      async function convertToInteractive(key) {\n",
              "        const element = document.querySelector('#df-61b4d8c6-e7eb-4326-9924-f06acbf39208');\n",
              "        const dataTable =\n",
              "          await google.colab.kernel.invokeFunction('convertToInteractive',\n",
              "                                                    [key], {});\n",
              "        if (!dataTable) return;\n",
              "\n",
              "        const docLinkHtml = 'Like what you see? Visit the ' +\n",
              "          '<a target=\"_blank\" href=https://colab.research.google.com/notebooks/data_table.ipynb>data table notebook</a>'\n",
              "          + ' to learn more about interactive tables.';\n",
              "        element.innerHTML = '';\n",
              "        dataTable['output_type'] = 'display_data';\n",
              "        await google.colab.output.renderOutput(dataTable, element);\n",
              "        const docLink = document.createElement('div');\n",
              "        docLink.innerHTML = docLinkHtml;\n",
              "        element.appendChild(docLink);\n",
              "      }\n",
              "    </script>\n",
              "  </div>\n",
              "\n",
              "\n",
              "<div id=\"df-ae00882c-e201-4237-99e8-68272a0f2284\">\n",
              "  <button class=\"colab-df-quickchart\" onclick=\"quickchart('df-ae00882c-e201-4237-99e8-68272a0f2284')\"\n",
              "            title=\"Suggest charts\"\n",
              "            style=\"display:none;\">\n",
              "\n",
              "<svg xmlns=\"http://www.w3.org/2000/svg\" height=\"24px\"viewBox=\"0 0 24 24\"\n",
              "     width=\"24px\">\n",
              "    <g>\n",
              "        <path d=\"M19 3H5c-1.1 0-2 .9-2 2v14c0 1.1.9 2 2 2h14c1.1 0 2-.9 2-2V5c0-1.1-.9-2-2-2zM9 17H7v-7h2v7zm4 0h-2V7h2v10zm4 0h-2v-4h2v4z\"/>\n",
              "    </g>\n",
              "</svg>\n",
              "  </button>\n",
              "\n",
              "<style>\n",
              "  .colab-df-quickchart {\n",
              "      --bg-color: #E8F0FE;\n",
              "      --fill-color: #1967D2;\n",
              "      --hover-bg-color: #E2EBFA;\n",
              "      --hover-fill-color: #174EA6;\n",
              "      --disabled-fill-color: #AAA;\n",
              "      --disabled-bg-color: #DDD;\n",
              "  }\n",
              "\n",
              "  [theme=dark] .colab-df-quickchart {\n",
              "      --bg-color: #3B4455;\n",
              "      --fill-color: #D2E3FC;\n",
              "      --hover-bg-color: #434B5C;\n",
              "      --hover-fill-color: #FFFFFF;\n",
              "      --disabled-bg-color: #3B4455;\n",
              "      --disabled-fill-color: #666;\n",
              "  }\n",
              "\n",
              "  .colab-df-quickchart {\n",
              "    background-color: var(--bg-color);\n",
              "    border: none;\n",
              "    border-radius: 50%;\n",
              "    cursor: pointer;\n",
              "    display: none;\n",
              "    fill: var(--fill-color);\n",
              "    height: 32px;\n",
              "    padding: 0;\n",
              "    width: 32px;\n",
              "  }\n",
              "\n",
              "  .colab-df-quickchart:hover {\n",
              "    background-color: var(--hover-bg-color);\n",
              "    box-shadow: 0 1px 2px rgba(60, 64, 67, 0.3), 0 1px 3px 1px rgba(60, 64, 67, 0.15);\n",
              "    fill: var(--button-hover-fill-color);\n",
              "  }\n",
              "\n",
              "  .colab-df-quickchart-complete:disabled,\n",
              "  .colab-df-quickchart-complete:disabled:hover {\n",
              "    background-color: var(--disabled-bg-color);\n",
              "    fill: var(--disabled-fill-color);\n",
              "    box-shadow: none;\n",
              "  }\n",
              "\n",
              "  .colab-df-spinner {\n",
              "    border: 2px solid var(--fill-color);\n",
              "    border-color: transparent;\n",
              "    border-bottom-color: var(--fill-color);\n",
              "    animation:\n",
              "      spin 1s steps(1) infinite;\n",
              "  }\n",
              "\n",
              "  @keyframes spin {\n",
              "    0% {\n",
              "      border-color: transparent;\n",
              "      border-bottom-color: var(--fill-color);\n",
              "      border-left-color: var(--fill-color);\n",
              "    }\n",
              "    20% {\n",
              "      border-color: transparent;\n",
              "      border-left-color: var(--fill-color);\n",
              "      border-top-color: var(--fill-color);\n",
              "    }\n",
              "    30% {\n",
              "      border-color: transparent;\n",
              "      border-left-color: var(--fill-color);\n",
              "      border-top-color: var(--fill-color);\n",
              "      border-right-color: var(--fill-color);\n",
              "    }\n",
              "    40% {\n",
              "      border-color: transparent;\n",
              "      border-right-color: var(--fill-color);\n",
              "      border-top-color: var(--fill-color);\n",
              "    }\n",
              "    60% {\n",
              "      border-color: transparent;\n",
              "      border-right-color: var(--fill-color);\n",
              "    }\n",
              "    80% {\n",
              "      border-color: transparent;\n",
              "      border-right-color: var(--fill-color);\n",
              "      border-bottom-color: var(--fill-color);\n",
              "    }\n",
              "    90% {\n",
              "      border-color: transparent;\n",
              "      border-bottom-color: var(--fill-color);\n",
              "    }\n",
              "  }\n",
              "</style>\n",
              "\n",
              "  <script>\n",
              "    async function quickchart(key) {\n",
              "      const quickchartButtonEl =\n",
              "        document.querySelector('#' + key + ' button');\n",
              "      quickchartButtonEl.disabled = true;  // To prevent multiple clicks.\n",
              "      quickchartButtonEl.classList.add('colab-df-spinner');\n",
              "      try {\n",
              "        const charts = await google.colab.kernel.invokeFunction(\n",
              "            'suggestCharts', [key], {});\n",
              "      } catch (error) {\n",
              "        console.error('Error during call to suggestCharts:', error);\n",
              "      }\n",
              "      quickchartButtonEl.classList.remove('colab-df-spinner');\n",
              "      quickchartButtonEl.classList.add('colab-df-quickchart-complete');\n",
              "    }\n",
              "    (() => {\n",
              "      let quickchartButtonEl =\n",
              "        document.querySelector('#df-ae00882c-e201-4237-99e8-68272a0f2284 button');\n",
              "      quickchartButtonEl.style.display =\n",
              "        google.colab.kernel.accessAllowed ? 'block' : 'none';\n",
              "    })();\n",
              "  </script>\n",
              "</div>\n",
              "    </div>\n",
              "  </div>\n"
            ]
          },
          "metadata": {},
          "execution_count": 4
        }
      ]
    },
    {
      "cell_type": "code",
      "source": [
        "df.info()"
      ],
      "metadata": {
        "colab": {
          "base_uri": "https://localhost:8080/"
        },
        "id": "LVr6f1G7O1xr",
        "outputId": "642fd211-d2cf-4444-dd3e-a6f3911080d2"
      },
      "execution_count": null,
      "outputs": [
        {
          "output_type": "stream",
          "name": "stdout",
          "text": [
            "<class 'pandas.core.frame.DataFrame'>\n",
            "RangeIndex: 2318 entries, 0 to 2317\n",
            "Columns: 102 entries, Power1 to Total_Power\n",
            "dtypes: float64(102)\n",
            "memory usage: 1.8 MB\n"
          ]
        }
      ]
    },
    {
      "cell_type": "code",
      "source": [
        "target = 'Total_Power'"
      ],
      "metadata": {
        "id": "Fql4w1hoO6E6"
      },
      "execution_count": null,
      "outputs": []
    },
    {
      "cell_type": "code",
      "source": [
        "corr = df.drop(columns=[target, 'qW']).corr()\n",
        "\n",
        "sns.heatmap(corr)"
      ],
      "metadata": {
        "colab": {
          "base_uri": "https://localhost:8080/",
          "height": 498
        },
        "id": "BqbrM7HkO9wB",
        "outputId": "c9cffaa3-0460-4442-902e-67a7782ecb35"
      },
      "execution_count": null,
      "outputs": [
        {
          "output_type": "execute_result",
          "data": {
            "text/plain": [
              "<Axes: >"
            ]
          },
          "metadata": {},
          "execution_count": 26
        },
        {
          "output_type": "display_data",
          "data": {
            "text/plain": [
              "<Figure size 640x480 with 2 Axes>"
            ],
            "image/png": "[encoded data removed]"
          },
          "metadata": {}
        }
      ]
    },
    {
      "cell_type": "markdown",
      "source": [
        "There is so many power variables. Here we can do dimensionality reduction or linear regression with the Total Power as the dependent variable."
      ],
      "metadata": {
        "id": "wCjVnYUTPWtE"
      }
    },
    {
      "cell_type": "code",
      "source": [
        "sns.boxplot(df['Power100'])"
      ],
      "metadata": {
        "colab": {
          "base_uri": "https://localhost:8080/",
          "height": 447
        },
        "id": "cPF9UUlqQSqM",
        "outputId": "0039915d-e3c0-40e0-c087-80b8f773c304"
      },
      "execution_count": null,
      "outputs": [
        {
          "output_type": "execute_result",
          "data": {
            "text/plain": [
              "<Axes: >"
            ]
          },
          "metadata": {},
          "execution_count": 34
        },
        {
          "output_type": "display_data",
          "data": {
            "text/plain": [
              "<Figure size 640x480 with 1 Axes>"
            ],
            "image/png": "[encoded data removed]"
          },
          "metadata": {}
        }
      ]
    },
    {
      "cell_type": "code",
      "source": [
        "sns.boxplot(df['Power10'])"
      ],
      "metadata": {
        "colab": {
          "base_uri": "https://localhost:8080/",
          "height": 447
        },
        "id": "t0wsIRIzQaNj",
        "outputId": "3d1e6a6c-c072-440c-8288-4a1e6e7f3bd7"
      },
      "execution_count": null,
      "outputs": [
        {
          "output_type": "execute_result",
          "data": {
            "text/plain": [
              "<Axes: >"
            ]
          },
          "metadata": {},
          "execution_count": 35
        },
        {
          "output_type": "display_data",
          "data": {
            "text/plain": [
              "<Figure size 640x480 with 1 Axes>"
            ],
            "image/png": "[encoded data removed]"
          },
          "metadata": {}
        }
      ]
    },
    {
      "cell_type": "code",
      "source": [
        "sns.boxplot(df['Power35'])"
      ],
      "metadata": {
        "colab": {
          "base_uri": "https://localhost:8080/",
          "height": 447
        },
        "id": "PACgZb_CQfT9",
        "outputId": "b9f19042-41ff-4559-f4bf-f83f0f648071"
      },
      "execution_count": null,
      "outputs": [
        {
          "output_type": "execute_result",
          "data": {
            "text/plain": [
              "<Axes: >"
            ]
          },
          "metadata": {},
          "execution_count": 36
        },
        {
          "output_type": "display_data",
          "data": {
            "text/plain": [
              "<Figure size 640x480 with 1 Axes>"
            ],
            "image/png": "[encoded data removed]"
          },
          "metadata": {}
        }
      ]
    },
    {
      "cell_type": "markdown",
      "source": [
        "Though I take random columns to check if there is any outliers in the variables, I see in each column consist some extra values. For this I will use trimmed_var for KMeans and PCA Calculation. But for now let's see how the linear regression works in this scenario."
      ],
      "metadata": {
        "id": "Vel-3zwXQkHd"
      }
    },
    {
      "cell_type": "markdown",
      "source": [
        "##Linear Regression"
      ],
      "metadata": {
        "id": "KabmOt95ZpRN"
      }
    },
    {
      "cell_type": "code",
      "source": [
        "from sklearn.metrics import mean_absolute_error\n",
        "from sklearn.preprocessing import StandardScaler\n",
        "from sklearn.linear_model import LinearRegression\n",
        "from sklearn.pipeline import make_pipeline\n",
        "from sklearn.model_selection import train_test_split"
      ],
      "metadata": {
        "id": "uoWdyiOFQI6a"
      },
      "execution_count": null,
      "outputs": []
    },
    {
      "cell_type": "code",
      "source": [
        "X_train = df.drop(columns=[target, 'qW'])\n",
        "y_train = df[target]\n"
      ],
      "metadata": {
        "id": "BVxNCDe1P9Za"
      },
      "execution_count": null,
      "outputs": []
    },
    {
      "cell_type": "code",
      "source": [
        "print(f'X_train shape:{X_train.shape}')\n",
        "print(f'y_train shape:{y_train.shape}')"
      ],
      "metadata": {
        "colab": {
          "base_uri": "https://localhost:8080/"
        },
        "id": "J76FGbCdYpMn",
        "outputId": "23da667f-3549-48ab-89cc-1b5cc4a54730"
      },
      "execution_count": null,
      "outputs": [
        {
          "output_type": "stream",
          "name": "stdout",
          "text": [
            "X_train shape:(2318, 100)\n",
            "y_train shape:(2318,)\n"
          ]
        }
      ]
    },
    {
      "cell_type": "markdown",
      "source": [
        "At first I will identify the `Baseline Error` from this dataset"
      ],
      "metadata": {
        "id": "1ursIQH6R57j"
      }
    },
    {
      "cell_type": "code",
      "source": [
        "mean_baseline = y_train.mean()\n",
        "pred_baseline = len(y_train) * [mean_baseline]\n",
        "\n",
        "mae_baseline = mean_absolute_error(y_train, pred_baseline)\n",
        "print(f'Mean absolute error in Baseline: {mae_baseline.round(2)}')"
      ],
      "metadata": {
        "colab": {
          "base_uri": "https://localhost:8080/"
        },
        "id": "W2dRkgm4R_8v",
        "outputId": "05cbd6d1-705c-479b-fbdf-6e1efe6e2f30"
      },
      "execution_count": null,
      "outputs": [
        {
          "output_type": "stream",
          "name": "stdout",
          "text": [
            "Mean absolute error in Baseline: 79528.05\n"
          ]
        }
      ]
    },
    {
      "cell_type": "markdown",
      "source": [
        "Now my main target is to make the mean absolute error less from the baseline mean absolute error."
      ],
      "metadata": {
        "id": "1L_EdUH8Tneg"
      }
    },
    {
      "cell_type": "code",
      "source": [
        "model = LinearRegression()\n",
        "model.fit(X_train, y_train)"
      ],
      "metadata": {
        "colab": {
          "base_uri": "https://localhost:8080/",
          "height": 75
        },
        "id": "Z75im5TKT4ao",
        "outputId": "81828d58-670b-4e64-f4fe-7ca8bab42c8d"
      },
      "execution_count": null,
      "outputs": [
        {
          "output_type": "execute_result",
          "data": {
            "text/plain": [
              "LinearRegression()"
            ],
            "text/html": [
              "<style>#sk-container-id-6 {color: black;background-color: white;}#sk-container-id-6 pre{padding: 0;}#sk-container-id-6 div.sk-toggleable {background-color: white;}#sk-container-id-6 label.sk-toggleable__label {cursor: pointer;display: block;width: 100%;margin-bottom: 0;padding: 0.3em;box-sizing: border-box;text-align: center;}#sk-container-id-6 label.sk-toggleable__label-arrow:before {content: \"▸\";float: left;margin-right: 0.25em;color: #696969;}#sk-container-id-6 label.sk-toggleable__label-arrow:hover:before {color: black;}#sk-container-id-6 div.sk-estimator:hover label.sk-toggleable__label-arrow:before {color: black;}#sk-container-id-6 div.sk-toggleable__content {max-height: 0;max-width: 0;overflow: hidden;text-align: left;background-color: #f0f8ff;}#sk-container-id-6 div.sk-toggleable__content pre {margin: 0.2em;color: black;border-radius: 0.25em;background-color: #f0f8ff;}#sk-container-id-6 input.sk-toggleable__control:checked~div.sk-toggleable__content {max-height: 200px;max-width: 100%;overflow: auto;}#sk-container-id-6 input.sk-toggleable__control:checked~label.sk-toggleable__label-arrow:before {content: \"▾\";}#sk-container-id-6 div.sk-estimator input.sk-toggleable__control:checked~label.sk-toggleable__label {background-color: #d4ebff;}#sk-container-id-6 div.sk-label input.sk-toggleable__control:checked~label.sk-toggleable__label {background-color: #d4ebff;}#sk-container-id-6 input.sk-hidden--visually {border: 0;clip: rect(1px 1px 1px 1px);clip: rect(1px, 1px, 1px, 1px);height: 1px;margin: -1px;overflow: hidden;padding: 0;position: absolute;width: 1px;}#sk-container-id-6 div.sk-estimator {font-family: monospace;background-color: #f0f8ff;border: 1px dotted black;border-radius: 0.25em;box-sizing: border-box;margin-bottom: 0.5em;}#sk-container-id-6 div.sk-estimator:hover {background-color: #d4ebff;}#sk-container-id-6 div.sk-parallel-item::after {content: \"\";width: 100%;border-bottom: 1px solid gray;flex-grow: 1;}#sk-container-id-6 div.sk-label:hover label.sk-toggleable__label {background-color: #d4ebff;}#sk-container-id-6 div.sk-serial::before {content: \"\";position: absolute;border-left: 1px solid gray;box-sizing: border-box;top: 0;bottom: 0;left: 50%;z-index: 0;}#sk-container-id-6 div.sk-serial {display: flex;flex-direction: column;align-items: center;background-color: white;padding-right: 0.2em;padding-left: 0.2em;position: relative;}#sk-container-id-6 div.sk-item {position: relative;z-index: 1;}#sk-container-id-6 div.sk-parallel {display: flex;align-items: stretch;justify-content: center;background-color: white;position: relative;}#sk-container-id-6 div.sk-item::before, #sk-container-id-6 div.sk-parallel-item::before {content: \"\";position: absolute;border-left: 1px solid gray;box-sizing: border-box;top: 0;bottom: 0;left: 50%;z-index: -1;}#sk-container-id-6 div.sk-parallel-item {display: flex;flex-direction: column;z-index: 1;position: relative;background-color: white;}#sk-container-id-6 div.sk-parallel-item:first-child::after {align-self: flex-end;width: 50%;}#sk-container-id-6 div.sk-parallel-item:last-child::after {align-self: flex-start;width: 50%;}#sk-container-id-6 div.sk-parallel-item:only-child::after {width: 0;}#sk-container-id-6 div.sk-dashed-wrapped {border: 1px dashed gray;margin: 0 0.4em 0.5em 0.4em;box-sizing: border-box;padding-bottom: 0.4em;background-color: white;}#sk-container-id-6 div.sk-label label {font-family: monospace;font-weight: bold;display: inline-block;line-height: 1.2em;}#sk-container-id-6 div.sk-label-container {text-align: center;}#sk-container-id-6 div.sk-container {/* jupyter's `normalize.less` sets `[hidden] { display: none; }` but bootstrap.min.css set `[hidden] { display: none !important; }` so we also need the `!important` here to be able to override the default hidden behavior on the sphinx rendered scikit-learn.org. See: https://github.com/scikit-learn/scikit-learn/issues/21755 */display: inline-block !important;position: relative;}#sk-container-id-6 div.sk-text-repr-fallback {display: none;}</style><div id=\"sk-container-id-6\" class=\"sk-top-container\"><div class=\"sk-text-repr-fallback\"><pre>LinearRegression()</pre><b>In a Jupyter environment, please rerun this cell to show the HTML representation or trust the notebook. <br />On GitHub, the HTML representation is unable to render, please try loading this page with nbviewer.org.</b></div><div class=\"sk-container\" hidden><div class=\"sk-item\"><div class=\"sk-estimator sk-toggleable\"><input class=\"sk-toggleable__control sk-hidden--visually\" id=\"sk-estimator-id-6\" type=\"checkbox\" checked><label for=\"sk-estimator-id-6\" class=\"sk-toggleable__label sk-toggleable__label-arrow\">LinearRegression</label><div class=\"sk-toggleable__content\"><pre>LinearRegression()</pre></div></div></div></div></div>"
            ]
          },
          "metadata": {},
          "execution_count": 71
        }
      ]
    },
    {
      "cell_type": "code",
      "source": [
        "# let's find the training error\n",
        "\n",
        "pred_train = model.predict(X_train)\n",
        "mae_training = mean_absolute_error(y_train, pred_train)\n",
        "\n",
        "print(f'pred_train shape:{pred_train.shape}')\n",
        "print(f'Mean absolute error in training data: {mae_training.round(2)}')"
      ],
      "metadata": {
        "colab": {
          "base_uri": "https://localhost:8080/"
        },
        "id": "eBU0ceNAUqzI",
        "outputId": "f1bedef4-0c5c-477d-b1a5-f4142cc09bb1"
      },
      "execution_count": null,
      "outputs": [
        {
          "output_type": "stream",
          "name": "stdout",
          "text": [
            "pred_train shape:(2318,)\n",
            "Mean absolute error in training data: 98.27\n"
          ]
        }
      ]
    },
    {
      "cell_type": "markdown",
      "source": [
        "This value is much less than I thought. Though it should be great for the model, but it creates some doubts in the modelling dataset. Either my model is too correct or the dataset is filled with wrong values."
      ],
      "metadata": {
        "id": "uhSEuIYBVH7h"
      }
    },
    {
      "cell_type": "code",
      "source": [
        "intercept = model.intercept_.round(2)\n",
        "coefficient = model.coef_.round(2)\n",
        "\n",
        "print(f'Length of coefficients: {len(coefficient)}')"
      ],
      "metadata": {
        "colab": {
          "base_uri": "https://localhost:8080/"
        },
        "id": "UwMb_HC-aJAn",
        "outputId": "e7ee79f8-d7fb-482a-fe50-69a50cdd1033"
      },
      "execution_count": null,
      "outputs": [
        {
          "output_type": "stream",
          "name": "stdout",
          "text": [
            "Length of coefficients: 100\n"
          ]
        }
      ]
    },
    {
      "cell_type": "markdown",
      "source": [
        "##Ridge Regression"
      ],
      "metadata": {
        "id": "_CRySXFNZktl"
      }
    },
    {
      "cell_type": "code",
      "source": [
        "from sklearn.linear_model import Ridge"
      ],
      "metadata": {
        "id": "sB_ELJfQZm9E"
      },
      "execution_count": null,
      "outputs": []
    },
    {
      "cell_type": "code",
      "source": [
        "model_r= Ridge()\n",
        "model_r.fit(X_train, y_train)"
      ],
      "metadata": {
        "colab": {
          "base_uri": "https://localhost:8080/",
          "height": 75
        },
        "id": "wTGjtFFzaAiw",
        "outputId": "2868299c-68f2-412f-d08b-9d3c06a3210d"
      },
      "execution_count": null,
      "outputs": [
        {
          "output_type": "execute_result",
          "data": {
            "text/plain": [
              "Ridge()"
            ],
            "text/html": [
              "<style>#sk-container-id-5 {color: black;background-color: white;}#sk-container-id-5 pre{padding: 0;}#sk-container-id-5 div.sk-toggleable {background-color: white;}#sk-container-id-5 label.sk-toggleable__label {cursor: pointer;display: block;width: 100%;margin-bottom: 0;padding: 0.3em;box-sizing: border-box;text-align: center;}#sk-container-id-5 label.sk-toggleable__label-arrow:before {content: \"▸\";float: left;margin-right: 0.25em;color: #696969;}#sk-container-id-5 label.sk-toggleable__label-arrow:hover:before {color: black;}#sk-container-id-5 div.sk-estimator:hover label.sk-toggleable__label-arrow:before {color: black;}#sk-container-id-5 div.sk-toggleable__content {max-height: 0;max-width: 0;overflow: hidden;text-align: left;background-color: #f0f8ff;}#sk-container-id-5 div.sk-toggleable__content pre {margin: 0.2em;color: black;border-radius: 0.25em;background-color: #f0f8ff;}#sk-container-id-5 input.sk-toggleable__control:checked~div.sk-toggleable__content {max-height: 200px;max-width: 100%;overflow: auto;}#sk-container-id-5 input.sk-toggleable__control:checked~label.sk-toggleable__label-arrow:before {content: \"▾\";}#sk-container-id-5 div.sk-estimator input.sk-toggleable__control:checked~label.sk-toggleable__label {background-color: #d4ebff;}#sk-container-id-5 div.sk-label input.sk-toggleable__control:checked~label.sk-toggleable__label {background-color: #d4ebff;}#sk-container-id-5 input.sk-hidden--visually {border: 0;clip: rect(1px 1px 1px 1px);clip: rect(1px, 1px, 1px, 1px);height: 1px;margin: -1px;overflow: hidden;padding: 0;position: absolute;width: 1px;}#sk-container-id-5 div.sk-estimator {font-family: monospace;background-color: #f0f8ff;border: 1px dotted black;border-radius: 0.25em;box-sizing: border-box;margin-bottom: 0.5em;}#sk-container-id-5 div.sk-estimator:hover {background-color: #d4ebff;}#sk-container-id-5 div.sk-parallel-item::after {content: \"\";width: 100%;border-bottom: 1px solid gray;flex-grow: 1;}#sk-container-id-5 div.sk-label:hover label.sk-toggleable__label {background-color: #d4ebff;}#sk-container-id-5 div.sk-serial::before {content: \"\";position: absolute;border-left: 1px solid gray;box-sizing: border-box;top: 0;bottom: 0;left: 50%;z-index: 0;}#sk-container-id-5 div.sk-serial {display: flex;flex-direction: column;align-items: center;background-color: white;padding-right: 0.2em;padding-left: 0.2em;position: relative;}#sk-container-id-5 div.sk-item {position: relative;z-index: 1;}#sk-container-id-5 div.sk-parallel {display: flex;align-items: stretch;justify-content: center;background-color: white;position: relative;}#sk-container-id-5 div.sk-item::before, #sk-container-id-5 div.sk-parallel-item::before {content: \"\";position: absolute;border-left: 1px solid gray;box-sizing: border-box;top: 0;bottom: 0;left: 50%;z-index: -1;}#sk-container-id-5 div.sk-parallel-item {display: flex;flex-direction: column;z-index: 1;position: relative;background-color: white;}#sk-container-id-5 div.sk-parallel-item:first-child::after {align-self: flex-end;width: 50%;}#sk-container-id-5 div.sk-parallel-item:last-child::after {align-self: flex-start;width: 50%;}#sk-container-id-5 div.sk-parallel-item:only-child::after {width: 0;}#sk-container-id-5 div.sk-dashed-wrapped {border: 1px dashed gray;margin: 0 0.4em 0.5em 0.4em;box-sizing: border-box;padding-bottom: 0.4em;background-color: white;}#sk-container-id-5 div.sk-label label {font-family: monospace;font-weight: bold;display: inline-block;line-height: 1.2em;}#sk-container-id-5 div.sk-label-container {text-align: center;}#sk-container-id-5 div.sk-container {/* jupyter's `normalize.less` sets `[hidden] { display: none; }` but bootstrap.min.css set `[hidden] { display: none !important; }` so we also need the `!important` here to be able to override the default hidden behavior on the sphinx rendered scikit-learn.org. See: https://github.com/scikit-learn/scikit-learn/issues/21755 */display: inline-block !important;position: relative;}#sk-container-id-5 div.sk-text-repr-fallback {display: none;}</style><div id=\"sk-container-id-5\" class=\"sk-top-container\"><div class=\"sk-text-repr-fallback\"><pre>Ridge()</pre><b>In a Jupyter environment, please rerun this cell to show the HTML representation or trust the notebook. <br />On GitHub, the HTML representation is unable to render, please try loading this page with nbviewer.org.</b></div><div class=\"sk-container\" hidden><div class=\"sk-item\"><div class=\"sk-estimator sk-toggleable\"><input class=\"sk-toggleable__control sk-hidden--visually\" id=\"sk-estimator-id-5\" type=\"checkbox\" checked><label for=\"sk-estimator-id-5\" class=\"sk-toggleable__label sk-toggleable__label-arrow\">Ridge</label><div class=\"sk-toggleable__content\"><pre>Ridge()</pre></div></div></div></div></div>"
            ]
          },
          "metadata": {},
          "execution_count": 70
        }
      ]
    },
    {
      "cell_type": "code",
      "source": [
        "# let's find the training error\n",
        "\n",
        "pred_train = model.predict(X_train)\n",
        "mae_training = mean_absolute_error(y_train, pred_train)\n",
        "\n",
        "print(f'pred_train shape:{pred_train.shape}')\n",
        "print(f'Mean absolute error in training data: {mae_training.round(2)}')"
      ],
      "metadata": {
        "colab": {
          "base_uri": "https://localhost:8080/"
        },
        "id": "uNkA3n9NaH_o",
        "outputId": "ff73a6e1-f4ee-4c50-ad98-c057f166563d"
      },
      "execution_count": null,
      "outputs": [
        {
          "output_type": "stream",
          "name": "stdout",
          "text": [
            "pred_train shape:(2318,)\n",
            "Mean absolute error in training data: 98.27\n"
          ]
        }
      ]
    },
    {
      "cell_type": "code",
      "source": [
        "feat_imp = pd.Series(coefficient, index = X_train.columns)\n",
        "feat_imp.head()"
      ],
      "metadata": {
        "colab": {
          "base_uri": "https://localhost:8080/"
        },
        "id": "H9q7pKEKcLys",
        "outputId": "09ad2e86-6eaf-4d30-b836-68ebec00a93b"
      },
      "execution_count": null,
      "outputs": [
        {
          "output_type": "execute_result",
          "data": {
            "text/plain": [
              "Power1    1.00\n",
              "Power2    1.00\n",
              "Power3    1.00\n",
              "Power4    0.99\n",
              "Power5    1.00\n",
              "dtype: float64"
            ]
          },
          "metadata": {},
          "execution_count": 77
        }
      ]
    },
    {
      "cell_type": "code",
      "source": [
        "print(f\"Total power = {intercept}\")\n",
        "for f, c in feat_imp.items():\n",
        "    print(f\"+ ({c} * {f})\")"
      ],
      "metadata": {
        "colab": {
          "base_uri": "https://localhost:8080/"
        },
        "id": "6W4p4dpScmFA",
        "outputId": "fddd4e3c-eaa2-4cf9-8c36-e409a57091ca"
      },
      "execution_count": null,
      "outputs": [
        {
          "output_type": "stream",
          "name": "stdout",
          "text": [
            "Total power = -2413.51\n",
            "+ (1.0 * Power1)\n",
            "+ (1.0 * Power2)\n",
            "+ (1.0 * Power3)\n",
            "+ (0.99 * Power4)\n",
            "+ (1.0 * Power5)\n",
            "+ (1.0 * Power6)\n",
            "+ (1.0 * Power7)\n",
            "+ (1.0 * Power8)\n",
            "+ (1.0 * Power9)\n",
            "+ (1.0 * Power10)\n",
            "+ (1.01 * Power11)\n",
            "+ (1.0 * Power12)\n",
            "+ (1.0 * Power13)\n",
            "+ (1.0 * Power14)\n",
            "+ (0.99 * Power15)\n",
            "+ (1.01 * Power16)\n",
            "+ (1.0 * Power17)\n",
            "+ (1.0 * Power18)\n",
            "+ (1.0 * Power19)\n",
            "+ (1.0 * Power20)\n",
            "+ (1.0 * Power21)\n",
            "+ (1.0 * Power22)\n",
            "+ (1.0 * Power23)\n",
            "+ (1.0 * Power24)\n",
            "+ (1.0 * Power25)\n",
            "+ (1.0 * Power26)\n",
            "+ (1.0 * Power27)\n",
            "+ (1.0 * Power28)\n",
            "+ (1.0 * Power29)\n",
            "+ (1.0 * Power30)\n",
            "+ (1.01 * Power31)\n",
            "+ (1.0 * Power32)\n",
            "+ (1.01 * Power33)\n",
            "+ (0.99 * Power34)\n",
            "+ (1.0 * Power35)\n",
            "+ (0.99 * Power36)\n",
            "+ (1.0 * Power37)\n",
            "+ (1.0 * Power38)\n",
            "+ (1.0 * Power39)\n",
            "+ (1.0 * Power40)\n",
            "+ (1.0 * Power41)\n",
            "+ (0.99 * Power42)\n",
            "+ (1.0 * Power43)\n",
            "+ (1.0 * Power44)\n",
            "+ (1.0 * Power45)\n",
            "+ (1.0 * Power46)\n",
            "+ (1.0 * Power47)\n",
            "+ (1.01 * Power48)\n",
            "+ (1.0 * Power49)\n",
            "+ (1.0 * Power50)\n",
            "+ (1.0 * Power51)\n",
            "+ (1.0 * Power52)\n",
            "+ (1.0 * Power53)\n",
            "+ (1.0 * Power54)\n",
            "+ (1.0 * Power55)\n",
            "+ (1.0 * Power56)\n",
            "+ (1.0 * Power57)\n",
            "+ (1.0 * Power58)\n",
            "+ (1.0 * Power59)\n",
            "+ (1.0 * Power60)\n",
            "+ (1.0 * Power61)\n",
            "+ (0.99 * Power62)\n",
            "+ (1.0 * Power63)\n",
            "+ (1.0 * Power64)\n",
            "+ (1.0 * Power65)\n",
            "+ (1.0 * Power66)\n",
            "+ (1.0 * Power67)\n",
            "+ (1.0 * Power68)\n",
            "+ (1.0 * Power69)\n",
            "+ (1.0 * Power70)\n",
            "+ (1.01 * Power71)\n",
            "+ (0.99 * Power72)\n",
            "+ (1.0 * Power73)\n",
            "+ (1.0 * Power74)\n",
            "+ (1.0 * Power75)\n",
            "+ (1.0 * Power76)\n",
            "+ (1.0 * Power77)\n",
            "+ (1.0 * Power78)\n",
            "+ (1.0 * Power79)\n",
            "+ (1.0 * Power80)\n",
            "+ (1.0 * Power81)\n",
            "+ (1.0 * Power82)\n",
            "+ (0.99 * Power83)\n",
            "+ (1.01 * Power84)\n",
            "+ (0.99 * Power85)\n",
            "+ (1.01 * Power86)\n",
            "+ (1.0 * Power87)\n",
            "+ (1.01 * Power88)\n",
            "+ (1.0 * Power89)\n",
            "+ (1.0 * Power90)\n",
            "+ (1.0 * Power91)\n",
            "+ (1.0 * Power92)\n",
            "+ (0.99 * Power93)\n",
            "+ (1.01 * Power94)\n",
            "+ (1.01 * Power95)\n",
            "+ (1.0 * Power96)\n",
            "+ (1.0 * Power97)\n",
            "+ (1.0 * Power98)\n",
            "+ (1.0 * Power99)\n",
            "+ (1.0 * Power100)\n"
          ]
        }
      ]
    },
    {
      "cell_type": "markdown",
      "source": [
        "As it is seen that there are many variables that include outliers and again the `Ridge Regression` was tried to avoid `overfitting` issues but result came same like `Linear Regression` did. So I will try `trimmed_var` and then PCA about the dataset"
      ],
      "metadata": {
        "id": "IG0nS7KmTJXM"
      }
    },
    {
      "cell_type": "markdown",
      "source": [
        "##KMeans Clustering"
      ],
      "metadata": {
        "id": "rZO6w10RR4GG"
      }
    },
    {
      "cell_type": "markdown",
      "source": [
        "Since there are 100 Power variables I would like to cluster the top ten variables to depict a cluster"
      ],
      "metadata": {
        "id": "A44GIApXSByZ"
      }
    },
    {
      "cell_type": "code",
      "source": [
        "from scipy.stats.mstats import trimmed_var\n",
        "from sklearn.metrics import silhouette_score\n",
        "from sklearn.cluster import KMeans\n",
        "from sklearn.decomposition import PCA"
      ],
      "metadata": {
        "id": "w7ewUXPYSAqs"
      },
      "execution_count": null,
      "outputs": []
    },
    {
      "cell_type": "code",
      "source": [
        "top_ten_var = X_train.var().sort_values().tail(10)\n",
        "\n",
        "print(f'Top ten var: {top_ten_var}')"
      ],
      "metadata": {
        "colab": {
          "base_uri": "https://localhost:8080/"
        },
        "id": "2-K38uQGTIF3",
        "outputId": "bae7758f-afcd-4df0-bac8-dad30605d6b8"
      },
      "execution_count": null,
      "outputs": [
        {
          "output_type": "stream",
          "name": "stdout",
          "text": [
            "Top ten var: Power20    1.558707e+08\n",
            "Power50    1.586643e+08\n",
            "Power30    1.591905e+08\n",
            "Power70    1.622095e+08\n",
            "Power23    1.657408e+08\n",
            "Power22    1.852261e+08\n",
            "Power19    1.956230e+08\n",
            "Power18    2.100518e+08\n",
            "Power21    2.122470e+08\n",
            "Power17    2.390794e+08\n",
            "dtype: float64\n"
          ]
        }
      ]
    },
    {
      "cell_type": "code",
      "source": [
        "fig = px.bar(\n",
        "            top_ten_var,\n",
        "            x = top_ten_var,\n",
        "            y= top_ten_var.index,\n",
        "            title=\"High Variance Features\"\n",
        ")\n",
        "\n",
        "fig.update_layout(xaxis_title = 'Variance', yaxis_title='Feature')\n",
        "fig.show();"
      ],
      "metadata": {
        "colab": {
          "base_uri": "https://localhost:8080/",
          "height": 542
        },
        "id": "LRyqAUEmUG7v",
        "outputId": "fd90eba8-e626-4a6c-befa-4785a2665564"
      },
      "execution_count": null,
      "outputs": [
        {
          "output_type": "display_data",
          "data": {
            "text/html": [
              "<html>\n",
              "<head><meta charset=\"utf-8\" /></head>\n",
              "<body>\n",
              "    <div>            <script src=\"https://cdnjs.cloudflare.com/ajax/libs/mathjax/2.7.5/MathJax.js?config=TeX-AMS-MML_SVG\"></script><script type=\"text/javascript\">if (window.MathJax && window.MathJax.Hub && window.MathJax.Hub.Config) {window.MathJax.Hub.Config({SVG: {font: \"STIX-Web\"}});}</script>                <script type=\"text/javascript\">window.PlotlyConfig = {MathJaxConfig: 'local'};</script>\n",
              "        <script charset=\"utf-8\" src=\"https://cdn.plot.ly/plotly-2.24.1.min.js\"></script>                <div id=\"eb5597b1-d9a9-4d1d-bea3-de23f57f0216\" class=\"plotly-graph-div\" style=\"height:525px; width:100%;\"></div>            <script type=\"text/javascript\">                                    window.PLOTLYENV=window.PLOTLYENV || {};                                    if (document.getElementById(\"eb5597b1-d9a9-4d1d-bea3-de23f57f0216\")) {                    Plotly.newPlot(                        \"eb5597b1-d9a9-4d1d-bea3-de23f57f0216\",                        [{\"alignmentgroup\":\"True\",\"hovertemplate\":\"x=%{x}\\u003cbr\\u003eindex=%{y}\\u003cextra\\u003e\\u003c\\u002fextra\\u003e\",\"legendgroup\":\"\",\"marker\":{\"color\":\"#636efa\",\"pattern\":{\"shape\":\"\"}},\"name\":\"\",\"offsetgroup\":\"\",\"orientation\":\"h\",\"showlegend\":false,\"textposition\":\"auto\",\"x\":[155870710.75554729,158664345.04192775,159190494.83867,162209468.65086815,165740779.14181697,185226102.95148304,195622952.31484976,210051779.63141236,212246985.46697605,239079396.39417195],\"xaxis\":\"x\",\"y\":[\"Power20\",\"Power50\",\"Power30\",\"Power70\",\"Power23\",\"Power22\",\"Power19\",\"Power18\",\"Power21\",\"Power17\"],\"yaxis\":\"y\",\"type\":\"bar\"}],                        {\"template\":{\"data\":{\"histogram2dcontour\":[{\"type\":\"histogram2dcontour\",\"colorbar\":{\"outlinewidth\":0,\"ticks\":\"\"},\"colorscale\":[[0.0,\"#0d0887\"],[0.1111111111111111,\"#46039f\"],[0.2222222222222222,\"#7201a8\"],[0.3333333333333333,\"#9c179e\"],[0.4444444444444444,\"#bd3786\"],[0.5555555555555556,\"#d8576b\"],[0.6666666666666666,\"#ed7953\"],[0.7777777777777778,\"#fb9f3a\"],[0.8888888888888888,\"#fdca26\"],[1.0,\"#f0f921\"]]}],\"choropleth\":[{\"type\":\"choropleth\",\"colorbar\":{\"outlinewidth\":0,\"ticks\":\"\"}}],\"histogram2d\":[{\"type\":\"histogram2d\",\"colorbar\":{\"outlinewidth\":0,\"ticks\":\"\"},\"colorscale\":[[0.0,\"#0d0887\"],[0.1111111111111111,\"#46039f\"],[0.2222222222222222,\"#7201a8\"],[0.3333333333333333,\"#9c179e\"],[0.4444444444444444,\"#bd3786\"],[0.5555555555555556,\"#d8576b\"],[0.6666666666666666,\"#ed7953\"],[0.7777777777777778,\"#fb9f3a\"],[0.8888888888888888,\"#fdca26\"],[1.0,\"#f0f921\"]]}],\"heatmap\":[{\"type\":\"heatmap\",\"colorbar\":{\"outlinewidth\":0,\"ticks\":\"\"},\"colorscale\":[[0.0,\"#0d0887\"],[0.1111111111111111,\"#46039f\"],[0.2222222222222222,\"#7201a8\"],[0.3333333333333333,\"#9c179e\"],[0.4444444444444444,\"#bd3786\"],[0.5555555555555556,\"#d8576b\"],[0.6666666666666666,\"#ed7953\"],[0.7777777777777778,\"#fb9f3a\"],[0.8888888888888888,\"#fdca26\"],[1.0,\"#f0f921\"]]}],\"heatmapgl\":[{\"type\":\"heatmapgl\",\"colorbar\":{\"outlinewidth\":0,\"ticks\":\"\"},\"colorscale\":[[0.0,\"#0d0887\"],[0.1111111111111111,\"#46039f\"],[0.2222222222222222,\"#7201a8\"],[0.3333333333333333,\"#9c179e\"],[0.4444444444444444,\"#bd3786\"],[0.5555555555555556,\"#d8576b\"],[0.6666666666666666,\"#ed7953\"],[0.7777777777777778,\"#fb9f3a\"],[0.8888888888888888,\"#fdca26\"],[1.0,\"#f0f921\"]]}],\"contourcarpet\":[{\"type\":\"contourcarpet\",\"colorbar\":{\"outlinewidth\":0,\"ticks\":\"\"}}],\"contour\":[{\"type\":\"contour\",\"colorbar\":{\"outlinewidth\":0,\"ticks\":\"\"},\"colorscale\":[[0.0,\"#0d0887\"],[0.1111111111111111,\"#46039f\"],[0.2222222222222222,\"#7201a8\"],[0.3333333333333333,\"#9c179e\"],[0.4444444444444444,\"#bd3786\"],[0.5555555555555556,\"#d8576b\"],[0.6666666666666666,\"#ed7953\"],[0.7777777777777778,\"#fb9f3a\"],[0.8888888888888888,\"#fdca26\"],[1.0,\"#f0f921\"]]}],\"surface\":[{\"type\":\"surface\",\"colorbar\":{\"outlinewidth\":0,\"ticks\":\"\"},\"colorscale\":[[0.0,\"#0d0887\"],[0.1111111111111111,\"#46039f\"],[0.2222222222222222,\"#7201a8\"],[0.3333333333333333,\"#9c179e\"],[0.4444444444444444,\"#bd3786\"],[0.5555555555555556,\"#d8576b\"],[0.6666666666666666,\"#ed7953\"],[0.7777777777777778,\"#fb9f3a\"],[0.8888888888888888,\"#fdca26\"],[1.0,\"#f0f921\"]]}],\"mesh3d\":[{\"type\":\"mesh3d\",\"colorbar\":{\"outlinewidth\":0,\"ticks\":\"\"}}],\"scatter\":[{\"fillpattern\":{\"fillmode\":\"overlay\",\"size\":10,\"solidity\":0.2},\"type\":\"scatter\"}],\"parcoords\":[{\"type\":\"parcoords\",\"line\":{\"colorbar\":{\"outlinewidth\":0,\"ticks\":\"\"}}}],\"scatterpolargl\":[{\"type\":\"scatterpolargl\",\"marker\":{\"colorbar\":{\"outlinewidth\":0,\"ticks\":\"\"}}}],\"bar\":[{\"error_x\":{\"color\":\"#2a3f5f\"},\"error_y\":{\"color\":\"#2a3f5f\"},\"marker\":{\"line\":{\"color\":\"#E5ECF6\",\"width\":0.5},\"pattern\":{\"fillmode\":\"overlay\",\"size\":10,\"solidity\":0.2}},\"type\":\"bar\"}],\"scattergeo\":[{\"type\":\"scattergeo\",\"marker\":{\"colorbar\":{\"outlinewidth\":0,\"ticks\":\"\"}}}],\"scatterpolar\":[{\"type\":\"scatterpolar\",\"marker\":{\"colorbar\":{\"outlinewidth\":0,\"ticks\":\"\"}}}],\"histogram\":[{\"marker\":{\"pattern\":{\"fillmode\":\"overlay\",\"size\":10,\"solidity\":0.2}},\"type\":\"histogram\"}],\"scattergl\":[{\"type\":\"scattergl\",\"marker\":{\"colorbar\":{\"outlinewidth\":0,\"ticks\":\"\"}}}],\"scatter3d\":[{\"type\":\"scatter3d\",\"line\":{\"colorbar\":{\"outlinewidth\":0,\"ticks\":\"\"}},\"marker\":{\"colorbar\":{\"outlinewidth\":0,\"ticks\":\"\"}}}],\"scattermapbox\":[{\"type\":\"scattermapbox\",\"marker\":{\"colorbar\":{\"outlinewidth\":0,\"ticks\":\"\"}}}],\"scatterternary\":[{\"type\":\"scatterternary\",\"marker\":{\"colorbar\":{\"outlinewidth\":0,\"ticks\":\"\"}}}],\"scattercarpet\":[{\"type\":\"scattercarpet\",\"marker\":{\"colorbar\":{\"outlinewidth\":0,\"ticks\":\"\"}}}],\"carpet\":[{\"aaxis\":{\"endlinecolor\":\"#2a3f5f\",\"gridcolor\":\"white\",\"linecolor\":\"white\",\"minorgridcolor\":\"white\",\"startlinecolor\":\"#2a3f5f\"},\"baxis\":{\"endlinecolor\":\"#2a3f5f\",\"gridcolor\":\"white\",\"linecolor\":\"white\",\"minorgridcolor\":\"white\",\"startlinecolor\":\"#2a3f5f\"},\"type\":\"carpet\"}],\"table\":[{\"cells\":{\"fill\":{\"color\":\"#EBF0F8\"},\"line\":{\"color\":\"white\"}},\"header\":{\"fill\":{\"color\":\"#C8D4E3\"},\"line\":{\"color\":\"white\"}},\"type\":\"table\"}],\"barpolar\":[{\"marker\":{\"line\":{\"color\":\"#E5ECF6\",\"width\":0.5},\"pattern\":{\"fillmode\":\"overlay\",\"size\":10,\"solidity\":0.2}},\"type\":\"barpolar\"}],\"pie\":[{\"automargin\":true,\"type\":\"pie\"}]},\"layout\":{\"autotypenumbers\":\"strict\",\"colorway\":[\"#636efa\",\"#EF553B\",\"#00cc96\",\"#ab63fa\",\"#FFA15A\",\"#19d3f3\",\"#FF6692\",\"#B6E880\",\"#FF97FF\",\"#FECB52\"],\"font\":{\"color\":\"#2a3f5f\"},\"hovermode\":\"closest\",\"hoverlabel\":{\"align\":\"left\"},\"paper_bgcolor\":\"white\",\"plot_bgcolor\":\"#E5ECF6\",\"polar\":{\"bgcolor\":\"#E5ECF6\",\"angularaxis\":{\"gridcolor\":\"white\",\"linecolor\":\"white\",\"ticks\":\"\"},\"radialaxis\":{\"gridcolor\":\"white\",\"linecolor\":\"white\",\"ticks\":\"\"}},\"ternary\":{\"bgcolor\":\"#E5ECF6\",\"aaxis\":{\"gridcolor\":\"white\",\"linecolor\":\"white\",\"ticks\":\"\"},\"baxis\":{\"gridcolor\":\"white\",\"linecolor\":\"white\",\"ticks\":\"\"},\"caxis\":{\"gridcolor\":\"white\",\"linecolor\":\"white\",\"ticks\":\"\"}},\"coloraxis\":{\"colorbar\":{\"outlinewidth\":0,\"ticks\":\"\"}},\"colorscale\":{\"sequential\":[[0.0,\"#0d0887\"],[0.1111111111111111,\"#46039f\"],[0.2222222222222222,\"#7201a8\"],[0.3333333333333333,\"#9c179e\"],[0.4444444444444444,\"#bd3786\"],[0.5555555555555556,\"#d8576b\"],[0.6666666666666666,\"#ed7953\"],[0.7777777777777778,\"#fb9f3a\"],[0.8888888888888888,\"#fdca26\"],[1.0,\"#f0f921\"]],\"sequentialminus\":[[0.0,\"#0d0887\"],[0.1111111111111111,\"#46039f\"],[0.2222222222222222,\"#7201a8\"],[0.3333333333333333,\"#9c179e\"],[0.4444444444444444,\"#bd3786\"],[0.5555555555555556,\"#d8576b\"],[0.6666666666666666,\"#ed7953\"],[0.7777777777777778,\"#fb9f3a\"],[0.8888888888888888,\"#fdca26\"],[1.0,\"#f0f921\"]],\"diverging\":[[0,\"#8e0152\"],[0.1,\"#c51b7d\"],[0.2,\"#de77ae\"],[0.3,\"#f1b6da\"],[0.4,\"#fde0ef\"],[0.5,\"#f7f7f7\"],[0.6,\"#e6f5d0\"],[0.7,\"#b8e186\"],[0.8,\"#7fbc41\"],[0.9,\"#4d9221\"],[1,\"#276419\"]]},\"xaxis\":{\"gridcolor\":\"white\",\"linecolor\":\"white\",\"ticks\":\"\",\"title\":{\"standoff\":15},\"zerolinecolor\":\"white\",\"automargin\":true,\"zerolinewidth\":2},\"yaxis\":{\"gridcolor\":\"white\",\"linecolor\":\"white\",\"ticks\":\"\",\"title\":{\"standoff\":15},\"zerolinecolor\":\"white\",\"automargin\":true,\"zerolinewidth\":2},\"scene\":{\"xaxis\":{\"backgroundcolor\":\"#E5ECF6\",\"gridcolor\":\"white\",\"linecolor\":\"white\",\"showbackground\":true,\"ticks\":\"\",\"zerolinecolor\":\"white\",\"gridwidth\":2},\"yaxis\":{\"backgroundcolor\":\"#E5ECF6\",\"gridcolor\":\"white\",\"linecolor\":\"white\",\"showbackground\":true,\"ticks\":\"\",\"zerolinecolor\":\"white\",\"gridwidth\":2},\"zaxis\":{\"backgroundcolor\":\"#E5ECF6\",\"gridcolor\":\"white\",\"linecolor\":\"white\",\"showbackground\":true,\"ticks\":\"\",\"zerolinecolor\":\"white\",\"gridwidth\":2}},\"shapedefaults\":{\"line\":{\"color\":\"#2a3f5f\"}},\"annotationdefaults\":{\"arrowcolor\":\"#2a3f5f\",\"arrowhead\":0,\"arrowwidth\":1},\"geo\":{\"bgcolor\":\"white\",\"landcolor\":\"#E5ECF6\",\"subunitcolor\":\"white\",\"showland\":true,\"showlakes\":true,\"lakecolor\":\"white\"},\"title\":{\"x\":0.05},\"mapbox\":{\"style\":\"light\"}}},\"xaxis\":{\"anchor\":\"y\",\"domain\":[0.0,1.0],\"title\":{\"text\":\"Variance\"}},\"yaxis\":{\"anchor\":\"x\",\"domain\":[0.0,1.0],\"title\":{\"text\":\"Feature\"}},\"legend\":{\"tracegroupgap\":0},\"title\":{\"text\":\"High Variance Features\"},\"barmode\":\"relative\"},                        {\"responsive\": true}                    ).then(function(){\n",
              "                            \n",
              "var gd = document.getElementById('eb5597b1-d9a9-4d1d-bea3-de23f57f0216');\n",
              "var x = new MutationObserver(function (mutations, observer) {{\n",
              "        var display = window.getComputedStyle(gd).display;\n",
              "        if (!display || display === 'none') {{\n",
              "            console.log([gd, 'removed!']);\n",
              "            Plotly.purge(gd);\n",
              "            observer.disconnect();\n",
              "        }}\n",
              "}});\n",
              "\n",
              "// Listen for the removal of the full notebook cells\n",
              "var notebookContainer = gd.closest('#notebook-container');\n",
              "if (notebookContainer) {{\n",
              "    x.observe(notebookContainer, {childList: true});\n",
              "}}\n",
              "\n",
              "// Listen for the clearing of the current output cell\n",
              "var outputEl = gd.closest('.output');\n",
              "if (outputEl) {{\n",
              "    x.observe(outputEl, {childList: true});\n",
              "}}\n",
              "\n",
              "                        })                };                            </script>        </div>\n",
              "</body>\n",
              "</html>"
            ]
          },
          "metadata": {}
        }
      ]
    },
    {
      "cell_type": "code",
      "source": [
        "#Let's trim it down\n",
        "top_ten_trim_var = X_train.apply(trimmed_var, limits=(0.3, 0.3)).sort_values().tail(10) #Just cropped off top 30% and the bottom 30%\n",
        "\n",
        "print(f'Top ten trimmed var: {top_ten_trim_var}')"
      ],
      "metadata": {
        "colab": {
          "base_uri": "https://localhost:8080/"
        },
        "id": "194N4KMNTB9o",
        "outputId": "ab141770-14bf-4540-e20c-4e6170284d89"
      },
      "execution_count": null,
      "outputs": [
        {
          "output_type": "stream",
          "name": "stdout",
          "text": [
            "Top ten trimmed var: Power42    3.227605e+07\n",
            "Power43    3.277632e+07\n",
            "Power78    3.639889e+07\n",
            "Power18    3.752039e+07\n",
            "Power30    4.243397e+07\n",
            "Power70    4.460393e+07\n",
            "Power19    4.523394e+07\n",
            "Power79    5.400735e+07\n",
            "Power50    5.472228e+07\n",
            "Power17    7.535086e+07\n",
            "dtype: float64\n"
          ]
        }
      ]
    },
    {
      "cell_type": "code",
      "source": [
        "fig = px.bar(\n",
        "            top_ten_trim_var,\n",
        "            x = top_ten_trim_var,\n",
        "            y= top_ten_trim_var.index,\n",
        "            title=\"Trimmed Variance Features\"\n",
        ")\n",
        "\n",
        "fig.update_layout(xaxis_title = 'Trimmed Variance', yaxis_title='Feature')\n",
        "fig.show();"
      ],
      "metadata": {
        "colab": {
          "base_uri": "https://localhost:8080/",
          "height": 542
        },
        "id": "caZQLRRTV3Nx",
        "outputId": "929337bb-f3b9-418d-a212-316941c98e7e"
      },
      "execution_count": null,
      "outputs": [
        {
          "output_type": "display_data",
          "data": {
            "text/html": [
              "<html>\n",
              "<head><meta charset=\"utf-8\" /></head>\n",
              "<body>\n",
              "    <div>            <script src=\"https://cdnjs.cloudflare.com/ajax/libs/mathjax/2.7.5/MathJax.js?config=TeX-AMS-MML_SVG\"></script><script type=\"text/javascript\">if (window.MathJax && window.MathJax.Hub && window.MathJax.Hub.Config) {window.MathJax.Hub.Config({SVG: {font: \"STIX-Web\"}});}</script>                <script type=\"text/javascript\">window.PlotlyConfig = {MathJaxConfig: 'local'};</script>\n",
              "        <script charset=\"utf-8\" src=\"https://cdn.plot.ly/plotly-2.24.1.min.js\"></script>                <div id=\"22ce7569-828a-48cd-ae0d-ce2f8c6867f8\" class=\"plotly-graph-div\" style=\"height:525px; width:100%;\"></div>            <script type=\"text/javascript\">                                    window.PLOTLYENV=window.PLOTLYENV || {};                                    if (document.getElementById(\"22ce7569-828a-48cd-ae0d-ce2f8c6867f8\")) {                    Plotly.newPlot(                        \"22ce7569-828a-48cd-ae0d-ce2f8c6867f8\",                        [{\"alignmentgroup\":\"True\",\"hovertemplate\":\"x=%{x}\\u003cbr\\u003eindex=%{y}\\u003cextra\\u003e\\u003c\\u002fextra\\u003e\",\"legendgroup\":\"\",\"marker\":{\"color\":\"#636efa\",\"pattern\":{\"shape\":\"\"}},\"name\":\"\",\"offsetgroup\":\"\",\"orientation\":\"h\",\"showlegend\":false,\"textposition\":\"auto\",\"x\":[32276049.933762386,32776324.530181408,36398893.93422923,37520385.151991546,42433965.05054485,44603932.7371615,45233936.289793886,54007347.5743603,54722275.47424592,75350859.03698406],\"xaxis\":\"x\",\"y\":[\"Power42\",\"Power43\",\"Power78\",\"Power18\",\"Power30\",\"Power70\",\"Power19\",\"Power79\",\"Power50\",\"Power17\"],\"yaxis\":\"y\",\"type\":\"bar\"}],                        {\"template\":{\"data\":{\"histogram2dcontour\":[{\"type\":\"histogram2dcontour\",\"colorbar\":{\"outlinewidth\":0,\"ticks\":\"\"},\"colorscale\":[[0.0,\"#0d0887\"],[0.1111111111111111,\"#46039f\"],[0.2222222222222222,\"#7201a8\"],[0.3333333333333333,\"#9c179e\"],[0.4444444444444444,\"#bd3786\"],[0.5555555555555556,\"#d8576b\"],[0.6666666666666666,\"#ed7953\"],[0.7777777777777778,\"#fb9f3a\"],[0.8888888888888888,\"#fdca26\"],[1.0,\"#f0f921\"]]}],\"choropleth\":[{\"type\":\"choropleth\",\"colorbar\":{\"outlinewidth\":0,\"ticks\":\"\"}}],\"histogram2d\":[{\"type\":\"histogram2d\",\"colorbar\":{\"outlinewidth\":0,\"ticks\":\"\"},\"colorscale\":[[0.0,\"#0d0887\"],[0.1111111111111111,\"#46039f\"],[0.2222222222222222,\"#7201a8\"],[0.3333333333333333,\"#9c179e\"],[0.4444444444444444,\"#bd3786\"],[0.5555555555555556,\"#d8576b\"],[0.6666666666666666,\"#ed7953\"],[0.7777777777777778,\"#fb9f3a\"],[0.8888888888888888,\"#fdca26\"],[1.0,\"#f0f921\"]]}],\"heatmap\":[{\"type\":\"heatmap\",\"colorbar\":{\"outlinewidth\":0,\"ticks\":\"\"},\"colorscale\":[[0.0,\"#0d0887\"],[0.1111111111111111,\"#46039f\"],[0.2222222222222222,\"#7201a8\"],[0.3333333333333333,\"#9c179e\"],[0.4444444444444444,\"#bd3786\"],[0.5555555555555556,\"#d8576b\"],[0.6666666666666666,\"#ed7953\"],[0.7777777777777778,\"#fb9f3a\"],[0.8888888888888888,\"#fdca26\"],[1.0,\"#f0f921\"]]}],\"heatmapgl\":[{\"type\":\"heatmapgl\",\"colorbar\":{\"outlinewidth\":0,\"ticks\":\"\"},\"colorscale\":[[0.0,\"#0d0887\"],[0.1111111111111111,\"#46039f\"],[0.2222222222222222,\"#7201a8\"],[0.3333333333333333,\"#9c179e\"],[0.4444444444444444,\"#bd3786\"],[0.5555555555555556,\"#d8576b\"],[0.6666666666666666,\"#ed7953\"],[0.7777777777777778,\"#fb9f3a\"],[0.8888888888888888,\"#fdca26\"],[1.0,\"#f0f921\"]]}],\"contourcarpet\":[{\"type\":\"contourcarpet\",\"colorbar\":{\"outlinewidth\":0,\"ticks\":\"\"}}],\"contour\":[{\"type\":\"contour\",\"colorbar\":{\"outlinewidth\":0,\"ticks\":\"\"},\"colorscale\":[[0.0,\"#0d0887\"],[0.1111111111111111,\"#46039f\"],[0.2222222222222222,\"#7201a8\"],[0.3333333333333333,\"#9c179e\"],[0.4444444444444444,\"#bd3786\"],[0.5555555555555556,\"#d8576b\"],[0.6666666666666666,\"#ed7953\"],[0.7777777777777778,\"#fb9f3a\"],[0.8888888888888888,\"#fdca26\"],[1.0,\"#f0f921\"]]}],\"surface\":[{\"type\":\"surface\",\"colorbar\":{\"outlinewidth\":0,\"ticks\":\"\"},\"colorscale\":[[0.0,\"#0d0887\"],[0.1111111111111111,\"#46039f\"],[0.2222222222222222,\"#7201a8\"],[0.3333333333333333,\"#9c179e\"],[0.4444444444444444,\"#bd3786\"],[0.5555555555555556,\"#d8576b\"],[0.6666666666666666,\"#ed7953\"],[0.7777777777777778,\"#fb9f3a\"],[0.8888888888888888,\"#fdca26\"],[1.0,\"#f0f921\"]]}],\"mesh3d\":[{\"type\":\"mesh3d\",\"colorbar\":{\"outlinewidth\":0,\"ticks\":\"\"}}],\"scatter\":[{\"fillpattern\":{\"fillmode\":\"overlay\",\"size\":10,\"solidity\":0.2},\"type\":\"scatter\"}],\"parcoords\":[{\"type\":\"parcoords\",\"line\":{\"colorbar\":{\"outlinewidth\":0,\"ticks\":\"\"}}}],\"scatterpolargl\":[{\"type\":\"scatterpolargl\",\"marker\":{\"colorbar\":{\"outlinewidth\":0,\"ticks\":\"\"}}}],\"bar\":[{\"error_x\":{\"color\":\"#2a3f5f\"},\"error_y\":{\"color\":\"#2a3f5f\"},\"marker\":{\"line\":{\"color\":\"#E5ECF6\",\"width\":0.5},\"pattern\":{\"fillmode\":\"overlay\",\"size\":10,\"solidity\":0.2}},\"type\":\"bar\"}],\"scattergeo\":[{\"type\":\"scattergeo\",\"marker\":{\"colorbar\":{\"outlinewidth\":0,\"ticks\":\"\"}}}],\"scatterpolar\":[{\"type\":\"scatterpolar\",\"marker\":{\"colorbar\":{\"outlinewidth\":0,\"ticks\":\"\"}}}],\"histogram\":[{\"marker\":{\"pattern\":{\"fillmode\":\"overlay\",\"size\":10,\"solidity\":0.2}},\"type\":\"histogram\"}],\"scattergl\":[{\"type\":\"scattergl\",\"marker\":{\"colorbar\":{\"outlinewidth\":0,\"ticks\":\"\"}}}],\"scatter3d\":[{\"type\":\"scatter3d\",\"line\":{\"colorbar\":{\"outlinewidth\":0,\"ticks\":\"\"}},\"marker\":{\"colorbar\":{\"outlinewidth\":0,\"ticks\":\"\"}}}],\"scattermapbox\":[{\"type\":\"scattermapbox\",\"marker\":{\"colorbar\":{\"outlinewidth\":0,\"ticks\":\"\"}}}],\"scatterternary\":[{\"type\":\"scatterternary\",\"marker\":{\"colorbar\":{\"outlinewidth\":0,\"ticks\":\"\"}}}],\"scattercarpet\":[{\"type\":\"scattercarpet\",\"marker\":{\"colorbar\":{\"outlinewidth\":0,\"ticks\":\"\"}}}],\"carpet\":[{\"aaxis\":{\"endlinecolor\":\"#2a3f5f\",\"gridcolor\":\"white\",\"linecolor\":\"white\",\"minorgridcolor\":\"white\",\"startlinecolor\":\"#2a3f5f\"},\"baxis\":{\"endlinecolor\":\"#2a3f5f\",\"gridcolor\":\"white\",\"linecolor\":\"white\",\"minorgridcolor\":\"white\",\"startlinecolor\":\"#2a3f5f\"},\"type\":\"carpet\"}],\"table\":[{\"cells\":{\"fill\":{\"color\":\"#EBF0F8\"},\"line\":{\"color\":\"white\"}},\"header\":{\"fill\":{\"color\":\"#C8D4E3\"},\"line\":{\"color\":\"white\"}},\"type\":\"table\"}],\"barpolar\":[{\"marker\":{\"line\":{\"color\":\"#E5ECF6\",\"width\":0.5},\"pattern\":{\"fillmode\":\"overlay\",\"size\":10,\"solidity\":0.2}},\"type\":\"barpolar\"}],\"pie\":[{\"automargin\":true,\"type\":\"pie\"}]},\"layout\":{\"autotypenumbers\":\"strict\",\"colorway\":[\"#636efa\",\"#EF553B\",\"#00cc96\",\"#ab63fa\",\"#FFA15A\",\"#19d3f3\",\"#FF6692\",\"#B6E880\",\"#FF97FF\",\"#FECB52\"],\"font\":{\"color\":\"#2a3f5f\"},\"hovermode\":\"closest\",\"hoverlabel\":{\"align\":\"left\"},\"paper_bgcolor\":\"white\",\"plot_bgcolor\":\"#E5ECF6\",\"polar\":{\"bgcolor\":\"#E5ECF6\",\"angularaxis\":{\"gridcolor\":\"white\",\"linecolor\":\"white\",\"ticks\":\"\"},\"radialaxis\":{\"gridcolor\":\"white\",\"linecolor\":\"white\",\"ticks\":\"\"}},\"ternary\":{\"bgcolor\":\"#E5ECF6\",\"aaxis\":{\"gridcolor\":\"white\",\"linecolor\":\"white\",\"ticks\":\"\"},\"baxis\":{\"gridcolor\":\"white\",\"linecolor\":\"white\",\"ticks\":\"\"},\"caxis\":{\"gridcolor\":\"white\",\"linecolor\":\"white\",\"ticks\":\"\"}},\"coloraxis\":{\"colorbar\":{\"outlinewidth\":0,\"ticks\":\"\"}},\"colorscale\":{\"sequential\":[[0.0,\"#0d0887\"],[0.1111111111111111,\"#46039f\"],[0.2222222222222222,\"#7201a8\"],[0.3333333333333333,\"#9c179e\"],[0.4444444444444444,\"#bd3786\"],[0.5555555555555556,\"#d8576b\"],[0.6666666666666666,\"#ed7953\"],[0.7777777777777778,\"#fb9f3a\"],[0.8888888888888888,\"#fdca26\"],[1.0,\"#f0f921\"]],\"sequentialminus\":[[0.0,\"#0d0887\"],[0.1111111111111111,\"#46039f\"],[0.2222222222222222,\"#7201a8\"],[0.3333333333333333,\"#9c179e\"],[0.4444444444444444,\"#bd3786\"],[0.5555555555555556,\"#d8576b\"],[0.6666666666666666,\"#ed7953\"],[0.7777777777777778,\"#fb9f3a\"],[0.8888888888888888,\"#fdca26\"],[1.0,\"#f0f921\"]],\"diverging\":[[0,\"#8e0152\"],[0.1,\"#c51b7d\"],[0.2,\"#de77ae\"],[0.3,\"#f1b6da\"],[0.4,\"#fde0ef\"],[0.5,\"#f7f7f7\"],[0.6,\"#e6f5d0\"],[0.7,\"#b8e186\"],[0.8,\"#7fbc41\"],[0.9,\"#4d9221\"],[1,\"#276419\"]]},\"xaxis\":{\"gridcolor\":\"white\",\"linecolor\":\"white\",\"ticks\":\"\",\"title\":{\"standoff\":15},\"zerolinecolor\":\"white\",\"automargin\":true,\"zerolinewidth\":2},\"yaxis\":{\"gridcolor\":\"white\",\"linecolor\":\"white\",\"ticks\":\"\",\"title\":{\"standoff\":15},\"zerolinecolor\":\"white\",\"automargin\":true,\"zerolinewidth\":2},\"scene\":{\"xaxis\":{\"backgroundcolor\":\"#E5ECF6\",\"gridcolor\":\"white\",\"linecolor\":\"white\",\"showbackground\":true,\"ticks\":\"\",\"zerolinecolor\":\"white\",\"gridwidth\":2},\"yaxis\":{\"backgroundcolor\":\"#E5ECF6\",\"gridcolor\":\"white\",\"linecolor\":\"white\",\"showbackground\":true,\"ticks\":\"\",\"zerolinecolor\":\"white\",\"gridwidth\":2},\"zaxis\":{\"backgroundcolor\":\"#E5ECF6\",\"gridcolor\":\"white\",\"linecolor\":\"white\",\"showbackground\":true,\"ticks\":\"\",\"zerolinecolor\":\"white\",\"gridwidth\":2}},\"shapedefaults\":{\"line\":{\"color\":\"#2a3f5f\"}},\"annotationdefaults\":{\"arrowcolor\":\"#2a3f5f\",\"arrowhead\":0,\"arrowwidth\":1},\"geo\":{\"bgcolor\":\"white\",\"landcolor\":\"#E5ECF6\",\"subunitcolor\":\"white\",\"showland\":true,\"showlakes\":true,\"lakecolor\":\"white\"},\"title\":{\"x\":0.05},\"mapbox\":{\"style\":\"light\"}}},\"xaxis\":{\"anchor\":\"y\",\"domain\":[0.0,1.0],\"title\":{\"text\":\"Trimmed Variance\"}},\"yaxis\":{\"anchor\":\"x\",\"domain\":[0.0,1.0],\"title\":{\"text\":\"Feature\"}},\"legend\":{\"tracegroupgap\":0},\"title\":{\"text\":\"Trimmed Variance Features\"},\"barmode\":\"relative\"},                        {\"responsive\": true}                    ).then(function(){\n",
              "                            \n",
              "var gd = document.getElementById('22ce7569-828a-48cd-ae0d-ce2f8c6867f8');\n",
              "var x = new MutationObserver(function (mutations, observer) {{\n",
              "        var display = window.getComputedStyle(gd).display;\n",
              "        if (!display || display === 'none') {{\n",
              "            console.log([gd, 'removed!']);\n",
              "            Plotly.purge(gd);\n",
              "            observer.disconnect();\n",
              "        }}\n",
              "}});\n",
              "\n",
              "// Listen for the removal of the full notebook cells\n",
              "var notebookContainer = gd.closest('#notebook-container');\n",
              "if (notebookContainer) {{\n",
              "    x.observe(notebookContainer, {childList: true});\n",
              "}}\n",
              "\n",
              "// Listen for the clearing of the current output cell\n",
              "var outputEl = gd.closest('.output');\n",
              "if (outputEl) {{\n",
              "    x.observe(outputEl, {childList: true});\n",
              "}}\n",
              "\n",
              "                        })                };                            </script>        </div>\n",
              "</body>\n",
              "</html>"
            ]
          },
          "metadata": {}
        }
      ]
    },
    {
      "cell_type": "code",
      "source": [
        "high_var_cols = top_ten_trim_var.index.to_list()\n",
        "\n",
        "high_var_cols"
      ],
      "metadata": {
        "colab": {
          "base_uri": "https://localhost:8080/"
        },
        "id": "VhxNRYg5WAiE",
        "outputId": "e1e09f5c-f1d9-4746-d3e9-80859673806c"
      },
      "execution_count": null,
      "outputs": [
        {
          "output_type": "execute_result",
          "data": {
            "text/plain": [
              "['Power42',\n",
              " 'Power43',\n",
              " 'Power78',\n",
              " 'Power18',\n",
              " 'Power30',\n",
              " 'Power70',\n",
              " 'Power19',\n",
              " 'Power79',\n",
              " 'Power50',\n",
              " 'Power17']"
            ]
          },
          "metadata": {},
          "execution_count": 27
        }
      ]
    },
    {
      "cell_type": "markdown",
      "source": [
        "Let's work with these 10 columns and see what will happen in the Ridge Regression way."
      ],
      "metadata": {
        "id": "-Rrmk3lKaJ-d"
      }
    },
    {
      "cell_type": "code",
      "source": [
        "X = X_train[high_var_cols]\n",
        "X.head()"
      ],
      "metadata": {
        "colab": {
          "base_uri": "https://localhost:8080/",
          "height": 206
        },
        "id": "4Sh5Qg7zWgx5",
        "outputId": "d7af5e70-c1cc-42ee-c593-8ba937f25956"
      },
      "execution_count": null,
      "outputs": [
        {
          "output_type": "execute_result",
          "data": {
            "text/plain": [
              "    Power42   Power43   Power78    Power18   Power30   Power70    Power19  \\\n",
              "0  67250.60  64731.04  57491.68  103003.70  74372.83  60488.25   98713.47   \n",
              "1  97505.26  94300.29  51155.51   63656.01  64849.27  76592.95   61215.49   \n",
              "2  74260.46  72565.81  65424.77  102186.80  90679.77  56143.24   98825.17   \n",
              "3  89167.58  90204.59  62069.53  102873.42  92959.27  61127.73  102093.07   \n",
              "4  70526.33  69133.89  49958.54   64813.94  60233.46  78548.27   61371.83   \n",
              "\n",
              "    Power79   Power50    Power17  \n",
              "0  58430.15  81699.47  107765.85  \n",
              "1  53776.98  90283.14   70713.56  \n",
              "2  65144.99  60922.43  107707.85  \n",
              "3  61170.90  65561.07  107565.36  \n",
              "4  50234.78  56427.79   73529.68  "
            ],
            "text/html": [
              "\n",
              "  <div id=\"df-dd759c89-741f-423a-bad1-0925a82c0c49\" class=\"colab-df-container\">\n",
              "    <div>\n",
              "<style scoped>\n",
              "    .dataframe tbody tr th:only-of-type {\n",
              "        vertical-align: middle;\n",
              "    }\n",
              "\n",
              "    .dataframe tbody tr th {\n",
              "        vertical-align: top;\n",
              "    }\n",
              "\n",
              "    .dataframe thead th {\n",
              "        text-align: right;\n",
              "    }\n",
              "</style>\n",
              "<table border=\"1\" class=\"dataframe\">\n",
              "  <thead>\n",
              "    <tr style=\"text-align: right;\">\n",
              "      <th></th>\n",
              "      <th>Power42</th>\n",
              "      <th>Power43</th>\n",
              "      <th>Power78</th>\n",
              "      <th>Power18</th>\n",
              "      <th>Power30</th>\n",
              "      <th>Power70</th>\n",
              "      <th>Power19</th>\n",
              "      <th>Power79</th>\n",
              "      <th>Power50</th>\n",
              "      <th>Power17</th>\n",
              "    </tr>\n",
              "  </thead>\n",
              "  <tbody>\n",
              "    <tr>\n",
              "      <th>0</th>\n",
              "      <td>67250.60</td>\n",
              "      <td>64731.04</td>\n",
              "      <td>57491.68</td>\n",
              "      <td>103003.70</td>\n",
              "      <td>74372.83</td>\n",
              "      <td>60488.25</td>\n",
              "      <td>98713.47</td>\n",
              "      <td>58430.15</td>\n",
              "      <td>81699.47</td>\n",
              "      <td>107765.85</td>\n",
              "    </tr>\n",
              "    <tr>\n",
              "      <th>1</th>\n",
              "      <td>97505.26</td>\n",
              "      <td>94300.29</td>\n",
              "      <td>51155.51</td>\n",
              "      <td>63656.01</td>\n",
              "      <td>64849.27</td>\n",
              "      <td>76592.95</td>\n",
              "      <td>61215.49</td>\n",
              "      <td>53776.98</td>\n",
              "      <td>90283.14</td>\n",
              "      <td>70713.56</td>\n",
              "    </tr>\n",
              "    <tr>\n",
              "      <th>2</th>\n",
              "      <td>74260.46</td>\n",
              "      <td>72565.81</td>\n",
              "      <td>65424.77</td>\n",
              "      <td>102186.80</td>\n",
              "      <td>90679.77</td>\n",
              "      <td>56143.24</td>\n",
              "      <td>98825.17</td>\n",
              "      <td>65144.99</td>\n",
              "      <td>60922.43</td>\n",
              "      <td>107707.85</td>\n",
              "    </tr>\n",
              "    <tr>\n",
              "      <th>3</th>\n",
              "      <td>89167.58</td>\n",
              "      <td>90204.59</td>\n",
              "      <td>62069.53</td>\n",
              "      <td>102873.42</td>\n",
              "      <td>92959.27</td>\n",
              "      <td>61127.73</td>\n",
              "      <td>102093.07</td>\n",
              "      <td>61170.90</td>\n",
              "      <td>65561.07</td>\n",
              "      <td>107565.36</td>\n",
              "    </tr>\n",
              "    <tr>\n",
              "      <th>4</th>\n",
              "      <td>70526.33</td>\n",
              "      <td>69133.89</td>\n",
              "      <td>49958.54</td>\n",
              "      <td>64813.94</td>\n",
              "      <td>60233.46</td>\n",
              "      <td>78548.27</td>\n",
              "      <td>61371.83</td>\n",
              "      <td>50234.78</td>\n",
              "      <td>56427.79</td>\n",
              "      <td>73529.68</td>\n",
              "    </tr>\n",
              "  </tbody>\n",
              "</table>\n",
              "</div>\n",
              "    <div class=\"colab-df-buttons\">\n",
              "\n",
              "  <div class=\"colab-df-container\">\n",
              "    <button class=\"colab-df-convert\" onclick=\"convertToInteractive('df-dd759c89-741f-423a-bad1-0925a82c0c49')\"\n",
              "            title=\"Convert this dataframe to an interactive table.\"\n",
              "            style=\"display:none;\">\n",
              "\n",
              "  <svg xmlns=\"http://www.w3.org/2000/svg\" height=\"24px\" viewBox=\"0 -960 960 960\">\n",
              "    <path d=\"M120-120v-720h720v720H120Zm60-500h600v-160H180v160Zm220 220h160v-160H400v160Zm0 220h160v-160H400v160ZM180-400h160v-160H180v160Zm440 0h160v-160H620v160ZM180-180h160v-160H180v160Zm440 0h160v-160H620v160Z\"/>\n",
              "  </svg>\n",
              "    </button>\n",
              "\n",
              "  <style>\n",
              "    .colab-df-container {\n",
              "      display:flex;\n",
              "      gap: 12px;\n",
              "    }\n",
              "\n",
              "    .colab-df-convert {\n",
              "      background-color: #E8F0FE;\n",
              "      border: none;\n",
              "      border-radius: 50%;\n",
              "      cursor: pointer;\n",
              "      display: none;\n",
              "      fill: #1967D2;\n",
              "      height: 32px;\n",
              "      padding: 0 0 0 0;\n",
              "      width: 32px;\n",
              "    }\n",
              "\n",
              "    .colab-df-convert:hover {\n",
              "      background-color: #E2EBFA;\n",
              "      box-shadow: 0px 1px 2px rgba(60, 64, 67, 0.3), 0px 1px 3px 1px rgba(60, 64, 67, 0.15);\n",
              "      fill: #174EA6;\n",
              "    }\n",
              "\n",
              "    .colab-df-buttons div {\n",
              "      margin-bottom: 4px;\n",
              "    }\n",
              "\n",
              "    [theme=dark] .colab-df-convert {\n",
              "      background-color: #3B4455;\n",
              "      fill: #D2E3FC;\n",
              "    }\n",
              "\n",
              "    [theme=dark] .colab-df-convert:hover {\n",
              "      background-color: #434B5C;\n",
              "      box-shadow: 0px 1px 3px 1px rgba(0, 0, 0, 0.15);\n",
              "      filter: drop-shadow(0px 1px 2px rgba(0, 0, 0, 0.3));\n",
              "      fill: #FFFFFF;\n",
              "    }\n",
              "  </style>\n",
              "\n",
              "    <script>\n",
              "      const buttonEl =\n",
              "        document.querySelector('#df-dd759c89-741f-423a-bad1-0925a82c0c49 button.colab-df-convert');\n",
              "      buttonEl.style.display =\n",
              "        google.colab.kernel.accessAllowed ? 'block' : 'none';\n",
              "\n",
              "      async function convertToInteractive(key) {\n",
              "        const element = document.querySelector('#df-dd759c89-741f-423a-bad1-0925a82c0c49');\n",
              "        const dataTable =\n",
              "          await google.colab.kernel.invokeFunction('convertToInteractive',\n",
              "                                                    [key], {});\n",
              "        if (!dataTable) return;\n",
              "\n",
              "        const docLinkHtml = 'Like what you see? Visit the ' +\n",
              "          '<a target=\"_blank\" href=https://colab.research.google.com/notebooks/data_table.ipynb>data table notebook</a>'\n",
              "          + ' to learn more about interactive tables.';\n",
              "        element.innerHTML = '';\n",
              "        dataTable['output_type'] = 'display_data';\n",
              "        await google.colab.output.renderOutput(dataTable, element);\n",
              "        const docLink = document.createElement('div');\n",
              "        docLink.innerHTML = docLinkHtml;\n",
              "        element.appendChild(docLink);\n",
              "      }\n",
              "    </script>\n",
              "  </div>\n",
              "\n",
              "\n",
              "<div id=\"df-b8fe5a65-2d85-4377-8318-9eb4a957e2a9\">\n",
              "  <button class=\"colab-df-quickchart\" onclick=\"quickchart('df-b8fe5a65-2d85-4377-8318-9eb4a957e2a9')\"\n",
              "            title=\"Suggest charts\"\n",
              "            style=\"display:none;\">\n",
              "\n",
              "<svg xmlns=\"http://www.w3.org/2000/svg\" height=\"24px\"viewBox=\"0 0 24 24\"\n",
              "     width=\"24px\">\n",
              "    <g>\n",
              "        <path d=\"M19 3H5c-1.1 0-2 .9-2 2v14c0 1.1.9 2 2 2h14c1.1 0 2-.9 2-2V5c0-1.1-.9-2-2-2zM9 17H7v-7h2v7zm4 0h-2V7h2v10zm4 0h-2v-4h2v4z\"/>\n",
              "    </g>\n",
              "</svg>\n",
              "  </button>\n",
              "\n",
              "<style>\n",
              "  .colab-df-quickchart {\n",
              "      --bg-color: #E8F0FE;\n",
              "      --fill-color: #1967D2;\n",
              "      --hover-bg-color: #E2EBFA;\n",
              "      --hover-fill-color: #174EA6;\n",
              "      --disabled-fill-color: #AAA;\n",
              "      --disabled-bg-color: #DDD;\n",
              "  }\n",
              "\n",
              "  [theme=dark] .colab-df-quickchart {\n",
              "      --bg-color: #3B4455;\n",
              "      --fill-color: #D2E3FC;\n",
              "      --hover-bg-color: #434B5C;\n",
              "      --hover-fill-color: #FFFFFF;\n",
              "      --disabled-bg-color: #3B4455;\n",
              "      --disabled-fill-color: #666;\n",
              "  }\n",
              "\n",
              "  .colab-df-quickchart {\n",
              "    background-color: var(--bg-color);\n",
              "    border: none;\n",
              "    border-radius: 50%;\n",
              "    cursor: pointer;\n",
              "    display: none;\n",
              "    fill: var(--fill-color);\n",
              "    height: 32px;\n",
              "    padding: 0;\n",
              "    width: 32px;\n",
              "  }\n",
              "\n",
              "  .colab-df-quickchart:hover {\n",
              "    background-color: var(--hover-bg-color);\n",
              "    box-shadow: 0 1px 2px rgba(60, 64, 67, 0.3), 0 1px 3px 1px rgba(60, 64, 67, 0.15);\n",
              "    fill: var(--button-hover-fill-color);\n",
              "  }\n",
              "\n",
              "  .colab-df-quickchart-complete:disabled,\n",
              "  .colab-df-quickchart-complete:disabled:hover {\n",
              "    background-color: var(--disabled-bg-color);\n",
              "    fill: var(--disabled-fill-color);\n",
              "    box-shadow: none;\n",
              "  }\n",
              "\n",
              "  .colab-df-spinner {\n",
              "    border: 2px solid var(--fill-color);\n",
              "    border-color: transparent;\n",
              "    border-bottom-color: var(--fill-color);\n",
              "    animation:\n",
              "      spin 1s steps(1) infinite;\n",
              "  }\n",
              "\n",
              "  @keyframes spin {\n",
              "    0% {\n",
              "      border-color: transparent;\n",
              "      border-bottom-color: var(--fill-color);\n",
              "      border-left-color: var(--fill-color);\n",
              "    }\n",
              "    20% {\n",
              "      border-color: transparent;\n",
              "      border-left-color: var(--fill-color);\n",
              "      border-top-color: var(--fill-color);\n",
              "    }\n",
              "    30% {\n",
              "      border-color: transparent;\n",
              "      border-left-color: var(--fill-color);\n",
              "      border-top-color: var(--fill-color);\n",
              "      border-right-color: var(--fill-color);\n",
              "    }\n",
              "    40% {\n",
              "      border-color: transparent;\n",
              "      border-right-color: var(--fill-color);\n",
              "      border-top-color: var(--fill-color);\n",
              "    }\n",
              "    60% {\n",
              "      border-color: transparent;\n",
              "      border-right-color: var(--fill-color);\n",
              "    }\n",
              "    80% {\n",
              "      border-color: transparent;\n",
              "      border-right-color: var(--fill-color);\n",
              "      border-bottom-color: var(--fill-color);\n",
              "    }\n",
              "    90% {\n",
              "      border-color: transparent;\n",
              "      border-bottom-color: var(--fill-color);\n",
              "    }\n",
              "  }\n",
              "</style>\n",
              "\n",
              "  <script>\n",
              "    async function quickchart(key) {\n",
              "      const quickchartButtonEl =\n",
              "        document.querySelector('#' + key + ' button');\n",
              "      quickchartButtonEl.disabled = true;  // To prevent multiple clicks.\n",
              "      quickchartButtonEl.classList.add('colab-df-spinner');\n",
              "      try {\n",
              "        const charts = await google.colab.kernel.invokeFunction(\n",
              "            'suggestCharts', [key], {});\n",
              "      } catch (error) {\n",
              "        console.error('Error during call to suggestCharts:', error);\n",
              "      }\n",
              "      quickchartButtonEl.classList.remove('colab-df-spinner');\n",
              "      quickchartButtonEl.classList.add('colab-df-quickchart-complete');\n",
              "    }\n",
              "    (() => {\n",
              "      let quickchartButtonEl =\n",
              "        document.querySelector('#df-b8fe5a65-2d85-4377-8318-9eb4a957e2a9 button');\n",
              "      quickchartButtonEl.style.display =\n",
              "        google.colab.kernel.accessAllowed ? 'block' : 'none';\n",
              "    })();\n",
              "  </script>\n",
              "</div>\n",
              "    </div>\n",
              "  </div>\n"
            ]
          },
          "metadata": {},
          "execution_count": 28
        }
      ]
    },
    {
      "cell_type": "code",
      "source": [
        "corr1 = X.corr()\n",
        "sns.heatmap(corr1)"
      ],
      "metadata": {
        "colab": {
          "base_uri": "https://localhost:8080/",
          "height": 499
        },
        "id": "zK-qo3XuaRh1",
        "outputId": "2dd7bdb2-f2e0-4d5b-ac6f-a6720a7bb3d2"
      },
      "execution_count": null,
      "outputs": [
        {
          "output_type": "execute_result",
          "data": {
            "text/plain": [
              "<Axes: >"
            ]
          },
          "metadata": {},
          "execution_count": 56
        },
        {
          "output_type": "display_data",
          "data": {
            "text/plain": [
              "<Figure size 640x480 with 2 Axes>"
            ],
            "image/png": "[encoded data removed]"
          },
          "metadata": {}
        }
      ]
    },
    {
      "cell_type": "markdown",
      "source": [
        "At first when I work on the 100 Power variables the heatmap was seemed to be messed. So after the trimmed var I found 10 variables that I can work on. Now it will be easier to find any multicollinearity among them one by one.\n",
        "\n",
        "---\n",
        "We see there are some higher positive correlations. Let's remove them.\n"
      ],
      "metadata": {
        "id": "1onwu904afpA"
      }
    },
    {
      "cell_type": "code",
      "source": [
        "# get the correlations between power 42 and 43\n",
        "corr2= X['Power42'].corr(X['Power43'])\n",
        "corr2"
      ],
      "metadata": {
        "colab": {
          "base_uri": "https://localhost:8080/"
        },
        "id": "zteFCpiKafbt",
        "outputId": "bc9f0edc-cd52-4d54-f6be-2210daa61405"
      },
      "execution_count": null,
      "outputs": [
        {
          "output_type": "execute_result",
          "data": {
            "text/plain": [
              "0.9593654247768585"
            ]
          },
          "metadata": {},
          "execution_count": 57
        }
      ]
    },
    {
      "cell_type": "markdown",
      "source": [
        "These two variables will be removed."
      ],
      "metadata": {
        "id": "n03av0ECbf6U"
      }
    },
    {
      "cell_type": "code",
      "source": [
        "# get the correlations between power 17, 18 and 19\n",
        "corr4= X[['Power17', 'Power18', 'Power19']].corr()\n",
        "corr4"
      ],
      "metadata": {
        "colab": {
          "base_uri": "https://localhost:8080/",
          "height": 143
        },
        "id": "ZATr5Vwvbfjc",
        "outputId": "8be8fb41-d498-4717-a2ec-9d69dc4ba601"
      },
      "execution_count": null,
      "outputs": [
        {
          "output_type": "execute_result",
          "data": {
            "text/plain": [
              "          Power17   Power18   Power19\n",
              "Power17  1.000000  0.928421  0.825914\n",
              "Power18  0.928421  1.000000  0.929225\n",
              "Power19  0.825914  0.929225  1.000000"
            ],
            "text/html": [
              "\n",
              "  <div id=\"df-a3eb825d-afd7-4f48-96db-0f6d6044f47f\" class=\"colab-df-container\">\n",
              "    <div>\n",
              "<style scoped>\n",
              "    .dataframe tbody tr th:only-of-type {\n",
              "        vertical-align: middle;\n",
              "    }\n",
              "\n",
              "    .dataframe tbody tr th {\n",
              "        vertical-align: top;\n",
              "    }\n",
              "\n",
              "    .dataframe thead th {\n",
              "        text-align: right;\n",
              "    }\n",
              "</style>\n",
              "<table border=\"1\" class=\"dataframe\">\n",
              "  <thead>\n",
              "    <tr style=\"text-align: right;\">\n",
              "      <th></th>\n",
              "      <th>Power17</th>\n",
              "      <th>Power18</th>\n",
              "      <th>Power19</th>\n",
              "    </tr>\n",
              "  </thead>\n",
              "  <tbody>\n",
              "    <tr>\n",
              "      <th>Power17</th>\n",
              "      <td>1.000000</td>\n",
              "      <td>0.928421</td>\n",
              "      <td>0.825914</td>\n",
              "    </tr>\n",
              "    <tr>\n",
              "      <th>Power18</th>\n",
              "      <td>0.928421</td>\n",
              "      <td>1.000000</td>\n",
              "      <td>0.929225</td>\n",
              "    </tr>\n",
              "    <tr>\n",
              "      <th>Power19</th>\n",
              "      <td>0.825914</td>\n",
              "      <td>0.929225</td>\n",
              "      <td>1.000000</td>\n",
              "    </tr>\n",
              "  </tbody>\n",
              "</table>\n",
              "</div>\n",
              "    <div class=\"colab-df-buttons\">\n",
              "\n",
              "  <div class=\"colab-df-container\">\n",
              "    <button class=\"colab-df-convert\" onclick=\"convertToInteractive('df-a3eb825d-afd7-4f48-96db-0f6d6044f47f')\"\n",
              "            title=\"Convert this dataframe to an interactive table.\"\n",
              "            style=\"display:none;\">\n",
              "\n",
              "  <svg xmlns=\"http://www.w3.org/2000/svg\" height=\"24px\" viewBox=\"0 -960 960 960\">\n",
              "    <path d=\"M120-120v-720h720v720H120Zm60-500h600v-160H180v160Zm220 220h160v-160H400v160Zm0 220h160v-160H400v160ZM180-400h160v-160H180v160Zm440 0h160v-160H620v160ZM180-180h160v-160H180v160Zm440 0h160v-160H620v160Z\"/>\n",
              "  </svg>\n",
              "    </button>\n",
              "\n",
              "  <style>\n",
              "    .colab-df-container {\n",
              "      display:flex;\n",
              "      gap: 12px;\n",
              "    }\n",
              "\n",
              "    .colab-df-convert {\n",
              "      background-color: #E8F0FE;\n",
              "      border: none;\n",
              "      border-radius: 50%;\n",
              "      cursor: pointer;\n",
              "      display: none;\n",
              "      fill: #1967D2;\n",
              "      height: 32px;\n",
              "      padding: 0 0 0 0;\n",
              "      width: 32px;\n",
              "    }\n",
              "\n",
              "    .colab-df-convert:hover {\n",
              "      background-color: #E2EBFA;\n",
              "      box-shadow: 0px 1px 2px rgba(60, 64, 67, 0.3), 0px 1px 3px 1px rgba(60, 64, 67, 0.15);\n",
              "      fill: #174EA6;\n",
              "    }\n",
              "\n",
              "    .colab-df-buttons div {\n",
              "      margin-bottom: 4px;\n",
              "    }\n",
              "\n",
              "    [theme=dark] .colab-df-convert {\n",
              "      background-color: #3B4455;\n",
              "      fill: #D2E3FC;\n",
              "    }\n",
              "\n",
              "    [theme=dark] .colab-df-convert:hover {\n",
              "      background-color: #434B5C;\n",
              "      box-shadow: 0px 1px 3px 1px rgba(0, 0, 0, 0.15);\n",
              "      filter: drop-shadow(0px 1px 2px rgba(0, 0, 0, 0.3));\n",
              "      fill: #FFFFFF;\n",
              "    }\n",
              "  </style>\n",
              "\n",
              "    <script>\n",
              "      const buttonEl =\n",
              "        document.querySelector('#df-a3eb825d-afd7-4f48-96db-0f6d6044f47f button.colab-df-convert');\n",
              "      buttonEl.style.display =\n",
              "        google.colab.kernel.accessAllowed ? 'block' : 'none';\n",
              "\n",
              "      async function convertToInteractive(key) {\n",
              "        const element = document.querySelector('#df-a3eb825d-afd7-4f48-96db-0f6d6044f47f');\n",
              "        const dataTable =\n",
              "          await google.colab.kernel.invokeFunction('convertToInteractive',\n",
              "                                                    [key], {});\n",
              "        if (!dataTable) return;\n",
              "\n",
              "        const docLinkHtml = 'Like what you see? Visit the ' +\n",
              "          '<a target=\"_blank\" href=https://colab.research.google.com/notebooks/data_table.ipynb>data table notebook</a>'\n",
              "          + ' to learn more about interactive tables.';\n",
              "        element.innerHTML = '';\n",
              "        dataTable['output_type'] = 'display_data';\n",
              "        await google.colab.output.renderOutput(dataTable, element);\n",
              "        const docLink = document.createElement('div');\n",
              "        docLink.innerHTML = docLinkHtml;\n",
              "        element.appendChild(docLink);\n",
              "      }\n",
              "    </script>\n",
              "  </div>\n",
              "\n",
              "\n",
              "<div id=\"df-9dbeac31-0028-4822-a286-80c6b216f53f\">\n",
              "  <button class=\"colab-df-quickchart\" onclick=\"quickchart('df-9dbeac31-0028-4822-a286-80c6b216f53f')\"\n",
              "            title=\"Suggest charts\"\n",
              "            style=\"display:none;\">\n",
              "\n",
              "<svg xmlns=\"http://www.w3.org/2000/svg\" height=\"24px\"viewBox=\"0 0 24 24\"\n",
              "     width=\"24px\">\n",
              "    <g>\n",
              "        <path d=\"M19 3H5c-1.1 0-2 .9-2 2v14c0 1.1.9 2 2 2h14c1.1 0 2-.9 2-2V5c0-1.1-.9-2-2-2zM9 17H7v-7h2v7zm4 0h-2V7h2v10zm4 0h-2v-4h2v4z\"/>\n",
              "    </g>\n",
              "</svg>\n",
              "  </button>\n",
              "\n",
              "<style>\n",
              "  .colab-df-quickchart {\n",
              "      --bg-color: #E8F0FE;\n",
              "      --fill-color: #1967D2;\n",
              "      --hover-bg-color: #E2EBFA;\n",
              "      --hover-fill-color: #174EA6;\n",
              "      --disabled-fill-color: #AAA;\n",
              "      --disabled-bg-color: #DDD;\n",
              "  }\n",
              "\n",
              "  [theme=dark] .colab-df-quickchart {\n",
              "      --bg-color: #3B4455;\n",
              "      --fill-color: #D2E3FC;\n",
              "      --hover-bg-color: #434B5C;\n",
              "      --hover-fill-color: #FFFFFF;\n",
              "      --disabled-bg-color: #3B4455;\n",
              "      --disabled-fill-color: #666;\n",
              "  }\n",
              "\n",
              "  .colab-df-quickchart {\n",
              "    background-color: var(--bg-color);\n",
              "    border: none;\n",
              "    border-radius: 50%;\n",
              "    cursor: pointer;\n",
              "    display: none;\n",
              "    fill: var(--fill-color);\n",
              "    height: 32px;\n",
              "    padding: 0;\n",
              "    width: 32px;\n",
              "  }\n",
              "\n",
              "  .colab-df-quickchart:hover {\n",
              "    background-color: var(--hover-bg-color);\n",
              "    box-shadow: 0 1px 2px rgba(60, 64, 67, 0.3), 0 1px 3px 1px rgba(60, 64, 67, 0.15);\n",
              "    fill: var(--button-hover-fill-color);\n",
              "  }\n",
              "\n",
              "  .colab-df-quickchart-complete:disabled,\n",
              "  .colab-df-quickchart-complete:disabled:hover {\n",
              "    background-color: var(--disabled-bg-color);\n",
              "    fill: var(--disabled-fill-color);\n",
              "    box-shadow: none;\n",
              "  }\n",
              "\n",
              "  .colab-df-spinner {\n",
              "    border: 2px solid var(--fill-color);\n",
              "    border-color: transparent;\n",
              "    border-bottom-color: var(--fill-color);\n",
              "    animation:\n",
              "      spin 1s steps(1) infinite;\n",
              "  }\n",
              "\n",
              "  @keyframes spin {\n",
              "    0% {\n",
              "      border-color: transparent;\n",
              "      border-bottom-color: var(--fill-color);\n",
              "      border-left-color: var(--fill-color);\n",
              "    }\n",
              "    20% {\n",
              "      border-color: transparent;\n",
              "      border-left-color: var(--fill-color);\n",
              "      border-top-color: var(--fill-color);\n",
              "    }\n",
              "    30% {\n",
              "      border-color: transparent;\n",
              "      border-left-color: var(--fill-color);\n",
              "      border-top-color: var(--fill-color);\n",
              "      border-right-color: var(--fill-color);\n",
              "    }\n",
              "    40% {\n",
              "      border-color: transparent;\n",
              "      border-right-color: var(--fill-color);\n",
              "      border-top-color: var(--fill-color);\n",
              "    }\n",
              "    60% {\n",
              "      border-color: transparent;\n",
              "      border-right-color: var(--fill-color);\n",
              "    }\n",
              "    80% {\n",
              "      border-color: transparent;\n",
              "      border-right-color: var(--fill-color);\n",
              "      border-bottom-color: var(--fill-color);\n",
              "    }\n",
              "    90% {\n",
              "      border-color: transparent;\n",
              "      border-bottom-color: var(--fill-color);\n",
              "    }\n",
              "  }\n",
              "</style>\n",
              "\n",
              "  <script>\n",
              "    async function quickchart(key) {\n",
              "      const quickchartButtonEl =\n",
              "        document.querySelector('#' + key + ' button');\n",
              "      quickchartButtonEl.disabled = true;  // To prevent multiple clicks.\n",
              "      quickchartButtonEl.classList.add('colab-df-spinner');\n",
              "      try {\n",
              "        const charts = await google.colab.kernel.invokeFunction(\n",
              "            'suggestCharts', [key], {});\n",
              "      } catch (error) {\n",
              "        console.error('Error during call to suggestCharts:', error);\n",
              "      }\n",
              "      quickchartButtonEl.classList.remove('colab-df-spinner');\n",
              "      quickchartButtonEl.classList.add('colab-df-quickchart-complete');\n",
              "    }\n",
              "    (() => {\n",
              "      let quickchartButtonEl =\n",
              "        document.querySelector('#df-9dbeac31-0028-4822-a286-80c6b216f53f button');\n",
              "      quickchartButtonEl.style.display =\n",
              "        google.colab.kernel.accessAllowed ? 'block' : 'none';\n",
              "    })();\n",
              "  </script>\n",
              "</div>\n",
              "    </div>\n",
              "  </div>\n"
            ]
          },
          "metadata": {},
          "execution_count": 60
        }
      ]
    },
    {
      "cell_type": "markdown",
      "source": [
        "Power 18 should be removed"
      ],
      "metadata": {
        "id": "9tbsFFC-cMCy"
      }
    },
    {
      "cell_type": "code",
      "source": [
        "# get the correlations between power 78 and 79\n",
        "corr3= X['Power78'].corr(X['Power79'])\n",
        "corr3"
      ],
      "metadata": {
        "colab": {
          "base_uri": "https://localhost:8080/"
        },
        "id": "_p3jEy4kbuLt",
        "outputId": "3b9f18c4-27db-4dd5-9852-eba880bfe50d"
      },
      "execution_count": null,
      "outputs": [
        {
          "output_type": "execute_result",
          "data": {
            "text/plain": [
              "0.9172503846055969"
            ]
          },
          "metadata": {},
          "execution_count": 61
        }
      ]
    },
    {
      "cell_type": "markdown",
      "source": [
        "these two also be removed as they will create multicollinearity"
      ],
      "metadata": {
        "id": "mai-aqe9chcV"
      }
    },
    {
      "cell_type": "code",
      "source": [
        "X_new = X.drop(columns=['Power18', 'Power42', 'Power43', 'Power78', 'Power79'])\n",
        "X_new.head()"
      ],
      "metadata": {
        "colab": {
          "base_uri": "https://localhost:8080/",
          "height": 206
        },
        "id": "bMlWfcUgcnkm",
        "outputId": "48ad759f-fa6c-4b8c-ae2d-ba5012af90f4"
      },
      "execution_count": null,
      "outputs": [
        {
          "output_type": "execute_result",
          "data": {
            "text/plain": [
              "    Power30   Power70    Power19   Power50    Power17\n",
              "0  74372.83  60488.25   98713.47  81699.47  107765.85\n",
              "1  64849.27  76592.95   61215.49  90283.14   70713.56\n",
              "2  90679.77  56143.24   98825.17  60922.43  107707.85\n",
              "3  92959.27  61127.73  102093.07  65561.07  107565.36\n",
              "4  60233.46  78548.27   61371.83  56427.79   73529.68"
            ],
            "text/html": [
              "\n",
              "  <div id=\"df-ef34c989-1cc3-40e7-bf72-b62203382b9c\" class=\"colab-df-container\">\n",
              "    <div>\n",
              "<style scoped>\n",
              "    .dataframe tbody tr th:only-of-type {\n",
              "        vertical-align: middle;\n",
              "    }\n",
              "\n",
              "    .dataframe tbody tr th {\n",
              "        vertical-align: top;\n",
              "    }\n",
              "\n",
              "    .dataframe thead th {\n",
              "        text-align: right;\n",
              "    }\n",
              "</style>\n",
              "<table border=\"1\" class=\"dataframe\">\n",
              "  <thead>\n",
              "    <tr style=\"text-align: right;\">\n",
              "      <th></th>\n",
              "      <th>Power30</th>\n",
              "      <th>Power70</th>\n",
              "      <th>Power19</th>\n",
              "      <th>Power50</th>\n",
              "      <th>Power17</th>\n",
              "    </tr>\n",
              "  </thead>\n",
              "  <tbody>\n",
              "    <tr>\n",
              "      <th>0</th>\n",
              "      <td>74372.83</td>\n",
              "      <td>60488.25</td>\n",
              "      <td>98713.47</td>\n",
              "      <td>81699.47</td>\n",
              "      <td>107765.85</td>\n",
              "    </tr>\n",
              "    <tr>\n",
              "      <th>1</th>\n",
              "      <td>64849.27</td>\n",
              "      <td>76592.95</td>\n",
              "      <td>61215.49</td>\n",
              "      <td>90283.14</td>\n",
              "      <td>70713.56</td>\n",
              "    </tr>\n",
              "    <tr>\n",
              "      <th>2</th>\n",
              "      <td>90679.77</td>\n",
              "      <td>56143.24</td>\n",
              "      <td>98825.17</td>\n",
              "      <td>60922.43</td>\n",
              "      <td>107707.85</td>\n",
              "    </tr>\n",
              "    <tr>\n",
              "      <th>3</th>\n",
              "      <td>92959.27</td>\n",
              "      <td>61127.73</td>\n",
              "      <td>102093.07</td>\n",
              "      <td>65561.07</td>\n",
              "      <td>107565.36</td>\n",
              "    </tr>\n",
              "    <tr>\n",
              "      <th>4</th>\n",
              "      <td>60233.46</td>\n",
              "      <td>78548.27</td>\n",
              "      <td>61371.83</td>\n",
              "      <td>56427.79</td>\n",
              "      <td>73529.68</td>\n",
              "    </tr>\n",
              "  </tbody>\n",
              "</table>\n",
              "</div>\n",
              "    <div class=\"colab-df-buttons\">\n",
              "\n",
              "  <div class=\"colab-df-container\">\n",
              "    <button class=\"colab-df-convert\" onclick=\"convertToInteractive('df-ef34c989-1cc3-40e7-bf72-b62203382b9c')\"\n",
              "            title=\"Convert this dataframe to an interactive table.\"\n",
              "            style=\"display:none;\">\n",
              "\n",
              "  <svg xmlns=\"http://www.w3.org/2000/svg\" height=\"24px\" viewBox=\"0 -960 960 960\">\n",
              "    <path d=\"M120-120v-720h720v720H120Zm60-500h600v-160H180v160Zm220 220h160v-160H400v160Zm0 220h160v-160H400v160ZM180-400h160v-160H180v160Zm440 0h160v-160H620v160ZM180-180h160v-160H180v160Zm440 0h160v-160H620v160Z\"/>\n",
              "  </svg>\n",
              "    </button>\n",
              "\n",
              "  <style>\n",
              "    .colab-df-container {\n",
              "      display:flex;\n",
              "      gap: 12px;\n",
              "    }\n",
              "\n",
              "    .colab-df-convert {\n",
              "      background-color: #E8F0FE;\n",
              "      border: none;\n",
              "      border-radius: 50%;\n",
              "      cursor: pointer;\n",
              "      display: none;\n",
              "      fill: #1967D2;\n",
              "      height: 32px;\n",
              "      padding: 0 0 0 0;\n",
              "      width: 32px;\n",
              "    }\n",
              "\n",
              "    .colab-df-convert:hover {\n",
              "      background-color: #E2EBFA;\n",
              "      box-shadow: 0px 1px 2px rgba(60, 64, 67, 0.3), 0px 1px 3px 1px rgba(60, 64, 67, 0.15);\n",
              "      fill: #174EA6;\n",
              "    }\n",
              "\n",
              "    .colab-df-buttons div {\n",
              "      margin-bottom: 4px;\n",
              "    }\n",
              "\n",
              "    [theme=dark] .colab-df-convert {\n",
              "      background-color: #3B4455;\n",
              "      fill: #D2E3FC;\n",
              "    }\n",
              "\n",
              "    [theme=dark] .colab-df-convert:hover {\n",
              "      background-color: #434B5C;\n",
              "      box-shadow: 0px 1px 3px 1px rgba(0, 0, 0, 0.15);\n",
              "      filter: drop-shadow(0px 1px 2px rgba(0, 0, 0, 0.3));\n",
              "      fill: #FFFFFF;\n",
              "    }\n",
              "  </style>\n",
              "\n",
              "    <script>\n",
              "      const buttonEl =\n",
              "        document.querySelector('#df-ef34c989-1cc3-40e7-bf72-b62203382b9c button.colab-df-convert');\n",
              "      buttonEl.style.display =\n",
              "        google.colab.kernel.accessAllowed ? 'block' : 'none';\n",
              "\n",
              "      async function convertToInteractive(key) {\n",
              "        const element = document.querySelector('#df-ef34c989-1cc3-40e7-bf72-b62203382b9c');\n",
              "        const dataTable =\n",
              "          await google.colab.kernel.invokeFunction('convertToInteractive',\n",
              "                                                    [key], {});\n",
              "        if (!dataTable) return;\n",
              "\n",
              "        const docLinkHtml = 'Like what you see? Visit the ' +\n",
              "          '<a target=\"_blank\" href=https://colab.research.google.com/notebooks/data_table.ipynb>data table notebook</a>'\n",
              "          + ' to learn more about interactive tables.';\n",
              "        element.innerHTML = '';\n",
              "        dataTable['output_type'] = 'display_data';\n",
              "        await google.colab.output.renderOutput(dataTable, element);\n",
              "        const docLink = document.createElement('div');\n",
              "        docLink.innerHTML = docLinkHtml;\n",
              "        element.appendChild(docLink);\n",
              "      }\n",
              "    </script>\n",
              "  </div>\n",
              "\n",
              "\n",
              "<div id=\"df-b69c7769-9bb5-4289-99d9-a6a7304df563\">\n",
              "  <button class=\"colab-df-quickchart\" onclick=\"quickchart('df-b69c7769-9bb5-4289-99d9-a6a7304df563')\"\n",
              "            title=\"Suggest charts\"\n",
              "            style=\"display:none;\">\n",
              "\n",
              "<svg xmlns=\"http://www.w3.org/2000/svg\" height=\"24px\"viewBox=\"0 0 24 24\"\n",
              "     width=\"24px\">\n",
              "    <g>\n",
              "        <path d=\"M19 3H5c-1.1 0-2 .9-2 2v14c0 1.1.9 2 2 2h14c1.1 0 2-.9 2-2V5c0-1.1-.9-2-2-2zM9 17H7v-7h2v7zm4 0h-2V7h2v10zm4 0h-2v-4h2v4z\"/>\n",
              "    </g>\n",
              "</svg>\n",
              "  </button>\n",
              "\n",
              "<style>\n",
              "  .colab-df-quickchart {\n",
              "      --bg-color: #E8F0FE;\n",
              "      --fill-color: #1967D2;\n",
              "      --hover-bg-color: #E2EBFA;\n",
              "      --hover-fill-color: #174EA6;\n",
              "      --disabled-fill-color: #AAA;\n",
              "      --disabled-bg-color: #DDD;\n",
              "  }\n",
              "\n",
              "  [theme=dark] .colab-df-quickchart {\n",
              "      --bg-color: #3B4455;\n",
              "      --fill-color: #D2E3FC;\n",
              "      --hover-bg-color: #434B5C;\n",
              "      --hover-fill-color: #FFFFFF;\n",
              "      --disabled-bg-color: #3B4455;\n",
              "      --disabled-fill-color: #666;\n",
              "  }\n",
              "\n",
              "  .colab-df-quickchart {\n",
              "    background-color: var(--bg-color);\n",
              "    border: none;\n",
              "    border-radius: 50%;\n",
              "    cursor: pointer;\n",
              "    display: none;\n",
              "    fill: var(--fill-color);\n",
              "    height: 32px;\n",
              "    padding: 0;\n",
              "    width: 32px;\n",
              "  }\n",
              "\n",
              "  .colab-df-quickchart:hover {\n",
              "    background-color: var(--hover-bg-color);\n",
              "    box-shadow: 0 1px 2px rgba(60, 64, 67, 0.3), 0 1px 3px 1px rgba(60, 64, 67, 0.15);\n",
              "    fill: var(--button-hover-fill-color);\n",
              "  }\n",
              "\n",
              "  .colab-df-quickchart-complete:disabled,\n",
              "  .colab-df-quickchart-complete:disabled:hover {\n",
              "    background-color: var(--disabled-bg-color);\n",
              "    fill: var(--disabled-fill-color);\n",
              "    box-shadow: none;\n",
              "  }\n",
              "\n",
              "  .colab-df-spinner {\n",
              "    border: 2px solid var(--fill-color);\n",
              "    border-color: transparent;\n",
              "    border-bottom-color: var(--fill-color);\n",
              "    animation:\n",
              "      spin 1s steps(1) infinite;\n",
              "  }\n",
              "\n",
              "  @keyframes spin {\n",
              "    0% {\n",
              "      border-color: transparent;\n",
              "      border-bottom-color: var(--fill-color);\n",
              "      border-left-color: var(--fill-color);\n",
              "    }\n",
              "    20% {\n",
              "      border-color: transparent;\n",
              "      border-left-color: var(--fill-color);\n",
              "      border-top-color: var(--fill-color);\n",
              "    }\n",
              "    30% {\n",
              "      border-color: transparent;\n",
              "      border-left-color: var(--fill-color);\n",
              "      border-top-color: var(--fill-color);\n",
              "      border-right-color: var(--fill-color);\n",
              "    }\n",
              "    40% {\n",
              "      border-color: transparent;\n",
              "      border-right-color: var(--fill-color);\n",
              "      border-top-color: var(--fill-color);\n",
              "    }\n",
              "    60% {\n",
              "      border-color: transparent;\n",
              "      border-right-color: var(--fill-color);\n",
              "    }\n",
              "    80% {\n",
              "      border-color: transparent;\n",
              "      border-right-color: var(--fill-color);\n",
              "      border-bottom-color: var(--fill-color);\n",
              "    }\n",
              "    90% {\n",
              "      border-color: transparent;\n",
              "      border-bottom-color: var(--fill-color);\n",
              "    }\n",
              "  }\n",
              "</style>\n",
              "\n",
              "  <script>\n",
              "    async function quickchart(key) {\n",
              "      const quickchartButtonEl =\n",
              "        document.querySelector('#' + key + ' button');\n",
              "      quickchartButtonEl.disabled = true;  // To prevent multiple clicks.\n",
              "      quickchartButtonEl.classList.add('colab-df-spinner');\n",
              "      try {\n",
              "        const charts = await google.colab.kernel.invokeFunction(\n",
              "            'suggestCharts', [key], {});\n",
              "      } catch (error) {\n",
              "        console.error('Error during call to suggestCharts:', error);\n",
              "      }\n",
              "      quickchartButtonEl.classList.remove('colab-df-spinner');\n",
              "      quickchartButtonEl.classList.add('colab-df-quickchart-complete');\n",
              "    }\n",
              "    (() => {\n",
              "      let quickchartButtonEl =\n",
              "        document.querySelector('#df-b69c7769-9bb5-4289-99d9-a6a7304df563 button');\n",
              "      quickchartButtonEl.style.display =\n",
              "        google.colab.kernel.accessAllowed ? 'block' : 'none';\n",
              "    })();\n",
              "  </script>\n",
              "</div>\n",
              "    </div>\n",
              "  </div>\n"
            ]
          },
          "metadata": {},
          "execution_count": 63
        }
      ]
    },
    {
      "cell_type": "markdown",
      "source": [
        "###Second time Ridge Regression"
      ],
      "metadata": {
        "id": "HhDNtY7jc_2G"
      }
    },
    {
      "cell_type": "code",
      "source": [
        "model_r= Ridge()\n",
        "model_r.fit(X_new, y_train)"
      ],
      "metadata": {
        "colab": {
          "base_uri": "https://localhost:8080/",
          "height": 75
        },
        "id": "AvRpQ7NNdDoW",
        "outputId": "485a1ec2-9136-4b4f-c997-b23803246b57"
      },
      "execution_count": null,
      "outputs": [
        {
          "output_type": "execute_result",
          "data": {
            "text/plain": [
              "Ridge()"
            ],
            "text/html": [
              "<style>#sk-container-id-3 {color: black;background-color: white;}#sk-container-id-3 pre{padding: 0;}#sk-container-id-3 div.sk-toggleable {background-color: white;}#sk-container-id-3 label.sk-toggleable__label {cursor: pointer;display: block;width: 100%;margin-bottom: 0;padding: 0.3em;box-sizing: border-box;text-align: center;}#sk-container-id-3 label.sk-toggleable__label-arrow:before {content: \"▸\";float: left;margin-right: 0.25em;color: #696969;}#sk-container-id-3 label.sk-toggleable__label-arrow:hover:before {color: black;}#sk-container-id-3 div.sk-estimator:hover label.sk-toggleable__label-arrow:before {color: black;}#sk-container-id-3 div.sk-toggleable__content {max-height: 0;max-width: 0;overflow: hidden;text-align: left;background-color: #f0f8ff;}#sk-container-id-3 div.sk-toggleable__content pre {margin: 0.2em;color: black;border-radius: 0.25em;background-color: #f0f8ff;}#sk-container-id-3 input.sk-toggleable__control:checked~div.sk-toggleable__content {max-height: 200px;max-width: 100%;overflow: auto;}#sk-container-id-3 input.sk-toggleable__control:checked~label.sk-toggleable__label-arrow:before {content: \"▾\";}#sk-container-id-3 div.sk-estimator input.sk-toggleable__control:checked~label.sk-toggleable__label {background-color: #d4ebff;}#sk-container-id-3 div.sk-label input.sk-toggleable__control:checked~label.sk-toggleable__label {background-color: #d4ebff;}#sk-container-id-3 input.sk-hidden--visually {border: 0;clip: rect(1px 1px 1px 1px);clip: rect(1px, 1px, 1px, 1px);height: 1px;margin: -1px;overflow: hidden;padding: 0;position: absolute;width: 1px;}#sk-container-id-3 div.sk-estimator {font-family: monospace;background-color: #f0f8ff;border: 1px dotted black;border-radius: 0.25em;box-sizing: border-box;margin-bottom: 0.5em;}#sk-container-id-3 div.sk-estimator:hover {background-color: #d4ebff;}#sk-container-id-3 div.sk-parallel-item::after {content: \"\";width: 100%;border-bottom: 1px solid gray;flex-grow: 1;}#sk-container-id-3 div.sk-label:hover label.sk-toggleable__label {background-color: #d4ebff;}#sk-container-id-3 div.sk-serial::before {content: \"\";position: absolute;border-left: 1px solid gray;box-sizing: border-box;top: 0;bottom: 0;left: 50%;z-index: 0;}#sk-container-id-3 div.sk-serial {display: flex;flex-direction: column;align-items: center;background-color: white;padding-right: 0.2em;padding-left: 0.2em;position: relative;}#sk-container-id-3 div.sk-item {position: relative;z-index: 1;}#sk-container-id-3 div.sk-parallel {display: flex;align-items: stretch;justify-content: center;background-color: white;position: relative;}#sk-container-id-3 div.sk-item::before, #sk-container-id-3 div.sk-parallel-item::before {content: \"\";position: absolute;border-left: 1px solid gray;box-sizing: border-box;top: 0;bottom: 0;left: 50%;z-index: -1;}#sk-container-id-3 div.sk-parallel-item {display: flex;flex-direction: column;z-index: 1;position: relative;background-color: white;}#sk-container-id-3 div.sk-parallel-item:first-child::after {align-self: flex-end;width: 50%;}#sk-container-id-3 div.sk-parallel-item:last-child::after {align-self: flex-start;width: 50%;}#sk-container-id-3 div.sk-parallel-item:only-child::after {width: 0;}#sk-container-id-3 div.sk-dashed-wrapped {border: 1px dashed gray;margin: 0 0.4em 0.5em 0.4em;box-sizing: border-box;padding-bottom: 0.4em;background-color: white;}#sk-container-id-3 div.sk-label label {font-family: monospace;font-weight: bold;display: inline-block;line-height: 1.2em;}#sk-container-id-3 div.sk-label-container {text-align: center;}#sk-container-id-3 div.sk-container {/* jupyter's `normalize.less` sets `[hidden] { display: none; }` but bootstrap.min.css set `[hidden] { display: none !important; }` so we also need the `!important` here to be able to override the default hidden behavior on the sphinx rendered scikit-learn.org. See: https://github.com/scikit-learn/scikit-learn/issues/21755 */display: inline-block !important;position: relative;}#sk-container-id-3 div.sk-text-repr-fallback {display: none;}</style><div id=\"sk-container-id-3\" class=\"sk-top-container\"><div class=\"sk-text-repr-fallback\"><pre>Ridge()</pre><b>In a Jupyter environment, please rerun this cell to show the HTML representation or trust the notebook. <br />On GitHub, the HTML representation is unable to render, please try loading this page with nbviewer.org.</b></div><div class=\"sk-container\" hidden><div class=\"sk-item\"><div class=\"sk-estimator sk-toggleable\"><input class=\"sk-toggleable__control sk-hidden--visually\" id=\"sk-estimator-id-5\" type=\"checkbox\" checked><label for=\"sk-estimator-id-5\" class=\"sk-toggleable__label sk-toggleable__label-arrow\">Ridge</label><div class=\"sk-toggleable__content\"><pre>Ridge()</pre></div></div></div></div></div>"
            ]
          },
          "metadata": {},
          "execution_count": 66
        }
      ]
    },
    {
      "cell_type": "code",
      "source": [
        "#let's find the training error\n",
        "\n",
        "pred_train = model_r.predict(X_new)\n",
        "mae_training = mean_absolute_error(y_train, pred_train)\n",
        "\n",
        "print(f'pred_train shape:{pred_train.shape}')\n",
        "print(f'Mean absolute error in training data: {mae_training.round(2)}')"
      ],
      "metadata": {
        "colab": {
          "base_uri": "https://localhost:8080/"
        },
        "id": "kkVgx2dldTiU",
        "outputId": "79c947c0-7b26-4bfe-ce3d-3914b11ae6a0"
      },
      "execution_count": null,
      "outputs": [
        {
          "output_type": "stream",
          "name": "stdout",
          "text": [
            "pred_train shape:(2318,)\n",
            "Mean absolute error in training data: 69150.61\n"
          ]
        }
      ]
    },
    {
      "cell_type": "markdown",
      "source": [
        "***I got Mean absolute error in Baseline: 79528.05, Now my training mean absolute error is 69150.61. That's definitely an improvement from the previous models as I cut off huge number of variables and only consider the most effective ones. Now I can make a wrangle function so that a test dataset can also be used in this model.***"
      ],
      "metadata": {
        "id": "h319TCTMdt6k"
      }
    },
    {
      "cell_type": "markdown",
      "source": [
        "## Function the model"
      ],
      "metadata": {
        "id": "NCRqtbfmsoHF"
      }
    },
    {
      "cell_type": "code",
      "source": [
        "# wrangle the dataset so that one can find the desired training set\n",
        "def wrangle(dataset):\n",
        "  \"\"\"This will return X_train and y_train\"\"\"\n",
        "  # converting to dataframe\n",
        "  df = pd.read_csv(dataset)\n",
        "  # combining the coordinating columns\n",
        "  df_coord = df.loc[:, 'X1':'Y100']\n",
        "  # drop the unnecessary columns\n",
        "  df = df.drop(columns=df_coord)\n",
        "  # set the target\n",
        "  target = 'Total_Power'\n",
        "  # make the training dataset\n",
        "  X_train = df.drop(columns=[target, 'qW'])\n",
        "  y_train = df[target]\n",
        "\n",
        "  return X_train, y_train"
      ],
      "metadata": {
        "id": "ZDvWSX6djMU5"
      },
      "execution_count": 102,
      "outputs": []
    },
    {
      "cell_type": "code",
      "source": [
        "# then for getting the baseline mean absolute error value\n",
        "def baseline_mae(X_train, y_train):\n",
        "  \"\"\"This will show mean absolute error of baseline\"\"\"\n",
        "  baseline_mean = y_train.mean()\n",
        "  pred_baseline_value = [baseline_mean] * len(y_train)\n",
        "  mae_baseline = mean_absolute_error(y_train, pred_baseline_value)\n",
        "\n",
        "  print(f'Mean absolute error in baseline: {mae_baseline.round(2)}')\n",
        "\n",
        "# then get the top ten variable through trimmed var method\n",
        "def top_ten_trim_var(X_train):\n",
        "  \"\"\"This will create top ten variables to find the multicollinearity\"\"\"\n",
        "  top_ten_trim_var = X_train.apply(trimmed_var, limits=(0.3, 0.3)).sort_values().tail(10) #Just cropped off top 30% and the bottom 30%\n",
        "  high_var = top_ten_trim_var.index.to_list()\n",
        "  X = X_train[high_var]\n",
        "\n",
        "  return X\n",
        "\n",
        "# figure out the heatmap to remove highly correlated variables\n",
        "def show_heatmap(X):\n",
        "  corr = X.corr()\n",
        "  return sns.heatmap(corr)\n",
        "\n",
        "# after that get the best variables to work on\n",
        "\n",
        "# make the prediction set to test the data\n",
        "def predction_mae(X_new, y_train):\n",
        "  # instantiate the model\n",
        "  model = Ridge()\n",
        "  # fit the model\n",
        "  model.fit(X_new, y_train)\n",
        "  # test the data\n",
        "  pred_test = model.predict(X_new)\n",
        "  mae_test = mean_absolute_error(y_train, pred_test)\n",
        "\n",
        "  print(f'Mean absolute error in test data: {mae_test.round(2)}')\n",
        "  # bring out the final model\n",
        "  intercept_new = model.intercept_\n",
        "  coeff_new = model.coef_\n",
        "  feat_imp_new = pd.Series(coeff_new, index = X_new.columns)\n",
        "  feat_imp_new.head()\n",
        "  print(f'Total power (in new model): {round(intercept_new, 2)}')\n",
        "  for k, v in feat_imp_new.items():\n",
        "    print(f'+ {round(v, 2)}*{k}')"
      ],
      "metadata": {
        "id": "_ReUXFEHkSgA"
      },
      "execution_count": 118,
      "outputs": []
    },
    {
      "cell_type": "markdown",
      "source": [
        "##Model Evaluation"
      ],
      "metadata": {
        "id": "xHYK0B0kslCN"
      }
    },
    {
      "cell_type": "code",
      "source": [
        "# let's test one dataset\n",
        "X_train, y_train = wrangle('/content/WEC_Perth_100.csv')\n",
        "baseline_mae(X_train, y_train)"
      ],
      "metadata": {
        "colab": {
          "base_uri": "https://localhost:8080/"
        },
        "id": "3QONRbbIpJiQ",
        "outputId": "5ceb7da1-d291-4aa0-e6e5-2e1ba7165901"
      },
      "execution_count": 106,
      "outputs": [
        {
          "output_type": "stream",
          "name": "stdout",
          "text": [
            "Mean absolute error in baseline: 165798.3\n"
          ]
        }
      ]
    },
    {
      "cell_type": "code",
      "source": [
        "X = top_ten_trim_var(X_train)"
      ],
      "metadata": {
        "id": "AhlPImorqxzG"
      },
      "execution_count": 107,
      "outputs": []
    },
    {
      "cell_type": "code",
      "source": [
        "fig = show_heatmap(X)\n",
        "fig"
      ],
      "metadata": {
        "colab": {
          "base_uri": "https://localhost:8080/",
          "height": 499
        },
        "id": "PYUmQloTq8zd",
        "outputId": "e8b5a8a1-bcae-4c99-9059-40cfed46044b"
      },
      "execution_count": 108,
      "outputs": [
        {
          "output_type": "execute_result",
          "data": {
            "text/plain": [
              "<Axes: >"
            ]
          },
          "metadata": {},
          "execution_count": 108
        },
        {
          "output_type": "display_data",
          "data": {
            "text/plain": [
              "<Figure size 640x480 with 2 Axes>"
            ],
            "image/png": "[encoded data removed]"
          },
          "metadata": {}
        }
      ]
    },
    {
      "cell_type": "markdown",
      "source": [
        "Now we can see what powers to remove from the new data"
      ],
      "metadata": {
        "id": "eLfhnW78rEio"
      }
    },
    {
      "cell_type": "code",
      "source": [
        "# get the correlations between power 13 and 14\n",
        "corr2= X['Power13'].corr(X['Power14'])\n",
        "corr2"
      ],
      "metadata": {
        "colab": {
          "base_uri": "https://localhost:8080/"
        },
        "id": "Z-wBIeQ5rafR",
        "outputId": "a052ed72-806e-474d-fa25-863a1172307a"
      },
      "execution_count": 109,
      "outputs": [
        {
          "output_type": "execute_result",
          "data": {
            "text/plain": [
              "0.9498146247855063"
            ]
          },
          "metadata": {},
          "execution_count": 109
        }
      ]
    },
    {
      "cell_type": "code",
      "source": [
        "# get the correlations between power 29 and 30\n",
        "corr2= X['Power29'].corr(X['Power30'])\n",
        "corr2"
      ],
      "metadata": {
        "colab": {
          "base_uri": "https://localhost:8080/"
        },
        "id": "axMQlrEireN3",
        "outputId": "8462771d-4fa2-4cfc-9476-271e536bbf04"
      },
      "execution_count": 110,
      "outputs": [
        {
          "output_type": "execute_result",
          "data": {
            "text/plain": [
              "0.9080045420097335"
            ]
          },
          "metadata": {},
          "execution_count": 110
        }
      ]
    },
    {
      "cell_type": "code",
      "source": [
        "X_new1 = X.drop(columns=['Power13', 'Power14', 'Power29', 'Power30'])\n",
        "X_new1.head()"
      ],
      "metadata": {
        "colab": {
          "base_uri": "https://localhost:8080/",
          "height": 206
        },
        "id": "zXigr6otrl6t",
        "outputId": "eb42fa8e-4ce1-496b-ecf8-4f2a80e39e69"
      },
      "execution_count": 111,
      "outputs": [
        {
          "output_type": "execute_result",
          "data": {
            "text/plain": [
              "    Power19   Power85   Power15   Power80    Power50   Power93\n",
              "0  58281.50  74610.77  54123.75  76741.00   66421.73  98711.68\n",
              "1  44067.57  98885.19  41258.24  88444.60   59893.74  96351.38\n",
              "2  47852.86  74576.75  81057.47  68072.88  100206.62  96985.29\n",
              "3  46370.77  74822.63  91904.76  99162.60   56134.04  76823.85\n",
              "4  46984.89  74493.08  81583.61  77325.59   76886.02  98195.95"
            ],
            "text/html": [
              "\n",
              "  <div id=\"df-43bcbe33-3446-4121-981f-ce5bfbff9be4\" class=\"colab-df-container\">\n",
              "    <div>\n",
              "<style scoped>\n",
              "    .dataframe tbody tr th:only-of-type {\n",
              "        vertical-align: middle;\n",
              "    }\n",
              "\n",
              "    .dataframe tbody tr th {\n",
              "        vertical-align: top;\n",
              "    }\n",
              "\n",
              "    .dataframe thead th {\n",
              "        text-align: right;\n",
              "    }\n",
              "</style>\n",
              "<table border=\"1\" class=\"dataframe\">\n",
              "  <thead>\n",
              "    <tr style=\"text-align: right;\">\n",
              "      <th></th>\n",
              "      <th>Power19</th>\n",
              "      <th>Power85</th>\n",
              "      <th>Power15</th>\n",
              "      <th>Power80</th>\n",
              "      <th>Power50</th>\n",
              "      <th>Power93</th>\n",
              "    </tr>\n",
              "  </thead>\n",
              "  <tbody>\n",
              "    <tr>\n",
              "      <th>0</th>\n",
              "      <td>58281.50</td>\n",
              "      <td>74610.77</td>\n",
              "      <td>54123.75</td>\n",
              "      <td>76741.00</td>\n",
              "      <td>66421.73</td>\n",
              "      <td>98711.68</td>\n",
              "    </tr>\n",
              "    <tr>\n",
              "      <th>1</th>\n",
              "      <td>44067.57</td>\n",
              "      <td>98885.19</td>\n",
              "      <td>41258.24</td>\n",
              "      <td>88444.60</td>\n",
              "      <td>59893.74</td>\n",
              "      <td>96351.38</td>\n",
              "    </tr>\n",
              "    <tr>\n",
              "      <th>2</th>\n",
              "      <td>47852.86</td>\n",
              "      <td>74576.75</td>\n",
              "      <td>81057.47</td>\n",
              "      <td>68072.88</td>\n",
              "      <td>100206.62</td>\n",
              "      <td>96985.29</td>\n",
              "    </tr>\n",
              "    <tr>\n",
              "      <th>3</th>\n",
              "      <td>46370.77</td>\n",
              "      <td>74822.63</td>\n",
              "      <td>91904.76</td>\n",
              "      <td>99162.60</td>\n",
              "      <td>56134.04</td>\n",
              "      <td>76823.85</td>\n",
              "    </tr>\n",
              "    <tr>\n",
              "      <th>4</th>\n",
              "      <td>46984.89</td>\n",
              "      <td>74493.08</td>\n",
              "      <td>81583.61</td>\n",
              "      <td>77325.59</td>\n",
              "      <td>76886.02</td>\n",
              "      <td>98195.95</td>\n",
              "    </tr>\n",
              "  </tbody>\n",
              "</table>\n",
              "</div>\n",
              "    <div class=\"colab-df-buttons\">\n",
              "\n",
              "  <div class=\"colab-df-container\">\n",
              "    <button class=\"colab-df-convert\" onclick=\"convertToInteractive('df-43bcbe33-3446-4121-981f-ce5bfbff9be4')\"\n",
              "            title=\"Convert this dataframe to an interactive table.\"\n",
              "            style=\"display:none;\">\n",
              "\n",
              "  <svg xmlns=\"http://www.w3.org/2000/svg\" height=\"24px\" viewBox=\"0 -960 960 960\">\n",
              "    <path d=\"M120-120v-720h720v720H120Zm60-500h600v-160H180v160Zm220 220h160v-160H400v160Zm0 220h160v-160H400v160ZM180-400h160v-160H180v160Zm440 0h160v-160H620v160ZM180-180h160v-160H180v160Zm440 0h160v-160H620v160Z\"/>\n",
              "  </svg>\n",
              "    </button>\n",
              "\n",
              "  <style>\n",
              "    .colab-df-container {\n",
              "      display:flex;\n",
              "      gap: 12px;\n",
              "    }\n",
              "\n",
              "    .colab-df-convert {\n",
              "      background-color: #E8F0FE;\n",
              "      border: none;\n",
              "      border-radius: 50%;\n",
              "      cursor: pointer;\n",
              "      display: none;\n",
              "      fill: #1967D2;\n",
              "      height: 32px;\n",
              "      padding: 0 0 0 0;\n",
              "      width: 32px;\n",
              "    }\n",
              "\n",
              "    .colab-df-convert:hover {\n",
              "      background-color: #E2EBFA;\n",
              "      box-shadow: 0px 1px 2px rgba(60, 64, 67, 0.3), 0px 1px 3px 1px rgba(60, 64, 67, 0.15);\n",
              "      fill: #174EA6;\n",
              "    }\n",
              "\n",
              "    .colab-df-buttons div {\n",
              "      margin-bottom: 4px;\n",
              "    }\n",
              "\n",
              "    [theme=dark] .colab-df-convert {\n",
              "      background-color: #3B4455;\n",
              "      fill: #D2E3FC;\n",
              "    }\n",
              "\n",
              "    [theme=dark] .colab-df-convert:hover {\n",
              "      background-color: #434B5C;\n",
              "      box-shadow: 0px 1px 3px 1px rgba(0, 0, 0, 0.15);\n",
              "      filter: drop-shadow(0px 1px 2px rgba(0, 0, 0, 0.3));\n",
              "      fill: #FFFFFF;\n",
              "    }\n",
              "  </style>\n",
              "\n",
              "    <script>\n",
              "      const buttonEl =\n",
              "        document.querySelector('#df-43bcbe33-3446-4121-981f-ce5bfbff9be4 button.colab-df-convert');\n",
              "      buttonEl.style.display =\n",
              "        google.colab.kernel.accessAllowed ? 'block' : 'none';\n",
              "\n",
              "      async function convertToInteractive(key) {\n",
              "        const element = document.querySelector('#df-43bcbe33-3446-4121-981f-ce5bfbff9be4');\n",
              "        const dataTable =\n",
              "          await google.colab.kernel.invokeFunction('convertToInteractive',\n",
              "                                                    [key], {});\n",
              "        if (!dataTable) return;\n",
              "\n",
              "        const docLinkHtml = 'Like what you see? Visit the ' +\n",
              "          '<a target=\"_blank\" href=https://colab.research.google.com/notebooks/data_table.ipynb>data table notebook</a>'\n",
              "          + ' to learn more about interactive tables.';\n",
              "        element.innerHTML = '';\n",
              "        dataTable['output_type'] = 'display_data';\n",
              "        await google.colab.output.renderOutput(dataTable, element);\n",
              "        const docLink = document.createElement('div');\n",
              "        docLink.innerHTML = docLinkHtml;\n",
              "        element.appendChild(docLink);\n",
              "      }\n",
              "    </script>\n",
              "  </div>\n",
              "\n",
              "\n",
              "<div id=\"df-173e2e03-bd51-4950-8132-bdf168ec1518\">\n",
              "  <button class=\"colab-df-quickchart\" onclick=\"quickchart('df-173e2e03-bd51-4950-8132-bdf168ec1518')\"\n",
              "            title=\"Suggest charts\"\n",
              "            style=\"display:none;\">\n",
              "\n",
              "<svg xmlns=\"http://www.w3.org/2000/svg\" height=\"24px\"viewBox=\"0 0 24 24\"\n",
              "     width=\"24px\">\n",
              "    <g>\n",
              "        <path d=\"M19 3H5c-1.1 0-2 .9-2 2v14c0 1.1.9 2 2 2h14c1.1 0 2-.9 2-2V5c0-1.1-.9-2-2-2zM9 17H7v-7h2v7zm4 0h-2V7h2v10zm4 0h-2v-4h2v4z\"/>\n",
              "    </g>\n",
              "</svg>\n",
              "  </button>\n",
              "\n",
              "<style>\n",
              "  .colab-df-quickchart {\n",
              "      --bg-color: #E8F0FE;\n",
              "      --fill-color: #1967D2;\n",
              "      --hover-bg-color: #E2EBFA;\n",
              "      --hover-fill-color: #174EA6;\n",
              "      --disabled-fill-color: #AAA;\n",
              "      --disabled-bg-color: #DDD;\n",
              "  }\n",
              "\n",
              "  [theme=dark] .colab-df-quickchart {\n",
              "      --bg-color: #3B4455;\n",
              "      --fill-color: #D2E3FC;\n",
              "      --hover-bg-color: #434B5C;\n",
              "      --hover-fill-color: #FFFFFF;\n",
              "      --disabled-bg-color: #3B4455;\n",
              "      --disabled-fill-color: #666;\n",
              "  }\n",
              "\n",
              "  .colab-df-quickchart {\n",
              "    background-color: var(--bg-color);\n",
              "    border: none;\n",
              "    border-radius: 50%;\n",
              "    cursor: pointer;\n",
              "    display: none;\n",
              "    fill: var(--fill-color);\n",
              "    height: 32px;\n",
              "    padding: 0;\n",
              "    width: 32px;\n",
              "  }\n",
              "\n",
              "  .colab-df-quickchart:hover {\n",
              "    background-color: var(--hover-bg-color);\n",
              "    box-shadow: 0 1px 2px rgba(60, 64, 67, 0.3), 0 1px 3px 1px rgba(60, 64, 67, 0.15);\n",
              "    fill: var(--button-hover-fill-color);\n",
              "  }\n",
              "\n",
              "  .colab-df-quickchart-complete:disabled,\n",
              "  .colab-df-quickchart-complete:disabled:hover {\n",
              "    background-color: var(--disabled-bg-color);\n",
              "    fill: var(--disabled-fill-color);\n",
              "    box-shadow: none;\n",
              "  }\n",
              "\n",
              "  .colab-df-spinner {\n",
              "    border: 2px solid var(--fill-color);\n",
              "    border-color: transparent;\n",
              "    border-bottom-color: var(--fill-color);\n",
              "    animation:\n",
              "      spin 1s steps(1) infinite;\n",
              "  }\n",
              "\n",
              "  @keyframes spin {\n",
              "    0% {\n",
              "      border-color: transparent;\n",
              "      border-bottom-color: var(--fill-color);\n",
              "      border-left-color: var(--fill-color);\n",
              "    }\n",
              "    20% {\n",
              "      border-color: transparent;\n",
              "      border-left-color: var(--fill-color);\n",
              "      border-top-color: var(--fill-color);\n",
              "    }\n",
              "    30% {\n",
              "      border-color: transparent;\n",
              "      border-left-color: var(--fill-color);\n",
              "      border-top-color: var(--fill-color);\n",
              "      border-right-color: var(--fill-color);\n",
              "    }\n",
              "    40% {\n",
              "      border-color: transparent;\n",
              "      border-right-color: var(--fill-color);\n",
              "      border-top-color: var(--fill-color);\n",
              "    }\n",
              "    60% {\n",
              "      border-color: transparent;\n",
              "      border-right-color: var(--fill-color);\n",
              "    }\n",
              "    80% {\n",
              "      border-color: transparent;\n",
              "      border-right-color: var(--fill-color);\n",
              "      border-bottom-color: var(--fill-color);\n",
              "    }\n",
              "    90% {\n",
              "      border-color: transparent;\n",
              "      border-bottom-color: var(--fill-color);\n",
              "    }\n",
              "  }\n",
              "</style>\n",
              "\n",
              "  <script>\n",
              "    async function quickchart(key) {\n",
              "      const quickchartButtonEl =\n",
              "        document.querySelector('#' + key + ' button');\n",
              "      quickchartButtonEl.disabled = true;  // To prevent multiple clicks.\n",
              "      quickchartButtonEl.classList.add('colab-df-spinner');\n",
              "      try {\n",
              "        const charts = await google.colab.kernel.invokeFunction(\n",
              "            'suggestCharts', [key], {});\n",
              "      } catch (error) {\n",
              "        console.error('Error during call to suggestCharts:', error);\n",
              "      }\n",
              "      quickchartButtonEl.classList.remove('colab-df-spinner');\n",
              "      quickchartButtonEl.classList.add('colab-df-quickchart-complete');\n",
              "    }\n",
              "    (() => {\n",
              "      let quickchartButtonEl =\n",
              "        document.querySelector('#df-173e2e03-bd51-4950-8132-bdf168ec1518 button');\n",
              "      quickchartButtonEl.style.display =\n",
              "        google.colab.kernel.accessAllowed ? 'block' : 'none';\n",
              "    })();\n",
              "  </script>\n",
              "</div>\n",
              "    </div>\n",
              "  </div>\n"
            ]
          },
          "metadata": {},
          "execution_count": 111
        }
      ]
    },
    {
      "cell_type": "code",
      "source": [
        "predction_mae(X_new1, y_train)"
      ],
      "metadata": {
        "colab": {
          "base_uri": "https://localhost:8080/"
        },
        "id": "Ky4ldDpsrxHF",
        "outputId": "97c65596-cd1f-41cb-d712-d620ce84584c"
      },
      "execution_count": 119,
      "outputs": [
        {
          "output_type": "stream",
          "name": "stdout",
          "text": [
            "Mean absolute error in test data: 147469.63\n",
            "Total power (in new model): 7300431.65\n",
            "+ -0.22*Power19\n",
            "+ -0.22*Power85\n",
            "+ 4.24*Power15\n",
            "+ -0.73*Power80\n",
            "+ -0.28*Power50\n",
            "+ -3.92*Power93\n"
          ]
        }
      ]
    },
    {
      "cell_type": "markdown",
      "source": [
        "## Running Model"
      ],
      "metadata": {
        "id": "M5Wa2iZAs3HG"
      }
    },
    {
      "cell_type": "code",
      "source": [
        "intercept_new = model_r.intercept_\n",
        "coeff_new = model_r.coef_"
      ],
      "metadata": {
        "id": "ExR0aoGOeS1L"
      },
      "execution_count": null,
      "outputs": []
    },
    {
      "cell_type": "code",
      "source": [
        "feat_imp_new = pd.Series(coeff_new, index = X_new.columns)\n",
        "feat_imp_new.head()"
      ],
      "metadata": {
        "colab": {
          "base_uri": "https://localhost:8080/"
        },
        "id": "vKRaeJH6eONA",
        "outputId": "9eaedaee-6c25-4055-f2f4-82b712dc6490"
      },
      "execution_count": null,
      "outputs": [
        {
          "output_type": "execute_result",
          "data": {
            "text/plain": [
              "Power30    1.791884\n",
              "Power70    0.649089\n",
              "Power19    1.319090\n",
              "Power50    1.887178\n",
              "Power17    0.691563\n",
              "dtype: float64"
            ]
          },
          "metadata": {},
          "execution_count": 72
        }
      ]
    },
    {
      "cell_type": "code",
      "source": [
        "print(f'Total power (in new model): {round(intercept_new, 2)}')\n",
        "for k, v in feat_imp_new.items():\n",
        "  print(f'+ {round(v, 2)}*{k}')"
      ],
      "metadata": {
        "colab": {
          "base_uri": "https://localhost:8080/"
        },
        "id": "cy9eIgEPesrq",
        "outputId": "9a6c3331-4032-442f-99c4-dcdc4af390e6"
      },
      "execution_count": null,
      "outputs": [
        {
          "output_type": "stream",
          "name": "stdout",
          "text": [
            "Total power (in new model): 6667258.66\n",
            "+ 1.79*Power30\n",
            "+ 0.65*Power70\n",
            "+ 1.32*Power19\n",
            "+ 1.89*Power50\n",
            "+ 0.69*Power17\n"
          ]
        }
      ]
    },
    {
      "cell_type": "markdown",
      "source": [
        "I got the final model as (Total power (in new model): 6667258.66 + 1.79xPower30 + 0.65xPower70 + 1.32xPower19 + 1.89xPower50 + 0.69xPower17)"
      ],
      "metadata": {
        "id": "zGS3L3lHfquK"
      }
    },
    {
      "cell_type": "markdown",
      "source": [
        "But for fun I will progress with KMeans and PCA"
      ],
      "metadata": {
        "id": "yM2ljzEXgN7M"
      }
    },
    {
      "cell_type": "code",
      "source": [
        "model_2 = KMeans(n_clusters=3, random_state=42)\n",
        "model_2.fit(X_new)"
      ],
      "metadata": {
        "colab": {
          "base_uri": "https://localhost:8080/",
          "height": 148
        },
        "id": "mB51uwTbWovl",
        "outputId": "19f23f7d-911b-4b28-ad35-6788c1ae3d34"
      },
      "execution_count": null,
      "outputs": [
        {
          "output_type": "stream",
          "name": "stderr",
          "text": [
            "/usr/local/lib/python3.10/dist-packages/sklearn/cluster/_kmeans.py:870: FutureWarning:\n",
            "\n",
            "The default value of `n_init` will change from 10 to 'auto' in 1.4. Set the value of `n_init` explicitly to suppress the warning\n",
            "\n"
          ]
        },
        {
          "output_type": "execute_result",
          "data": {
            "text/plain": [
              "KMeans(n_clusters=3, random_state=42)"
            ],
            "text/html": [
              "<style>#sk-container-id-4 {color: black;background-color: white;}#sk-container-id-4 pre{padding: 0;}#sk-container-id-4 div.sk-toggleable {background-color: white;}#sk-container-id-4 label.sk-toggleable__label {cursor: pointer;display: block;width: 100%;margin-bottom: 0;padding: 0.3em;box-sizing: border-box;text-align: center;}#sk-container-id-4 label.sk-toggleable__label-arrow:before {content: \"▸\";float: left;margin-right: 0.25em;color: #696969;}#sk-container-id-4 label.sk-toggleable__label-arrow:hover:before {color: black;}#sk-container-id-4 div.sk-estimator:hover label.sk-toggleable__label-arrow:before {color: black;}#sk-container-id-4 div.sk-toggleable__content {max-height: 0;max-width: 0;overflow: hidden;text-align: left;background-color: #f0f8ff;}#sk-container-id-4 div.sk-toggleable__content pre {margin: 0.2em;color: black;border-radius: 0.25em;background-color: #f0f8ff;}#sk-container-id-4 input.sk-toggleable__control:checked~div.sk-toggleable__content {max-height: 200px;max-width: 100%;overflow: auto;}#sk-container-id-4 input.sk-toggleable__control:checked~label.sk-toggleable__label-arrow:before {content: \"▾\";}#sk-container-id-4 div.sk-estimator input.sk-toggleable__control:checked~label.sk-toggleable__label {background-color: #d4ebff;}#sk-container-id-4 div.sk-label input.sk-toggleable__control:checked~label.sk-toggleable__label {background-color: #d4ebff;}#sk-container-id-4 input.sk-hidden--visually {border: 0;clip: rect(1px 1px 1px 1px);clip: rect(1px, 1px, 1px, 1px);height: 1px;margin: -1px;overflow: hidden;padding: 0;position: absolute;width: 1px;}#sk-container-id-4 div.sk-estimator {font-family: monospace;background-color: #f0f8ff;border: 1px dotted black;border-radius: 0.25em;box-sizing: border-box;margin-bottom: 0.5em;}#sk-container-id-4 div.sk-estimator:hover {background-color: #d4ebff;}#sk-container-id-4 div.sk-parallel-item::after {content: \"\";width: 100%;border-bottom: 1px solid gray;flex-grow: 1;}#sk-container-id-4 div.sk-label:hover label.sk-toggleable__label {background-color: #d4ebff;}#sk-container-id-4 div.sk-serial::before {content: \"\";position: absolute;border-left: 1px solid gray;box-sizing: border-box;top: 0;bottom: 0;left: 50%;z-index: 0;}#sk-container-id-4 div.sk-serial {display: flex;flex-direction: column;align-items: center;background-color: white;padding-right: 0.2em;padding-left: 0.2em;position: relative;}#sk-container-id-4 div.sk-item {position: relative;z-index: 1;}#sk-container-id-4 div.sk-parallel {display: flex;align-items: stretch;justify-content: center;background-color: white;position: relative;}#sk-container-id-4 div.sk-item::before, #sk-container-id-4 div.sk-parallel-item::before {content: \"\";position: absolute;border-left: 1px solid gray;box-sizing: border-box;top: 0;bottom: 0;left: 50%;z-index: -1;}#sk-container-id-4 div.sk-parallel-item {display: flex;flex-direction: column;z-index: 1;position: relative;background-color: white;}#sk-container-id-4 div.sk-parallel-item:first-child::after {align-self: flex-end;width: 50%;}#sk-container-id-4 div.sk-parallel-item:last-child::after {align-self: flex-start;width: 50%;}#sk-container-id-4 div.sk-parallel-item:only-child::after {width: 0;}#sk-container-id-4 div.sk-dashed-wrapped {border: 1px dashed gray;margin: 0 0.4em 0.5em 0.4em;box-sizing: border-box;padding-bottom: 0.4em;background-color: white;}#sk-container-id-4 div.sk-label label {font-family: monospace;font-weight: bold;display: inline-block;line-height: 1.2em;}#sk-container-id-4 div.sk-label-container {text-align: center;}#sk-container-id-4 div.sk-container {/* jupyter's `normalize.less` sets `[hidden] { display: none; }` but bootstrap.min.css set `[hidden] { display: none !important; }` so we also need the `!important` here to be able to override the default hidden behavior on the sphinx rendered scikit-learn.org. See: https://github.com/scikit-learn/scikit-learn/issues/21755 */display: inline-block !important;position: relative;}#sk-container-id-4 div.sk-text-repr-fallback {display: none;}</style><div id=\"sk-container-id-4\" class=\"sk-top-container\"><div class=\"sk-text-repr-fallback\"><pre>KMeans(n_clusters=3, random_state=42)</pre><b>In a Jupyter environment, please rerun this cell to show the HTML representation or trust the notebook. <br />On GitHub, the HTML representation is unable to render, please try loading this page with nbviewer.org.</b></div><div class=\"sk-container\" hidden><div class=\"sk-item\"><div class=\"sk-estimator sk-toggleable\"><input class=\"sk-toggleable__control sk-hidden--visually\" id=\"sk-estimator-id-6\" type=\"checkbox\" checked><label for=\"sk-estimator-id-6\" class=\"sk-toggleable__label sk-toggleable__label-arrow\">KMeans</label><div class=\"sk-toggleable__content\"><pre>KMeans(n_clusters=3, random_state=42)</pre></div></div></div></div></div>"
            ]
          },
          "metadata": {},
          "execution_count": 77
        }
      ]
    },
    {
      "cell_type": "code",
      "source": [
        "from sklearn.preprocessing import MinMaxScaler\n",
        "from sklearn.pipeline import make_pipeline"
      ],
      "metadata": {
        "id": "X2MdN3GAYbx9"
      },
      "execution_count": null,
      "outputs": []
    },
    {
      "cell_type": "code",
      "source": [
        "n_clusters = range(2, 40)\n",
        "inertia_errors = []\n",
        "silhouette_scores = []\n",
        "\n",
        "# Add `for` loop to train model and calculate inertia, silhouette score.\n",
        "for n in n_clusters:\n",
        "    # build a model with pipeline\n",
        "    model = make_pipeline(MinMaxScaler(), KMeans(n_clusters=n, random_state=42))\n",
        "    # Train and fit the model\n",
        "    model.fit(X_new)\n",
        "    # get inertia values\n",
        "    inertia_errors.append(model.named_steps['kmeans'].inertia_)\n",
        "    #get silhouette scores\n",
        "    silhouette_scores.append(silhouette_score(X_new, model.named_steps['kmeans'].labels_))\n",
        "\n",
        "print(f'inertia :{inertia_errors}')\n",
        "print()\n",
        "print(f'silhouette : {silhouette_scores}')\n"
      ],
      "metadata": {
        "colab": {
          "base_uri": "https://localhost:8080/"
        },
        "id": "_Kce8FvKXejV",
        "outputId": "67e3a405-5f7c-4ef0-ebb8-cf925a940944"
      },
      "execution_count": null,
      "outputs": [
        {
          "output_type": "stream",
          "name": "stderr",
          "text": [
            "/usr/local/lib/python3.10/dist-packages/sklearn/cluster/_kmeans.py:870: FutureWarning:\n",
            "\n",
            "The default value of `n_init` will change from 10 to 'auto' in 1.4. Set the value of `n_init` explicitly to suppress the warning\n",
            "\n",
            "/usr/local/lib/python3.10/dist-packages/sklearn/cluster/_kmeans.py:870: FutureWarning:\n",
            "\n",
            "The default value of `n_init` will change from 10 to 'auto' in 1.4. Set the value of `n_init` explicitly to suppress the warning\n",
            "\n",
            "/usr/local/lib/python3.10/dist-packages/sklearn/cluster/_kmeans.py:870: FutureWarning:\n",
            "\n",
            "The default value of `n_init` will change from 10 to 'auto' in 1.4. Set the value of `n_init` explicitly to suppress the warning\n",
            "\n",
            "/usr/local/lib/python3.10/dist-packages/sklearn/cluster/_kmeans.py:870: FutureWarning:\n",
            "\n",
            "The default value of `n_init` will change from 10 to 'auto' in 1.4. Set the value of `n_init` explicitly to suppress the warning\n",
            "\n",
            "/usr/local/lib/python3.10/dist-packages/sklearn/cluster/_kmeans.py:870: FutureWarning:\n",
            "\n",
            "The default value of `n_init` will change from 10 to 'auto' in 1.4. Set the value of `n_init` explicitly to suppress the warning\n",
            "\n",
            "/usr/local/lib/python3.10/dist-packages/sklearn/cluster/_kmeans.py:870: FutureWarning:\n",
            "\n",
            "The default value of `n_init` will change from 10 to 'auto' in 1.4. Set the value of `n_init` explicitly to suppress the warning\n",
            "\n",
            "/usr/local/lib/python3.10/dist-packages/sklearn/cluster/_kmeans.py:870: FutureWarning:\n",
            "\n",
            "The default value of `n_init` will change from 10 to 'auto' in 1.4. Set the value of `n_init` explicitly to suppress the warning\n",
            "\n",
            "/usr/local/lib/python3.10/dist-packages/sklearn/cluster/_kmeans.py:870: FutureWarning:\n",
            "\n",
            "The default value of `n_init` will change from 10 to 'auto' in 1.4. Set the value of `n_init` explicitly to suppress the warning\n",
            "\n",
            "/usr/local/lib/python3.10/dist-packages/sklearn/cluster/_kmeans.py:870: FutureWarning:\n",
            "\n",
            "The default value of `n_init` will change from 10 to 'auto' in 1.4. Set the value of `n_init` explicitly to suppress the warning\n",
            "\n",
            "/usr/local/lib/python3.10/dist-packages/sklearn/cluster/_kmeans.py:870: FutureWarning:\n",
            "\n",
            "The default value of `n_init` will change from 10 to 'auto' in 1.4. Set the value of `n_init` explicitly to suppress the warning\n",
            "\n",
            "/usr/local/lib/python3.10/dist-packages/sklearn/cluster/_kmeans.py:870: FutureWarning:\n",
            "\n",
            "The default value of `n_init` will change from 10 to 'auto' in 1.4. Set the value of `n_init` explicitly to suppress the warning\n",
            "\n",
            "/usr/local/lib/python3.10/dist-packages/sklearn/cluster/_kmeans.py:870: FutureWarning:\n",
            "\n",
            "The default value of `n_init` will change from 10 to 'auto' in 1.4. Set the value of `n_init` explicitly to suppress the warning\n",
            "\n",
            "/usr/local/lib/python3.10/dist-packages/sklearn/cluster/_kmeans.py:870: FutureWarning:\n",
            "\n",
            "The default value of `n_init` will change from 10 to 'auto' in 1.4. Set the value of `n_init` explicitly to suppress the warning\n",
            "\n",
            "/usr/local/lib/python3.10/dist-packages/sklearn/cluster/_kmeans.py:870: FutureWarning:\n",
            "\n",
            "The default value of `n_init` will change from 10 to 'auto' in 1.4. Set the value of `n_init` explicitly to suppress the warning\n",
            "\n",
            "/usr/local/lib/python3.10/dist-packages/sklearn/cluster/_kmeans.py:870: FutureWarning:\n",
            "\n",
            "The default value of `n_init` will change from 10 to 'auto' in 1.4. Set the value of `n_init` explicitly to suppress the warning\n",
            "\n",
            "/usr/local/lib/python3.10/dist-packages/sklearn/cluster/_kmeans.py:870: FutureWarning:\n",
            "\n",
            "The default value of `n_init` will change from 10 to 'auto' in 1.4. Set the value of `n_init` explicitly to suppress the warning\n",
            "\n",
            "/usr/local/lib/python3.10/dist-packages/sklearn/cluster/_kmeans.py:870: FutureWarning:\n",
            "\n",
            "The default value of `n_init` will change from 10 to 'auto' in 1.4. Set the value of `n_init` explicitly to suppress the warning\n",
            "\n",
            "/usr/local/lib/python3.10/dist-packages/sklearn/cluster/_kmeans.py:870: FutureWarning:\n",
            "\n",
            "The default value of `n_init` will change from 10 to 'auto' in 1.4. Set the value of `n_init` explicitly to suppress the warning\n",
            "\n",
            "/usr/local/lib/python3.10/dist-packages/sklearn/cluster/_kmeans.py:870: FutureWarning:\n",
            "\n",
            "The default value of `n_init` will change from 10 to 'auto' in 1.4. Set the value of `n_init` explicitly to suppress the warning\n",
            "\n",
            "/usr/local/lib/python3.10/dist-packages/sklearn/cluster/_kmeans.py:870: FutureWarning:\n",
            "\n",
            "The default value of `n_init` will change from 10 to 'auto' in 1.4. Set the value of `n_init` explicitly to suppress the warning\n",
            "\n",
            "/usr/local/lib/python3.10/dist-packages/sklearn/cluster/_kmeans.py:870: FutureWarning:\n",
            "\n",
            "The default value of `n_init` will change from 10 to 'auto' in 1.4. Set the value of `n_init` explicitly to suppress the warning\n",
            "\n",
            "/usr/local/lib/python3.10/dist-packages/sklearn/cluster/_kmeans.py:870: FutureWarning:\n",
            "\n",
            "The default value of `n_init` will change from 10 to 'auto' in 1.4. Set the value of `n_init` explicitly to suppress the warning\n",
            "\n",
            "/usr/local/lib/python3.10/dist-packages/sklearn/cluster/_kmeans.py:870: FutureWarning:\n",
            "\n",
            "The default value of `n_init` will change from 10 to 'auto' in 1.4. Set the value of `n_init` explicitly to suppress the warning\n",
            "\n",
            "/usr/local/lib/python3.10/dist-packages/sklearn/cluster/_kmeans.py:870: FutureWarning:\n",
            "\n",
            "The default value of `n_init` will change from 10 to 'auto' in 1.4. Set the value of `n_init` explicitly to suppress the warning\n",
            "\n",
            "/usr/local/lib/python3.10/dist-packages/sklearn/cluster/_kmeans.py:870: FutureWarning:\n",
            "\n",
            "The default value of `n_init` will change from 10 to 'auto' in 1.4. Set the value of `n_init` explicitly to suppress the warning\n",
            "\n",
            "/usr/local/lib/python3.10/dist-packages/sklearn/cluster/_kmeans.py:870: FutureWarning:\n",
            "\n",
            "The default value of `n_init` will change from 10 to 'auto' in 1.4. Set the value of `n_init` explicitly to suppress the warning\n",
            "\n",
            "/usr/local/lib/python3.10/dist-packages/sklearn/cluster/_kmeans.py:870: FutureWarning:\n",
            "\n",
            "The default value of `n_init` will change from 10 to 'auto' in 1.4. Set the value of `n_init` explicitly to suppress the warning\n",
            "\n",
            "/usr/local/lib/python3.10/dist-packages/sklearn/cluster/_kmeans.py:870: FutureWarning:\n",
            "\n",
            "The default value of `n_init` will change from 10 to 'auto' in 1.4. Set the value of `n_init` explicitly to suppress the warning\n",
            "\n",
            "/usr/local/lib/python3.10/dist-packages/sklearn/cluster/_kmeans.py:870: FutureWarning:\n",
            "\n",
            "The default value of `n_init` will change from 10 to 'auto' in 1.4. Set the value of `n_init` explicitly to suppress the warning\n",
            "\n",
            "/usr/local/lib/python3.10/dist-packages/sklearn/cluster/_kmeans.py:870: FutureWarning:\n",
            "\n",
            "The default value of `n_init` will change from 10 to 'auto' in 1.4. Set the value of `n_init` explicitly to suppress the warning\n",
            "\n",
            "/usr/local/lib/python3.10/dist-packages/sklearn/cluster/_kmeans.py:870: FutureWarning:\n",
            "\n",
            "The default value of `n_init` will change from 10 to 'auto' in 1.4. Set the value of `n_init` explicitly to suppress the warning\n",
            "\n",
            "/usr/local/lib/python3.10/dist-packages/sklearn/cluster/_kmeans.py:870: FutureWarning:\n",
            "\n",
            "The default value of `n_init` will change from 10 to 'auto' in 1.4. Set the value of `n_init` explicitly to suppress the warning\n",
            "\n",
            "/usr/local/lib/python3.10/dist-packages/sklearn/cluster/_kmeans.py:870: FutureWarning:\n",
            "\n",
            "The default value of `n_init` will change from 10 to 'auto' in 1.4. Set the value of `n_init` explicitly to suppress the warning\n",
            "\n",
            "/usr/local/lib/python3.10/dist-packages/sklearn/cluster/_kmeans.py:870: FutureWarning:\n",
            "\n",
            "The default value of `n_init` will change from 10 to 'auto' in 1.4. Set the value of `n_init` explicitly to suppress the warning\n",
            "\n",
            "/usr/local/lib/python3.10/dist-packages/sklearn/cluster/_kmeans.py:870: FutureWarning:\n",
            "\n",
            "The default value of `n_init` will change from 10 to 'auto' in 1.4. Set the value of `n_init` explicitly to suppress the warning\n",
            "\n",
            "/usr/local/lib/python3.10/dist-packages/sklearn/cluster/_kmeans.py:870: FutureWarning:\n",
            "\n",
            "The default value of `n_init` will change from 10 to 'auto' in 1.4. Set the value of `n_init` explicitly to suppress the warning\n",
            "\n",
            "/usr/local/lib/python3.10/dist-packages/sklearn/cluster/_kmeans.py:870: FutureWarning:\n",
            "\n",
            "The default value of `n_init` will change from 10 to 'auto' in 1.4. Set the value of `n_init` explicitly to suppress the warning\n",
            "\n",
            "/usr/local/lib/python3.10/dist-packages/sklearn/cluster/_kmeans.py:870: FutureWarning:\n",
            "\n",
            "The default value of `n_init` will change from 10 to 'auto' in 1.4. Set the value of `n_init` explicitly to suppress the warning\n",
            "\n"
          ]
        },
        {
          "output_type": "stream",
          "name": "stdout",
          "text": [
            "inertia :[392.6378847597093, 259.08007889288393, 216.7378656735791, 185.37056928240753, 158.39212346814702, 137.09335475755393, 120.7559357743101, 109.61292625795264, 100.58770092894628, 92.37165503025835, 85.43636174789827, 78.81012274013551, 73.67359213481015, 69.06641593847792, 65.08402014005998, 61.11494378335452, 59.39288610460396, 54.928733413242306, 53.8245852293408, 51.248573324187824, 49.0563781365813, 48.214540915012776, 46.11618864742194, 45.395626070410444, 43.47185461639725, 42.40792300278496, 41.3842555696107, 40.26841681676882, 38.9448770135824, 38.747562806114146, 37.27294647959121, 36.814101150361864, 35.96915961518121, 34.82304399408491, 34.83981305923619, 34.39549989609676, 33.93345224701053, 32.90187542302211]\n",
            "\n",
            "silhouette : [0.3378087228849683, 0.415319785274864, 0.3952358132251198, 0.3610794962425231, 0.3794594479878303, 0.4026484918733608, 0.4155899871014281, 0.428015751802568, 0.4375676895853315, 0.4571429955751754, 0.4680181350883917, 0.46565303486351023, 0.47542042858147604, 0.4808544957838069, 0.48685202348858303, 0.4712013048933531, 0.473744093429763, 0.48193236318779215, 0.5021658061810115, 0.4872921977649175, 0.4999158773023978, 0.49500099245700707, 0.460915175007927, 0.5102388252968272, 0.5116900594667084, 0.4774834352206344, 0.47243102876546933, 0.5022938805897799, 0.49539373815182686, 0.4883133657342149, 0.49149884644313935, 0.4864300377018985, 0.48939873558082136, 0.49469946608228604, 0.4889477910972712, 0.5072433147175827, 0.4970990982953588, 0.5003013357934012]\n"
          ]
        }
      ]
    },
    {
      "cell_type": "markdown",
      "source": [
        "Let's hope to see the best possible cluster numbers to model it."
      ],
      "metadata": {
        "id": "mmV4OOv-X1yS"
      }
    },
    {
      "cell_type": "code",
      "source": [
        "fig = px.line(x=n_clusters, y=inertia_errors, title='K-Means Model: Inertia vs Number of Clusters')\n",
        "\n",
        "fig.update_layout(xaxis_title='Number of Clusters', yaxis_title='Inertia')\n",
        "\n",
        "fig.show()"
      ],
      "metadata": {
        "colab": {
          "base_uri": "https://localhost:8080/",
          "height": 542
        },
        "id": "jUPHOK-cXws-",
        "outputId": "9d115852-d69e-4f39-9eb1-9d0f7cbbc035"
      },
      "execution_count": null,
      "outputs": [
        {
          "output_type": "display_data",
          "data": {
            "text/html": [
              "<html>\n",
              "<head><meta charset=\"utf-8\" /></head>\n",
              "<body>\n",
              "    <div>            <script src=\"https://cdnjs.cloudflare.com/ajax/libs/mathjax/2.7.5/MathJax.js?config=TeX-AMS-MML_SVG\"></script><script type=\"text/javascript\">if (window.MathJax && window.MathJax.Hub && window.MathJax.Hub.Config) {window.MathJax.Hub.Config({SVG: {font: \"STIX-Web\"}});}</script>                <script type=\"text/javascript\">window.PlotlyConfig = {MathJaxConfig: 'local'};</script>\n",
              "        <script charset=\"utf-8\" src=\"https://cdn.plot.ly/plotly-2.24.1.min.js\"></script>                <div id=\"4b3c3c46-fd45-434d-8238-343cd58996e2\" class=\"plotly-graph-div\" style=\"height:525px; width:100%;\"></div>            <script type=\"text/javascript\">                                    window.PLOTLYENV=window.PLOTLYENV || {};                                    if (document.getElementById(\"4b3c3c46-fd45-434d-8238-343cd58996e2\")) {                    Plotly.newPlot(                        \"4b3c3c46-fd45-434d-8238-343cd58996e2\",                        [{\"hovertemplate\":\"x=%{x}\\u003cbr\\u003ey=%{y}\\u003cextra\\u003e\\u003c\\u002fextra\\u003e\",\"legendgroup\":\"\",\"line\":{\"color\":\"#636efa\",\"dash\":\"solid\"},\"marker\":{\"symbol\":\"circle\"},\"mode\":\"lines\",\"name\":\"\",\"orientation\":\"v\",\"showlegend\":false,\"x\":[2,3,4,5,6,7,8,9,10,11,12,13,14,15,16,17,18,19,20,21,22,23,24,25,26,27,28,29,30,31,32,33,34,35,36,37,38,39],\"xaxis\":\"x\",\"y\":[392.6378847597093,259.08007889288393,216.7378656735791,185.37056928240753,158.39212346814702,137.09335475755393,120.7559357743101,109.61292625795264,100.58770092894628,92.37165503025835,85.43636174789827,78.81012274013551,73.67359213481015,69.06641593847792,65.08402014005998,61.11494378335452,59.39288610460396,54.928733413242306,53.8245852293408,51.248573324187824,49.0563781365813,48.214540915012776,46.11618864742194,45.395626070410444,43.47185461639725,42.40792300278496,41.3842555696107,40.26841681676882,38.9448770135824,38.747562806114146,37.27294647959121,36.814101150361864,35.96915961518121,34.82304399408491,34.83981305923619,34.39549989609676,33.93345224701053,32.90187542302211],\"yaxis\":\"y\",\"type\":\"scatter\"}],                        {\"template\":{\"data\":{\"histogram2dcontour\":[{\"type\":\"histogram2dcontour\",\"colorbar\":{\"outlinewidth\":0,\"ticks\":\"\"},\"colorscale\":[[0.0,\"#0d0887\"],[0.1111111111111111,\"#46039f\"],[0.2222222222222222,\"#7201a8\"],[0.3333333333333333,\"#9c179e\"],[0.4444444444444444,\"#bd3786\"],[0.5555555555555556,\"#d8576b\"],[0.6666666666666666,\"#ed7953\"],[0.7777777777777778,\"#fb9f3a\"],[0.8888888888888888,\"#fdca26\"],[1.0,\"#f0f921\"]]}],\"choropleth\":[{\"type\":\"choropleth\",\"colorbar\":{\"outlinewidth\":0,\"ticks\":\"\"}}],\"histogram2d\":[{\"type\":\"histogram2d\",\"colorbar\":{\"outlinewidth\":0,\"ticks\":\"\"},\"colorscale\":[[0.0,\"#0d0887\"],[0.1111111111111111,\"#46039f\"],[0.2222222222222222,\"#7201a8\"],[0.3333333333333333,\"#9c179e\"],[0.4444444444444444,\"#bd3786\"],[0.5555555555555556,\"#d8576b\"],[0.6666666666666666,\"#ed7953\"],[0.7777777777777778,\"#fb9f3a\"],[0.8888888888888888,\"#fdca26\"],[1.0,\"#f0f921\"]]}],\"heatmap\":[{\"type\":\"heatmap\",\"colorbar\":{\"outlinewidth\":0,\"ticks\":\"\"},\"colorscale\":[[0.0,\"#0d0887\"],[0.1111111111111111,\"#46039f\"],[0.2222222222222222,\"#7201a8\"],[0.3333333333333333,\"#9c179e\"],[0.4444444444444444,\"#bd3786\"],[0.5555555555555556,\"#d8576b\"],[0.6666666666666666,\"#ed7953\"],[0.7777777777777778,\"#fb9f3a\"],[0.8888888888888888,\"#fdca26\"],[1.0,\"#f0f921\"]]}],\"heatmapgl\":[{\"type\":\"heatmapgl\",\"colorbar\":{\"outlinewidth\":0,\"ticks\":\"\"},\"colorscale\":[[0.0,\"#0d0887\"],[0.1111111111111111,\"#46039f\"],[0.2222222222222222,\"#7201a8\"],[0.3333333333333333,\"#9c179e\"],[0.4444444444444444,\"#bd3786\"],[0.5555555555555556,\"#d8576b\"],[0.6666666666666666,\"#ed7953\"],[0.7777777777777778,\"#fb9f3a\"],[0.8888888888888888,\"#fdca26\"],[1.0,\"#f0f921\"]]}],\"contourcarpet\":[{\"type\":\"contourcarpet\",\"colorbar\":{\"outlinewidth\":0,\"ticks\":\"\"}}],\"contour\":[{\"type\":\"contour\",\"colorbar\":{\"outlinewidth\":0,\"ticks\":\"\"},\"colorscale\":[[0.0,\"#0d0887\"],[0.1111111111111111,\"#46039f\"],[0.2222222222222222,\"#7201a8\"],[0.3333333333333333,\"#9c179e\"],[0.4444444444444444,\"#bd3786\"],[0.5555555555555556,\"#d8576b\"],[0.6666666666666666,\"#ed7953\"],[0.7777777777777778,\"#fb9f3a\"],[0.8888888888888888,\"#fdca26\"],[1.0,\"#f0f921\"]]}],\"surface\":[{\"type\":\"surface\",\"colorbar\":{\"outlinewidth\":0,\"ticks\":\"\"},\"colorscale\":[[0.0,\"#0d0887\"],[0.1111111111111111,\"#46039f\"],[0.2222222222222222,\"#7201a8\"],[0.3333333333333333,\"#9c179e\"],[0.4444444444444444,\"#bd3786\"],[0.5555555555555556,\"#d8576b\"],[0.6666666666666666,\"#ed7953\"],[0.7777777777777778,\"#fb9f3a\"],[0.8888888888888888,\"#fdca26\"],[1.0,\"#f0f921\"]]}],\"mesh3d\":[{\"type\":\"mesh3d\",\"colorbar\":{\"outlinewidth\":0,\"ticks\":\"\"}}],\"scatter\":[{\"fillpattern\":{\"fillmode\":\"overlay\",\"size\":10,\"solidity\":0.2},\"type\":\"scatter\"}],\"parcoords\":[{\"type\":\"parcoords\",\"line\":{\"colorbar\":{\"outlinewidth\":0,\"ticks\":\"\"}}}],\"scatterpolargl\":[{\"type\":\"scatterpolargl\",\"marker\":{\"colorbar\":{\"outlinewidth\":0,\"ticks\":\"\"}}}],\"bar\":[{\"error_x\":{\"color\":\"#2a3f5f\"},\"error_y\":{\"color\":\"#2a3f5f\"},\"marker\":{\"line\":{\"color\":\"#E5ECF6\",\"width\":0.5},\"pattern\":{\"fillmode\":\"overlay\",\"size\":10,\"solidity\":0.2}},\"type\":\"bar\"}],\"scattergeo\":[{\"type\":\"scattergeo\",\"marker\":{\"colorbar\":{\"outlinewidth\":0,\"ticks\":\"\"}}}],\"scatterpolar\":[{\"type\":\"scatterpolar\",\"marker\":{\"colorbar\":{\"outlinewidth\":0,\"ticks\":\"\"}}}],\"histogram\":[{\"marker\":{\"pattern\":{\"fillmode\":\"overlay\",\"size\":10,\"solidity\":0.2}},\"type\":\"histogram\"}],\"scattergl\":[{\"type\":\"scattergl\",\"marker\":{\"colorbar\":{\"outlinewidth\":0,\"ticks\":\"\"}}}],\"scatter3d\":[{\"type\":\"scatter3d\",\"line\":{\"colorbar\":{\"outlinewidth\":0,\"ticks\":\"\"}},\"marker\":{\"colorbar\":{\"outlinewidth\":0,\"ticks\":\"\"}}}],\"scattermapbox\":[{\"type\":\"scattermapbox\",\"marker\":{\"colorbar\":{\"outlinewidth\":0,\"ticks\":\"\"}}}],\"scatterternary\":[{\"type\":\"scatterternary\",\"marker\":{\"colorbar\":{\"outlinewidth\":0,\"ticks\":\"\"}}}],\"scattercarpet\":[{\"type\":\"scattercarpet\",\"marker\":{\"colorbar\":{\"outlinewidth\":0,\"ticks\":\"\"}}}],\"carpet\":[{\"aaxis\":{\"endlinecolor\":\"#2a3f5f\",\"gridcolor\":\"white\",\"linecolor\":\"white\",\"minorgridcolor\":\"white\",\"startlinecolor\":\"#2a3f5f\"},\"baxis\":{\"endlinecolor\":\"#2a3f5f\",\"gridcolor\":\"white\",\"linecolor\":\"white\",\"minorgridcolor\":\"white\",\"startlinecolor\":\"#2a3f5f\"},\"type\":\"carpet\"}],\"table\":[{\"cells\":{\"fill\":{\"color\":\"#EBF0F8\"},\"line\":{\"color\":\"white\"}},\"header\":{\"fill\":{\"color\":\"#C8D4E3\"},\"line\":{\"color\":\"white\"}},\"type\":\"table\"}],\"barpolar\":[{\"marker\":{\"line\":{\"color\":\"#E5ECF6\",\"width\":0.5},\"pattern\":{\"fillmode\":\"overlay\",\"size\":10,\"solidity\":0.2}},\"type\":\"barpolar\"}],\"pie\":[{\"automargin\":true,\"type\":\"pie\"}]},\"layout\":{\"autotypenumbers\":\"strict\",\"colorway\":[\"#636efa\",\"#EF553B\",\"#00cc96\",\"#ab63fa\",\"#FFA15A\",\"#19d3f3\",\"#FF6692\",\"#B6E880\",\"#FF97FF\",\"#FECB52\"],\"font\":{\"color\":\"#2a3f5f\"},\"hovermode\":\"closest\",\"hoverlabel\":{\"align\":\"left\"},\"paper_bgcolor\":\"white\",\"plot_bgcolor\":\"#E5ECF6\",\"polar\":{\"bgcolor\":\"#E5ECF6\",\"angularaxis\":{\"gridcolor\":\"white\",\"linecolor\":\"white\",\"ticks\":\"\"},\"radialaxis\":{\"gridcolor\":\"white\",\"linecolor\":\"white\",\"ticks\":\"\"}},\"ternary\":{\"bgcolor\":\"#E5ECF6\",\"aaxis\":{\"gridcolor\":\"white\",\"linecolor\":\"white\",\"ticks\":\"\"},\"baxis\":{\"gridcolor\":\"white\",\"linecolor\":\"white\",\"ticks\":\"\"},\"caxis\":{\"gridcolor\":\"white\",\"linecolor\":\"white\",\"ticks\":\"\"}},\"coloraxis\":{\"colorbar\":{\"outlinewidth\":0,\"ticks\":\"\"}},\"colorscale\":{\"sequential\":[[0.0,\"#0d0887\"],[0.1111111111111111,\"#46039f\"],[0.2222222222222222,\"#7201a8\"],[0.3333333333333333,\"#9c179e\"],[0.4444444444444444,\"#bd3786\"],[0.5555555555555556,\"#d8576b\"],[0.6666666666666666,\"#ed7953\"],[0.7777777777777778,\"#fb9f3a\"],[0.8888888888888888,\"#fdca26\"],[1.0,\"#f0f921\"]],\"sequentialminus\":[[0.0,\"#0d0887\"],[0.1111111111111111,\"#46039f\"],[0.2222222222222222,\"#7201a8\"],[0.3333333333333333,\"#9c179e\"],[0.4444444444444444,\"#bd3786\"],[0.5555555555555556,\"#d8576b\"],[0.6666666666666666,\"#ed7953\"],[0.7777777777777778,\"#fb9f3a\"],[0.8888888888888888,\"#fdca26\"],[1.0,\"#f0f921\"]],\"diverging\":[[0,\"#8e0152\"],[0.1,\"#c51b7d\"],[0.2,\"#de77ae\"],[0.3,\"#f1b6da\"],[0.4,\"#fde0ef\"],[0.5,\"#f7f7f7\"],[0.6,\"#e6f5d0\"],[0.7,\"#b8e186\"],[0.8,\"#7fbc41\"],[0.9,\"#4d9221\"],[1,\"#276419\"]]},\"xaxis\":{\"gridcolor\":\"white\",\"linecolor\":\"white\",\"ticks\":\"\",\"title\":{\"standoff\":15},\"zerolinecolor\":\"white\",\"automargin\":true,\"zerolinewidth\":2},\"yaxis\":{\"gridcolor\":\"white\",\"linecolor\":\"white\",\"ticks\":\"\",\"title\":{\"standoff\":15},\"zerolinecolor\":\"white\",\"automargin\":true,\"zerolinewidth\":2},\"scene\":{\"xaxis\":{\"backgroundcolor\":\"#E5ECF6\",\"gridcolor\":\"white\",\"linecolor\":\"white\",\"showbackground\":true,\"ticks\":\"\",\"zerolinecolor\":\"white\",\"gridwidth\":2},\"yaxis\":{\"backgroundcolor\":\"#E5ECF6\",\"gridcolor\":\"white\",\"linecolor\":\"white\",\"showbackground\":true,\"ticks\":\"\",\"zerolinecolor\":\"white\",\"gridwidth\":2},\"zaxis\":{\"backgroundcolor\":\"#E5ECF6\",\"gridcolor\":\"white\",\"linecolor\":\"white\",\"showbackground\":true,\"ticks\":\"\",\"zerolinecolor\":\"white\",\"gridwidth\":2}},\"shapedefaults\":{\"line\":{\"color\":\"#2a3f5f\"}},\"annotationdefaults\":{\"arrowcolor\":\"#2a3f5f\",\"arrowhead\":0,\"arrowwidth\":1},\"geo\":{\"bgcolor\":\"white\",\"landcolor\":\"#E5ECF6\",\"subunitcolor\":\"white\",\"showland\":true,\"showlakes\":true,\"lakecolor\":\"white\"},\"title\":{\"x\":0.05},\"mapbox\":{\"style\":\"light\"}}},\"xaxis\":{\"anchor\":\"y\",\"domain\":[0.0,1.0],\"title\":{\"text\":\"Number of Clusters\"}},\"yaxis\":{\"anchor\":\"x\",\"domain\":[0.0,1.0],\"title\":{\"text\":\"Inertia\"}},\"legend\":{\"tracegroupgap\":0},\"title\":{\"text\":\"K-Means Model: Inertia vs Number of Clusters\"}},                        {\"responsive\": true}                    ).then(function(){\n",
              "                            \n",
              "var gd = document.getElementById('4b3c3c46-fd45-434d-8238-343cd58996e2');\n",
              "var x = new MutationObserver(function (mutations, observer) {{\n",
              "        var display = window.getComputedStyle(gd).display;\n",
              "        if (!display || display === 'none') {{\n",
              "            console.log([gd, 'removed!']);\n",
              "            Plotly.purge(gd);\n",
              "            observer.disconnect();\n",
              "        }}\n",
              "}});\n",
              "\n",
              "// Listen for the removal of the full notebook cells\n",
              "var notebookContainer = gd.closest('#notebook-container');\n",
              "if (notebookContainer) {{\n",
              "    x.observe(notebookContainer, {childList: true});\n",
              "}}\n",
              "\n",
              "// Listen for the clearing of the current output cell\n",
              "var outputEl = gd.closest('.output');\n",
              "if (outputEl) {{\n",
              "    x.observe(outputEl, {childList: true});\n",
              "}}\n",
              "\n",
              "                        })                };                            </script>        </div>\n",
              "</body>\n",
              "</html>"
            ]
          },
          "metadata": {}
        }
      ]
    },
    {
      "cell_type": "code",
      "source": [
        "fig = px.line(x=n_clusters, y=silhouette_scores, title='K-Means Model: Silhouette Score vs Number of Clusters')\n",
        "\n",
        "fig.update_layout(xaxis_title='Number of Clusters', yaxis_title='Silhouette Score')\n",
        "\n",
        "fig.show()"
      ],
      "metadata": {
        "colab": {
          "base_uri": "https://localhost:8080/",
          "height": 542
        },
        "id": "NptrGHo4XzcG",
        "outputId": "a8db1c74-e918-45da-e06e-7c6b1c5c08d2"
      },
      "execution_count": null,
      "outputs": [
        {
          "output_type": "display_data",
          "data": {
            "text/html": [
              "<html>\n",
              "<head><meta charset=\"utf-8\" /></head>\n",
              "<body>\n",
              "    <div>            <script src=\"https://cdnjs.cloudflare.com/ajax/libs/mathjax/2.7.5/MathJax.js?config=TeX-AMS-MML_SVG\"></script><script type=\"text/javascript\">if (window.MathJax && window.MathJax.Hub && window.MathJax.Hub.Config) {window.MathJax.Hub.Config({SVG: {font: \"STIX-Web\"}});}</script>                <script type=\"text/javascript\">window.PlotlyConfig = {MathJaxConfig: 'local'};</script>\n",
              "        <script charset=\"utf-8\" src=\"https://cdn.plot.ly/plotly-2.24.1.min.js\"></script>                <div id=\"1c0c28e3-af7a-40eb-b57c-4874dfc4f505\" class=\"plotly-graph-div\" style=\"height:525px; width:100%;\"></div>            <script type=\"text/javascript\">                                    window.PLOTLYENV=window.PLOTLYENV || {};                                    if (document.getElementById(\"1c0c28e3-af7a-40eb-b57c-4874dfc4f505\")) {                    Plotly.newPlot(                        \"1c0c28e3-af7a-40eb-b57c-4874dfc4f505\",                        [{\"hovertemplate\":\"x=%{x}\\u003cbr\\u003ey=%{y}\\u003cextra\\u003e\\u003c\\u002fextra\\u003e\",\"legendgroup\":\"\",\"line\":{\"color\":\"#636efa\",\"dash\":\"solid\"},\"marker\":{\"symbol\":\"circle\"},\"mode\":\"lines\",\"name\":\"\",\"orientation\":\"v\",\"showlegend\":false,\"x\":[2,3,4,5,6,7,8,9,10,11,12,13,14,15,16,17,18,19,20,21,22,23,24,25,26,27,28,29,30,31,32,33,34,35,36,37,38,39],\"xaxis\":\"x\",\"y\":[0.3378087228849683,0.415319785274864,0.3952358132251198,0.3610794962425231,0.3794594479878303,0.4026484918733608,0.4155899871014281,0.428015751802568,0.4375676895853315,0.4571429955751754,0.4680181350883917,0.46565303486351023,0.47542042858147604,0.4808544957838069,0.48685202348858303,0.4712013048933531,0.473744093429763,0.48193236318779215,0.5021658061810115,0.4872921977649175,0.4999158773023978,0.49500099245700707,0.460915175007927,0.5102388252968272,0.5116900594667084,0.4774834352206344,0.47243102876546933,0.5022938805897799,0.49539373815182686,0.4883133657342149,0.49149884644313935,0.4864300377018985,0.48939873558082136,0.49469946608228604,0.4889477910972712,0.5072433147175827,0.4970990982953588,0.5003013357934012],\"yaxis\":\"y\",\"type\":\"scatter\"}],                        {\"template\":{\"data\":{\"histogram2dcontour\":[{\"type\":\"histogram2dcontour\",\"colorbar\":{\"outlinewidth\":0,\"ticks\":\"\"},\"colorscale\":[[0.0,\"#0d0887\"],[0.1111111111111111,\"#46039f\"],[0.2222222222222222,\"#7201a8\"],[0.3333333333333333,\"#9c179e\"],[0.4444444444444444,\"#bd3786\"],[0.5555555555555556,\"#d8576b\"],[0.6666666666666666,\"#ed7953\"],[0.7777777777777778,\"#fb9f3a\"],[0.8888888888888888,\"#fdca26\"],[1.0,\"#f0f921\"]]}],\"choropleth\":[{\"type\":\"choropleth\",\"colorbar\":{\"outlinewidth\":0,\"ticks\":\"\"}}],\"histogram2d\":[{\"type\":\"histogram2d\",\"colorbar\":{\"outlinewidth\":0,\"ticks\":\"\"},\"colorscale\":[[0.0,\"#0d0887\"],[0.1111111111111111,\"#46039f\"],[0.2222222222222222,\"#7201a8\"],[0.3333333333333333,\"#9c179e\"],[0.4444444444444444,\"#bd3786\"],[0.5555555555555556,\"#d8576b\"],[0.6666666666666666,\"#ed7953\"],[0.7777777777777778,\"#fb9f3a\"],[0.8888888888888888,\"#fdca26\"],[1.0,\"#f0f921\"]]}],\"heatmap\":[{\"type\":\"heatmap\",\"colorbar\":{\"outlinewidth\":0,\"ticks\":\"\"},\"colorscale\":[[0.0,\"#0d0887\"],[0.1111111111111111,\"#46039f\"],[0.2222222222222222,\"#7201a8\"],[0.3333333333333333,\"#9c179e\"],[0.4444444444444444,\"#bd3786\"],[0.5555555555555556,\"#d8576b\"],[0.6666666666666666,\"#ed7953\"],[0.7777777777777778,\"#fb9f3a\"],[0.8888888888888888,\"#fdca26\"],[1.0,\"#f0f921\"]]}],\"heatmapgl\":[{\"type\":\"heatmapgl\",\"colorbar\":{\"outlinewidth\":0,\"ticks\":\"\"},\"colorscale\":[[0.0,\"#0d0887\"],[0.1111111111111111,\"#46039f\"],[0.2222222222222222,\"#7201a8\"],[0.3333333333333333,\"#9c179e\"],[0.4444444444444444,\"#bd3786\"],[0.5555555555555556,\"#d8576b\"],[0.6666666666666666,\"#ed7953\"],[0.7777777777777778,\"#fb9f3a\"],[0.8888888888888888,\"#fdca26\"],[1.0,\"#f0f921\"]]}],\"contourcarpet\":[{\"type\":\"contourcarpet\",\"colorbar\":{\"outlinewidth\":0,\"ticks\":\"\"}}],\"contour\":[{\"type\":\"contour\",\"colorbar\":{\"outlinewidth\":0,\"ticks\":\"\"},\"colorscale\":[[0.0,\"#0d0887\"],[0.1111111111111111,\"#46039f\"],[0.2222222222222222,\"#7201a8\"],[0.3333333333333333,\"#9c179e\"],[0.4444444444444444,\"#bd3786\"],[0.5555555555555556,\"#d8576b\"],[0.6666666666666666,\"#ed7953\"],[0.7777777777777778,\"#fb9f3a\"],[0.8888888888888888,\"#fdca26\"],[1.0,\"#f0f921\"]]}],\"surface\":[{\"type\":\"surface\",\"colorbar\":{\"outlinewidth\":0,\"ticks\":\"\"},\"colorscale\":[[0.0,\"#0d0887\"],[0.1111111111111111,\"#46039f\"],[0.2222222222222222,\"#7201a8\"],[0.3333333333333333,\"#9c179e\"],[0.4444444444444444,\"#bd3786\"],[0.5555555555555556,\"#d8576b\"],[0.6666666666666666,\"#ed7953\"],[0.7777777777777778,\"#fb9f3a\"],[0.8888888888888888,\"#fdca26\"],[1.0,\"#f0f921\"]]}],\"mesh3d\":[{\"type\":\"mesh3d\",\"colorbar\":{\"outlinewidth\":0,\"ticks\":\"\"}}],\"scatter\":[{\"fillpattern\":{\"fillmode\":\"overlay\",\"size\":10,\"solidity\":0.2},\"type\":\"scatter\"}],\"parcoords\":[{\"type\":\"parcoords\",\"line\":{\"colorbar\":{\"outlinewidth\":0,\"ticks\":\"\"}}}],\"scatterpolargl\":[{\"type\":\"scatterpolargl\",\"marker\":{\"colorbar\":{\"outlinewidth\":0,\"ticks\":\"\"}}}],\"bar\":[{\"error_x\":{\"color\":\"#2a3f5f\"},\"error_y\":{\"color\":\"#2a3f5f\"},\"marker\":{\"line\":{\"color\":\"#E5ECF6\",\"width\":0.5},\"pattern\":{\"fillmode\":\"overlay\",\"size\":10,\"solidity\":0.2}},\"type\":\"bar\"}],\"scattergeo\":[{\"type\":\"scattergeo\",\"marker\":{\"colorbar\":{\"outlinewidth\":0,\"ticks\":\"\"}}}],\"scatterpolar\":[{\"type\":\"scatterpolar\",\"marker\":{\"colorbar\":{\"outlinewidth\":0,\"ticks\":\"\"}}}],\"histogram\":[{\"marker\":{\"pattern\":{\"fillmode\":\"overlay\",\"size\":10,\"solidity\":0.2}},\"type\":\"histogram\"}],\"scattergl\":[{\"type\":\"scattergl\",\"marker\":{\"colorbar\":{\"outlinewidth\":0,\"ticks\":\"\"}}}],\"scatter3d\":[{\"type\":\"scatter3d\",\"line\":{\"colorbar\":{\"outlinewidth\":0,\"ticks\":\"\"}},\"marker\":{\"colorbar\":{\"outlinewidth\":0,\"ticks\":\"\"}}}],\"scattermapbox\":[{\"type\":\"scattermapbox\",\"marker\":{\"colorbar\":{\"outlinewidth\":0,\"ticks\":\"\"}}}],\"scatterternary\":[{\"type\":\"scatterternary\",\"marker\":{\"colorbar\":{\"outlinewidth\":0,\"ticks\":\"\"}}}],\"scattercarpet\":[{\"type\":\"scattercarpet\",\"marker\":{\"colorbar\":{\"outlinewidth\":0,\"ticks\":\"\"}}}],\"carpet\":[{\"aaxis\":{\"endlinecolor\":\"#2a3f5f\",\"gridcolor\":\"white\",\"linecolor\":\"white\",\"minorgridcolor\":\"white\",\"startlinecolor\":\"#2a3f5f\"},\"baxis\":{\"endlinecolor\":\"#2a3f5f\",\"gridcolor\":\"white\",\"linecolor\":\"white\",\"minorgridcolor\":\"white\",\"startlinecolor\":\"#2a3f5f\"},\"type\":\"carpet\"}],\"table\":[{\"cells\":{\"fill\":{\"color\":\"#EBF0F8\"},\"line\":{\"color\":\"white\"}},\"header\":{\"fill\":{\"color\":\"#C8D4E3\"},\"line\":{\"color\":\"white\"}},\"type\":\"table\"}],\"barpolar\":[{\"marker\":{\"line\":{\"color\":\"#E5ECF6\",\"width\":0.5},\"pattern\":{\"fillmode\":\"overlay\",\"size\":10,\"solidity\":0.2}},\"type\":\"barpolar\"}],\"pie\":[{\"automargin\":true,\"type\":\"pie\"}]},\"layout\":{\"autotypenumbers\":\"strict\",\"colorway\":[\"#636efa\",\"#EF553B\",\"#00cc96\",\"#ab63fa\",\"#FFA15A\",\"#19d3f3\",\"#FF6692\",\"#B6E880\",\"#FF97FF\",\"#FECB52\"],\"font\":{\"color\":\"#2a3f5f\"},\"hovermode\":\"closest\",\"hoverlabel\":{\"align\":\"left\"},\"paper_bgcolor\":\"white\",\"plot_bgcolor\":\"#E5ECF6\",\"polar\":{\"bgcolor\":\"#E5ECF6\",\"angularaxis\":{\"gridcolor\":\"white\",\"linecolor\":\"white\",\"ticks\":\"\"},\"radialaxis\":{\"gridcolor\":\"white\",\"linecolor\":\"white\",\"ticks\":\"\"}},\"ternary\":{\"bgcolor\":\"#E5ECF6\",\"aaxis\":{\"gridcolor\":\"white\",\"linecolor\":\"white\",\"ticks\":\"\"},\"baxis\":{\"gridcolor\":\"white\",\"linecolor\":\"white\",\"ticks\":\"\"},\"caxis\":{\"gridcolor\":\"white\",\"linecolor\":\"white\",\"ticks\":\"\"}},\"coloraxis\":{\"colorbar\":{\"outlinewidth\":0,\"ticks\":\"\"}},\"colorscale\":{\"sequential\":[[0.0,\"#0d0887\"],[0.1111111111111111,\"#46039f\"],[0.2222222222222222,\"#7201a8\"],[0.3333333333333333,\"#9c179e\"],[0.4444444444444444,\"#bd3786\"],[0.5555555555555556,\"#d8576b\"],[0.6666666666666666,\"#ed7953\"],[0.7777777777777778,\"#fb9f3a\"],[0.8888888888888888,\"#fdca26\"],[1.0,\"#f0f921\"]],\"sequentialminus\":[[0.0,\"#0d0887\"],[0.1111111111111111,\"#46039f\"],[0.2222222222222222,\"#7201a8\"],[0.3333333333333333,\"#9c179e\"],[0.4444444444444444,\"#bd3786\"],[0.5555555555555556,\"#d8576b\"],[0.6666666666666666,\"#ed7953\"],[0.7777777777777778,\"#fb9f3a\"],[0.8888888888888888,\"#fdca26\"],[1.0,\"#f0f921\"]],\"diverging\":[[0,\"#8e0152\"],[0.1,\"#c51b7d\"],[0.2,\"#de77ae\"],[0.3,\"#f1b6da\"],[0.4,\"#fde0ef\"],[0.5,\"#f7f7f7\"],[0.6,\"#e6f5d0\"],[0.7,\"#b8e186\"],[0.8,\"#7fbc41\"],[0.9,\"#4d9221\"],[1,\"#276419\"]]},\"xaxis\":{\"gridcolor\":\"white\",\"linecolor\":\"white\",\"ticks\":\"\",\"title\":{\"standoff\":15},\"zerolinecolor\":\"white\",\"automargin\":true,\"zerolinewidth\":2},\"yaxis\":{\"gridcolor\":\"white\",\"linecolor\":\"white\",\"ticks\":\"\",\"title\":{\"standoff\":15},\"zerolinecolor\":\"white\",\"automargin\":true,\"zerolinewidth\":2},\"scene\":{\"xaxis\":{\"backgroundcolor\":\"#E5ECF6\",\"gridcolor\":\"white\",\"linecolor\":\"white\",\"showbackground\":true,\"ticks\":\"\",\"zerolinecolor\":\"white\",\"gridwidth\":2},\"yaxis\":{\"backgroundcolor\":\"#E5ECF6\",\"gridcolor\":\"white\",\"linecolor\":\"white\",\"showbackground\":true,\"ticks\":\"\",\"zerolinecolor\":\"white\",\"gridwidth\":2},\"zaxis\":{\"backgroundcolor\":\"#E5ECF6\",\"gridcolor\":\"white\",\"linecolor\":\"white\",\"showbackground\":true,\"ticks\":\"\",\"zerolinecolor\":\"white\",\"gridwidth\":2}},\"shapedefaults\":{\"line\":{\"color\":\"#2a3f5f\"}},\"annotationdefaults\":{\"arrowcolor\":\"#2a3f5f\",\"arrowhead\":0,\"arrowwidth\":1},\"geo\":{\"bgcolor\":\"white\",\"landcolor\":\"#E5ECF6\",\"subunitcolor\":\"white\",\"showland\":true,\"showlakes\":true,\"lakecolor\":\"white\"},\"title\":{\"x\":0.05},\"mapbox\":{\"style\":\"light\"}}},\"xaxis\":{\"anchor\":\"y\",\"domain\":[0.0,1.0],\"title\":{\"text\":\"Number of Clusters\"}},\"yaxis\":{\"anchor\":\"x\",\"domain\":[0.0,1.0],\"title\":{\"text\":\"Silhouette Score\"}},\"legend\":{\"tracegroupgap\":0},\"title\":{\"text\":\"K-Means Model: Silhouette Score vs Number of Clusters\"}},                        {\"responsive\": true}                    ).then(function(){\n",
              "                            \n",
              "var gd = document.getElementById('1c0c28e3-af7a-40eb-b57c-4874dfc4f505');\n",
              "var x = new MutationObserver(function (mutations, observer) {{\n",
              "        var display = window.getComputedStyle(gd).display;\n",
              "        if (!display || display === 'none') {{\n",
              "            console.log([gd, 'removed!']);\n",
              "            Plotly.purge(gd);\n",
              "            observer.disconnect();\n",
              "        }}\n",
              "}});\n",
              "\n",
              "// Listen for the removal of the full notebook cells\n",
              "var notebookContainer = gd.closest('#notebook-container');\n",
              "if (notebookContainer) {{\n",
              "    x.observe(notebookContainer, {childList: true});\n",
              "}}\n",
              "\n",
              "// Listen for the clearing of the current output cell\n",
              "var outputEl = gd.closest('.output');\n",
              "if (outputEl) {{\n",
              "    x.observe(outputEl, {childList: true});\n",
              "}}\n",
              "\n",
              "                        })                };                            </script>        </div>\n",
              "</body>\n",
              "</html>"
            ]
          },
          "metadata": {}
        }
      ]
    },
    {
      "cell_type": "code",
      "source": [
        "new_model = make_pipeline(MinMaxScaler(), KMeans(n_clusters=3, random_state=42))\n",
        "new_model.fit(X_new)"
      ],
      "metadata": {
        "colab": {
          "base_uri": "https://localhost:8080/",
          "height": 200
        },
        "id": "NbHF1jhBZSBd",
        "outputId": "dd1b4714-76a9-41bb-e475-21747092c4a8"
      },
      "execution_count": null,
      "outputs": [
        {
          "output_type": "stream",
          "name": "stderr",
          "text": [
            "/usr/local/lib/python3.10/dist-packages/sklearn/cluster/_kmeans.py:870: FutureWarning:\n",
            "\n",
            "The default value of `n_init` will change from 10 to 'auto' in 1.4. Set the value of `n_init` explicitly to suppress the warning\n",
            "\n"
          ]
        },
        {
          "output_type": "execute_result",
          "data": {
            "text/plain": [
              "Pipeline(steps=[('minmaxscaler', MinMaxScaler()),\n",
              "                ('kmeans', KMeans(n_clusters=3, random_state=42))])"
            ],
            "text/html": [
              "<style>#sk-container-id-6 {color: black;background-color: white;}#sk-container-id-6 pre{padding: 0;}#sk-container-id-6 div.sk-toggleable {background-color: white;}#sk-container-id-6 label.sk-toggleable__label {cursor: pointer;display: block;width: 100%;margin-bottom: 0;padding: 0.3em;box-sizing: border-box;text-align: center;}#sk-container-id-6 label.sk-toggleable__label-arrow:before {content: \"▸\";float: left;margin-right: 0.25em;color: #696969;}#sk-container-id-6 label.sk-toggleable__label-arrow:hover:before {color: black;}#sk-container-id-6 div.sk-estimator:hover label.sk-toggleable__label-arrow:before {color: black;}#sk-container-id-6 div.sk-toggleable__content {max-height: 0;max-width: 0;overflow: hidden;text-align: left;background-color: #f0f8ff;}#sk-container-id-6 div.sk-toggleable__content pre {margin: 0.2em;color: black;border-radius: 0.25em;background-color: #f0f8ff;}#sk-container-id-6 input.sk-toggleable__control:checked~div.sk-toggleable__content {max-height: 200px;max-width: 100%;overflow: auto;}#sk-container-id-6 input.sk-toggleable__control:checked~label.sk-toggleable__label-arrow:before {content: \"▾\";}#sk-container-id-6 div.sk-estimator input.sk-toggleable__control:checked~label.sk-toggleable__label {background-color: #d4ebff;}#sk-container-id-6 div.sk-label input.sk-toggleable__control:checked~label.sk-toggleable__label {background-color: #d4ebff;}#sk-container-id-6 input.sk-hidden--visually {border: 0;clip: rect(1px 1px 1px 1px);clip: rect(1px, 1px, 1px, 1px);height: 1px;margin: -1px;overflow: hidden;padding: 0;position: absolute;width: 1px;}#sk-container-id-6 div.sk-estimator {font-family: monospace;background-color: #f0f8ff;border: 1px dotted black;border-radius: 0.25em;box-sizing: border-box;margin-bottom: 0.5em;}#sk-container-id-6 div.sk-estimator:hover {background-color: #d4ebff;}#sk-container-id-6 div.sk-parallel-item::after {content: \"\";width: 100%;border-bottom: 1px solid gray;flex-grow: 1;}#sk-container-id-6 div.sk-label:hover label.sk-toggleable__label {background-color: #d4ebff;}#sk-container-id-6 div.sk-serial::before {content: \"\";position: absolute;border-left: 1px solid gray;box-sizing: border-box;top: 0;bottom: 0;left: 50%;z-index: 0;}#sk-container-id-6 div.sk-serial {display: flex;flex-direction: column;align-items: center;background-color: white;padding-right: 0.2em;padding-left: 0.2em;position: relative;}#sk-container-id-6 div.sk-item {position: relative;z-index: 1;}#sk-container-id-6 div.sk-parallel {display: flex;align-items: stretch;justify-content: center;background-color: white;position: relative;}#sk-container-id-6 div.sk-item::before, #sk-container-id-6 div.sk-parallel-item::before {content: \"\";position: absolute;border-left: 1px solid gray;box-sizing: border-box;top: 0;bottom: 0;left: 50%;z-index: -1;}#sk-container-id-6 div.sk-parallel-item {display: flex;flex-direction: column;z-index: 1;position: relative;background-color: white;}#sk-container-id-6 div.sk-parallel-item:first-child::after {align-self: flex-end;width: 50%;}#sk-container-id-6 div.sk-parallel-item:last-child::after {align-self: flex-start;width: 50%;}#sk-container-id-6 div.sk-parallel-item:only-child::after {width: 0;}#sk-container-id-6 div.sk-dashed-wrapped {border: 1px dashed gray;margin: 0 0.4em 0.5em 0.4em;box-sizing: border-box;padding-bottom: 0.4em;background-color: white;}#sk-container-id-6 div.sk-label label {font-family: monospace;font-weight: bold;display: inline-block;line-height: 1.2em;}#sk-container-id-6 div.sk-label-container {text-align: center;}#sk-container-id-6 div.sk-container {/* jupyter's `normalize.less` sets `[hidden] { display: none; }` but bootstrap.min.css set `[hidden] { display: none !important; }` so we also need the `!important` here to be able to override the default hidden behavior on the sphinx rendered scikit-learn.org. See: https://github.com/scikit-learn/scikit-learn/issues/21755 */display: inline-block !important;position: relative;}#sk-container-id-6 div.sk-text-repr-fallback {display: none;}</style><div id=\"sk-container-id-6\" class=\"sk-top-container\"><div class=\"sk-text-repr-fallback\"><pre>Pipeline(steps=[(&#x27;minmaxscaler&#x27;, MinMaxScaler()),\n",
              "                (&#x27;kmeans&#x27;, KMeans(n_clusters=3, random_state=42))])</pre><b>In a Jupyter environment, please rerun this cell to show the HTML representation or trust the notebook. <br />On GitHub, the HTML representation is unable to render, please try loading this page with nbviewer.org.</b></div><div class=\"sk-container\" hidden><div class=\"sk-item sk-dashed-wrapped\"><div class=\"sk-label-container\"><div class=\"sk-label sk-toggleable\"><input class=\"sk-toggleable__control sk-hidden--visually\" id=\"sk-estimator-id-10\" type=\"checkbox\" ><label for=\"sk-estimator-id-10\" class=\"sk-toggleable__label sk-toggleable__label-arrow\">Pipeline</label><div class=\"sk-toggleable__content\"><pre>Pipeline(steps=[(&#x27;minmaxscaler&#x27;, MinMaxScaler()),\n",
              "                (&#x27;kmeans&#x27;, KMeans(n_clusters=3, random_state=42))])</pre></div></div></div><div class=\"sk-serial\"><div class=\"sk-item\"><div class=\"sk-estimator sk-toggleable\"><input class=\"sk-toggleable__control sk-hidden--visually\" id=\"sk-estimator-id-11\" type=\"checkbox\" ><label for=\"sk-estimator-id-11\" class=\"sk-toggleable__label sk-toggleable__label-arrow\">MinMaxScaler</label><div class=\"sk-toggleable__content\"><pre>MinMaxScaler()</pre></div></div></div><div class=\"sk-item\"><div class=\"sk-estimator sk-toggleable\"><input class=\"sk-toggleable__control sk-hidden--visually\" id=\"sk-estimator-id-12\" type=\"checkbox\" ><label for=\"sk-estimator-id-12\" class=\"sk-toggleable__label sk-toggleable__label-arrow\">KMeans</label><div class=\"sk-toggleable__content\"><pre>KMeans(n_clusters=3, random_state=42)</pre></div></div></div></div></div></div></div>"
            ]
          },
          "metadata": {},
          "execution_count": 87
        }
      ]
    },
    {
      "cell_type": "code",
      "source": [
        "labels = new_model.named_steps['kmeans'].labels_"
      ],
      "metadata": {
        "id": "tjve-F5tW5Do"
      },
      "execution_count": null,
      "outputs": []
    },
    {
      "cell_type": "code",
      "source": [
        "xgb = X.groupby(labels).mean().astype(int)\n",
        "\n",
        "xgb.head()"
      ],
      "metadata": {
        "colab": {
          "base_uri": "https://localhost:8080/",
          "height": 143
        },
        "id": "YkjuiNcwXBke",
        "outputId": "55f1d85d-9ee9-4e21-e8f4-96b2a894ecb8"
      },
      "execution_count": null,
      "outputs": [
        {
          "output_type": "execute_result",
          "data": {
            "text/plain": [
              "   Power42  Power43  Power78  Power18  Power30  Power70  Power19  Power79  \\\n",
              "0    78792    77617    69832    69391    79123    63842    67818    69862   \n",
              "1    73050    72168    69494    98245    74769    66805    93488    68644   \n",
              "2    62805    62442    75174    90124    95359    85299    93329    77562   \n",
              "\n",
              "   Power50  Power17  \n",
              "0    70074    73312  \n",
              "1    67709   104892  \n",
              "2    88031    89684  "
            ],
            "text/html": [
              "\n",
              "  <div id=\"df-a9fc396a-cd90-468c-8412-8bb0ae2ddc94\" class=\"colab-df-container\">\n",
              "    <div>\n",
              "<style scoped>\n",
              "    .dataframe tbody tr th:only-of-type {\n",
              "        vertical-align: middle;\n",
              "    }\n",
              "\n",
              "    .dataframe tbody tr th {\n",
              "        vertical-align: top;\n",
              "    }\n",
              "\n",
              "    .dataframe thead th {\n",
              "        text-align: right;\n",
              "    }\n",
              "</style>\n",
              "<table border=\"1\" class=\"dataframe\">\n",
              "  <thead>\n",
              "    <tr style=\"text-align: right;\">\n",
              "      <th></th>\n",
              "      <th>Power42</th>\n",
              "      <th>Power43</th>\n",
              "      <th>Power78</th>\n",
              "      <th>Power18</th>\n",
              "      <th>Power30</th>\n",
              "      <th>Power70</th>\n",
              "      <th>Power19</th>\n",
              "      <th>Power79</th>\n",
              "      <th>Power50</th>\n",
              "      <th>Power17</th>\n",
              "    </tr>\n",
              "  </thead>\n",
              "  <tbody>\n",
              "    <tr>\n",
              "      <th>0</th>\n",
              "      <td>78792</td>\n",
              "      <td>77617</td>\n",
              "      <td>69832</td>\n",
              "      <td>69391</td>\n",
              "      <td>79123</td>\n",
              "      <td>63842</td>\n",
              "      <td>67818</td>\n",
              "      <td>69862</td>\n",
              "      <td>70074</td>\n",
              "      <td>73312</td>\n",
              "    </tr>\n",
              "    <tr>\n",
              "      <th>1</th>\n",
              "      <td>73050</td>\n",
              "      <td>72168</td>\n",
              "      <td>69494</td>\n",
              "      <td>98245</td>\n",
              "      <td>74769</td>\n",
              "      <td>66805</td>\n",
              "      <td>93488</td>\n",
              "      <td>68644</td>\n",
              "      <td>67709</td>\n",
              "      <td>104892</td>\n",
              "    </tr>\n",
              "    <tr>\n",
              "      <th>2</th>\n",
              "      <td>62805</td>\n",
              "      <td>62442</td>\n",
              "      <td>75174</td>\n",
              "      <td>90124</td>\n",
              "      <td>95359</td>\n",
              "      <td>85299</td>\n",
              "      <td>93329</td>\n",
              "      <td>77562</td>\n",
              "      <td>88031</td>\n",
              "      <td>89684</td>\n",
              "    </tr>\n",
              "  </tbody>\n",
              "</table>\n",
              "</div>\n",
              "    <div class=\"colab-df-buttons\">\n",
              "\n",
              "  <div class=\"colab-df-container\">\n",
              "    <button class=\"colab-df-convert\" onclick=\"convertToInteractive('df-a9fc396a-cd90-468c-8412-8bb0ae2ddc94')\"\n",
              "            title=\"Convert this dataframe to an interactive table.\"\n",
              "            style=\"display:none;\">\n",
              "\n",
              "  <svg xmlns=\"http://www.w3.org/2000/svg\" height=\"24px\" viewBox=\"0 -960 960 960\">\n",
              "    <path d=\"M120-120v-720h720v720H120Zm60-500h600v-160H180v160Zm220 220h160v-160H400v160Zm0 220h160v-160H400v160ZM180-400h160v-160H180v160Zm440 0h160v-160H620v160ZM180-180h160v-160H180v160Zm440 0h160v-160H620v160Z\"/>\n",
              "  </svg>\n",
              "    </button>\n",
              "\n",
              "  <style>\n",
              "    .colab-df-container {\n",
              "      display:flex;\n",
              "      gap: 12px;\n",
              "    }\n",
              "\n",
              "    .colab-df-convert {\n",
              "      background-color: #E8F0FE;\n",
              "      border: none;\n",
              "      border-radius: 50%;\n",
              "      cursor: pointer;\n",
              "      display: none;\n",
              "      fill: #1967D2;\n",
              "      height: 32px;\n",
              "      padding: 0 0 0 0;\n",
              "      width: 32px;\n",
              "    }\n",
              "\n",
              "    .colab-df-convert:hover {\n",
              "      background-color: #E2EBFA;\n",
              "      box-shadow: 0px 1px 2px rgba(60, 64, 67, 0.3), 0px 1px 3px 1px rgba(60, 64, 67, 0.15);\n",
              "      fill: #174EA6;\n",
              "    }\n",
              "\n",
              "    .colab-df-buttons div {\n",
              "      margin-bottom: 4px;\n",
              "    }\n",
              "\n",
              "    [theme=dark] .colab-df-convert {\n",
              "      background-color: #3B4455;\n",
              "      fill: #D2E3FC;\n",
              "    }\n",
              "\n",
              "    [theme=dark] .colab-df-convert:hover {\n",
              "      background-color: #434B5C;\n",
              "      box-shadow: 0px 1px 3px 1px rgba(0, 0, 0, 0.15);\n",
              "      filter: drop-shadow(0px 1px 2px rgba(0, 0, 0, 0.3));\n",
              "      fill: #FFFFFF;\n",
              "    }\n",
              "  </style>\n",
              "\n",
              "    <script>\n",
              "      const buttonEl =\n",
              "        document.querySelector('#df-a9fc396a-cd90-468c-8412-8bb0ae2ddc94 button.colab-df-convert');\n",
              "      buttonEl.style.display =\n",
              "        google.colab.kernel.accessAllowed ? 'block' : 'none';\n",
              "\n",
              "      async function convertToInteractive(key) {\n",
              "        const element = document.querySelector('#df-a9fc396a-cd90-468c-8412-8bb0ae2ddc94');\n",
              "        const dataTable =\n",
              "          await google.colab.kernel.invokeFunction('convertToInteractive',\n",
              "                                                    [key], {});\n",
              "        if (!dataTable) return;\n",
              "\n",
              "        const docLinkHtml = 'Like what you see? Visit the ' +\n",
              "          '<a target=\"_blank\" href=https://colab.research.google.com/notebooks/data_table.ipynb>data table notebook</a>'\n",
              "          + ' to learn more about interactive tables.';\n",
              "        element.innerHTML = '';\n",
              "        dataTable['output_type'] = 'display_data';\n",
              "        await google.colab.output.renderOutput(dataTable, element);\n",
              "        const docLink = document.createElement('div');\n",
              "        docLink.innerHTML = docLinkHtml;\n",
              "        element.appendChild(docLink);\n",
              "      }\n",
              "    </script>\n",
              "  </div>\n",
              "\n",
              "\n",
              "<div id=\"df-fc309ad2-ea1a-40c6-bff1-dcac38f99517\">\n",
              "  <button class=\"colab-df-quickchart\" onclick=\"quickchart('df-fc309ad2-ea1a-40c6-bff1-dcac38f99517')\"\n",
              "            title=\"Suggest charts\"\n",
              "            style=\"display:none;\">\n",
              "\n",
              "<svg xmlns=\"http://www.w3.org/2000/svg\" height=\"24px\"viewBox=\"0 0 24 24\"\n",
              "     width=\"24px\">\n",
              "    <g>\n",
              "        <path d=\"M19 3H5c-1.1 0-2 .9-2 2v14c0 1.1.9 2 2 2h14c1.1 0 2-.9 2-2V5c0-1.1-.9-2-2-2zM9 17H7v-7h2v7zm4 0h-2V7h2v10zm4 0h-2v-4h2v4z\"/>\n",
              "    </g>\n",
              "</svg>\n",
              "  </button>\n",
              "\n",
              "<style>\n",
              "  .colab-df-quickchart {\n",
              "      --bg-color: #E8F0FE;\n",
              "      --fill-color: #1967D2;\n",
              "      --hover-bg-color: #E2EBFA;\n",
              "      --hover-fill-color: #174EA6;\n",
              "      --disabled-fill-color: #AAA;\n",
              "      --disabled-bg-color: #DDD;\n",
              "  }\n",
              "\n",
              "  [theme=dark] .colab-df-quickchart {\n",
              "      --bg-color: #3B4455;\n",
              "      --fill-color: #D2E3FC;\n",
              "      --hover-bg-color: #434B5C;\n",
              "      --hover-fill-color: #FFFFFF;\n",
              "      --disabled-bg-color: #3B4455;\n",
              "      --disabled-fill-color: #666;\n",
              "  }\n",
              "\n",
              "  .colab-df-quickchart {\n",
              "    background-color: var(--bg-color);\n",
              "    border: none;\n",
              "    border-radius: 50%;\n",
              "    cursor: pointer;\n",
              "    display: none;\n",
              "    fill: var(--fill-color);\n",
              "    height: 32px;\n",
              "    padding: 0;\n",
              "    width: 32px;\n",
              "  }\n",
              "\n",
              "  .colab-df-quickchart:hover {\n",
              "    background-color: var(--hover-bg-color);\n",
              "    box-shadow: 0 1px 2px rgba(60, 64, 67, 0.3), 0 1px 3px 1px rgba(60, 64, 67, 0.15);\n",
              "    fill: var(--button-hover-fill-color);\n",
              "  }\n",
              "\n",
              "  .colab-df-quickchart-complete:disabled,\n",
              "  .colab-df-quickchart-complete:disabled:hover {\n",
              "    background-color: var(--disabled-bg-color);\n",
              "    fill: var(--disabled-fill-color);\n",
              "    box-shadow: none;\n",
              "  }\n",
              "\n",
              "  .colab-df-spinner {\n",
              "    border: 2px solid var(--fill-color);\n",
              "    border-color: transparent;\n",
              "    border-bottom-color: var(--fill-color);\n",
              "    animation:\n",
              "      spin 1s steps(1) infinite;\n",
              "  }\n",
              "\n",
              "  @keyframes spin {\n",
              "    0% {\n",
              "      border-color: transparent;\n",
              "      border-bottom-color: var(--fill-color);\n",
              "      border-left-color: var(--fill-color);\n",
              "    }\n",
              "    20% {\n",
              "      border-color: transparent;\n",
              "      border-left-color: var(--fill-color);\n",
              "      border-top-color: var(--fill-color);\n",
              "    }\n",
              "    30% {\n",
              "      border-color: transparent;\n",
              "      border-left-color: var(--fill-color);\n",
              "      border-top-color: var(--fill-color);\n",
              "      border-right-color: var(--fill-color);\n",
              "    }\n",
              "    40% {\n",
              "      border-color: transparent;\n",
              "      border-right-color: var(--fill-color);\n",
              "      border-top-color: var(--fill-color);\n",
              "    }\n",
              "    60% {\n",
              "      border-color: transparent;\n",
              "      border-right-color: var(--fill-color);\n",
              "    }\n",
              "    80% {\n",
              "      border-color: transparent;\n",
              "      border-right-color: var(--fill-color);\n",
              "      border-bottom-color: var(--fill-color);\n",
              "    }\n",
              "    90% {\n",
              "      border-color: transparent;\n",
              "      border-bottom-color: var(--fill-color);\n",
              "    }\n",
              "  }\n",
              "</style>\n",
              "\n",
              "  <script>\n",
              "    async function quickchart(key) {\n",
              "      const quickchartButtonEl =\n",
              "        document.querySelector('#' + key + ' button');\n",
              "      quickchartButtonEl.disabled = true;  // To prevent multiple clicks.\n",
              "      quickchartButtonEl.classList.add('colab-df-spinner');\n",
              "      try {\n",
              "        const charts = await google.colab.kernel.invokeFunction(\n",
              "            'suggestCharts', [key], {});\n",
              "      } catch (error) {\n",
              "        console.error('Error during call to suggestCharts:', error);\n",
              "      }\n",
              "      quickchartButtonEl.classList.remove('colab-df-spinner');\n",
              "      quickchartButtonEl.classList.add('colab-df-quickchart-complete');\n",
              "    }\n",
              "    (() => {\n",
              "      let quickchartButtonEl =\n",
              "        document.querySelector('#df-fc309ad2-ea1a-40c6-bff1-dcac38f99517 button');\n",
              "      quickchartButtonEl.style.display =\n",
              "        google.colab.kernel.accessAllowed ? 'block' : 'none';\n",
              "    })();\n",
              "  </script>\n",
              "</div>\n",
              "    </div>\n",
              "  </div>\n"
            ]
          },
          "metadata": {},
          "execution_count": 89
        }
      ]
    },
    {
      "cell_type": "code",
      "source": [
        "# Create side-by-side bar chart of `xgb`\n",
        "fig = px.bar(\n",
        "    xgb,\n",
        "    barmode='group',\n",
        "    title='Mean Power Impacts by Cluster'\n",
        ")\n",
        "\n",
        "fig.update_layout(xaxis_title='Cluster', yaxis_title='Value [$]')\n",
        "\n",
        "fig.show()"
      ],
      "metadata": {
        "colab": {
          "base_uri": "https://localhost:8080/",
          "height": 542
        },
        "id": "VGSgPXjeXSJI",
        "outputId": "3f445fea-6d7c-4daa-88ad-43759cc60fe6"
      },
      "execution_count": null,
      "outputs": [
        {
          "output_type": "display_data",
          "data": {
            "text/html": [
              "<html>\n",
              "<head><meta charset=\"utf-8\" /></head>\n",
              "<body>\n",
              "    <div>            <script src=\"https://cdnjs.cloudflare.com/ajax/libs/mathjax/2.7.5/MathJax.js?config=TeX-AMS-MML_SVG\"></script><script type=\"text/javascript\">if (window.MathJax && window.MathJax.Hub && window.MathJax.Hub.Config) {window.MathJax.Hub.Config({SVG: {font: \"STIX-Web\"}});}</script>                <script type=\"text/javascript\">window.PlotlyConfig = {MathJaxConfig: 'local'};</script>\n",
              "        <script charset=\"utf-8\" src=\"https://cdn.plot.ly/plotly-2.24.1.min.js\"></script>                <div id=\"1eaf6d6b-04f8-473f-8edc-cf7fc5167759\" class=\"plotly-graph-div\" style=\"height:525px; width:100%;\"></div>            <script type=\"text/javascript\">                                    window.PLOTLYENV=window.PLOTLYENV || {};                                    if (document.getElementById(\"1eaf6d6b-04f8-473f-8edc-cf7fc5167759\")) {                    Plotly.newPlot(                        \"1eaf6d6b-04f8-473f-8edc-cf7fc5167759\",                        [{\"alignmentgroup\":\"True\",\"hovertemplate\":\"variable=Power42\\u003cbr\\u003eindex=%{x}\\u003cbr\\u003evalue=%{y}\\u003cextra\\u003e\\u003c\\u002fextra\\u003e\",\"legendgroup\":\"Power42\",\"marker\":{\"color\":\"#636efa\",\"pattern\":{\"shape\":\"\"}},\"name\":\"Power42\",\"offsetgroup\":\"Power42\",\"orientation\":\"v\",\"showlegend\":true,\"textposition\":\"auto\",\"x\":[0,1,2],\"xaxis\":\"x\",\"y\":[78792,73050,62805],\"yaxis\":\"y\",\"type\":\"bar\"},{\"alignmentgroup\":\"True\",\"hovertemplate\":\"variable=Power43\\u003cbr\\u003eindex=%{x}\\u003cbr\\u003evalue=%{y}\\u003cextra\\u003e\\u003c\\u002fextra\\u003e\",\"legendgroup\":\"Power43\",\"marker\":{\"color\":\"#EF553B\",\"pattern\":{\"shape\":\"\"}},\"name\":\"Power43\",\"offsetgroup\":\"Power43\",\"orientation\":\"v\",\"showlegend\":true,\"textposition\":\"auto\",\"x\":[0,1,2],\"xaxis\":\"x\",\"y\":[77617,72168,62442],\"yaxis\":\"y\",\"type\":\"bar\"},{\"alignmentgroup\":\"True\",\"hovertemplate\":\"variable=Power78\\u003cbr\\u003eindex=%{x}\\u003cbr\\u003evalue=%{y}\\u003cextra\\u003e\\u003c\\u002fextra\\u003e\",\"legendgroup\":\"Power78\",\"marker\":{\"color\":\"#00cc96\",\"pattern\":{\"shape\":\"\"}},\"name\":\"Power78\",\"offsetgroup\":\"Power78\",\"orientation\":\"v\",\"showlegend\":true,\"textposition\":\"auto\",\"x\":[0,1,2],\"xaxis\":\"x\",\"y\":[69832,69494,75174],\"yaxis\":\"y\",\"type\":\"bar\"},{\"alignmentgroup\":\"True\",\"hovertemplate\":\"variable=Power18\\u003cbr\\u003eindex=%{x}\\u003cbr\\u003evalue=%{y}\\u003cextra\\u003e\\u003c\\u002fextra\\u003e\",\"legendgroup\":\"Power18\",\"marker\":{\"color\":\"#ab63fa\",\"pattern\":{\"shape\":\"\"}},\"name\":\"Power18\",\"offsetgroup\":\"Power18\",\"orientation\":\"v\",\"showlegend\":true,\"textposition\":\"auto\",\"x\":[0,1,2],\"xaxis\":\"x\",\"y\":[69391,98245,90124],\"yaxis\":\"y\",\"type\":\"bar\"},{\"alignmentgroup\":\"True\",\"hovertemplate\":\"variable=Power30\\u003cbr\\u003eindex=%{x}\\u003cbr\\u003evalue=%{y}\\u003cextra\\u003e\\u003c\\u002fextra\\u003e\",\"legendgroup\":\"Power30\",\"marker\":{\"color\":\"#FFA15A\",\"pattern\":{\"shape\":\"\"}},\"name\":\"Power30\",\"offsetgroup\":\"Power30\",\"orientation\":\"v\",\"showlegend\":true,\"textposition\":\"auto\",\"x\":[0,1,2],\"xaxis\":\"x\",\"y\":[79123,74769,95359],\"yaxis\":\"y\",\"type\":\"bar\"},{\"alignmentgroup\":\"True\",\"hovertemplate\":\"variable=Power70\\u003cbr\\u003eindex=%{x}\\u003cbr\\u003evalue=%{y}\\u003cextra\\u003e\\u003c\\u002fextra\\u003e\",\"legendgroup\":\"Power70\",\"marker\":{\"color\":\"#19d3f3\",\"pattern\":{\"shape\":\"\"}},\"name\":\"Power70\",\"offsetgroup\":\"Power70\",\"orientation\":\"v\",\"showlegend\":true,\"textposition\":\"auto\",\"x\":[0,1,2],\"xaxis\":\"x\",\"y\":[63842,66805,85299],\"yaxis\":\"y\",\"type\":\"bar\"},{\"alignmentgroup\":\"True\",\"hovertemplate\":\"variable=Power19\\u003cbr\\u003eindex=%{x}\\u003cbr\\u003evalue=%{y}\\u003cextra\\u003e\\u003c\\u002fextra\\u003e\",\"legendgroup\":\"Power19\",\"marker\":{\"color\":\"#FF6692\",\"pattern\":{\"shape\":\"\"}},\"name\":\"Power19\",\"offsetgroup\":\"Power19\",\"orientation\":\"v\",\"showlegend\":true,\"textposition\":\"auto\",\"x\":[0,1,2],\"xaxis\":\"x\",\"y\":[67818,93488,93329],\"yaxis\":\"y\",\"type\":\"bar\"},{\"alignmentgroup\":\"True\",\"hovertemplate\":\"variable=Power79\\u003cbr\\u003eindex=%{x}\\u003cbr\\u003evalue=%{y}\\u003cextra\\u003e\\u003c\\u002fextra\\u003e\",\"legendgroup\":\"Power79\",\"marker\":{\"color\":\"#B6E880\",\"pattern\":{\"shape\":\"\"}},\"name\":\"Power79\",\"offsetgroup\":\"Power79\",\"orientation\":\"v\",\"showlegend\":true,\"textposition\":\"auto\",\"x\":[0,1,2],\"xaxis\":\"x\",\"y\":[69862,68644,77562],\"yaxis\":\"y\",\"type\":\"bar\"},{\"alignmentgroup\":\"True\",\"hovertemplate\":\"variable=Power50\\u003cbr\\u003eindex=%{x}\\u003cbr\\u003evalue=%{y}\\u003cextra\\u003e\\u003c\\u002fextra\\u003e\",\"legendgroup\":\"Power50\",\"marker\":{\"color\":\"#FF97FF\",\"pattern\":{\"shape\":\"\"}},\"name\":\"Power50\",\"offsetgroup\":\"Power50\",\"orientation\":\"v\",\"showlegend\":true,\"textposition\":\"auto\",\"x\":[0,1,2],\"xaxis\":\"x\",\"y\":[70074,67709,88031],\"yaxis\":\"y\",\"type\":\"bar\"},{\"alignmentgroup\":\"True\",\"hovertemplate\":\"variable=Power17\\u003cbr\\u003eindex=%{x}\\u003cbr\\u003evalue=%{y}\\u003cextra\\u003e\\u003c\\u002fextra\\u003e\",\"legendgroup\":\"Power17\",\"marker\":{\"color\":\"#FECB52\",\"pattern\":{\"shape\":\"\"}},\"name\":\"Power17\",\"offsetgroup\":\"Power17\",\"orientation\":\"v\",\"showlegend\":true,\"textposition\":\"auto\",\"x\":[0,1,2],\"xaxis\":\"x\",\"y\":[73312,104892,89684],\"yaxis\":\"y\",\"type\":\"bar\"}],                        {\"template\":{\"data\":{\"histogram2dcontour\":[{\"type\":\"histogram2dcontour\",\"colorbar\":{\"outlinewidth\":0,\"ticks\":\"\"},\"colorscale\":[[0.0,\"#0d0887\"],[0.1111111111111111,\"#46039f\"],[0.2222222222222222,\"#7201a8\"],[0.3333333333333333,\"#9c179e\"],[0.4444444444444444,\"#bd3786\"],[0.5555555555555556,\"#d8576b\"],[0.6666666666666666,\"#ed7953\"],[0.7777777777777778,\"#fb9f3a\"],[0.8888888888888888,\"#fdca26\"],[1.0,\"#f0f921\"]]}],\"choropleth\":[{\"type\":\"choropleth\",\"colorbar\":{\"outlinewidth\":0,\"ticks\":\"\"}}],\"histogram2d\":[{\"type\":\"histogram2d\",\"colorbar\":{\"outlinewidth\":0,\"ticks\":\"\"},\"colorscale\":[[0.0,\"#0d0887\"],[0.1111111111111111,\"#46039f\"],[0.2222222222222222,\"#7201a8\"],[0.3333333333333333,\"#9c179e\"],[0.4444444444444444,\"#bd3786\"],[0.5555555555555556,\"#d8576b\"],[0.6666666666666666,\"#ed7953\"],[0.7777777777777778,\"#fb9f3a\"],[0.8888888888888888,\"#fdca26\"],[1.0,\"#f0f921\"]]}],\"heatmap\":[{\"type\":\"heatmap\",\"colorbar\":{\"outlinewidth\":0,\"ticks\":\"\"},\"colorscale\":[[0.0,\"#0d0887\"],[0.1111111111111111,\"#46039f\"],[0.2222222222222222,\"#7201a8\"],[0.3333333333333333,\"#9c179e\"],[0.4444444444444444,\"#bd3786\"],[0.5555555555555556,\"#d8576b\"],[0.6666666666666666,\"#ed7953\"],[0.7777777777777778,\"#fb9f3a\"],[0.8888888888888888,\"#fdca26\"],[1.0,\"#f0f921\"]]}],\"heatmapgl\":[{\"type\":\"heatmapgl\",\"colorbar\":{\"outlinewidth\":0,\"ticks\":\"\"},\"colorscale\":[[0.0,\"#0d0887\"],[0.1111111111111111,\"#46039f\"],[0.2222222222222222,\"#7201a8\"],[0.3333333333333333,\"#9c179e\"],[0.4444444444444444,\"#bd3786\"],[0.5555555555555556,\"#d8576b\"],[0.6666666666666666,\"#ed7953\"],[0.7777777777777778,\"#fb9f3a\"],[0.8888888888888888,\"#fdca26\"],[1.0,\"#f0f921\"]]}],\"contourcarpet\":[{\"type\":\"contourcarpet\",\"colorbar\":{\"outlinewidth\":0,\"ticks\":\"\"}}],\"contour\":[{\"type\":\"contour\",\"colorbar\":{\"outlinewidth\":0,\"ticks\":\"\"},\"colorscale\":[[0.0,\"#0d0887\"],[0.1111111111111111,\"#46039f\"],[0.2222222222222222,\"#7201a8\"],[0.3333333333333333,\"#9c179e\"],[0.4444444444444444,\"#bd3786\"],[0.5555555555555556,\"#d8576b\"],[0.6666666666666666,\"#ed7953\"],[0.7777777777777778,\"#fb9f3a\"],[0.8888888888888888,\"#fdca26\"],[1.0,\"#f0f921\"]]}],\"surface\":[{\"type\":\"surface\",\"colorbar\":{\"outlinewidth\":0,\"ticks\":\"\"},\"colorscale\":[[0.0,\"#0d0887\"],[0.1111111111111111,\"#46039f\"],[0.2222222222222222,\"#7201a8\"],[0.3333333333333333,\"#9c179e\"],[0.4444444444444444,\"#bd3786\"],[0.5555555555555556,\"#d8576b\"],[0.6666666666666666,\"#ed7953\"],[0.7777777777777778,\"#fb9f3a\"],[0.8888888888888888,\"#fdca26\"],[1.0,\"#f0f921\"]]}],\"mesh3d\":[{\"type\":\"mesh3d\",\"colorbar\":{\"outlinewidth\":0,\"ticks\":\"\"}}],\"scatter\":[{\"fillpattern\":{\"fillmode\":\"overlay\",\"size\":10,\"solidity\":0.2},\"type\":\"scatter\"}],\"parcoords\":[{\"type\":\"parcoords\",\"line\":{\"colorbar\":{\"outlinewidth\":0,\"ticks\":\"\"}}}],\"scatterpolargl\":[{\"type\":\"scatterpolargl\",\"marker\":{\"colorbar\":{\"outlinewidth\":0,\"ticks\":\"\"}}}],\"bar\":[{\"error_x\":{\"color\":\"#2a3f5f\"},\"error_y\":{\"color\":\"#2a3f5f\"},\"marker\":{\"line\":{\"color\":\"#E5ECF6\",\"width\":0.5},\"pattern\":{\"fillmode\":\"overlay\",\"size\":10,\"solidity\":0.2}},\"type\":\"bar\"}],\"scattergeo\":[{\"type\":\"scattergeo\",\"marker\":{\"colorbar\":{\"outlinewidth\":0,\"ticks\":\"\"}}}],\"scatterpolar\":[{\"type\":\"scatterpolar\",\"marker\":{\"colorbar\":{\"outlinewidth\":0,\"ticks\":\"\"}}}],\"histogram\":[{\"marker\":{\"pattern\":{\"fillmode\":\"overlay\",\"size\":10,\"solidity\":0.2}},\"type\":\"histogram\"}],\"scattergl\":[{\"type\":\"scattergl\",\"marker\":{\"colorbar\":{\"outlinewidth\":0,\"ticks\":\"\"}}}],\"scatter3d\":[{\"type\":\"scatter3d\",\"line\":{\"colorbar\":{\"outlinewidth\":0,\"ticks\":\"\"}},\"marker\":{\"colorbar\":{\"outlinewidth\":0,\"ticks\":\"\"}}}],\"scattermapbox\":[{\"type\":\"scattermapbox\",\"marker\":{\"colorbar\":{\"outlinewidth\":0,\"ticks\":\"\"}}}],\"scatterternary\":[{\"type\":\"scatterternary\",\"marker\":{\"colorbar\":{\"outlinewidth\":0,\"ticks\":\"\"}}}],\"scattercarpet\":[{\"type\":\"scattercarpet\",\"marker\":{\"colorbar\":{\"outlinewidth\":0,\"ticks\":\"\"}}}],\"carpet\":[{\"aaxis\":{\"endlinecolor\":\"#2a3f5f\",\"gridcolor\":\"white\",\"linecolor\":\"white\",\"minorgridcolor\":\"white\",\"startlinecolor\":\"#2a3f5f\"},\"baxis\":{\"endlinecolor\":\"#2a3f5f\",\"gridcolor\":\"white\",\"linecolor\":\"white\",\"minorgridcolor\":\"white\",\"startlinecolor\":\"#2a3f5f\"},\"type\":\"carpet\"}],\"table\":[{\"cells\":{\"fill\":{\"color\":\"#EBF0F8\"},\"line\":{\"color\":\"white\"}},\"header\":{\"fill\":{\"color\":\"#C8D4E3\"},\"line\":{\"color\":\"white\"}},\"type\":\"table\"}],\"barpolar\":[{\"marker\":{\"line\":{\"color\":\"#E5ECF6\",\"width\":0.5},\"pattern\":{\"fillmode\":\"overlay\",\"size\":10,\"solidity\":0.2}},\"type\":\"barpolar\"}],\"pie\":[{\"automargin\":true,\"type\":\"pie\"}]},\"layout\":{\"autotypenumbers\":\"strict\",\"colorway\":[\"#636efa\",\"#EF553B\",\"#00cc96\",\"#ab63fa\",\"#FFA15A\",\"#19d3f3\",\"#FF6692\",\"#B6E880\",\"#FF97FF\",\"#FECB52\"],\"font\":{\"color\":\"#2a3f5f\"},\"hovermode\":\"closest\",\"hoverlabel\":{\"align\":\"left\"},\"paper_bgcolor\":\"white\",\"plot_bgcolor\":\"#E5ECF6\",\"polar\":{\"bgcolor\":\"#E5ECF6\",\"angularaxis\":{\"gridcolor\":\"white\",\"linecolor\":\"white\",\"ticks\":\"\"},\"radialaxis\":{\"gridcolor\":\"white\",\"linecolor\":\"white\",\"ticks\":\"\"}},\"ternary\":{\"bgcolor\":\"#E5ECF6\",\"aaxis\":{\"gridcolor\":\"white\",\"linecolor\":\"white\",\"ticks\":\"\"},\"baxis\":{\"gridcolor\":\"white\",\"linecolor\":\"white\",\"ticks\":\"\"},\"caxis\":{\"gridcolor\":\"white\",\"linecolor\":\"white\",\"ticks\":\"\"}},\"coloraxis\":{\"colorbar\":{\"outlinewidth\":0,\"ticks\":\"\"}},\"colorscale\":{\"sequential\":[[0.0,\"#0d0887\"],[0.1111111111111111,\"#46039f\"],[0.2222222222222222,\"#7201a8\"],[0.3333333333333333,\"#9c179e\"],[0.4444444444444444,\"#bd3786\"],[0.5555555555555556,\"#d8576b\"],[0.6666666666666666,\"#ed7953\"],[0.7777777777777778,\"#fb9f3a\"],[0.8888888888888888,\"#fdca26\"],[1.0,\"#f0f921\"]],\"sequentialminus\":[[0.0,\"#0d0887\"],[0.1111111111111111,\"#46039f\"],[0.2222222222222222,\"#7201a8\"],[0.3333333333333333,\"#9c179e\"],[0.4444444444444444,\"#bd3786\"],[0.5555555555555556,\"#d8576b\"],[0.6666666666666666,\"#ed7953\"],[0.7777777777777778,\"#fb9f3a\"],[0.8888888888888888,\"#fdca26\"],[1.0,\"#f0f921\"]],\"diverging\":[[0,\"#8e0152\"],[0.1,\"#c51b7d\"],[0.2,\"#de77ae\"],[0.3,\"#f1b6da\"],[0.4,\"#fde0ef\"],[0.5,\"#f7f7f7\"],[0.6,\"#e6f5d0\"],[0.7,\"#b8e186\"],[0.8,\"#7fbc41\"],[0.9,\"#4d9221\"],[1,\"#276419\"]]},\"xaxis\":{\"gridcolor\":\"white\",\"linecolor\":\"white\",\"ticks\":\"\",\"title\":{\"standoff\":15},\"zerolinecolor\":\"white\",\"automargin\":true,\"zerolinewidth\":2},\"yaxis\":{\"gridcolor\":\"white\",\"linecolor\":\"white\",\"ticks\":\"\",\"title\":{\"standoff\":15},\"zerolinecolor\":\"white\",\"automargin\":true,\"zerolinewidth\":2},\"scene\":{\"xaxis\":{\"backgroundcolor\":\"#E5ECF6\",\"gridcolor\":\"white\",\"linecolor\":\"white\",\"showbackground\":true,\"ticks\":\"\",\"zerolinecolor\":\"white\",\"gridwidth\":2},\"yaxis\":{\"backgroundcolor\":\"#E5ECF6\",\"gridcolor\":\"white\",\"linecolor\":\"white\",\"showbackground\":true,\"ticks\":\"\",\"zerolinecolor\":\"white\",\"gridwidth\":2},\"zaxis\":{\"backgroundcolor\":\"#E5ECF6\",\"gridcolor\":\"white\",\"linecolor\":\"white\",\"showbackground\":true,\"ticks\":\"\",\"zerolinecolor\":\"white\",\"gridwidth\":2}},\"shapedefaults\":{\"line\":{\"color\":\"#2a3f5f\"}},\"annotationdefaults\":{\"arrowcolor\":\"#2a3f5f\",\"arrowhead\":0,\"arrowwidth\":1},\"geo\":{\"bgcolor\":\"white\",\"landcolor\":\"#E5ECF6\",\"subunitcolor\":\"white\",\"showland\":true,\"showlakes\":true,\"lakecolor\":\"white\"},\"title\":{\"x\":0.05},\"mapbox\":{\"style\":\"light\"}}},\"xaxis\":{\"anchor\":\"y\",\"domain\":[0.0,1.0],\"title\":{\"text\":\"Cluster\"}},\"yaxis\":{\"anchor\":\"x\",\"domain\":[0.0,1.0],\"title\":{\"text\":\"Value [$]\"}},\"legend\":{\"title\":{\"text\":\"variable\"},\"tracegroupgap\":0},\"title\":{\"text\":\"Mean Power Impacts by Cluster\"},\"barmode\":\"group\"},                        {\"responsive\": true}                    ).then(function(){\n",
              "                            \n",
              "var gd = document.getElementById('1eaf6d6b-04f8-473f-8edc-cf7fc5167759');\n",
              "var x = new MutationObserver(function (mutations, observer) {{\n",
              "        var display = window.getComputedStyle(gd).display;\n",
              "        if (!display || display === 'none') {{\n",
              "            console.log([gd, 'removed!']);\n",
              "            Plotly.purge(gd);\n",
              "            observer.disconnect();\n",
              "        }}\n",
              "}});\n",
              "\n",
              "// Listen for the removal of the full notebook cells\n",
              "var notebookContainer = gd.closest('#notebook-container');\n",
              "if (notebookContainer) {{\n",
              "    x.observe(notebookContainer, {childList: true});\n",
              "}}\n",
              "\n",
              "// Listen for the clearing of the current output cell\n",
              "var outputEl = gd.closest('.output');\n",
              "if (outputEl) {{\n",
              "    x.observe(outputEl, {childList: true});\n",
              "}}\n",
              "\n",
              "                        })                };                            </script>        </div>\n",
              "</body>\n",
              "</html>"
            ]
          },
          "metadata": {}
        }
      ]
    },
    {
      "cell_type": "code",
      "source": [
        "# Instantiate transformer\n",
        "pca = PCA(n_components=2, random_state=42)\n",
        "\n",
        "# Transform `X`\n",
        "X_t = pca.fit_transform(X)\n",
        "\n",
        "# Put `X_t` into DataFrame\n",
        "X_pca = pd.DataFrame(X_t, columns=['PC1', 'PC2'])\n",
        "\n",
        "print(\"X_pca type:\", type(X_pca))\n",
        "print(\"X_pca shape:\", X_pca.shape)\n",
        "X_pca.head()"
      ],
      "metadata": {
        "colab": {
          "base_uri": "https://localhost:8080/",
          "height": 243
        },
        "id": "UQ97SUZKZ19-",
        "outputId": "bedba0df-1d88-471d-b1ab-0c636323d258"
      },
      "execution_count": null,
      "outputs": [
        {
          "output_type": "stream",
          "name": "stdout",
          "text": [
            "X_pca type: <class 'pandas.core.frame.DataFrame'>\n",
            "X_pca shape: (2318, 2)\n"
          ]
        },
        {
          "output_type": "execute_result",
          "data": {
            "text/plain": [
              "            PC1           PC2\n",
              "0 -27760.906547 -11057.572519\n",
              "1  43660.988723 -10339.581825\n",
              "2 -21535.929165 -17191.705820\n",
              "3 -16968.836470 -27150.733292\n",
              "4  31604.228229  -6699.602124"
            ],
            "text/html": [
              "\n",
              "  <div id=\"df-7330cab3-7ab0-4e28-bb60-b86b86bc5295\" class=\"colab-df-container\">\n",
              "    <div>\n",
              "<style scoped>\n",
              "    .dataframe tbody tr th:only-of-type {\n",
              "        vertical-align: middle;\n",
              "    }\n",
              "\n",
              "    .dataframe tbody tr th {\n",
              "        vertical-align: top;\n",
              "    }\n",
              "\n",
              "    .dataframe thead th {\n",
              "        text-align: right;\n",
              "    }\n",
              "</style>\n",
              "<table border=\"1\" class=\"dataframe\">\n",
              "  <thead>\n",
              "    <tr style=\"text-align: right;\">\n",
              "      <th></th>\n",
              "      <th>PC1</th>\n",
              "      <th>PC2</th>\n",
              "    </tr>\n",
              "  </thead>\n",
              "  <tbody>\n",
              "    <tr>\n",
              "      <th>0</th>\n",
              "      <td>-27760.906547</td>\n",
              "      <td>-11057.572519</td>\n",
              "    </tr>\n",
              "    <tr>\n",
              "      <th>1</th>\n",
              "      <td>43660.988723</td>\n",
              "      <td>-10339.581825</td>\n",
              "    </tr>\n",
              "    <tr>\n",
              "      <th>2</th>\n",
              "      <td>-21535.929165</td>\n",
              "      <td>-17191.705820</td>\n",
              "    </tr>\n",
              "    <tr>\n",
              "      <th>3</th>\n",
              "      <td>-16968.836470</td>\n",
              "      <td>-27150.733292</td>\n",
              "    </tr>\n",
              "    <tr>\n",
              "      <th>4</th>\n",
              "      <td>31604.228229</td>\n",
              "      <td>-6699.602124</td>\n",
              "    </tr>\n",
              "  </tbody>\n",
              "</table>\n",
              "</div>\n",
              "    <div class=\"colab-df-buttons\">\n",
              "\n",
              "  <div class=\"colab-df-container\">\n",
              "    <button class=\"colab-df-convert\" onclick=\"convertToInteractive('df-7330cab3-7ab0-4e28-bb60-b86b86bc5295')\"\n",
              "            title=\"Convert this dataframe to an interactive table.\"\n",
              "            style=\"display:none;\">\n",
              "\n",
              "  <svg xmlns=\"http://www.w3.org/2000/svg\" height=\"24px\" viewBox=\"0 -960 960 960\">\n",
              "    <path d=\"M120-120v-720h720v720H120Zm60-500h600v-160H180v160Zm220 220h160v-160H400v160Zm0 220h160v-160H400v160ZM180-400h160v-160H180v160Zm440 0h160v-160H620v160ZM180-180h160v-160H180v160Zm440 0h160v-160H620v160Z\"/>\n",
              "  </svg>\n",
              "    </button>\n",
              "\n",
              "  <style>\n",
              "    .colab-df-container {\n",
              "      display:flex;\n",
              "      gap: 12px;\n",
              "    }\n",
              "\n",
              "    .colab-df-convert {\n",
              "      background-color: #E8F0FE;\n",
              "      border: none;\n",
              "      border-radius: 50%;\n",
              "      cursor: pointer;\n",
              "      display: none;\n",
              "      fill: #1967D2;\n",
              "      height: 32px;\n",
              "      padding: 0 0 0 0;\n",
              "      width: 32px;\n",
              "    }\n",
              "\n",
              "    .colab-df-convert:hover {\n",
              "      background-color: #E2EBFA;\n",
              "      box-shadow: 0px 1px 2px rgba(60, 64, 67, 0.3), 0px 1px 3px 1px rgba(60, 64, 67, 0.15);\n",
              "      fill: #174EA6;\n",
              "    }\n",
              "\n",
              "    .colab-df-buttons div {\n",
              "      margin-bottom: 4px;\n",
              "    }\n",
              "\n",
              "    [theme=dark] .colab-df-convert {\n",
              "      background-color: #3B4455;\n",
              "      fill: #D2E3FC;\n",
              "    }\n",
              "\n",
              "    [theme=dark] .colab-df-convert:hover {\n",
              "      background-color: #434B5C;\n",
              "      box-shadow: 0px 1px 3px 1px rgba(0, 0, 0, 0.15);\n",
              "      filter: drop-shadow(0px 1px 2px rgba(0, 0, 0, 0.3));\n",
              "      fill: #FFFFFF;\n",
              "    }\n",
              "  </style>\n",
              "\n",
              "    <script>\n",
              "      const buttonEl =\n",
              "        document.querySelector('#df-7330cab3-7ab0-4e28-bb60-b86b86bc5295 button.colab-df-convert');\n",
              "      buttonEl.style.display =\n",
              "        google.colab.kernel.accessAllowed ? 'block' : 'none';\n",
              "\n",
              "      async function convertToInteractive(key) {\n",
              "        const element = document.querySelector('#df-7330cab3-7ab0-4e28-bb60-b86b86bc5295');\n",
              "        const dataTable =\n",
              "          await google.colab.kernel.invokeFunction('convertToInteractive',\n",
              "                                                    [key], {});\n",
              "        if (!dataTable) return;\n",
              "\n",
              "        const docLinkHtml = 'Like what you see? Visit the ' +\n",
              "          '<a target=\"_blank\" href=https://colab.research.google.com/notebooks/data_table.ipynb>data table notebook</a>'\n",
              "          + ' to learn more about interactive tables.';\n",
              "        element.innerHTML = '';\n",
              "        dataTable['output_type'] = 'display_data';\n",
              "        await google.colab.output.renderOutput(dataTable, element);\n",
              "        const docLink = document.createElement('div');\n",
              "        docLink.innerHTML = docLinkHtml;\n",
              "        element.appendChild(docLink);\n",
              "      }\n",
              "    </script>\n",
              "  </div>\n",
              "\n",
              "\n",
              "<div id=\"df-7f7c5f0e-314b-4658-99c1-d106716c164c\">\n",
              "  <button class=\"colab-df-quickchart\" onclick=\"quickchart('df-7f7c5f0e-314b-4658-99c1-d106716c164c')\"\n",
              "            title=\"Suggest charts\"\n",
              "            style=\"display:none;\">\n",
              "\n",
              "<svg xmlns=\"http://www.w3.org/2000/svg\" height=\"24px\"viewBox=\"0 0 24 24\"\n",
              "     width=\"24px\">\n",
              "    <g>\n",
              "        <path d=\"M19 3H5c-1.1 0-2 .9-2 2v14c0 1.1.9 2 2 2h14c1.1 0 2-.9 2-2V5c0-1.1-.9-2-2-2zM9 17H7v-7h2v7zm4 0h-2V7h2v10zm4 0h-2v-4h2v4z\"/>\n",
              "    </g>\n",
              "</svg>\n",
              "  </button>\n",
              "\n",
              "<style>\n",
              "  .colab-df-quickchart {\n",
              "      --bg-color: #E8F0FE;\n",
              "      --fill-color: #1967D2;\n",
              "      --hover-bg-color: #E2EBFA;\n",
              "      --hover-fill-color: #174EA6;\n",
              "      --disabled-fill-color: #AAA;\n",
              "      --disabled-bg-color: #DDD;\n",
              "  }\n",
              "\n",
              "  [theme=dark] .colab-df-quickchart {\n",
              "      --bg-color: #3B4455;\n",
              "      --fill-color: #D2E3FC;\n",
              "      --hover-bg-color: #434B5C;\n",
              "      --hover-fill-color: #FFFFFF;\n",
              "      --disabled-bg-color: #3B4455;\n",
              "      --disabled-fill-color: #666;\n",
              "  }\n",
              "\n",
              "  .colab-df-quickchart {\n",
              "    background-color: var(--bg-color);\n",
              "    border: none;\n",
              "    border-radius: 50%;\n",
              "    cursor: pointer;\n",
              "    display: none;\n",
              "    fill: var(--fill-color);\n",
              "    height: 32px;\n",
              "    padding: 0;\n",
              "    width: 32px;\n",
              "  }\n",
              "\n",
              "  .colab-df-quickchart:hover {\n",
              "    background-color: var(--hover-bg-color);\n",
              "    box-shadow: 0 1px 2px rgba(60, 64, 67, 0.3), 0 1px 3px 1px rgba(60, 64, 67, 0.15);\n",
              "    fill: var(--button-hover-fill-color);\n",
              "  }\n",
              "\n",
              "  .colab-df-quickchart-complete:disabled,\n",
              "  .colab-df-quickchart-complete:disabled:hover {\n",
              "    background-color: var(--disabled-bg-color);\n",
              "    fill: var(--disabled-fill-color);\n",
              "    box-shadow: none;\n",
              "  }\n",
              "\n",
              "  .colab-df-spinner {\n",
              "    border: 2px solid var(--fill-color);\n",
              "    border-color: transparent;\n",
              "    border-bottom-color: var(--fill-color);\n",
              "    animation:\n",
              "      spin 1s steps(1) infinite;\n",
              "  }\n",
              "\n",
              "  @keyframes spin {\n",
              "    0% {\n",
              "      border-color: transparent;\n",
              "      border-bottom-color: var(--fill-color);\n",
              "      border-left-color: var(--fill-color);\n",
              "    }\n",
              "    20% {\n",
              "      border-color: transparent;\n",
              "      border-left-color: var(--fill-color);\n",
              "      border-top-color: var(--fill-color);\n",
              "    }\n",
              "    30% {\n",
              "      border-color: transparent;\n",
              "      border-left-color: var(--fill-color);\n",
              "      border-top-color: var(--fill-color);\n",
              "      border-right-color: var(--fill-color);\n",
              "    }\n",
              "    40% {\n",
              "      border-color: transparent;\n",
              "      border-right-color: var(--fill-color);\n",
              "      border-top-color: var(--fill-color);\n",
              "    }\n",
              "    60% {\n",
              "      border-color: transparent;\n",
              "      border-right-color: var(--fill-color);\n",
              "    }\n",
              "    80% {\n",
              "      border-color: transparent;\n",
              "      border-right-color: var(--fill-color);\n",
              "      border-bottom-color: var(--fill-color);\n",
              "    }\n",
              "    90% {\n",
              "      border-color: transparent;\n",
              "      border-bottom-color: var(--fill-color);\n",
              "    }\n",
              "  }\n",
              "</style>\n",
              "\n",
              "  <script>\n",
              "    async function quickchart(key) {\n",
              "      const quickchartButtonEl =\n",
              "        document.querySelector('#' + key + ' button');\n",
              "      quickchartButtonEl.disabled = true;  // To prevent multiple clicks.\n",
              "      quickchartButtonEl.classList.add('colab-df-spinner');\n",
              "      try {\n",
              "        const charts = await google.colab.kernel.invokeFunction(\n",
              "            'suggestCharts', [key], {});\n",
              "      } catch (error) {\n",
              "        console.error('Error during call to suggestCharts:', error);\n",
              "      }\n",
              "      quickchartButtonEl.classList.remove('colab-df-spinner');\n",
              "      quickchartButtonEl.classList.add('colab-df-quickchart-complete');\n",
              "    }\n",
              "    (() => {\n",
              "      let quickchartButtonEl =\n",
              "        document.querySelector('#df-7f7c5f0e-314b-4658-99c1-d106716c164c button');\n",
              "      quickchartButtonEl.style.display =\n",
              "        google.colab.kernel.accessAllowed ? 'block' : 'none';\n",
              "    })();\n",
              "  </script>\n",
              "</div>\n",
              "    </div>\n",
              "  </div>\n"
            ]
          },
          "metadata": {},
          "execution_count": 91
        }
      ]
    },
    {
      "cell_type": "code",
      "source": [
        "# Create scatter plot of `PC2` vs `PC1`\n",
        "fig = px.scatter(\n",
        "        data_frame=X_pca,\n",
        "        x = 'PC1',\n",
        "        y = 'PC2',\n",
        "        color=labels,\n",
        "        title='PCA Representation of Clusters'\n",
        ")\n",
        "\n",
        "fig.update_layout(xaxis_title='PC1', yaxis_title='PC2')\n",
        "\n",
        "fig.show()"
      ],
      "metadata": {
        "colab": {
          "base_uri": "https://localhost:8080/",
          "height": 542
        },
        "id": "AcWJ9oJmZ3-t",
        "outputId": "6f1d5aca-6a80-4b06-9384-b70dcc727aff"
      },
      "execution_count": null,
      "outputs": [
        {
          "output_type": "display_data",
          "data": {
            "text/html": [
              "<html>\n",
              "<head><meta charset=\"utf-8\" /></head>\n",
              "<body>\n",
              "    <div>            <script src=\"https://cdnjs.cloudflare.com/ajax/libs/mathjax/2.7.5/MathJax.js?config=TeX-AMS-MML_SVG\"></script><script type=\"text/javascript\">if (window.MathJax && window.MathJax.Hub && window.MathJax.Hub.Config) {window.MathJax.Hub.Config({SVG: {font: \"STIX-Web\"}});}</script>                <script type=\"text/javascript\">window.PlotlyConfig = {MathJaxConfig: 'local'};</script>\n",
              "        <script charset=\"utf-8\" src=\"https://cdn.plot.ly/plotly-2.24.1.min.js\"></script>                <div id=\"9141440d-c25d-4fd1-9ff9-d593e74a8c2b\" class=\"plotly-graph-div\" style=\"height:525px; width:100%;\"></div>            <script type=\"text/javascript\">                                    window.PLOTLYENV=window.PLOTLYENV || {};                                    if (document.getElementById(\"9141440d-c25d-4fd1-9ff9-d593e74a8c2b\")) {                    Plotly.newPlot(                        \"9141440d-c25d-4fd1-9ff9-d593e74a8c2b\",                        [{\"hovertemplate\":\"PC1=%{x}\\u003cbr\\u003ePC2=%{y}\\u003cbr\\u003ecolor=%{marker.color}\\u003cextra\\u003e\\u003c\\u002fextra\\u003e\",\"legendgroup\":\"\",\"marker\":{\"color\":[1,0,1,1,0,0,1,2,1,0,2,0,0,0,0,0,2,2,2,0,1,1,0,2,0,0,0,1,0,1,2,0,1,0,1,2,2,2,1,2,1,0,1,1,1,1,1,0,1,0,0,1,1,2,1,0,0,2,2,1,0,1,0,1,0,1,0,0,0,1,0,0,1,1,1,0,1,1,2,0,2,1,1,2,1,1,0,1,2,1,1,2,0,1,0,1,2,0,0,0,2,0,1,1,1,2,2,0,1,2,0,1,1,1,0,0,1,0,0,2,1,0,1,0,1,0,1,0,2,0,2,0,0,0,0,2,1,1,2,1,1,1,2,2,2,1,1,1,0,1,2,1,0,1,1,1,0,2,1,1,0,0,1,0,1,0,1,1,1,1,1,2,2,0,0,1,0,2,1,1,0,1,1,2,1,2,1,1,1,0,0,1,0,0,2,1,2,2,0,1,0,1,0,1,1,1,0,2,2,2,0,1,1,0,0,1,1,2,1,1,2,0,2,2,1,0,1,0,1,0,0,1,2,1,2,1,2,2,0,0,1,0,0,0,0,2,1,1,0,1,0,0,1,1,0,1,0,1,2,0,1,0,0,0,1,1,2,1,2,1,1,1,0,1,0,1,2,1,1,1,0,2,2,1,1,2,0,0,0,1,0,0,1,2,2,1,0,0,1,2,1,1,2,0,2,0,0,1,1,1,2,1,0,1,1,1,2,0,1,1,0,2,0,0,2,0,2,1,2,2,2,1,0,0,0,0,0,0,1,1,1,0,0,1,1,1,0,2,0,0,2,1,1,1,1,2,0,0,1,0,2,0,1,2,0,1,0,1,0,0,2,0,2,0,1,1,0,2,1,1,0,0,1,0,2,0,1,1,0,0,2,0,0,0,1,1,0,2,1,0,1,0,1,0,1,1,0,0,0,0,1,2,0,1,0,0,1,1,0,1,0,1,0,2,0,2,1,0,2,0,0,1,0,1,0,0,1,2,0,1,2,2,1,2,2,2,0,1,0,0,0,2,0,1,2,1,0,0,0,0,1,1,0,2,0,1,1,0,1,0,0,1,1,1,1,1,1,2,1,1,1,1,2,2,2,2,1,0,1,1,1,1,0,1,0,2,1,1,1,0,1,1,2,0,1,1,0,0,0,1,0,0,1,1,0,2,1,1,0,1,1,0,1,2,1,2,0,1,1,0,0,0,1,2,1,1,0,2,2,1,1,0,1,1,1,0,1,1,1,2,0,1,1,0,0,1,0,0,0,1,0,0,2,2,2,1,1,0,1,1,2,0,2,0,0,2,0,1,2,2,0,0,1,0,0,2,0,1,1,0,0,2,1,1,1,0,0,0,0,0,1,2,0,0,2,1,0,1,2,1,1,2,2,0,0,0,1,2,2,1,2,1,1,1,0,1,0,0,0,2,0,1,0,1,1,1,1,2,1,1,1,0,0,1,2,1,0,1,1,2,0,1,1,1,2,1,0,0,2,1,0,1,2,2,1,0,0,1,0,1,1,0,0,0,1,1,2,2,1,0,0,1,2,1,0,1,0,0,0,1,0,0,1,2,0,0,0,0,1,1,1,0,1,0,1,0,1,0,1,2,1,1,1,1,1,2,1,2,0,1,2,1,0,0,0,2,1,2,1,1,0,1,0,0,0,1,1,0,1,0,1,1,0,0,0,0,1,0,1,1,0,0,1,0,2,1,1,1,0,1,2,1,2,1,0,2,0,1,1,2,1,1,2,1,1,0,1,1,0,0,0,0,1,1,0,2,2,0,0,1,2,1,1,0,0,1,1,0,1,0,1,2,1,1,2,0,1,2,0,2,0,1,1,2,2,0,2,0,1,0,1,0,1,0,1,1,1,0,0,1,0,2,2,1,1,1,0,1,1,0,1,0,0,0,1,0,1,2,0,0,1,2,2,2,1,0,1,1,0,1,0,0,1,0,0,1,2,0,1,1,1,2,2,1,0,2,1,2,1,0,0,1,2,1,1,0,1,0,0,1,0,0,1,0,0,1,0,1,1,0,0,0,1,1,2,1,0,1,1,1,1,1,1,0,1,2,1,0,2,0,0,1,0,0,2,0,1,2,0,1,1,0,0,0,1,2,2,1,0,2,2,1,1,0,1,2,1,1,1,2,1,0,0,0,0,2,1,1,0,1,1,1,1,2,1,1,1,1,2,0,2,2,0,2,1,1,1,0,2,0,1,2,0,0,1,1,0,1,0,0,0,1,1,1,1,0,2,2,2,2,1,2,1,0,2,1,1,0,0,1,1,2,2,1,0,1,1,2,0,1,1,0,1,0,1,0,0,1,1,1,0,2,0,2,1,2,1,0,1,0,0,2,1,1,0,2,1,1,1,1,1,1,1,1,1,2,0,0,1,2,1,1,0,1,0,1,0,0,1,1,0,0,0,1,1,1,1,0,1,1,2,0,2,1,0,1,2,1,1,1,1,1,1,1,0,2,2,1,0,2,1,2,0,0,1,0,2,1,1,2,2,0,1,0,1,0,0,2,0,0,0,1,1,1,0,2,1,1,2,2,1,2,2,0,1,1,1,0,0,0,1,2,0,0,1,1,0,0,1,1,2,1,2,0,1,0,1,2,0,2,0,1,2,1,1,0,1,2,1,1,0,0,0,0,2,1,0,2,0,1,1,1,2,1,1,1,0,2,1,0,0,1,1,1,2,1,2,0,1,0,0,2,2,0,0,2,0,1,0,1,0,1,0,0,1,0,2,0,1,0,0,1,2,0,0,0,1,0,1,1,1,0,2,0,1,2,0,1,1,0,0,1,0,1,1,0,2,0,0,1,2,0,0,0,1,1,2,0,1,2,1,0,0,0,1,0,2,1,0,1,1,0,2,1,2,2,0,1,1,1,1,0,1,0,0,2,0,0,1,2,1,0,0,0,0,1,2,1,2,1,2,0,1,1,2,1,2,0,0,2,1,2,2,0,1,1,1,0,1,2,2,1,0,1,1,1,0,2,0,1,0,0,1,1,1,0,1,2,1,2,1,1,1,0,2,1,1,2,2,1,0,0,1,1,0,1,1,2,2,1,0,0,2,1,1,1,1,1,1,1,1,1,1,2,2,2,0,0,2,1,0,1,1,0,1,0,1,2,1,1,1,1,1,1,0,1,1,2,1,0,2,1,0,0,0,1,1,0,2,0,1,1,1,0,2,0,0,0,0,2,0,1,1,1,0,0,1,1,1,0,0,1,2,1,2,1,1,0,1,1,1,1,1,1,2,2,1,0,1,2,1,0,1,1,0,0,2,0,2,0,1,1,1,0,0,1,0,0,1,1,1,1,0,0,1,1,1,2,1,2,0,0,1,0,1,2,0,0,2,1,1,1,1,1,1,1,0,0,1,0,0,2,2,1,2,1,2,1,0,0,2,1,1,0,1,1,0,2,1,1,0,0,1,0,0,0,1,0,1,1,1,0,0,1,1,2,0,1,1,1,0,1,1,1,1,1,2,0,0,2,0,1,1,1,1,2,2,0,0,0,0,2,1,0,0,1,2,1,1,1,0,0,0,0,0,1,2,2,1,1,2,0,0,0,0,0,1,2,0,0,1,1,2,2,0,1,0,1,1,1,0,0,2,0,0,2,1,1,2,0,1,2,2,1,1,1,2,1,2,0,0,1,0,0,0,1,2,0,2,1,0,0,0,0,1,1,0,0,0,0,1,2,2,1,2,0,0,2,1,0,2,0,2,0,1,1,0,1,1,0,2,1,2,1,0,0,1,1,1,2,1,1,1,0,2,0,1,1,2,1,1,2,1,0,1,1,1,1,1,0,0,0,1,1,1,0,1,1,0,1,2,2,1,0,1,1,1,2,0,0,2,1,1,0,0,1,1,1,1,2,0,1,0,1,0,1,1,0,0,2,2,1,0,1,0,1,2,0,1,1,0,2,0,1,0,0,1,2,0,0,0,1,2,0,1,2,0,0,1,0,1,2,2,0,1,1,2,2,2,1,0,1,0,0,1,1,2,1,1,0,2,1,0,0,0,1,1,0,2,0,1,0,1,2,0,1,1,1,1,2,1,0,0,1,1,0,1,1,0,0,2,1,1,1,0,1,1,1,0,0,0,1,1,0,1,0,1,1,0,1,1,2,0,1,1,1,1,1,1,1,0,1,0,1,0,0,0,0,1,1,2,2,1,2,0,1,1,2,2,1,1,0,1,2,1,1,0,1,1,2,0,1,0,1,0,0,0,1,1,0,0,1,1,1,1,1,0,1,1,0,2,2,1,2,1,1,2,0,0,0,1,0,0,2,1,1,1,0,1,1,1,1,1,0,1,2,1,1,0,1,0,1,2,2,2,1,1,1,1,2,1,0,2,1,0,0,1,0,2,1,2,2,0,1,1,1,1,1,1,1,1,1,2,0,1,0,1,1,1,1,0,1,1,2,1,1,1,1,0,0,0,1,2,1,1,2,1,0,1,1,2,2,1,2,1,0,1,0,0,0,2,1,2,1,0,0,1,0,2,2,0,2,0,1,0,2,0,0,1,0,0,1,0,0,2,1,1,0,2,1,0,0,0,2,0,2,2,0,1,1,1,1,0,0,0,1,1,1,2,0,1,0,0,1,0,0,1,1,0,2,0,1,1,0,1,1,1,2,1,1,0,2,2,2,1,2,0,0,1,0,0,1,1,1,0,0,1,1,2,0,0,0,2,0,0,2,1,1,1,0,2,2,0,1,1,1,2,0,1,1,1,2,0,1,0,0,1,1,0,0,0,0,1,2,1,0,0,1,0,1,1,0,1,0,1,1,1,1,0,2,0,1,2,0,1,0,1,1,1,0,0,1,2,1,0,1,0,2,1,0,0,0,2,1,0,1,1,2,1,0,1,2,2,1,2,1,1,0,1,0,2,0,0,1,2,0,1,0,1,2,1,2,1,2,0,1,0,0,0,1,0,1,0,0,1,1,1,1,1,2,1,2,0,2,1,1,0,1,1,0,1,2,2,0,0,2,1,1,0,1,1,0,1,1,1,1,1,2,1,2,2,1,1,0,0,1,0,0,2,0,0,2,0,1,0,2,1,0,2,0,0,2,2,0,2,0,1,0,0,1,1,1,2,1,0,0,0,1,2,0,2,1,0,2,2,0,2,0,0,0,2,0,0,0,1,0,2,0,1,0,2,1,2,1,0,2,1,2,1,2,0,1,2,1,1,0,1,1,2,0,1,1,2,1,1,1,1,1],\"coloraxis\":\"coloraxis\",\"symbol\":\"circle\"},\"mode\":\"markers\",\"name\":\"\",\"showlegend\":false,\"x\":[-27760.906547417173,43660.98872309752,-21535.92916470365,-16968.83646964243,31604.228228951506,46414.16500930547,-14930.220402731979,-15288.195601883237,-28527.00443055139,6911.616688171253,-34156.62618658387,33188.08164967184,39658.86635411549,9726.8886016082,46312.69048053782,39808.070421180564,-9433.010042367277,23316.6941917897,-33244.17697227761,25225.75166047144,-23740.828748731023,-33768.409729927975,34020.3943444772,-5398.834056808258,20491.81115959645,40277.37067306412,-1284.940478714842,-28568.161505805347,12009.69431476017,-19344.8375950817,-15034.493549193101,12397.230729548495,-33622.87094154802,34985.12244152591,-29516.505778611336,-10067.978716647436,-166.36542322904484,-15034.493549193101,-11988.84682076148,-9642.510059220736,-14621.725851405488,35089.64679046352,-28474.193404131915,-19789.617758724653,-31378.282624419535,-19344.8375950817,-9837.303312471866,20181.422700278643,-33626.829786723414,22980.642759549253,39892.400134183015,-28542.23546516044,-20109.614910512984,-8930.45546900344,-36617.117892437964,11924.483587101313,12805.457913485609,-6510.4160501025835,-21459.72923412285,-28554.409080811798,17789.55990933213,-15269.582949086389,40396.37625418186,-27944.58343969535,42738.40961870506,-6883.266448619418,40277.37067306412,30431.57970226925,39658.86635411549,-19344.8375950817,35622.09495179457,24104.11012333366,-13069.789569582726,-16749.29039757879,-8899.006091476673,32063.72781377928,-5678.997560623238,-15393.77688330329,-8916.53144020722,18979.21177224348,-6942.154375083574,-31440.99117286217,4902.352066439557,-12547.473951764689,-5175.5473489246215,5874.614702940909,23318.872235480045,-18978.7414297835,-15056.337645169478,-27988.58262750402,-33956.27052544281,-15701.906382157473,5304.4599975462515,-31182.233342598745,40181.78704616956,-33920.04593673637,-15034.493549193101,43036.65198355955,42738.40961870506,35287.960579254126,-9173.180540628986,18972.680270986893,-24872.28534996261,-19272.730388032964,-33768.409729927975,-14232.052254736269,-33683.364286931544,32695.230930290054,-18964.532843708173,-14549.350206811958,35739.30042418362,-18984.35580354387,-9324.41382846358,-15295.136430873501,32063.72781377928,28028.58946101655,4340.235028614725,22652.190422047097,13880.143210586793,-20642.53410623532,8763.243442108316,23814.602090471682,-36925.84823135919,12377.554193153777,-28063.842544925188,23834.69206813019,-31292.391066909833,17108.160622215673,-6942.154375083574,40369.397316504044,-15034.493549193101,29485.93560443435,33188.08164967184,32740.77882565818,34494.87730420978,-33683.364286931544,-19893.090043985423,1032.3121851414062,-33788.3029973642,-18911.425630926715,-18911.425630926715,-15111.856348375355,-9045.326194352936,-34060.25971794448,-33244.17697227761,-13087.013886417715,1302.5616869427954,1612.1194735084662,40649.514541882716,-32777.73770824629,-34060.25971794448,-31506.7710457323,11157.586145701765,-14732.489858413259,-5605.898368648113,-621.289952449091,34413.65074696584,-8828.110457309527,-29363.08161366875,-12984.34617954029,53442.59179997446,42946.015686530925,-28544.03355718708,28679.950845664705,-20611.54003837752,24639.845142317437,-5506.552938520815,-8466.040730110506,-34529.663746248145,-7442.92631601681,-18625.752860080393,-1349.7985035667036,-12563.44645727492,34108.26152731034,20419.775515657293,-30244.11254438044,29596.880107302637,-11936.406315771477,-15742.071265528883,-15269.582949086389,26855.14411899167,4383.363540603949,-33674.02164718831,-12547.473951764689,-19344.8375950817,-7849.853574345676,-19746.964194437234,-19466.275562557134,-21041.572522590446,41011.67073427577,39808.070421180564,-15547.414270820942,39808.070421180564,29086.548471148082,-8828.110457309527,-28558.581840654842,-9722.897411443744,-7971.087478303019,42728.89820777497,-31370.161653315732,31444.55509510149,-20611.54003837752,33265.14578379994,-9320.396470616608,-27745.151483859423,4836.764179527019,39942.22522526399,-14678.747003573093,-9270.737444194829,-15694.194643834742,18900.840500265756,401.13449639102,-28025.912769737137,30065.319959778193,42738.40961870506,-25325.407711744632,-19344.8375950817,-34156.62618658387,5162.1677512002025,-28181.619415403395,-15126.786700597115,22770.975098611954,-23059.201327423823,-9073.087174590317,-33768.409729927975,35089.64679046352,-24512.52873602538,42738.40961870506,-14491.83656353471,14021.73052686575,20857.81927896476,8749.944279952486,-15034.493549193101,-28320.924279415063,-14846.824621322314,-27671.330630495802,-15564.038074631,-12141.51077848868,42650.543153124156,26350.198634095726,-34525.24048164721,39808.070421180564,25403.167995955017,32289.830228351497,20764.34941063478,-6942.154375083574,4648.781678106322,-15315.683185880456,32574.954576638575,-29587.987120037567,33188.08164967184,32063.72781377928,-25301.819395100014,-13087.013886417715,32011.217505882934,4648.781678106322,20717.37709949901,1025.396726853529,-6942.154375083574,32928.964356833276,-8263.876857789232,32993.688237483824,18972.680270986893,43754.45373354213,-19165.21262842853,-29423.857593706914,-33683.364286931544,-12783.293294590374,-12547.473951764689,-15393.741437060628,-18962.97487719561,-26188.885377942333,34382.4044367942,-28476.948648473164,24381.240043819264,-29533.3309853115,-16668.640133855497,-31280.386528764986,-15269.582949086389,-15440.893795386934,26227.503941446295,-12547.473951764689,-18335.55483769278,-15742.071265528883,-33819.00181979362,-33788.3029973642,28200.11996353788,32993.688237483824,38140.96853660112,-24549.90380093123,29201.03431763264,13356.69159421733,-5081.6560638167675,-6942.154375083574,-8763.233347721485,-28520.195741959935,38149.11103549119,34108.26152731034,-6504.6653736078215,-5910.825444270082,-33675.98384762776,-8739.88530819468,-11969.246457659758,39983.06602055263,-16293.781920023035,27202.706166791162,15521.303522886412,-28025.912769737137,-28320.924279415063,-1413.5376441569063,-9073.087174590317,-14118.797812634959,43837.98879132751,-18964.532843708173,-33622.87094154802,4669.688961372995,-12547.473951764689,22899.247618289526,-19353.725590830367,-24553.642952699152,18275.545542894597,-12360.35406355748,39479.97548851673,32928.964356833276,-15034.493549193101,32821.09335086777,-33198.82285072141,-28320.924279415063,-12547.473951764689,-9309.330150859432,-13910.780688396539,-14943.684419317187,23014.08642596928,39942.22522526399,40098.963058156485,38857.56561380548,31845.53302629948,32063.72781377928,-11445.808065583733,-28425.502377762456,-9324.41382846358,36460.12993327937,8204.118528842133,-14135.690641804238,4902.352066439557,-33682.98546855866,52824.72000219328,-834.6502311413237,27663.431665894404,31088.52345072614,-22904.038768784892,-15295.136430873501,-29845.26119177607,-9657.297279532475,-9338.141597781123,-9466.156043587525,-897.6961430850288,29193.845379480663,-5506.552938520815,41064.99941512731,-12547.473951764689,36861.28128108542,-16740.911997352552,-34156.62618658387,42650.543153124156,-8962.70191303317,13589.92466226668,-8926.183674218322,33829.2616361821,32063.72781377928,-9463.886267865333,32234.737074140845,-34187.311279486195,24356.267517199878,-14732.489858413259,-6168.391493211583,35246.29229720002,-15034.493549193101,-19165.21262842853,3203.3270622741697,33758.43929763561,35089.64679046352,5004.160257375597,40294.326681320825,-15564.038074631,26103.204494465976,-30167.350072110145,-28109.13128320517,25378.92627446289,32740.77882565818,-12492.563304620182,26227.503941446295,34749.79447837195,33265.14578379994,-13069.789569582726,-23831.472519473857,34013.71494809861,-10207.25542849316,-8975.005092925318,32063.72781377928,1032.3121851414062,9115.216291892337,-28572.16501088891,34947.9390728905,4863.952430086656,-19344.8375950817,39479.97548851673,41758.96842293481,39808.070421180564,40649.514541882716,-33748.520904718745,-14240.797414312467,35089.64679046352,4863.952430086656,39658.86635411549,31640.77292630929,-16714.320816552652,-28875.813219739324,35089.64679046352,-15410.37657594545,29073.05339298636,-30802.627773002736,42161.967924620396,-10254.878878620431,33965.848787054216,-8916.53144020722,-18978.7414297835,46776.53443876423,-33244.17697227761,32234.737074140845,34072.70454915471,-24280.501030457617,21580.613797540722,-8975.005092925318,16581.210807319167,36872.83635417312,-18912.30079059362,-9045.326194352936,34083.23472281883,-813.6510670968107,-10254.878878620431,-6942.154375083574,-19344.8375950817,-15034.493549193101,-20503.74193832288,-17524.037460238513,32942.76980466626,-14543.750102726463,32172.347980560327,25824.733447388127,33200.33590481723,-9829.97351735652,20211.878777431568,4310.71077934366,-12682.531912402814,1032.3121851414062,43614.877440042095,35845.692467032815,32993.688237483824,26702.28484829869,1032.3121851414062,-28516.630564024268,25026.8371516337,-15034.493549193101,22942.529669052397,-13282.328924581645,4340.235028614725,21215.314794951704,-13902.06915981147,29086.548471148082,32005.20589347843,-9195.409933848161,-9648.103951852683,-28542.23546516044,-16933.520190436404,-13087.013886417715,-27669.47611982545,-12547.473951764689,-30794.869873101496,-5590.509748030084,-30371.53979540782,-22956.369802058955,13568.066571421708,-33198.82285072141,-12547.473951764689,-9829.97351735652,-16858.811429869776,35246.29229720002,-33674.02164718831,-34525.24048164721,4675.3004730434295,-17816.545686410675,27427.111274921383,-21535.929164703655,28789.69583331794,-33198.82285072141,3959.9305728667673,2017.0740837584642,-35832.244398522234,18282.389990914613,-29516.505778611336,-32744.677291510656,-8987.695300018491,35339.926395911236,-2153.917489151028,-29516.505778611336,15880.402077025361,39780.19797532376,39780.19797532376,-8777.342295443304,20263.124499088615,32993.688237483824,-15742.071265528883,-31346.702203267574,32895.765650641944,-33160.2903005586,-21386.829413518924,-18687.398570092046,22907.494166395994,-23407.689489604214,-6883.266448619418,34669.512251682245,-9837.303312471866,-17559.821012728193,-17237.164617220493,-9829.97351735652,38826.72036306064,-29363.08161366875,-32744.677291510656,32063.72781377928,30710.900722683364,39779.1148051621,-8466.040730110506,-33244.17697227761,-30875.54637749515,-28239.975901032227,36843.41959547042,-19447.002737736886,-33244.17697227761,-8822.685009669485,-37843.98988750464,36590.891589731895,4591.421886880832,-28525.491892518377,-5175.5473489246215,32795.72242807842,-15295.136430873501,-3406.0560640015146,4310.71077934366,-15424.827040510676,29567.589715928265,-31355.706726078133,-11988.84682076148,43614.877440042095,23401.90545277193,-31378.282624419535,16678.908862173597,43036.65198355955,16432.456286302626,-12860.643494451144,34083.23472281883,31640.77292630929,-9656.044586657996,-34156.62618658387,-6942.154375083574,-30914.25409530754,-8975.005092925318,27625.8088261879,-23323.16754868188,-33981.59757081649,-12492.563304620182,41191.10069942689,-8388.644820123116,23556.221678146314,15943.836793822735,-8987.695300018491,35025.03169640539,-33768.409729927975,-8987.695300018491,-34060.25971794448,36791.822803180716,34020.3943444772,-19344.8375950817,31025.04147491359,29201.03431763264,-8828.110457309527,41363.216876279745,1032.3121851414062,-22956.369802058955,46148.63780011079,35089.64679046352,-12360.35406355748,-21041.572522590446,-32744.677291510656,-15269.582949086389,42954.657356056836,39510.11417681824,32289.830228351497,39808.070421180564,33356.589250655066,397.1869304585886,-19183.389248569634,32737.833799631022,24266.23486300648,-12547.473951764689,5162.1677512002025,35089.64679046352,4863.952430086656,-15694.194643834742,1032.3121851414062,-21041.572522590446,-10254.878878620431,-15034.493549193101,43724.71713792604,41175.83606684982,28882.04886399705,4836.764179527019,-15056.337645169478,-12547.473951764689,-17719.232145923936,-33788.3029973642,-9397.5135779203,-31320.243473881612,-28875.813219739324,31444.55509510149,-25124.849554985067,33833.44733575019,24621.196715001803,24284.881881497717,-14846.824621322314,37074.699853891296,-27974.228275609876,41352.715492304604,-15492.607251518148,-20046.29235730082,-14946.740381785983,-12984.34617954029,-13001.813248211567,-19277.090491254014,-27420.967125553256,-24897.343646397978,31576.30986784339,46148.63780011079,5015.658331166438,-9059.868753249597,-35832.244398522234,14341.592328928595,-6883.266448619418,-9648.103951852683,-15034.493549193101,38857.31683227074,-28542.23546516044,-15269.582949086389,-19051.301644071988,-15713.769167878632,-31780.90416056064,22724.547017230925,39942.22522526399,1353.01409604725,-33569.646356578836,34382.4044367942,-33931.12254751683,-33188.204698766414,-9045.326194352936,-33674.02164718831,42796.1224700728,34108.26152731034,-17896.068696392616,40294.326681320825,-9677.98030304387,-8822.685009669485,34108.26152731034,30832.16177076544,34020.3943444772,-33931.12254751683,-28425.502377762456,-15034.493549193101,-12304.484953617359,-4771.126817904877,29567.589715928265,20639.878927211146,-28875.813219739324,-12547.473951764689,-15564.835445591229,43614.877440042095,1782.9358559182501,49227.773651440395,34382.4044367942,39657.65213676326,-36093.170108003054,30110.305274243827,31640.77292630929,-13069.789569582726,-14335.097266737937,41900.242834989265,41352.715492304604,29045.585785959902,35089.64679046352,-28476.948648473164,-16933.520190436404,-29533.3309853115,22410.545298000023,-31355.706726078133,26580.675769861915,-8789.367742462713,31669.406995897116,-5605.898368648113,33355.808991008176,-31506.7710457323,-6942.154375083574,-29368.878915704954,-24592.49050443518,-15410.37657594545,-12823.26015033394,-18912.30079059362,-34060.25971794448,-28467.75619193317,-12492.563304620182,26926.033611575167,21424.013076757394,-33198.82285072141,-5605.898368648113,39942.22522526399,29073.05339298636,14877.377353780368,-33244.17697227761,-13087.013886417715,-12547.473951764689,-29363.08161366875,-5175.5473489246215,9134.708098691046,-19005.576742975023,17168.52602425173,21154.308939778508,26200.455944547768,-16418.97317348346,-6883.266448619418,32477.025828859267,-1774.471684507235,23540.176121552762,-13075.411004723639,-9439.387565159393,42738.40961870506,35246.45691267381,32289.830228351497,33709.46833207413,-32744.677291510656,384.5376555366273,-33819.00181979362,-32744.677291510656,32695.230930290054,30789.916076239802,-22725.130567044685,37024.38992495977,-8930.45546900344,-5506.552938520815,-30875.54637749515,-31440.99117286217,32960.94533664574,-19388.240686143097,-3646.4395825609618,4669.688961372995,-8916.53144020722,-18625.752860080393,31424.742680193132,-9433.010042367277,24301.81544202205,-30167.350072110145,-9090.829778303754,-12547.473951764689,-23766.097498033498,-33768.409729927975,-33244.17697227761,-32238.722496058483,-18008.53148424073,43614.877440042095,-35832.244398522234,-9195.409933848161,47169.654633541926,34390.82962676758,23843.822735009595,40294.326681320825,-19285.707029109628,-19344.8375950817,20389.0191408796,-12547.473951764689,-9212.222746295514,33273.19925362467,41191.10069942689,-23874.53626562857,-13676.158069582967,4614.702572964297,-28512.83621281196,30789.916076239802,26826.628168540858,5004.160257375597,-15393.741437060628,33964.5998735512,4902.352066439557,40819.681328593324,-27669.47611982545,-11969.246457659758,-31440.99117286217,-27660.534436191385,-33198.82285072141,33191.93839950437,-31484.034768626563,-33260.64508460483,49094.604275779486,-9192.547675051857,41363.216876279745,-27660.534436191385,-28527.02797258369,-33244.17697227761,-33244.17697227761,8591.950679473215,-33819.26730228996,32063.72781377928,-5590.509748030084,40649.514541882716,-23970.39747540477,40204.65377148762,-15410.37657594545,36861.28128108542,-11396.328061866894,-9199.243395518977,-33622.87094154802,39942.22522526399,29201.03431763264,-9338.141597781123,23985.038638645045,-16855.673775790758,-9741.229501444937,-19331.761065278773,1680.4575373730345,-19344.8375950817,39687.929072370236,-19344.8375950817,-16968.83646964243,21903.374352268325,-15742.071265528883,28910.648618312676,10560.472042277232,46758.783975757775,-34513.4936897528,39808.070421180564,825.4798437719937,-6942.154375083574,5461.157278580664,31444.55509510149,-13349.904179138653,-33683.364286931544,-10240.007489604099,-14549.350206811958,-18911.425630926715,5876.044470001605,-11988.84682076148,9020.640455850971,35287.960579254126,-19397.21593048088,42478.57794728054,50250.8173056012,-9074.72318264028,42753.790736112154,42946.015686530925,-28670.186397134563,-14846.824621322314,34108.26152731034,8895.97560233692,-18911.425630926715,-18959.168567860885,-6558.19464132467,-34156.62618658387,-31355.706726078133,7149.8018337549165,-6942.154375083574,-8899.006091476673,-12492.563304620182,-28146.907592061856,41064.99941512731,9651.195880798188,-28554.409080811798,-19735.542207875747,-33732.6662628039,-28520.195741959935,51185.88666370978,-28642.144229140376,28117.41210225182,10793.851186829865,-19344.8375950817,34413.65074696584,33262.58233222421,-7442.92631601681,31108.735089929665,37705.31975398006,4836.764179527019,24443.29922673991,3916.740653188178,-19159.20278687008,32063.72781377928,25232.51642519731,11412.786434189358,-12822.499823078258,3418.0400497253545,-34156.62618658387,-8863.043911656698,29201.03431763264,-31378.282624419535,-28476.948648473164,-9657.297279532475,-13282.328924581645,-33973.2688602435,-28345.669968157352,26034.797780220288,-31506.7710457323,-15034.493549193101,-8623.389625008911,26271.047628814347,-33198.82285072141,4120.780246810645,25259.165928881084,-30206.341072450326,22533.862213124736,35089.64679046352,-15034.493549193101,41064.99941512731,-9324.41382846358,-14846.824621322314,23607.289702431208,-20611.54003837752,1647.5493748019105,32942.76980466626,34063.82365022497,25434.293712742143,-9324.41382846358,-12492.563304620182,-33683.364286931544,-23549.725981548458,39942.22522526399,-4105.776298148639,-12547.473951764689,-10174.48843361748,-28121.016589540784,15343.078595745166,-15662.78932822911,-15034.493549193101,-27980.772842021506,-14943.684419317187,-33732.6662628039,-23293.228935017472,-28233.045121290983,39658.86635411549,31640.77292630929,18861.064490063167,28666.794609823115,-12547.473951764689,-15883.791308784486,-19344.8375950817,35287.960579254126,-28642.144229140376,-15410.37657594545,2996.995617833502,-28109.13128320517,-15034.493549193101,1680.4575373730345,-14174.212054070005,-19051.301644071988,-11981.155757946644,-12141.51077848868,26505.075216096706,-18281.888991584503,-13054.375164282406,40277.37067306412,-10240.007489604099,4648.781678106322,-17656.2807275363,-24872.28534996261,32234.737074140845,-14846.824621322314,35410.8451609886,1709.625104545239,-9373.901483060927,39974.91759628321,34494.87730420978,-13146.049610885171,-6953.804748273771,15027.932112728606,-31355.706726078133,42650.543153124156,35246.29229720002,26807.004405234467,-8975.005092925318,-27660.534436191385,-15410.37657594545,8724.537455834023,47728.168238332335,-34156.62618658387,-12672.974741878324,-9171.336619478232,-20177.848563627937,-23478.809349196486,-34060.25971794448,-15269.582949086389,30996.90167324299,-15034.493549193101,-9362.358007342014,-21380.548695544134,34108.26152731034,15361.784110783155,4675.3004730434295,-10120.76279568045,-8731.660855272776,-34156.62618658387,4920.087715091365,26227.503941446295,-6514.958145306268,-6883.266448619418,-9101.414952761726,40412.82011275682,-14732.489858413259,-6883.266448619418,36590.891589731895,-31403.25124962344,20263.124499088615,-29363.08161366875,26646.37951416723,40277.37067306412,-15269.582949086389,1433.3880458977392,-32777.73770824629,17865.81495677739,-15034.493549193101,13874.18148923261,-33198.82285072141,-19388.240686143097,-12547.473951764689,-6953.804748273771,15264.88930811927,-13131.734747087916,-730.919910587657,6044.386670705833,-12492.563304620182,-31460.435829621503,-15410.37657594545,41191.10069942689,-12360.35406355748,-32744.677291510656,-12255.030884244254,-33732.6662628039,-29041.737883059905,-31564.433983006278,-8843.756080106989,-24298.426028427875,-8899.006091476673,-30349.766709208085,-9073.087174590317,42523.436163089274,34108.26152731034,-4750.559343177795,-8659.908987613862,-28875.813219739324,-19397.21593048088,2558.366917401253,-6883.266448619418,19805.214713910773,4902.352066439557,39510.11417681824,42738.40961870506,4648.781678106322,-28512.83621281196,28782.27377153923,43614.877440042095,43193.98034297933,-19344.8375950817,-28936.15531846512,-34421.38196578568,-36065.439373991816,40181.78704616956,-13131.734747087916,-11988.84682076148,-23760.24325584331,28339.130188890707,-14210.496377210058,-18912.30079059362,36590.891589731895,-6782.3275714798865,-8731.660855272776,-19165.21262842853,-28542.23546516044,-13087.013886417715,-18978.7414297835,-37036.38405878339,-31355.570430285465,-31102.01270874468,36460.12993327937,-33683.364286931544,-8987.695300018491,-33920.04593673637,39550.61607368721,-15465.701439009003,-24186.94879340806,-12896.38255672785,33401.22926315988,20004.36490073853,-18959.168567860885,39687.929072370236,-15590.808521345703,-29378.777843501197,-19344.8375950817,-9722.897411443744,-33638.00235488563,20437.704226469854,-33768.409729927975,32063.72781377928,-28642.144229140376,43724.71713792604,30789.916076239802,-3951.602267588578,19187.949781851778,28056.488035221595,30498.021546050382,-11284.13620083459,-31262.593426843272,-12822.499823078258,40692.82347857906,-1349.7985035667036,-33956.274241809915,19976.881869084522,-12492.563304620182,-10965.793478497042,-8899.006091476673,-32093.5007261289,-10374.267527389131,39550.61607368721,-3197.957535246508,-28146.907592061856,-9195.409933848161,42278.22773970645,34442.005162791866,32788.5035723687,-33768.409729927975,-15034.493549193101,32993.688237483824,29371.250197820056,-33674.02164718831,-32777.73770824629,36775.26708271229,41959.40195983358,-6004.1622249577185,-14732.489858413259,-33198.82285072141,-13282.328924581645,-7163.65160736726,40871.33636542017,-24655.477904749383,37320.54961171151,-11988.84682076148,-12550.909156035457,42946.015686530925,-9059.868753249597,15075.952312371832,-32777.73770824629,-12547.473951764689,-8899.006091476673,-25124.849554985067,15343.078595745166,-33956.27052544281,-8828.110457309527,4270.466502860591,-33682.98546855866,33191.93839950437,39550.61607368721,33971.582547148806,25719.514931064023,-6942.154375083574,-25890.68453874959,39625.66015513727,-9829.97351735652,31923.35262600281,-13172.393950147143,5156.468157332309,-21265.257520905518,-8731.660855272776,1025.396726853529,-19344.8375950817,-15063.354166088642,34797.1116269271,-11969.246457659758,-25124.849554985067,30558.395245344018,8182.355914046193,-9648.103951852683,-8877.103720779127,-9324.41382846358,-12492.563304620182,-19165.21262842853,-33244.17697227761,6517.8232093766,-22323.152372674074,32942.76980466626,24448.244386533963,-6942.154375083574,-6218.549275132628,27914.228408995725,39658.86635411549,-8930.45546900344,34072.70454915471,-30444.204399712366,32993.688237483824,-15477.720610272088,24199.66560400483,-25124.849554985067,33805.38941211809,24639.845142317437,-28425.502377762456,38076.99526981241,-9463.886267865333,36460.12993327937,47.84755839306487,18972.680270986893,29036.225243361536,-32777.73770824629,-10254.878878620431,33639.112086146364,30789.916076239802,33685.45141870382,1032.3121851414062,35845.692467032815,-16649.26994745991,-19397.21593048088,17426.731647922923,40181.78704616956,-10340.070423119634,34108.26152731034,-19344.8375950817,6299.756464600653,26688.83856051644,-33732.6662628039,-19344.8375950817,32869.19918938075,16378.980413939145,-14075.553190788536,15976.864591912841,-19005.576742975023,-27911.82684802092,14573.491265569903,-34156.62618658387,32873.86055692231,35246.45691267381,-18625.752860080393,-8800.457947566352,5757.419466178803,31640.77292630929,41057.8686248583,-13052.146492504231,-15631.600036378808,3397.9218001397157,32828.79625117872,-19789.617758724653,-12547.473951764689,-10174.48843361748,33188.08164967184,28117.41210225182,33191.93839950437,-12860.643494451144,31088.52345072614,-9059.868753249597,-32665.202675395507,23575.701002605103,-17761.611800067232,-33885.93021964002,18537.262295363296,630.1954865102658,5148.809230724083,1267.4229635292618,-9463.886267865333,34157.81562482642,-21041.572522590446,-32665.202675395507,2026.46084123243,-33768.409729927975,27195.441901626655,-23252.856776047887,35089.64679046352,26936.562007979293,-6942.154375083574,42650.543153124156,21340.287836324766,-15742.071265528883,-12547.473951764689,-26188.885377942333,37484.820780640715,34494.87730420978,33633.19465059994,32993.688237483824,5148.809230724083,-233.68530490174524,-27660.534436191385,-33788.3029973642,-15822.36376722553,-11969.246457659758,43724.71713792604,-9398.018729257235,-31355.570430285465,-17666.44804988048,-12984.34617954029,-15034.493549193101,30837.87905088339,33878.38762195616,-33198.82285072141,-15742.071265528883,-11885.256928950128,-14182.32403086458,18954.643661017544,-11445.808065583733,-32737.23052384211,-33674.02164718831,3248.662254119383,-25293.92037712262,-9406.814539420844,-8198.055506875184,-33885.93021964002,10697.974997812416,4310.71077934366,-10608.56612640491,-21041.572522590446,43614.877440042095,-12492.563304620182,35246.29229720002,-29533.3309853115,36653.861313377034,18623.270848844484,-19397.21593048088,2255.103649338586,-19344.8375950817,18972.680270986893,-6967.742374135798,-12547.473951764689,-16933.520190436404,-33244.17697227761,-19165.21262842853,-27728.66039150779,-18215.245369779,28812.14488893621,-8828.110457309527,-33768.409729927975,-9221.249438978366,-6942.154375083574,-14795.759168077808,-29363.08161366875,42753.790736112154,34633.87628440075,-22949.860378213885,-18932.926858891795,20624.337674210867,-15623.886856133706,-16366.613187551957,-22086.483994862356,-9722.897411443744,-28542.23546516044,36843.66918187304,32788.5035723687,-12547.473951764689,-32957.17714447821,-19051.301644071988,-31355.706726078133,-18911.425630926715,-33819.00181979362,-27184.298684421687,129.63127313968002,-29363.08161366875,-28582.66277563541,-31495.476351156183,-12547.473951764689,-33244.17697227761,-34156.62618658387,43724.71713792604,12604.616382013148,-13327.999113221937,-27919.493011541614,36370.164919932155,-13282.328924581645,5148.809230724083,31640.77292630929,-10174.48843361748,29358.719379439142,-16306.982135605087,-12360.35406355748,-9648.103951852683,-8962.70191303317,9439.894573516685,-33196.444745890185,2326.4662379096435,-19344.8375950817,32993.688237483824,-9090.829778303754,-28320.924279415063,-10550.624731685662,-7567.136775245426,34947.9390728905,-10380.09327326019,-8621.484597304894,30682.84278174054,32873.86055692231,10585.103156522677,1709.625104545239,-9750.705815572726,5948.978640064228,-33788.3029973642,42885.32898149,-28025.912769737137,-15111.856348375355,-8894.621196331602,5684.6497080103145,-9045.326194352936,20264.949778873503,39641.3034304438,39493.418478711006,31238.16916466428,-6942.154375083574,29320.809968780344,-19344.8375950817,-15410.37657594545,-19309.585518559103,-884.5318192306222,30999.968209328432,12000.633101181726,-11988.84682076148,-14732.489858413259,43227.39682354129,36460.12993327937,-19165.21262842853,-33683.364286931544,-32744.677291510656,-15034.493549193101,-31378.282624419535,4622.987884874683,18983.1838678797,-28146.907592061856,-28476.948648473164,-19344.8375950817,-15522.726751475062,-9677.98030304387,-6883.266448619418,-2948.6953915896506,12185.576732049765,-35788.54370150186,20891.87112628315,-31355.706726078133,-14552.867382546361,-9273.539612448107,21941.838120410015,-9657.297279532475,5156.468157332309,36590.891589731895,39550.61607368721,-12547.473951764689,34494.87730420978,-11774.135149346288,4703.9561235883475,-10174.48843361748,-18964.532843708173,-31460.435829621503,41064.99941512731,41229.6604643295,-28377.94197823536,31036.093131393878,16585.902309332687,-8268.309769695248,-5506.552938520815,-10121.795644586675,-20611.54003837752,39510.11417681824,40294.326681320825,-28239.975901032227,-20050.793378109556,-33981.59757081649,-12360.35406355748,-23360.977043666775,-12492.563304620182,35246.29229720002,24384.93873282024,-28425.502377762456,39808.070421180564,-20611.54003837752,-12547.473951764689,20263.124499088615,32695.230930290054,-33683.364286931544,-28582.66277563541,-31262.593426843272,-31355.570430285465,-27669.18335661572,-16088.101352400188,-28320.924279415063,-25151.59760503406,39658.86635411549,16209.906840399957,-15492.607251518148,39690.370056199834,10608.053879716377,-34187.311279486195,-11465.5618794841,-18911.425630926715,-33683.364286931544,-11981.155757946644,-12141.51077848868,-23244.548868150538,29572.774232467407,24856.486920870193,-16218.436961079793,-21041.572522590446,-19344.8375950817,43614.877440042095,-30509.34704465728,-11988.84682076148,20997.37082806855,-9656.044586657996,4648.781678106322,-34208.17816845423,14110.235376142671,42738.40961870506,4602.6661077165145,32960.94533664574,33887.10637408977,20995.876323119486,-21535.929164703655,34108.26152731034,-13069.789569582726,4748.977047343343,-23839.19403406711,33502.38783523034,40294.326681320825,-30167.350072110145,-19388.240686143097,-12990.12450070881,41728.844818778634,-9677.98030304387,-9686.770841364925,-28520.195741959935,37892.573018930285,-18912.30079059362,-2217.2370350017636,-6206.651099184785,-34536.460110934975,-28109.13128320517,-9101.414952761726,39657.65213676326,41900.242834989265,-15034.493549193101,-5627.0308671430685,-12863.037531268401,-22620.385970217692,4748.977047343343,-32351.56094450079,-33244.17697227761,-15564.038074631,28433.594194526413,19224.209104114343,24820.667670633527,38535.64704829557,-15694.194643834742,-8538.356113269547,43614.877440042095,34157.044771063316,-19165.21262842853,-13871.911921609491,10343.791310055976,-15269.582949086389,-6883.266448619418,40277.37067306412,33262.58233222421,12238.35998612957,39550.61607368721,35089.64679046352,-29516.505778611336,-12492.563304620182,-12304.865785344116,-21535.929164703655,-15063.354166088642,-15034.493549193101,1196.9734686476256,41900.242834989265,36582.807152761714,27557.914715861636,27722.995000785228,-33768.409729927975,-34060.25971794448,41882.82440018378,-18679.211873763357,-24265.379393898875,5162.1677512002025,-15034.493549193101,-15034.493549193101,42753.790736112154,-29516.505778611336,18972.680270986893,-15826.513901270406,-33474.61201641079,-19893.090043985423,39506.812991551924,39658.86635411549,-6942.154375083574,32644.63573923649,35089.64679046352,-6519.419799113728,4549.241365401473,-28527.02797258369,-12547.473951764689,22190.065412109045,-33674.02164718831,-9463.820646145266,-8731.660855272776,-33956.274241809915,-31355.706726078133,-2301.5629403002245,-9463.886267865333,-24321.954509037667,-33198.82285072141,11178.63812126831,32011.217505882934,-14737.375832072645,41352.715492304604,42650.543153124156,35287.960579254126,4863.952430086656,-6942.154375083574,35508.495057008025,-8763.233347721485,-14732.489858413259,25748.248047458845,43228.1630352722,34800.593514254775,50381.815056656495,-22416.160760974777,4754.7553293445635,16660.829694794964,22401.8236519232,34390.08050955128,40250.030673798516,-23818.847838260186,-15771.982418353216,-8916.53144020722,-14134.776404912722,-13326.18792302193,33188.08164967184,26227.503941446295,-12360.35406355748,-26834.034908602418,32942.76980466626,-12492.563304620182,30789.916076239802,-33198.82285072141,32063.72781377928,-9837.303312471866,-6967.742374135798,39061.91532449789,-12860.643494451144,-28875.813219739324,16892.858681629925,-6942.154375083574,-31355.570430285465,-9122.14634726929,-32737.23052384211,31503.764623036765,39779.1148051621,-18959.168567860885,-19272.730388032964,-11988.84682076148,-8371.588513305293,-7477.975526497815,-15742.071265528883,-33768.409729927975,40277.37067306412,-33788.3029973642,42031.21326863387,-16878.756675215296,-31460.435829621503,-9171.336619478232,-14006.055416394249,-23645.953001375576,-30446.12469972575,-8863.043911656698,33191.93839950437,-28467.75619193317,-3230.5555140039046,-33674.02164718831,-32238.722496058483,1828.0014265365526,43036.65198355955,41706.86391804133,39808.070421180564,-31320.243473881612,-19344.8375950817,-27897.80843459397,29620.476927611955,-26713.821778485446,-15410.37657594545,31444.55509510149,-10983.402927418792,-8628.333175710353,-8831.91849008856,-19388.240686143097,35242.14956150877,10121.656989441679,7339.437214419135,-31506.7710457323,-12907.088323809738,42650.543153124156,23615.25705787808,-15590.808521345703,-19353.725590830367,-20444.98092634942,21274.89743560471,34890.56291313938,-19344.8375950817,-13087.013886417715,-8899.006091476673,-19753.867961873122,-12547.473951764689,36460.12993327937,-33887.451176776325,7554.775220337455,-15477.720610272088,35087.88853186933,-8962.70191303317,-29572.776630348642,41352.715492304604,33201.97925133092,-33244.17697227761,-33244.17697227761,-31378.282624419535,31424.742680193132,-19344.8375950817,21313.888432198233,-5678.997560623238,-12492.563304620182,32993.688237483824,-18696.464675871637,4742.374828859401,26651.18844398492,-9171.336619478232,29073.05339298636,-35832.244398522234,36590.891589731895,41011.67073427577,-15065.083961614635,-10254.878878620431,47164.90225537919,25893.395842716876,29086.548471148082,-15295.136430873501,-12547.473951764689,34068.33618580932,4340.235028614725,-33244.17697227761,40181.78704616956,6403.524940079444,-24758.908593822573,22992.568671612273,-5131.534375411457,-15908.348401583613,-15056.661070328037,35287.960579254126,-19344.8375950817,-31355.706726078133,-9171.336619478232,-12547.473951764689,-33198.82285072141,-28548.001519025507,-807.320215285559,-33885.93021964002,14350.152796983035,43614.877440042095,-26188.885377942333,-24348.174523444544,-33244.17697227761,-17840.03278922787,-3067.762962159069,35089.64679046352,-9101.414952761726,-19272.730388032964,32942.76980466626,34554.73443282318,27502.17022987919,-19617.176087715416,-18984.35580354387,33041.26023139903,-8731.660855272776,29379.210896414344,-29516.505778611336,32063.72781377928,-12264.58418649165,-33198.82285072141,15139.060209929765,-5678.997560623238,4836.764179527019,-16140.340299868052,-8962.70191303317,-15590.808521345703,-22003.80001111775,29164.588235107756,43092.60089970767,-13282.328924581645,4614.702572964297,35287.960579254126,-8205.763517796811,-7035.653873365578,39491.27014815732,38931.67167242493,-33683.364286931544,-18959.168567860885,-13103.9335324353,-28875.813219739324,33927.13298445821,-20611.54003837752,-33865.33005724286,-18912.30079059362,40942.45036972043,5545.72608484945,16442.0815375788,-31292.391066909833,-19344.8375950817,29201.03431763264,-18984.35580354387,43724.71713792604,4622.987884874683,-14229.017617975502,34494.87730420978,-19272.730388032964,-5769.292652056317,-12547.473951764689,5204.968496240456,-27961.325683719064,-31506.7710457323,-27216.495537830535,-15063.354166088642,-27728.66039150779,-27506.685765899925,-19272.730388032964,6149.1396261488435,-24872.28534996261,39780.19797532376,-12860.643494451144,40277.37067306412,22668.327728445445,25709.59054450096,14534.320917999577,-32737.23052384211,-23722.658134913065,-10340.070423119634,-33244.17697227761,-11301.176246526271,-8739.483580200975,35645.868125850786,-8975.005092925318,397.1869304585886,-12547.473951764689,-33244.17697227761,-20247.319022761814,-9837.303312471866,22809.680849257504,-11968.169732314178,-9177.23371673801,-31262.105452986423,-15295.136430873501,24799.191308732254,-9074.72318264028,-33768.409729927975,-12492.563304620182,19147.934337007275,-33973.2688602435,33494.74378892962,-29516.505778611336,39808.070421180564,41900.242834989265,41064.99941512731,-24533.423895914042,-6782.3275714798865,29201.03431763264,39657.65213676326,-25070.424084841652,-19344.8375950817,-15111.856348375355,-15269.582949086389,-24854.054241844646,39942.22522526399,-16463.68285370575,-19466.275562557134,27524.57472679387,-8468.52181850342,-15564.038074631,-30802.627773002736,-9270.737444194829,-31460.435829621503,12319.9143984646,-9406.814539420844,34442.005162791866,41363.216876279745,42738.40961870506,-24364.68305896186,16661.714561978435,28910.648618312676,-33683.364286931544,-15492.607251518148,-24872.28534996261,-28542.23546516044,104.42421993940515,-1449.4043780939012,-29516.505778611336,-11968.169732314178,-31262.105452986423,-13069.789569582726,32234.737074140845,-15111.856348375355,-12492.563304620182,-29293.70981538934,-29516.505778611336,39687.929072370236,-9320.396470616608,37789.20188286625,-31355.570430285465,-10340.070423119634,-7894.5363828430245,-33244.17697227761,-28476.948648473164,-31730.33717830604,-28525.491892518377,-30145.50136934936,-9045.326194352936,-19344.8375950817,39510.11417681824,-10254.878878620431,-22849.73352564812,41064.99941512731,31640.77292630929,-14128.267554782298,32319.98275660247,-8731.660855272776,-18993.478385846152,-12547.473951764689,-6840.104319401249,41376.828971314615,-32737.23052384211,-28596.734744603666,-9225.57856662599,3979.754738304008,-27671.330630495802,-9648.103951852683,-19397.21593048088,3425.9739690530328,-20611.54003837752,-12547.473951764689,35246.29229720002,-28642.144229140376,22300.41238672481,-15492.607251518148,-12984.34617954029,-29293.70981538934,-33768.409729927975,19140.48605125394,-9324.41382846358,-28504.159609450835,-9240.858150891512,-15887.029717368961,-28467.75619193317,-26292.452196998704,-28320.924279415063,24614.116338299824,36590.891589731895,35246.29229720002,-15269.582949086389,-9270.737444194829,-38120.96017768167,-28642.144229140376,-6942.154375083574,-8877.103720779127,36861.28128108542,-12175.956070952985,-26188.885377942333,-9101.414952761726,-33244.17697227761,4836.764179527019,-6433.753882963373,-11988.84682076148,41064.99941512731,-9090.829778303754,47437.95562383573,17262.644883599758,34020.3943444772,-12547.473951764689,-25124.849554985067,-33198.82285072141,-33819.00181979362,26676.31915557025,27787.773072129236,-33973.2688602435,44829.45533363862,-8916.53144020722,-33244.17697227761,25079.657644264862,-9240.858150891512,42946.015686530925,-20189.65255816453,9240.565745173164,-11562.614983624764,22071.319138555275,33188.08164967184,-3899.4847933183787,33205.57135634279,43614.877440042095,-25124.849554985067,24962.76949344112,25921.255010692796,-33244.17697227761,1433.7875786755367,-18912.30079059362,41266.463369437784,-33683.364286931544,-35199.923243495316,33931.635008591926,41191.10069942689,36460.12993327937,-15034.493549193101,25656.377350315695,-11173.427475776938,-33188.204698766414,36032.98597995882,-15742.071265528883,-26188.885377942333,-8975.005092925318,-32744.677291510656,33201.97925133092,27865.242359976037,32695.230930290054,-5605.898368648113,-28554.409080811798,-34003.10590046055,-12492.563304620182,40277.37067306412,-8866.123457789521,29073.05339298636,28117.41210225182,-13282.328924581645,32326.62653327983,30222.234087972072,-5175.5473489246215,-28239.975901032227,35287.960579254126,-12492.563304620182,41064.99941512731,-5590.509748030084,-6883.266448619418,20509.472866289434,4549.241365401473,-12105.989556457138,-9677.98030304387,-9045.326194352936,-33768.409729927975,-13297.524748956777,20569.03496381136,-9173.180540628986,-15034.493549193101,-15034.493549193101,4549.241365401473,-6942.154375083574,28812.14488893621,14864.001060672876,-11988.84682076148,32011.217505882934,17131.853612618925,4622.987884874683,9794.827224985753,-9677.98030304387,26326.86284165386,34413.65074696584,-28527.02797258369,-15063.354166088642,-33788.3029973642,7165.94179956912,39690.370056199834,30871.303755281246,-9722.897411443744,33787.577066742815,20457.031953463553,-33683.364286931544,-32665.202675395507,-18911.425630926715,-8877.103720779127,42728.89820777497,-33683.364286931544,-7482.429982851322,14089.382223136827,-3963.999609764779,-33675.98384762776,-28642.144229140376,-34060.25971794448,10858.836601696134,-35495.92668870639,-31460.435829621503,-20611.54003837752,-15034.493549193101,28910.648618312676,-9677.98030304387,32873.86055692231,15423.271075849581,-15711.79111711016,-19711.650494434267,25416.467005790917,36460.12993327937,42885.32898149,43614.877440042095,-26188.885377942333,-9045.326194352936,5156.468157332309,24501.507397870253,34978.1016099503,-17887.18438280935,28812.14488893621,3916.740653188178,-31355.706726078133,40277.37067306412,-14856.977671666276,34359.001945299395,-29123.422306075507,-12822.499823078258,14033.507276087515,-31998.82812539147,39690.370056199834,-19441.981092758077,43012.75063631117,-10649.383144968382,-10426.108463635972,32942.76980466626,-16926.87194842095,34108.26152731034,-33102.34568621813,-28642.144229140376,-29363.08161366875,41833.05740482552,23079.059337308972,-28476.948648473164,-12079.981177429981,-9547.84155018803,33191.93839950437,-19344.8375950817,36752.30514165664,-33683.364286931544,10343.791310055976,19553.7021717387,36746.67466923966,30129.095024346203,-9270.737444194829,-26188.885377942333,32942.76980466626,-31378.282624419535,-15111.856348375355,-8659.908987613862,-19005.576742975023,23067.824814517324,-31378.282624419535,-6942.154375083574,-15034.493549193101,16978.138619327405,-15694.194643834742,-33508.980397466345,-32744.677291510656,43614.877440042095,-21864.971606037652,33829.2616361821,-33244.17697227761,29704.728635724758,32942.76980466626,-34731.085078536016,-20887.307384897107,40369.397316504044,-31460.435829621503,41352.715492304604,-5605.898368648113,-10716.093828604104,13086.869968875695,-12547.473951764689,-18625.752860080393,-15622.409246255393,9790.53369340425,-17069.96808163365,34947.9390728905,41057.8686248583,32942.76980466626,-17874.677416125654,11740.509900913625,-8926.183674218322,34454.10894001015,39808.070421180564,-15410.37657594545,-28527.02797258369,-11981.155757946644,-19601.702377451453,-23561.728582655847,-11680.634019934832,-19005.576742975023,-9013.1386728025,18972.680270986893,-6942.154375083574,-8366.61151347409,-33682.98546855866,33878.38762195616,-8518.263587127905,-33880.80157936162,17482.278278401376,-15623.886856133706,-6824.94826540372,-8763.233347721485,14163.195492198063,42381.49945757138,23316.6941917897,-13222.585623630792,-30267.33479527034,12364.08070728657,-12901.078711198868,-18911.425630926715,32942.76980466626,-30683.939437905618,-9657.297279532475,-30293.30800603182,-15269.582949086389,-27671.330630495802,-33683.364286931544,-27660.534436191385,-15590.808521345703,-21461.013870806593,-28527.00443055139,-9388.94262147381,28812.14488893621,29244.158135813024,1032.3121851414062,49050.060338244846,342.00681743831933,-15708.419946406446,42953.01368194883,39658.86635411549,-33683.364286931544,11499.162567843245,-25124.849554985067,32821.09335086777,-6942.154375083574,-13146.049610885171,33297.20004500002,-33788.3029973642,42738.40961870506,25816.548572090953,-34156.62618658387,-12547.473951764689,35246.29229720002,-9829.97351735652,34108.26152731034,-28520.195741959935,32960.94533664574,35089.64679046352,-6781.025080111704,-9090.829778303754,-27671.330630495802,-15572.755957572932,-30975.28761917523,36955.53088928752,29464.45858539239,20922.31587668806,-28320.924279415063,-11882.359902987377,26162.072583453664,-8659.908987613862,-33674.02164718831,30896.60132658978,-8916.53144020722,-9240.858150891512,30159.409572647124,-33198.82285072141,34108.26152731034,28338.88342389792,42747.79109712401,-1349.7985035667036,35089.64679046352,25207.746904844375,27447.976325830216,-19129.8672551205,30463.998059448473,-10340.070423119634,32234.737074140845,4836.764179527019,32541.53308037558,-12492.563304620182,-25027.35418473718,-11749.413377260571,4675.3004730434295,42795.17846258552,-15034.493549193101,-19184.66594848042,-16652.18465499705,-33819.00181979362,-33244.17697227761,29181.748008968516,-19344.8375950817,-14846.824621322314,-15492.607251518148,-5590.509748030084,40861.75447312661,5004.160257375597,-17623.00021548125,-1349.7985035667036,41352.57438248976,-33956.274241809915,-32744.677291510656,-15564.038074631002,-31509.768292734225,-8863.0439116567,1789.7417972755302,1170.8191970821188,-5590.509748030084],\"xaxis\":\"x\",\"y\":[-11057.57251920686,-10339.581824807063,-17191.70582005991,-27150.733292172707,-6699.602124473278,-17299.124990126747,2427.1823005252977,27677.096472338588,-10565.25711606031,912.8043641364649,19972.834035795477,-1745.487352873274,4145.471104705373,-8286.920902378151,-11333.112735153034,4978.091129889798,29332.882732212856,11432.583879028232,19658.39021685563,8649.67124197522,-5991.639209527322,228.7218079518456,-1876.669228356387,30264.224909923672,-11375.475194075463,2355.5618598026686,8837.675864480383,-10104.409631630193,-15440.744740075013,-32505.571186261885,29685.111685638425,11177.315351457588,-1366.3602029887682,-25191.370078971915,8507.040281500414,34985.56039225019,23071.407933738632,29685.111685638425,-31545.414175877475,37282.05139926394,-38159.98075523107,-294.9033800845113,-10030.608765170009,-33287.20210404201,11595.06184711999,-32505.571186261885,-6693.358001636838,-12705.502834610998,-791.9442347176112,-2483.7236938150763,-19068.998819280794,-11201.354647712322,-27545.66962889469,30168.454764408383,1928.3885525633739,-1739.7073746262606,-3775.8675478755863,24551.687896508887,24014.904755265296,-11338.816680729708,17112.929918440557,4853.729871866533,-15089.304712584217,-11788.37851283058,-48.90735342231959,-9043.827813024755,2355.5618598026686,4520.091475529308,4145.471104705373,-32505.571186261885,-11580.18835914294,10208.121273032973,3084.9375509052975,-7860.960058497288,-7761.139324094812,-7807.26194837814,-7620.421594966372,-31706.65716957158,30202.9670207204,9394.267357334453,23799.36694487002,11599.124082515747,-32721.48256472787,34131.18025385327,-8631.624904991304,-12516.99414477296,-7649.790622969971,-33251.096546460554,29835.267738209943,-10071.734777905844,-2396.318716358311,30099.35285084225,12702.850796253755,677.0630183796342,-1333.0207491720123,327.75069126145655,29685.111685638425,-1394.9756588574292,-48.90735342231959,-655.3401333231193,29507.66920248298,24673.580343638794,-16629.62403189179,-32725.088089927347,228.7218079518456,32784.336677245046,20481.215736423317,1328.9654709722054,-32361.291162592872,30280.39406011222,-6604.988744599101,-32991.251784225205,-7769.958318523554,5665.84491961635,-7807.26194837814,21071.625241909114,-32957.44767994129,26530.27884821465,12012.895922480773,27841.397216122263,-17826.803663132854,-12684.084532399253,3582.5358990508266,6990.042481941452,-8067.465348084621,9040.311800471589,11527.306737453753,2679.9200776459156,23799.36694487002,-22389.45502333939,29685.111685638425,22760.139557999377,-1745.487352873274,2639.672001474623,-13889.018880593456,20481.215736423317,-19114.949137886768,-20432.098804546844,20534.07837755003,-33034.39011776848,-33034.39011776848,2485.195572488953,30959.825958248162,19998.53875644509,19658.39021685563,-31638.669361055174,-5323.77240909494,-10573.12124778609,-2028.5067895115596,-990.4799511288535,19998.53875644509,11623.18894748317,14161.35927966009,3486.221717013282,-7548.9628040620355,-26592.676545117843,3621.477927205885,30026.099308749526,8457.255306808132,-31666.228853932967,-19193.128952287192,-424.46643522451495,-328.5479113228005,-3492.4370392484407,-14740.671316806185,10174.347185292267,-8116.99010924347,-11614.924078191483,318.908746758758,-16100.979596279118,-30730.438008594283,12301.687134765785,31569.338894856082,-7980.19958816315,24988.616480527693,-3615.5326764927,6184.859722886038,32325.01301142227,5775.775033770284,4853.729871866533,314.548630584974,-32965.45846491831,-1850.0620216364903,34131.18025385327,-32505.571186261885,37742.459060511996,-25390.376651730112,-32613.345141428945,-14129.7423429259,3673.1540393324626,4978.091129889798,299.16819883871,4978.091129889798,791.5375583393013,30026.099308749526,-268.0531153837658,30270.706510544453,34147.32672721893,-273.6309609634991,-2495.069327654616,-7807.4734605638205,-14740.671316806185,1581.4470221274626,-7889.628025403172,4758.515562403159,-32713.978074992454,4080.402116080986,28914.370854132954,30654.724780593966,32073.01769878819,15251.483719919439,-26096.259648024625,-10845.827302350956,7169.057818859805,-48.90735342231959,-13487.937591754719,-32505.571186261885,19972.834035795477,-33606.92909920951,-6089.7873299927915,31481.457645255032,-3360.8348836994246,2875.8150149066796,30527.286779941765,228.7218079518456,-294.9033800845113,-17572.89072740987,-48.90735342231959,-36822.42640340552,-8919.228376144532,7571.5355744857225,-24600.12753474449,29685.111685638425,-10100.821996632187,27983.45486839552,-11840.509455199663,30142.273808635964,33924.42451720984,-24.533049758278516,11172.70112569317,934.2585857057113,4978.091129889798,6602.161565488251,1207.495575002664,25404.61159300115,23799.36694487002,-33161.00895207825,-41425.91363379198,-20702.16265413634,8881.915508392061,-1745.487352873274,-7807.26194837814,-22568.342198984086,-31638.669361055174,1344.6745468342683,-33161.00895207825,4739.964707794433,-3853.4115107889834,23799.36694487002,-1981.401333751081,-22468.986711889247,-777.357339068083,24673.580343638794,-1066.9630215924153,-32551.95423981926,-18624.97475467687,20481.215736423317,-41560.47457483898,34131.18025385327,5150.260506131042,-32923.459382541914,-7863.5194143155795,3678.9585550734732,-9921.247832901441,35725.738932932705,-13756.677645409736,27903.842806062126,-2267.186521060188,4853.729871866533,5549.803653702528,21633.271954087326,34131.18025385327,22769.533184283253,5775.775033770284,43.196435681641184,20534.07837755003,-24760.808978019413,-777.357339068083,-29931.780077857584,-14138.458853359502,1046.8641918831545,-3049.4715670364853,-13096.57358064847,23799.36694487002,30330.939301063554,-10056.174432164282,-19401.234205288038,-7980.19958816315,-12063.199032659753,35054.05698503515,-1847.4505417477533,-8877.92238760826,32469.908450652256,11890.9663904764,-7426.64155521694,-7376.672990802498,4073.7562869283083,-10845.827302350956,-10100.821996632187,12954.01556638547,30527.286779941765,-31410.151339720644,-189.73269294940494,-32361.291162592872,-1366.3602029887682,-33107.29755684892,34131.18025385327,8903.725457439485,-32454.81946666153,-15579.132849544309,362.9614425676691,33961.261066966785,3095.2490780071034,-1981.401333751081,29685.111685638425,2640.789250648207,19797.85296142222,-10100.821996632187,34131.18025385327,24262.558587557607,31198.259320880486,-20535.92805869848,1304.0854728375984,4080.402116080986,3878.6496685313323,-7061.747216999444,-25572.802087132146,-7807.26194837814,-7586.010860652131,-10044.312538936505,-7769.958318523554,-860.0341460443061,-5328.726687235625,1480.5095322169432,-32721.48256472787,-1155.0743474782887,33654.23099786928,43418.242001959945,7382.329648595873,14809.849940766344,20602.304487464316,5665.84491961635,1643.1710299998322,-7280.309519920166,-8204.957020483911,31792.51054787232,7773.580332156983,-1232.9177043824857,-8116.99010924347,3372.427913685105,34131.18025385327,-1237.974188333797,-21749.9723886511,19972.834035795477,-24.533049758278516,-7918.746128244131,-2501.6246878224406,-8553.349193106653,-7545.271905387969,-7807.26194837814,29776.636919057128,1338.1720969518656,20130.480729473333,13773.167611176268,3486.221717013282,-10867.332196440804,-603.5675106047916,29685.111685638425,-32551.95423981926,-17475.612988509714,-7110.082465004627,-294.9033800845113,-33181.6359942117,2311.6593053165943,30142.273808635964,-14826.018451216714,-4720.653302105046,-10313.72859589927,-11381.1464986366,2639.672001474623,34082.79170294283,21633.271954087326,31318.136399998526,1581.4470221274626,3084.9375509052975,-12054.444242177467,1802.8826099102128,25107.1900158741,-7829.537973804345,-7807.26194837814,-20432.098804546844,3962.10116760439,-7089.194971612206,31574.663758310893,-32759.324213692882,-32505.571186261885,3095.2490780071034,-15069.320297196093,4978.091129889798,-2028.5067895115596,-6658.963221828543,7540.415990778134,-294.9033800845113,-32759.324213692882,4145.471104705373,843.6346440712886,-34973.5338006515,-10917.974184042117,-294.9033800845113,5651.76866496739,796.2633455633446,-3112.595009828157,28410.718826609238,33127.18547146537,1814.2811996121923,30202.9670207204,-33251.096546460554,-4851.184065952067,19658.39021685563,1338.1720969518656,1699.482067894835,-27662.896000529505,66.92608804755858,-7829.537973804345,27757.919886541265,1645.9913220273268,-34097.83928663933,30959.825958248162,1643.3240360899233,-12636.189769059327,33127.18547146537,23799.36694487002,-32505.571186261885,29685.111685638425,23354.1073038315,30304.549707835205,-1655.3919095577253,-27189.073734810863,9161.821194774659,12963.136244639933,14500.022057414631,29378.562158830526,24648.125079194644,-32897.32092429557,29501.970038251566,-20432.098804546844,146.79454597008112,11178.824439491336,-777.357339068083,-9714.641386964777,-20432.098804546844,-7497.774962314154,12723.055555119823,29685.111685638425,-15267.754265196161,-32044.62025022258,-32957.44767994129,-167.20249277500838,-43726.3769703685,791.5375583393013,-13642.254356888881,-8570.389026069206,-7556.876186627925,-11201.354647712322,-30573.23307209383,-31638.669361055174,-11832.397529737398,34131.18025385327,-4117.739696916595,-10752.895145879129,-13865.891796312375,-10842.26360417932,40230.63606386356,19797.85296142222,34131.18025385327,29378.562158830526,-20063.666553032013,-603.5675106047916,-1850.0620216364903,934.2585857057113,-32796.08181270007,-39846.844810566894,-15973.901023567922,-17191.705820059888,1846.883749690896,19797.85296142222,-33013.83567398128,-14169.35753223957,-3215.3129894297995,7622.24505548687,8507.040281500414,-1024.3494922785362,30303.822723203142,-30610.286883400582,-24630.749262606096,8507.040281500414,4110.80794695462,5084.3238345773225,5084.3238345773225,-8725.518253504444,-4926.107491246356,-777.357339068083,5775.775033770284,11528.222172587413,-18025.647811342173,19753.28294864026,-27490.60451765627,-31740.147356849502,25900.615317512358,-30022.589901993037,-9043.827813024755,24142.566472683702,-6693.358001636838,27905.393524542367,4414.426170899604,29378.562158830526,-2148.1164620411096,8457.255306808132,-1024.3494922785362,-7807.26194837814,8163.884895209454,4635.971573602426,-11614.924078191483,19658.39021685563,-6949.720913112687,-11997.597531289937,7532.418840429721,26122.453627346265,19658.39021685563,-8757.745603399107,13714.794576498862,-22861.221949141596,-33031.97060703614,-10019.714559981865,-8631.624904991304,-13553.853146411757,5665.84491961635,-16546.40908942069,-32897.32092429557,23476.03342320375,-14468.655510073291,-10283.098817273207,-31545.414175877475,146.79454597008112,-8421.950144370845,11595.06184711999,7310.398578856221,-1394.9756588574292,10549.28758907672,-32645.996298884224,1643.3240360899233,843.6346440712886,29716.726524395363,19972.834035795477,23799.36694487002,-3227.4488393513543,-7829.537973804345,-31796.552216780732,-16787.92515695093,-2589.3531804490085,34082.79170294283,3691.916647850277,39703.07832691017,25460.64446105724,2136.368499667502,30303.822723203142,39702.531064646864,228.7218079518456,30303.822723203142,19998.53875644509,-15367.682307706073,-1876.669228356387,-32505.571186261885,17143.01717069759,1046.8641918831545,30026.099308749526,2763.761983580506,-20432.098804546844,-10842.26360417932,-700.6436350254136,-294.9033800845113,33961.261066966785,-14129.7423429259,-1024.3494922785362,4853.729871866533,-385.2052309228322,2542.770554358381,1207.495575002664,4978.091129889798,-2291.3717657966085,-30093.16809945907,34442.57292125628,-12193.322674519424,1477.5666516104036,34131.18025385327,-33606.92909920951,-294.9033800845113,-32759.324213692882,32073.01769878819,-20432.098804546844,-14129.7423429259,33127.18547146537,29685.111685638425,345.65610702957713,-6745.574688095649,819.0536795320228,-32713.978074992454,29835.267738209943,34131.18025385327,-19073.561490707863,20534.07837755003,-8043.727377004412,11582.797928011923,-10917.974184042117,-7807.4734605638205,-18405.628416789386,23853.05363307432,-24179.726337694407,20292.926985953483,27983.45486839552,17613.339729062827,-5390.364330073607,2528.380124323498,5376.858320727603,-18132.993448121382,-35021.03294659731,-31666.228853932967,11351.989789526913,-30173.800319253085,-20843.49458889681,-13572.53565921871,20768.46484745356,-700.6436350254136,-32935.65424268055,30350.76638872976,-3215.3129894297995,2031.7148316972873,-9043.827813024755,-7556.876186627925,29685.111685638425,18934.809671961364,-11201.354647712322,4853.729871866533,-34473.14764065019,29211.404367576513,102.38767692783772,12953.009894299013,4080.402116080986,4179.278081464149,-6337.573197735653,3678.9585550734732,123.23479155449722,19686.130281044396,30959.825958248162,-1850.0620216364903,24.169076128445,-7980.19958816315,-10996.30554803589,2311.6593053165943,-7815.514068473236,-8757.745603399107,-7980.19958816315,6637.409364744148,-1876.669228356387,123.23479155449722,-10044.312538936505,29685.111685638425,26892.66074526524,3530.734628493998,-14468.655510073291,25241.32370888062,-10917.974184042117,34131.18025385327,-37401.480723576686,146.79454597008112,-29628.221786636284,-24084.639639757494,3678.9585550734732,5447.888266106384,1792.91289499338,-7777.507808316088,843.6346440712886,3084.9375509052975,14860.975588853324,-671.9180605558546,2528.380124323498,760.2147616431812,-294.9033800845113,-9921.247832901441,-30573.23307209383,-13756.677645409736,11501.671509928523,-10283.098817273207,8386.984673522002,-15586.069888779515,28353.231804235707,-7548.9628040620355,3457.574987270569,11623.18894748317,23799.36694487002,-3444.941363942666,-26861.34125553301,5651.76866496739,-41285.49166027182,-34097.83928663933,19998.53875644509,-9846.180071666106,34082.79170294283,-1105.977502736361,-44426.5458498873,19797.85296142222,-7548.9628040620355,4080.402116080986,796.2633455633446,-17585.0223319658,19658.39021685563,-31638.669361055174,34131.18025385327,8457.255306808132,-8631.624904991304,2804.7933469584077,-32238.905032967283,-24982.61482728527,-10749.437670197392,3738.546395744274,-18277.958844743825,-9043.827813024755,1887.3932011042314,-27885.652001208247,-20104.439757497716,-33034.28186350255,-7970.805289118365,-48.90735342231959,-724.0857694208939,1207.495575002664,19140.70039600472,-1024.3494922785362,7205.543900659445,43.196435681641184,-1024.3494922785362,1328.9654709722054,-3255.401859389933,-20283.650842939507,-18196.131788481413,30168.454764408383,-8116.99010924347,-6949.720913112687,11599.124082515747,2050.410437030074,-33361.23560784039,16871.75354338723,-33107.29755684892,30202.9670207204,-30730.438008594283,2502.8134146232783,29332.882732212856,11685.857333444059,-4720.653302105046,-9049.086586675678,34131.18025385327,-15833.188531409085,228.7218079518456,19658.39021685563,-7649.298995453576,-8741.205307319464,146.79454597008112,-3215.3129894297995,-8570.389026069206,-7468.71288426962,3668.0083232198335,-693.8899105668061,2311.6593053165943,-32217.979928710552,-32505.571186261885,-498.4106364775947,34131.18025385327,30414.641199436683,-21207.646149863493,3691.916647850277,-19225.539987459648,31850.568906231587,-33102.03141010922,-7601.056999113878,-3255.401859389933,22521.648665485383,-33181.6359942117,5150.260506131042,1928.8241780231278,-32721.48256472787,-8219.760191130224,-11832.397529737398,32469.908450652256,11599.124082515747,-16540.906026136876,19797.85296142222,-1768.246705470558,-5571.454660026387,19788.342599528976,-13665.261538952385,31450.02699433729,2763.761983580506,-16540.906026136876,-8482.963560709804,19658.39021685563,19658.39021685563,-3581.2146977177954,20461.559066006692,-7807.26194837814,-10752.895145879129,-2028.5067895115596,-15711.682808704676,-27443.01845973341,5651.76866496739,-1237.974188333797,-42674.776333018046,-5820.322553205328,-1366.3602029887682,4080.402116080986,1046.8641918831545,-8204.957020483911,13363.577703917124,32339.81194709263,30047.845109779286,-29804.64355325393,-5921.681468704069,-32505.571186261885,2668.8177042490524,-32505.571186261885,-27150.733292172717,5961.667000932875,5775.775033770284,756.9330691917206,3159.47795453947,5355.8735940573615,597.8540488435675,4978.091129889798,-19056.851431449035,23799.36694487002,3996.2786246666765,-7807.4734605638205,-46951.59676652726,20481.215736423317,32964.99055064378,30280.39406011222,-33034.39011776848,861.8784742654241,-31545.414175877475,-15889.210615976992,-655.3401333231193,-32309.40193308658,-317.77208670402615,-804.4595261174422,-9178.987789560335,-213.38351207114988,-424.46643522451495,-1625.693908428823,27983.45486839552,-7980.19958816315,-16556.048027233228,-33034.39011776848,-33319.57277464589,34439.292945535366,19972.834035795477,-10283.098817273207,10742.96658934359,23799.36694487002,-7761.139324094812,34082.79170294283,-10619.536594413472,3372.427913685105,-3480.6434296605016,-11338.816680729708,23973.837300410585,-368.5662876843292,-10056.174432164282,-9596.744250213635,-9630.56459471286,-8979.973476563564,-3479.1833829366797,-32505.571186261885,3621.477927205885,-1689.935011527176,-16100.979596279118,17823.56486857729,10506.229923384619,-32713.978074992454,-7694.116064653536,-32712.45841568058,-32511.90034848773,-7807.26194837814,-21572.351068131808,-13521.435194994834,-32021.871957808926,4311.739184519803,19972.834035795477,-8579.967495543951,1046.8641918831545,11595.06184711999,-9921.247832901441,-7280.309519920166,-32044.62025022258,-2373.000707368791,-9469.394754250341,-4248.3258006530905,11623.18894748317,29685.111685638425,-17246.586455049208,21420.356895825316,19797.85296142222,-12457.623956877462,19305.68379202971,-8500.5742217866,-22895.688267138645,-294.9033800845113,29685.111685638425,3372.427913685105,-7769.958318523554,27983.45486839552,10216.211779611067,-14740.671316806185,-24786.38485967967,-1655.3919095577253,-11766.368223925296,-16845.970201315646,-7769.958318523554,34082.79170294283,20481.215736423317,-15662.664840992476,4080.402116080986,32216.653392396736,34131.18025385327,-1901.3427099949188,1275.6200733161036,742.4235339087073,5609.6096319325015,29685.111685638425,-16824.546155449243,-20535.92805869848,-368.5662876843292,33268.02277813922,-1155.4983678969295,4145.471104705373,843.6346440712886,13976.586933314453,2725.2844354549957,34131.18025385327,-36453.81585937599,-32505.571186261885,-655.3401333231193,-9630.56459471286,5651.76866496739,-25176.54225441881,-10313.72859589927,29685.111685638425,-5921.681468704069,-32017.522921910295,-34473.14764065019,-31759.04742099622,33924.42451720984,2101.501366957501,29256.724654755275,29085.17797942425,2355.5618598026686,32964.99055064378,-33161.00895207825,-27877.726041641054,-16629.62403189179,1338.1720969518656,27983.45486839552,16560.798892604394,-21690.921697429614,32334.257800105897,6008.2459597142615,-13889.018880593456,3099.7009654817552,-8795.36497251284,-22751.468170518576,-10283.098817273207,-24.533049758278516,-603.5675106047916,-14309.343611484956,-7829.537973804345,-16540.906026136876,5651.76866496739,6118.594306638673,5783.64402451858,19972.834035795477,13951.470474177346,31452.610756251033,15917.739607830657,-18468.981147683753,19998.53875644509,4853.729871866533,10552.608546803425,29685.111685638425,-44063.571377103755,-26653.9441975217,-7980.19958816315,2944.634922129889,-32796.08181270007,-3861.85442803143,30815.12426494983,19972.834035795477,-33003.711965469214,21633.271954087326,5953.940455736027,-9043.827813024755,30362.11171305635,-29416.645276143314,3486.221717013282,-9043.827813024755,-22861.221949141596,11577.206231391978,-4926.107491246356,8457.255306808132,-5223.000836433913,2355.5618598026686,4853.729871866533,-16731.958057479926,-990.4799511288535,11673.02245492234,29685.111685638425,-10402.657177874253,19797.85296142222,-33361.23560784039,34131.18025385327,-8795.36497251284,27412.895857199357,-31646.03566574789,24208.281469172358,16162.189723341979,34082.79170294283,11555.961765785514,5651.76866496739,3691.916647850277,33961.261066966785,-1024.3494922785362,-4891.622167118473,-368.5662876843292,-7563.945115843655,-79.22665190668842,-8645.723220329837,-25922.975207757023,-7761.139324094812,1758.2770581517009,30527.286779941765,-381.8834055508934,-7980.19958816315,-16988.175538367173,30893.56356922225,-10917.974184042117,-32309.40193308658,2302.952335461542,-9043.827813024755,-21050.358005573355,-32721.48256472787,2542.770554358381,-48.90735342231959,-33161.00895207825,-7601.056999113878,9327.495829798207,146.79454597008112,-11514.262302672587,-32505.571186261885,-3884.9370529739836,-5017.842524601237,1188.3515567380978,-1333.0207491720123,-31646.03566574789,-31545.414175877475,-9807.220730375479,48296.545574172465,18919.26375715451,-34097.83928663933,-22861.221949141596,-8966.917455258124,30815.12426494983,-32551.95423981926,-11201.354647712322,-31638.669361055174,-33251.096546460554,3845.2285718714293,11505.62860969782,507.7659371602362,-860.0341460443061,20481.215736423317,30303.822723203142,327.75069126145655,2322.486779622338,27595.672607963585,10346.395790794708,31062.30555926818,16577.841299422078,14125.624756738132,-33319.57277464589,2668.8177042490524,30391.89126317215,-6089.907875420402,-32505.571186261885,30270.706510544453,11093.738762994955,-13886.751927435818,228.7218079518456,-7807.26194837814,-9630.56459471286,345.65610702957713,-3255.401859389933,24884.12675372772,-12130.75537938415,15907.716993859525,-17111.478193035055,-3288.784655446709,11300.28096719426,-32021.871957808926,-10005.686522185524,12301.687134765785,-2595.932346886217,-43326.49698682409,34082.79170294283,36197.98125892682,-7761.139324094812,7517.205918690212,29370.194164391763,2322.486779622338,-21974.412352066716,-10619.536594413472,-8570.389026069206,-336.68809095546146,3657.5019882846123,2209.7839479473055,228.7218079518456,29685.111685638425,-777.357339068083,920.9288216703023,-1850.0620216364903,-990.4799511288535,-3345.2296452776295,-996.3040992288214,-52.09497602058919,3486.221717013282,19797.85296142222,-32044.62025022258,38162.91471578354,-23722.52779637422,-29144.43576581081,5643.8777014946845,-31545.414175877475,29662.15142711165,-424.46643522451495,30350.76638872976,7202.065653122766,-990.4799511288535,34131.18025385327,-7761.139324094812,-18405.628416789386,742.4235339087073,-2396.318716358311,30026.099308749526,-32804.85950812576,-1155.0743474782887,-1768.246705470558,2322.486779622338,1928.9925497807749,-11900.561841468818,23799.36694487002,-11624.169437195378,-22996.17863925419,29378.562158830526,-7667.9209438774515,-15697.918426256667,-33577.703128438305,-26612.176202646922,30815.12426494983,-3853.4115107889834,-32505.571186261885,4962.064586773937,6902.459270103957,32469.908450652256,-18405.628416789386,-10803.531068145427,10741.394602284392,-7556.876186627925,-8805.660615094517,-7769.958318523554,34082.79170294283,-32551.95423981926,19658.39021685563,8550.93251963944,-16860.6947243485,-1655.3919095577253,12935.735217448646,23799.36694487002,24183.51868589992,15279.061745094428,4145.471104705373,30168.454764408383,1699.482067894835,-7403.103691628604,-777.357339068083,5779.877383908888,2351.7822632689963,-18405.628416789386,3571.4257918499197,10174.347185292267,-10044.312538936505,-1426.213067720819,29776.636919057128,-860.0341460443061,-16330.845787345244,24673.580343638794,668.4359397061384,-990.4799511288535,33127.18547146537,-2222.068577167848,-3255.401859389933,-6207.22118083813,-20432.098804546844,11178.824439491336,-21963.147097722638,-32309.40193308658,-21427.57395753749,-1333.0207491720123,33221.23535162586,-7980.19958816315,-32505.571186261885,31978.062714522945,-8915.36306137503,-368.5662876843292,-32505.571186261885,2430.5277131086664,4285.667961411023,-35212.60948966081,1797.6336456054446,-32238.905032967283,-11068.149612844541,-2680.645002058304,19972.834035795477,1326.3463065965313,-724.0857694208939,-30730.438008594283,31085.559838681027,2952.6045327953607,843.6346440712886,3388.1564425534875,-35157.145152186546,2781.621121062302,22008.33059176929,2389.6110198433807,-33287.20210404201,34131.18025385327,-1901.3427099949188,-1745.487352873274,-8979.973476563564,-1768.246705470558,-32645.996298884224,14809.849940766344,30350.76638872976,-949.4522334051795,10873.118304631558,-14364.497411318396,323.5728175076354,2789.060322838093,5791.119921753361,-33604.779271289306,17503.738085947014,29776.636919057128,14991.978851708367,-14129.7423429259,-949.4522334051795,-28480.480992304383,228.7218079518456,1293.6709129386204,-14324.00704144604,-294.9033800845113,6365.362969871705,23799.36694487002,-24.533049758278516,16929.03970034895,5775.775033770284,34131.18025385327,-7863.5194143155795,22924.370908605713,-13889.018880593456,-2058.051659694647,-777.357339068083,-33604.779271289306,38555.202387966456,-16540.906026136876,20534.07837755003,-19655.852965840586,32469.908450652256,345.65610702957713,-12937.029215203002,11505.62860969782,32033.442510778666,-31666.228853932967,29685.111685638425,17277.801595881832,-2025.2207939543002,19797.85296142222,5775.775033770284,33447.04966636715,29605.634209094413,1728.1779733731994,-7586.010860652131,-2308.633848871076,-1850.0620216364903,-775.4718398771646,-14879.23570146094,29944.14804478335,27708.95489695105,323.5728175076354,2550.579144141416,-32897.32092429557,-10540.762142419215,-14129.7423429259,146.79454597008112,34082.79170294283,-603.5675106047916,-13756.677645409736,7708.48156962306,6044.613672045273,-32309.40193308658,-29150.993501512996,-32505.571186261885,24673.580343638794,-8892.940221102926,34131.18025385327,-30573.23307209383,19658.39021685563,-32551.95423981926,-11439.196821269974,9621.969924573403,660.0464989969066,30026.099308749526,228.7218079518456,-8406.731536837304,23799.36694487002,29044.583443716983,8457.255306808132,-213.38351207114988,35244.160127488634,-20033.78247844279,-33029.75255545811,3692.2954697768196,5552.022959690366,-33676.62482127182,27571.510466453998,30270.706510544453,-11201.354647712322,-6631.751478834722,2209.7839479473055,34131.18025385327,-811.2505067985452,-34473.14764065019,-10283.098817273207,-33034.39011776848,43.196435681641184,-17142.06445375506,-28716.922593768828,8457.255306808132,-10349.687871003178,5894.264636724622,34131.18025385327,19658.39021685563,19972.834035795477,345.65610702957713,24187.62879897589,32877.93332768322,-11099.567269635447,-662.5484550322026,-32044.62025022258,-33604.779271289306,843.6346440712886,-1901.3427099949188,1025.6255760053707,-5670.213002738661,33961.261066966785,-7556.876186627925,-7918.746128244131,-24871.75228078144,-877.8656353332054,-16642.917482984965,-32505.571186261885,-777.357339068083,-9049.086586675678,-10100.821996632187,24459.863260268346,-2584.4951647063854,31574.663758310893,32021.68471248856,-20921.94268723888,32105.977407402454,1326.3463065965313,4461.856213758316,-21690.921697429614,-22261.805325432266,3250.918728086897,20534.07837755003,-420.0885076414029,-10845.827302350956,2485.195572488953,-7951.63007949397,18502.33342688198,30959.825958248162,-200.25460591927305,5331.634306149119,26086.011855227986,1374.5412263443834,23799.36694487002,28136.216866273724,-32505.571186261885,5651.76866496739,-38255.10521296018,8074.116592192634,-23425.95127006058,-13177.183207759512,-31545.414175877475,3486.221717013282,-22396.59830046501,-860.0341460443061,-32551.95423981926,20481.215736423317,-1024.3494922785362,29685.111685638425,11595.06184711999,-33162.36209328815,-6651.788011913105,-10619.536594413472,-9921.247832901441,-32505.571186261885,-21151.93692284691,-7815.514068473236,-9043.827813024755,25345.646212726744,9550.543064209967,10735.068250357333,10287.42330386609,-10283.098817273207,32293.7825609667,-17040.72206496385,9768.169236747965,-7280.309519920166,-33577.703128438305,-22861.221949141596,2322.486779622338,34131.18025385327,-13889.018880593456,25768.633716144283,7481.726124151395,-1901.3427099949188,-32361.291162592872,11555.961765785514,3372.427913685105,-6150.072041605297,-13094.366915622595,-5613.469011337599,-25523.09372172746,-17911.62216867918,-8116.99010924347,2053.7958644345995,-14740.671316806185,2542.770554358381,2311.6593053165943,-11997.597531289937,-27657.106903126532,-2589.3531804490085,33961.261066966785,-18580.722455235344,34082.79170294283,-603.5675106047916,7295.600193130006,-10044.312538936505,4978.091129889798,-14740.671316806185,34131.18025385327,-4926.107491246356,1328.9654709722054,20481.215736423317,-10349.687871003178,11300.28096719426,11505.62860969782,-7366.567905589312,-34750.437385718964,-10100.821996632187,-15770.51396710428,4145.471104705373,-806.9770160065752,5376.858320727603,5164.037456561968,-3437.0405907680715,20130.480729473333,35466.62885002799,-33034.39011776848,20481.215736423317,-31759.04742099622,33924.42451720984,-16360.882440084224,23083.81641130497,4150.566463760779,30237.57039795764,-14129.7423429259,-32505.571186261885,146.79454597008112,-4084.8913203916677,-31545.414175877475,-815.105902044904,29716.726524395363,-33161.00895207825,-11495.193668140239,17988.84203973837,-48.90735342231959,-33002.79749336333,2050.410437030074,1723.7636896110341,3866.319620148639,-17191.705820059888,-7980.19958816315,3084.9375509052975,-32772.438349741526,-27247.55527465238,13876.342695653502,2311.6593053165943,-4720.653302105046,-33361.23560784039,33686.30041382201,7823.232164834599,-7815.514068473236,-7780.424876889875,-10056.174432164282,19068.944994624788,-34097.83928663933,5333.33833289439,-10724.196913640226,15191.683527233283,-10313.72859589927,30362.11171305635,5447.888266106384,-671.9180605558546,29685.111685638425,-6161.754679588627,-31691.904922632708,-21182.904767095915,-32772.438349741526,-3415.573933355022,19658.39021685563,30142.273808635964,-22511.843873795082,-4261.597619851961,22526.455475606566,701.5308088622961,32073.01769878819,-24642.904247052287,146.79454597008112,1710.85250986198,-32551.95423981926,33731.629218691,-23919.141890752202,4853.729871866533,-9043.827813024755,2355.5618598026686,-1689.935011527176,12177.213023712009,2322.486779622338,-294.9033800845113,8507.040281500414,34082.79170294283,29274.386165463984,-17191.705820059888,4962.064586773937,29685.111685638425,9364.743619833742,-671.9180605558546,-12780.242925957487,-23777.84103849651,32120.147794768487,228.7218079518456,19998.53875644509,5640.768721523219,4248.182436654052,-27210.641907153687,-33606.92909920951,29685.111685638425,29685.111685638425,-213.38351207114988,8507.040281500414,24673.580343638794,-42112.400400963146,-9616.009935081855,-19114.949137886768,6233.193888372481,4145.471104705373,23799.36694487002,-27959.566031284052,-294.9033800845113,24447.18714389398,-32617.44764433429,-8482.963560709804,34131.18025385327,5631.042039521819,-1850.0620216364903,35002.87006012066,30815.12426494983,-2595.932346886217,-10283.098817273207,-19636.736222722135,29776.636919057128,-15586.704461063151,19797.85296142222,21697.957682109685,1344.6745468342683,-3387.1144678812243,2528.380124323498,-24.533049758278516,-655.3401333231193,-32759.324213692882,23799.36694487002,13977.602830657814,30330.939301063554,3486.221717013282,10181.790467988169,-11461.677210644748,-27788.504354743356,-14918.103563318049,-22456.105399130305,-33664.35064596743,1538.061460785189,26341.509337583077,3661.572328094959,11558.386415457535,-27559.26765704252,30755.61045048715,30202.9670207204,-45560.596104666925,31220.074113392835,-1745.487352873274,21633.271954087326,33961.261066966785,-8154.0889533291465,-1655.3919095577253,34082.79170294283,-3255.401859389933,19797.85296142222,-7807.26194837814,-6693.358001636838,-8892.940221102926,7718.643231780865,-32645.996298884224,-10917.974184042117,10735.905048660787,23799.36694487002,11505.62860969782,31090.457112479486,-2308.633848871076,-10820.93913004296,4635.971573602426,-33319.57277464589,-32725.088089927347,-31545.414175877475,28157.938653624424,-15429.434960487453,5775.775033770284,228.7218079518456,2355.5618598026686,20534.07837755003,-11818.935189300408,-21961.516706577335,11555.961765785514,31452.610756251033,-6604.689698879341,-17951.863770572327,3221.745631655152,-8579.967495543951,-1768.246705470558,-9846.180071666106,-21972.72664323575,-1850.0620216364903,-7649.298995453576,-25641.52351396208,-1394.9756588574292,5474.889793150937,4978.091129889798,11582.797928011923,-32505.571186261885,-8605.43897358951,28894.787711514193,-5146.314045964019,5651.76866496739,-7807.4734605638205,13875.489085652289,30182.601892522354,30001.294763931746,-33361.23560784039,5691.170414933424,-14236.092965392467,-12358.659575749714,11623.18894748317,30889.425891575913,-24.533049758278516,26121.732725545724,30391.89126317215,-32454.81946666153,1591.7616574944266,-26937.135257857186,-28621.036121744022,-32505.571186261885,-31638.669361055174,-7761.139324094812,-40312.79437575392,34131.18025385327,-860.0341460443061,326.4645697398717,-5612.5008074602765,5779.877383908888,-8497.1141721676,-7918.746128244131,-9750.139261017404,2528.380124323498,-1993.1566935693397,19658.39021685563,19658.39021685563,11595.06184711999,2502.8134146232783,-32505.571186261885,1429.5217488304695,-7620.421594966372,34082.79170294283,-777.357339068083,-34171.60809743705,-33674.752672468,-10889.800502469627,31452.610756251033,796.2633455633446,-3215.3129894297995,-22861.221949141596,3673.1540393324626,5059.950829995785,33127.18547146537,8758.346238473316,-824.7773549133933,791.5375583393013,5665.84491961635,34131.18025385327,7965.670534549286,-32957.44767994129,19658.39021685563,-1333.0207491720123,13318.58335644603,-14055.793267490699,2810.7385737232344,-17678.24747779489,33105.7877415445,34714.52391234304,-655.3401333231193,-32505.571186261885,-10283.098817273207,31452.610756251033,34131.18025385327,19797.85296142222,-15091.961002386253,10343.556204581082,323.5728175076354,6815.07046186666,146.79454597008112,-7863.5194143155795,-15789.074159592205,19658.39021685563,-17154.144452675242,-23897.629659643168,-294.9033800845113,30362.11171305635,-32725.088089927347,-1655.3919095577253,5242.26941162919,13828.145916839572,-33295.52865252126,-32991.251784225205,-1828.6328884864333,30815.12426494983,-24928.597116021134,8507.040281500414,-7807.26194837814,1732.3059301793637,19797.85296142222,-794.9226148515187,-7620.421594966372,-32713.978074992454,-6867.264454914451,-7918.746128244131,30391.89126317215,-29166.555599090578,-20221.660185496,-22511.71197374167,-32044.62025022258,-33102.03141010922,-655.3401333231193,3677.7535341485145,-10083.646241146025,3077.9483271796917,64.1190871622999,20481.215736423317,-33319.57277464589,3071.7995237028517,-10917.974184042117,23318.078127164372,-14740.671316806185,101.16880589532788,-34097.83928663933,3763.8254035279733,12026.066581737201,-2172.4511791585624,11527.306737453753,-32505.571186261885,1046.8641918831545,-32991.251784225205,345.65610702957713,-33162.36209328815,-2412.140009567052,-13889.018880593456,-32725.088089927347,-17889.742444642332,34131.18025385327,105.73246101861977,-7797.334040795726,11623.18894748317,-10400.83955737637,4962.064586773937,-11439.196821269974,-10153.141934656864,-32725.088089927347,3398.3931721412914,-16629.62403189179,5084.3238345773225,-32645.996298884224,2355.5618598026686,6463.938650968198,13898.000984928363,-1187.2501122560807,-2308.633848871076,-15955.530394691204,33221.23535162586,19658.39021685563,-4618.400733594602,30848.381882177437,-12803.639065030893,-7829.537973804345,-30093.16809945907,34131.18025385327,19658.39021685563,-6109.624076401897,-6693.358001636838,14203.267566357568,-31773.23958152663,30389.78919511702,11157.65025022339,5665.84491961635,39741.023211940825,-9178.987789560335,228.7218079518456,34082.79170294283,1416.2342835461766,-2373.000707368791,-11028.66093535549,8507.040281500414,4978.091129889798,-671.9180605558546,3372.427913685105,-19205.51865308374,-8966.917455258124,1046.8641918831545,5447.888266106384,-19072.554856890507,-32505.571186261885,2485.195572488953,4853.729871866533,-17634.6497488817,4080.402116080986,4677.976065202849,-32613.345141428945,-7585.086259252588,27626.112389542974,30142.273808635964,-3112.595009828157,30654.724780593966,11555.961765785514,-24087.95695601816,29944.14804478335,3657.5019882846123,2763.761983580506,-48.90735342231959,-19395.342897836523,-6400.57456508875,756.9330691917206,20481.215736423317,5376.858320727603,-16629.62403189179,-11201.354647712322,13522.451349723086,2186.355727575897,8507.040281500414,-31773.23958152663,11157.65025022339,3084.9375509052975,1338.1720969518656,2485.195572488953,34082.79170294283,10072.708574642911,8507.040281500414,2668.8177042490524,-7889.628025403172,300.7911840637608,11505.62860969782,33221.23535162586,29318.766567000894,19658.39021685563,-9921.247832901441,-5366.026234274363,-10019.714559981865,-6080.865711295519,30959.825958248162,-32505.571186261885,2542.770554358381,33127.18547146537,-14912.386208893342,3372.427913685105,843.6346440712886,300.65010993129005,-8109.572512875249,30815.12426494983,-27126.49262640763,34131.18025385327,34842.48749673838,-19327.707618356326,-2308.633848871076,-2138.2124031273634,-4497.296195412153,-14326.367810970141,-11840.509455199663,-7556.876186627925,-32309.40193308658,-6311.279865887283,-14740.671316806185,34131.18025385327,-603.5675106047916,-9630.56459471286,6167.941784435267,5376.858320727603,-31666.228853932967,10072.708574642911,228.7218079518456,3958.4019839051125,-7769.958318523554,-14360.162169629815,29042.042480896627,-33927.54308857712,-9846.180071666106,-12084.676566775488,-10100.821996632187,-22747.795999261823,-22861.221949141596,-603.5675106047916,4853.729871866533,30654.724780593966,-3021.474325542179,-9630.56459471286,23799.36694487002,-8805.660615094517,-1237.974188333797,-7762.513085180511,-7863.5194143155795,30362.11171305635,19658.39021685563,-32713.978074992454,27274.078519779367,-31545.414175877475,3372.427913685105,-9049.086586675678,-17384.598521262058,-18189.68559658641,-1876.669228356387,34131.18025385327,-18405.628416789386,19797.85296142222,43.196435681641184,-13150.142455667647,-11078.131491287742,-2373.000707368791,-422.78917501017503,30202.9670207204,19658.39021685563,28771.949956901022,29042.042480896627,-424.46643522451495,-26116.607963033523,8692.2040290057,30303.72038392367,-3851.941954850738,-1745.487352873274,2030.9062360267867,-7451.510492802121,146.79454597008112,-18405.628416789386,7177.883776371262,11819.646325857419,19658.39021685563,-17086.399818618134,-34097.83928663933,-13194.60157441287,20481.215736423317,9449.136597723804,30435.103736891604,3691.916647850277,-860.0341460443061,29685.111685638425,-10191.294171717753,26026.806394314204,19686.130281044396,4703.092354176182,5775.775033770284,-7863.5194143155795,-7829.537973804345,-1024.3494922785362,-1993.1566935693397,3206.91328739945,1328.9654709722054,-7548.9628040620355,-11338.816680729708,-22.213511079814094,34082.79170294283,2355.5618598026686,-8736.91292248686,796.2633455633446,-8979.973476563564,-32044.62025022258,-860.6724602358008,4011.374079829444,-8631.624904991304,-11997.597531289937,-655.3401333231193,34082.79170294283,3372.427913685105,-10752.895145879129,-9043.827813024755,16443.855393004156,-32617.44764433429,4140.330289320677,-7815.514068473236,30959.825958248162,228.7218079518456,-32019.562576956025,11482.105740723671,29507.66920248298,29685.111685638425,29685.111685638425,-32617.44764433429,23799.36694487002,660.0464989969066,-2707.440227516801,-31545.414175877475,1344.6745468342683,3052.3802502652675,-33162.36209328815,-21833.868629977595,-7815.514068473236,-3980.7282223262882,3621.477927205885,-8482.963560709804,4962.064586773937,20534.07837755003,1579.9202267715223,5164.037456561968,17450.252839013745,30270.706510544453,-1741.621070010153,-1796.0073253555574,20481.215736423317,-949.4522334051795,-33034.39011776848,-8805.660615094517,-273.6309609634991,20481.215736423317,29347.48144773084,12677.134552870404,-15558.741251702504,-1847.4505417477533,-9630.56459471286,19998.53875644509,-4641.281807508443,2792.9929530277795,11555.961765785514,-14740.671316806185,29685.111685638425,756.9330691917206,-7815.514068473236,1326.3463065965313,18919.232157993974,3938.273521881391,-28052.88479043567,19415.66227954289,-860.0341460443061,-420.0885076414029,146.79454597008112,-7863.5194143155795,30959.825958248162,-33577.703128438305,6386.235247849315,24622.700733186044,4190.263448072231,660.0464989969066,-32712.45841568058,-10283.098817273207,2355.5618598026686,-28797.578366753296,4780.81979867179,-14921.134325485977,-32021.871957808926,-31344.470332899942,-327.20317975500865,5164.037456561968,24812.80304779698,20585.108809838217,-19184.789466102764,30863.948940686787,-1655.3919095577253,-21225.081285573524,-7980.19958816315,8579.004430103363,-9630.56459471286,8457.255306808132,-2994.7927636205686,25756.050518926226,-9921.247832901441,34118.50431860198,-7609.966243348766,-1768.246705470558,-32505.571186261885,16146.863829340304,20481.215736423317,-23919.141890752202,-2946.166826985087,8188.585918643083,-12045.111540532584,30654.724780593966,-7863.5194143155795,-1655.3919095577253,11595.06184711999,2485.195572488953,30893.56356922225,-32238.905032967283,-1899.0315370605979,11595.06184711999,23799.36694487002,29685.111685638425,-24944.093871334422,32073.01769878819,-9849.476501392017,-1024.3494922785362,146.79454597008112,-25818.771726170344,-7545.271905387969,19658.39021685563,-26411.853995667323,-1655.3919095577253,-1235.8700074058575,25839.19230391788,-22389.45502333939,11555.961765785514,2528.380124323498,-7548.9628040620355,28629.072823578615,-28489.48817397588,34131.18025385327,-30730.438008594283,30124.04450128243,2663.2454467678913,-30454.686703372325,31574.663758310893,3388.1564425534875,-1655.3919095577253,-2181.7261309179994,-6654.00914875524,-8553.349193106653,-25889.55853724177,4978.091129889798,5651.76866496739,-8482.963560709804,-31759.04742099622,-29611.18958711929,-12916.538879338625,34266.68192772447,-32238.905032967283,31287.220866516887,24673.580343638794,23799.36694487002,-23366.115387686656,-1155.0743474782887,-2025.2207939543002,-5286.722599055152,126.94782177788525,8458.902101006832,5552.022959690366,25022.106170878924,30330.939301063554,5775.109298354061,-484.5195474905109,11432.583879028232,-15725.699811237944,-543.8776747024727,-14336.169139279778,-31785.383704709948,-33034.39011776848,-1655.3919095577253,1541.9323194544502,-7280.309519920166,2173.0187497063557,4853.729871866533,-11840.509455199663,20481.215736423317,-16540.906026136876,30391.89126317215,13051.411229506291,-10565.25711606031,-4620.912185384695,660.0464989969066,1093.8439259376614,-20432.098804546844,-353.56090279712777,-7885.905689100528,30014.157383116308,-694.0516386836834,4145.471104705373,20481.215736423317,450.90217223076314,-18405.628416789386,2640.789250648207,23799.36694487002,3099.7009654817552,-9100.990285229647,20534.07837755003,-48.90735342231959,-710.7578083368848,19972.834035795477,34131.18025385327,-603.5675106047916,29378.562158830526,-7980.19958816315,-10056.174432164282,2050.410437030074,-294.9033800845113,-6316.3745481548285,-9049.086586675678,-11840.509455199663,31751.01864716359,-7202.054601633497,16263.133795769962,10962.255341229251,18402.70854728607,-10100.821996632187,33475.279541208045,1841.4521241987613,30893.56356922225,-1850.0620216364903,23924.03392011213,30202.9670207204,29042.042480896627,25392.015124008587,19797.85296142222,-7980.19958816315,457.6188014243857,-45.73492227813865,12301.687134765785,-294.9033800845113,-5673.664209203453,-6081.757870647533,-32075.65153171853,7092.788524149657,33221.23535162586,1338.1720969518656,-32713.978074992454,14775.567966740367,34082.79170294283,-23072.04237408775,31925.111548960074,-32796.08181270007,22.45320694517348,29685.111685638425,-23498.276463786486,29465.864366761125,43.196435681641184,19658.39021685563,-17410.73518374502,-32505.571186261885,27983.45486839552,5376.858320727603,-10752.895145879129,-8781.692014527373,-33181.6359942117,-11506.611486019,12301.687134765785,8796.385615391882,-2595.932346886218,-1024.3494922785362,30142.273808635964,-3895.302457158115,-8579.967495543951,-7482.119381462094,-10165.692272257022,-10752.895145879129],\"yaxis\":\"y\",\"type\":\"scattergl\"}],                        {\"template\":{\"data\":{\"histogram2dcontour\":[{\"type\":\"histogram2dcontour\",\"colorbar\":{\"outlinewidth\":0,\"ticks\":\"\"},\"colorscale\":[[0.0,\"#0d0887\"],[0.1111111111111111,\"#46039f\"],[0.2222222222222222,\"#7201a8\"],[0.3333333333333333,\"#9c179e\"],[0.4444444444444444,\"#bd3786\"],[0.5555555555555556,\"#d8576b\"],[0.6666666666666666,\"#ed7953\"],[0.7777777777777778,\"#fb9f3a\"],[0.8888888888888888,\"#fdca26\"],[1.0,\"#f0f921\"]]}],\"choropleth\":[{\"type\":\"choropleth\",\"colorbar\":{\"outlinewidth\":0,\"ticks\":\"\"}}],\"histogram2d\":[{\"type\":\"histogram2d\",\"colorbar\":{\"outlinewidth\":0,\"ticks\":\"\"},\"colorscale\":[[0.0,\"#0d0887\"],[0.1111111111111111,\"#46039f\"],[0.2222222222222222,\"#7201a8\"],[0.3333333333333333,\"#9c179e\"],[0.4444444444444444,\"#bd3786\"],[0.5555555555555556,\"#d8576b\"],[0.6666666666666666,\"#ed7953\"],[0.7777777777777778,\"#fb9f3a\"],[0.8888888888888888,\"#fdca26\"],[1.0,\"#f0f921\"]]}],\"heatmap\":[{\"type\":\"heatmap\",\"colorbar\":{\"outlinewidth\":0,\"ticks\":\"\"},\"colorscale\":[[0.0,\"#0d0887\"],[0.1111111111111111,\"#46039f\"],[0.2222222222222222,\"#7201a8\"],[0.3333333333333333,\"#9c179e\"],[0.4444444444444444,\"#bd3786\"],[0.5555555555555556,\"#d8576b\"],[0.6666666666666666,\"#ed7953\"],[0.7777777777777778,\"#fb9f3a\"],[0.8888888888888888,\"#fdca26\"],[1.0,\"#f0f921\"]]}],\"heatmapgl\":[{\"type\":\"heatmapgl\",\"colorbar\":{\"outlinewidth\":0,\"ticks\":\"\"},\"colorscale\":[[0.0,\"#0d0887\"],[0.1111111111111111,\"#46039f\"],[0.2222222222222222,\"#7201a8\"],[0.3333333333333333,\"#9c179e\"],[0.4444444444444444,\"#bd3786\"],[0.5555555555555556,\"#d8576b\"],[0.6666666666666666,\"#ed7953\"],[0.7777777777777778,\"#fb9f3a\"],[0.8888888888888888,\"#fdca26\"],[1.0,\"#f0f921\"]]}],\"contourcarpet\":[{\"type\":\"contourcarpet\",\"colorbar\":{\"outlinewidth\":0,\"ticks\":\"\"}}],\"contour\":[{\"type\":\"contour\",\"colorbar\":{\"outlinewidth\":0,\"ticks\":\"\"},\"colorscale\":[[0.0,\"#0d0887\"],[0.1111111111111111,\"#46039f\"],[0.2222222222222222,\"#7201a8\"],[0.3333333333333333,\"#9c179e\"],[0.4444444444444444,\"#bd3786\"],[0.5555555555555556,\"#d8576b\"],[0.6666666666666666,\"#ed7953\"],[0.7777777777777778,\"#fb9f3a\"],[0.8888888888888888,\"#fdca26\"],[1.0,\"#f0f921\"]]}],\"surface\":[{\"type\":\"surface\",\"colorbar\":{\"outlinewidth\":0,\"ticks\":\"\"},\"colorscale\":[[0.0,\"#0d0887\"],[0.1111111111111111,\"#46039f\"],[0.2222222222222222,\"#7201a8\"],[0.3333333333333333,\"#9c179e\"],[0.4444444444444444,\"#bd3786\"],[0.5555555555555556,\"#d8576b\"],[0.6666666666666666,\"#ed7953\"],[0.7777777777777778,\"#fb9f3a\"],[0.8888888888888888,\"#fdca26\"],[1.0,\"#f0f921\"]]}],\"mesh3d\":[{\"type\":\"mesh3d\",\"colorbar\":{\"outlinewidth\":0,\"ticks\":\"\"}}],\"scatter\":[{\"fillpattern\":{\"fillmode\":\"overlay\",\"size\":10,\"solidity\":0.2},\"type\":\"scatter\"}],\"parcoords\":[{\"type\":\"parcoords\",\"line\":{\"colorbar\":{\"outlinewidth\":0,\"ticks\":\"\"}}}],\"scatterpolargl\":[{\"type\":\"scatterpolargl\",\"marker\":{\"colorbar\":{\"outlinewidth\":0,\"ticks\":\"\"}}}],\"bar\":[{\"error_x\":{\"color\":\"#2a3f5f\"},\"error_y\":{\"color\":\"#2a3f5f\"},\"marker\":{\"line\":{\"color\":\"#E5ECF6\",\"width\":0.5},\"pattern\":{\"fillmode\":\"overlay\",\"size\":10,\"solidity\":0.2}},\"type\":\"bar\"}],\"scattergeo\":[{\"type\":\"scattergeo\",\"marker\":{\"colorbar\":{\"outlinewidth\":0,\"ticks\":\"\"}}}],\"scatterpolar\":[{\"type\":\"scatterpolar\",\"marker\":{\"colorbar\":{\"outlinewidth\":0,\"ticks\":\"\"}}}],\"histogram\":[{\"marker\":{\"pattern\":{\"fillmode\":\"overlay\",\"size\":10,\"solidity\":0.2}},\"type\":\"histogram\"}],\"scattergl\":[{\"type\":\"scattergl\",\"marker\":{\"colorbar\":{\"outlinewidth\":0,\"ticks\":\"\"}}}],\"scatter3d\":[{\"type\":\"scatter3d\",\"line\":{\"colorbar\":{\"outlinewidth\":0,\"ticks\":\"\"}},\"marker\":{\"colorbar\":{\"outlinewidth\":0,\"ticks\":\"\"}}}],\"scattermapbox\":[{\"type\":\"scattermapbox\",\"marker\":{\"colorbar\":{\"outlinewidth\":0,\"ticks\":\"\"}}}],\"scatterternary\":[{\"type\":\"scatterternary\",\"marker\":{\"colorbar\":{\"outlinewidth\":0,\"ticks\":\"\"}}}],\"scattercarpet\":[{\"type\":\"scattercarpet\",\"marker\":{\"colorbar\":{\"outlinewidth\":0,\"ticks\":\"\"}}}],\"carpet\":[{\"aaxis\":{\"endlinecolor\":\"#2a3f5f\",\"gridcolor\":\"white\",\"linecolor\":\"white\",\"minorgridcolor\":\"white\",\"startlinecolor\":\"#2a3f5f\"},\"baxis\":{\"endlinecolor\":\"#2a3f5f\",\"gridcolor\":\"white\",\"linecolor\":\"white\",\"minorgridcolor\":\"white\",\"startlinecolor\":\"#2a3f5f\"},\"type\":\"carpet\"}],\"table\":[{\"cells\":{\"fill\":{\"color\":\"#EBF0F8\"},\"line\":{\"color\":\"white\"}},\"header\":{\"fill\":{\"color\":\"#C8D4E3\"},\"line\":{\"color\":\"white\"}},\"type\":\"table\"}],\"barpolar\":[{\"marker\":{\"line\":{\"color\":\"#E5ECF6\",\"width\":0.5},\"pattern\":{\"fillmode\":\"overlay\",\"size\":10,\"solidity\":0.2}},\"type\":\"barpolar\"}],\"pie\":[{\"automargin\":true,\"type\":\"pie\"}]},\"layout\":{\"autotypenumbers\":\"strict\",\"colorway\":[\"#636efa\",\"#EF553B\",\"#00cc96\",\"#ab63fa\",\"#FFA15A\",\"#19d3f3\",\"#FF6692\",\"#B6E880\",\"#FF97FF\",\"#FECB52\"],\"font\":{\"color\":\"#2a3f5f\"},\"hovermode\":\"closest\",\"hoverlabel\":{\"align\":\"left\"},\"paper_bgcolor\":\"white\",\"plot_bgcolor\":\"#E5ECF6\",\"polar\":{\"bgcolor\":\"#E5ECF6\",\"angularaxis\":{\"gridcolor\":\"white\",\"linecolor\":\"white\",\"ticks\":\"\"},\"radialaxis\":{\"gridcolor\":\"white\",\"linecolor\":\"white\",\"ticks\":\"\"}},\"ternary\":{\"bgcolor\":\"#E5ECF6\",\"aaxis\":{\"gridcolor\":\"white\",\"linecolor\":\"white\",\"ticks\":\"\"},\"baxis\":{\"gridcolor\":\"white\",\"linecolor\":\"white\",\"ticks\":\"\"},\"caxis\":{\"gridcolor\":\"white\",\"linecolor\":\"white\",\"ticks\":\"\"}},\"coloraxis\":{\"colorbar\":{\"outlinewidth\":0,\"ticks\":\"\"}},\"colorscale\":{\"sequential\":[[0.0,\"#0d0887\"],[0.1111111111111111,\"#46039f\"],[0.2222222222222222,\"#7201a8\"],[0.3333333333333333,\"#9c179e\"],[0.4444444444444444,\"#bd3786\"],[0.5555555555555556,\"#d8576b\"],[0.6666666666666666,\"#ed7953\"],[0.7777777777777778,\"#fb9f3a\"],[0.8888888888888888,\"#fdca26\"],[1.0,\"#f0f921\"]],\"sequentialminus\":[[0.0,\"#0d0887\"],[0.1111111111111111,\"#46039f\"],[0.2222222222222222,\"#7201a8\"],[0.3333333333333333,\"#9c179e\"],[0.4444444444444444,\"#bd3786\"],[0.5555555555555556,\"#d8576b\"],[0.6666666666666666,\"#ed7953\"],[0.7777777777777778,\"#fb9f3a\"],[0.8888888888888888,\"#fdca26\"],[1.0,\"#f0f921\"]],\"diverging\":[[0,\"#8e0152\"],[0.1,\"#c51b7d\"],[0.2,\"#de77ae\"],[0.3,\"#f1b6da\"],[0.4,\"#fde0ef\"],[0.5,\"#f7f7f7\"],[0.6,\"#e6f5d0\"],[0.7,\"#b8e186\"],[0.8,\"#7fbc41\"],[0.9,\"#4d9221\"],[1,\"#276419\"]]},\"xaxis\":{\"gridcolor\":\"white\",\"linecolor\":\"white\",\"ticks\":\"\",\"title\":{\"standoff\":15},\"zerolinecolor\":\"white\",\"automargin\":true,\"zerolinewidth\":2},\"yaxis\":{\"gridcolor\":\"white\",\"linecolor\":\"white\",\"ticks\":\"\",\"title\":{\"standoff\":15},\"zerolinecolor\":\"white\",\"automargin\":true,\"zerolinewidth\":2},\"scene\":{\"xaxis\":{\"backgroundcolor\":\"#E5ECF6\",\"gridcolor\":\"white\",\"linecolor\":\"white\",\"showbackground\":true,\"ticks\":\"\",\"zerolinecolor\":\"white\",\"gridwidth\":2},\"yaxis\":{\"backgroundcolor\":\"#E5ECF6\",\"gridcolor\":\"white\",\"linecolor\":\"white\",\"showbackground\":true,\"ticks\":\"\",\"zerolinecolor\":\"white\",\"gridwidth\":2},\"zaxis\":{\"backgroundcolor\":\"#E5ECF6\",\"gridcolor\":\"white\",\"linecolor\":\"white\",\"showbackground\":true,\"ticks\":\"\",\"zerolinecolor\":\"white\",\"gridwidth\":2}},\"shapedefaults\":{\"line\":{\"color\":\"#2a3f5f\"}},\"annotationdefaults\":{\"arrowcolor\":\"#2a3f5f\",\"arrowhead\":0,\"arrowwidth\":1},\"geo\":{\"bgcolor\":\"white\",\"landcolor\":\"#E5ECF6\",\"subunitcolor\":\"white\",\"showland\":true,\"showlakes\":true,\"lakecolor\":\"white\"},\"title\":{\"x\":0.05},\"mapbox\":{\"style\":\"light\"}}},\"xaxis\":{\"anchor\":\"y\",\"domain\":[0.0,1.0],\"title\":{\"text\":\"PC1\"}},\"yaxis\":{\"anchor\":\"x\",\"domain\":[0.0,1.0],\"title\":{\"text\":\"PC2\"}},\"coloraxis\":{\"colorbar\":{\"title\":{\"text\":\"color\"}},\"colorscale\":[[0.0,\"#0d0887\"],[0.1111111111111111,\"#46039f\"],[0.2222222222222222,\"#7201a8\"],[0.3333333333333333,\"#9c179e\"],[0.4444444444444444,\"#bd3786\"],[0.5555555555555556,\"#d8576b\"],[0.6666666666666666,\"#ed7953\"],[0.7777777777777778,\"#fb9f3a\"],[0.8888888888888888,\"#fdca26\"],[1.0,\"#f0f921\"]]},\"legend\":{\"tracegroupgap\":0},\"title\":{\"text\":\"PCA Representation of Clusters\"}},                        {\"responsive\": true}                    ).then(function(){\n",
              "                            \n",
              "var gd = document.getElementById('9141440d-c25d-4fd1-9ff9-d593e74a8c2b');\n",
              "var x = new MutationObserver(function (mutations, observer) {{\n",
              "        var display = window.getComputedStyle(gd).display;\n",
              "        if (!display || display === 'none') {{\n",
              "            console.log([gd, 'removed!']);\n",
              "            Plotly.purge(gd);\n",
              "            observer.disconnect();\n",
              "        }}\n",
              "}});\n",
              "\n",
              "// Listen for the removal of the full notebook cells\n",
              "var notebookContainer = gd.closest('#notebook-container');\n",
              "if (notebookContainer) {{\n",
              "    x.observe(notebookContainer, {childList: true});\n",
              "}}\n",
              "\n",
              "// Listen for the clearing of the current output cell\n",
              "var outputEl = gd.closest('.output');\n",
              "if (outputEl) {{\n",
              "    x.observe(outputEl, {childList: true});\n",
              "}}\n",
              "\n",
              "                        })                };                            </script>        </div>\n",
              "</body>\n",
              "</html>"
            ]
          },
          "metadata": {}
        }
      ]
    }
  ]
}